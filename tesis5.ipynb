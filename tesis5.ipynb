{
  "cells": [
    {
      "cell_type": "markdown",
      "metadata": {
        "id": "view-in-github",
        "colab_type": "text"
      },
      "source": [
        "<a href=\"https://colab.research.google.com/github/jnqeras/ARC/blob/master/tesis5.ipynb\" target=\"_parent\"><img src=\"https://colab.research.google.com/assets/colab-badge.svg\" alt=\"Open In Colab\"/></a>"
      ]
    },
    {
      "cell_type": "markdown",
      "source": [
        "#Pendientes"
      ],
      "metadata": {
        "id": "qSwqroD5K9UX"
      }
    },
    {
      "cell_type": "markdown",
      "source": [
        "## Comentar al grupo"
      ],
      "metadata": {
        "id": "x1v7bv5MxoiH"
      }
    },
    {
      "cell_type": "markdown",
      "source": [
        "* Hay que hacer normalización sobre el Dataset?\n",
        "\n",
        "* Los conjuntos disjuntos Odio_i, Odio_k, Contranarrativa_i y Contranarrativa_k, se generan aleatoriamente y son distintos cada vez que se ejecuta la notebook. Está bien?\n",
        "\n",
        "* Corro Metrica1 sobre todo el dataset, obtengo los siguientes resultados:\n",
        "\n",
        ">> Correr el experimento sobre todo el dataset demora 3 min y obtengo el siguiente resultado:\n",
        ">> \n",
        ">> Métrica 3, con ranking de 10 elementos: 0.22295597248740373\n",
        ">> \n",
        ">> Métrica 3, con ranking de 10 elementos elegidos al azar: 0.017591715918857415\n",
        "\n",
        "mean_reciprocal_rank = 0.3405048351349491\n",
        "mean_reciprocal_rank RANDOM = 0.0\n",
        "\n",
        "\n",
        "\n",
        "* Es llamativo que en el paper del CONAN dice que hay 6654 pares de contranarrativas y discursos de odio en ingles, pero al filtrar para el idioma inglés por el campo cn_id me quedan 3864."
      ],
      "metadata": {
        "id": "mMkGkShrxrAr"
      }
    },
    {
      "cell_type": "markdown",
      "source": [
        "## Hacer"
      ],
      "metadata": {
        "id": "KQhZp2F8xmov"
      }
    },
    {
      "cell_type": "markdown",
      "source": [
        "\n",
        "\n",
        "---\n",
        "\n",
        "\n",
        "** Inicio: cargados al reporte semanal **\n",
        "\n",
        "* ~Hacer todo el experimento en un sólo idioma~ listo.\n",
        "* ~Agregar al documento tesis que ahora estoy trabajando sólo con inglés y en todo caso hacer la comparacion contra trabajar con todos los idiomas.~ listo.\n",
        "* ~Chequear si los embeddings generados son los mismos si se le pasa contranarrativas y odios en dos llamados distintos al modelo vs. si se concatenan las contranarrativas y los odios y se hace un único llamado a las contranarrativas.~ listo: \n",
        "> > chequeado en la sección \"Chequeo si los vectores generados para las frases (frase1, frase2, frase3) son los mimsos que los que se generan para esas frases si se pasa como parámetro frase1, frase2, frase3, frase4, frase5).\".\n",
        "*   ~Correr PCA con todo a la vez en el caso a mano.~ listo.\n",
        "~* Correr PCA con todo a la vez para todas las contranarrativas y todos los discursos de odio.~ listo.\n",
        "~* En los plots de PCA: poner nombres a los vectores del caso a mano.~ listo.\n",
        "\n",
        "**Fin: cargados al reporte semanal**\n",
        "\n",
        "\n",
        "---\n",
        "\n",
        "\n",
        "**Tareas pendientes en Orden:**\n",
        "0. Fixme: Leer \"Leer de acá para abajo:\" de mi ToDo y agregar lo que me esté faltando que sea importante a este listado de tareas pendientes.\n",
        "0. Fixme: considerar ignorar para siempre la versión que no trabaja con conjuntos disjuntos (creo que va a ahorrar tiempo en este listado de pendientes).\n",
        "\n",
        "30 de diciembre:\n",
        "\n",
        "1. ~Que el ranking se devuela explicitamente para poder calcular las métricas.~ listo.\n",
        "1. Leer todas las métricas de mi documento tesis y ver que necesito para calcularlas:\n",
        "> Leí hasta la métrica \"RankDCG\" (no inclusive) de mi docs \"Tesis\".\n",
        "\n",
        "~Implemento lo que necesito que tenga el ranking para caluclar las métricas:~ listo\n",
        ">>~Que la tripla de cada elemento del ranking indique si es una contranarrativa correcta para odio_k o no~ listo\n",
        ">>\n",
        ">> ~Que el ranking indique cuántas contranarrativas buenas hay para odio_k.~ listo\n",
        "\n",
        "2. ~Armar algunas de las métricas y probarlas sobre una pequeña parte del dataset: Generar algunos rankings (esto es lo mismo que correr mi función Metrica_1 para algunos casos), leer los csvs de los rankings y calcular las métricas propuestas (R- precision, Mean reciprocal rank, Precision at k, Recall at k, F1 at k, Top-k accuracy, DCG and NDCG, Average Precission @k, MAP@k, GMAP, Métrica 3 (mi métrica), RankDCG, MRR, las que dicen \"Esto puede servir si tengo que elegir entre varias formas de armar un ranking\" en el documento \"tesis\", Fall-out, Kendall’s tau, Universal IR Evaluation, bpref, Average Precision). Acá está el documento con más información de las métricas.~\n",
        "\n",
        "2. ~Metrica2 y Metrica2 random, me están dando los mimsos resultados, creo que se debe a los cambios que hice en la función \"readCSV\".~ listo\n",
        "\n",
        "2. ~Revisar el documento Tesis, para ver si me estoy olvidando de algo.~\n",
        "2. Sanity-chequear leer_metrica_1 que para largo_particion_extra != 0 funcione bien. Además le hice un cambio debajo de \"print('ultimo_limite_superior:', limite_superior);\".\n",
        "\n",
        "2. Chusmear \"exact nearest neighbor search\" en https://colab.research.google.com/drive/1mVUUlZUUDMriNjWl54QJY2MZ-1jt_Qmy#scrollTo=Pah5b0_tdeXa , porque puede llegar a servir para encontrar los embeddings más cercanos una vez que generé el embedding a mano. \n",
        "\n",
        "6 de enero:\n",
        "\n",
        "3. ~Terminar makeDisjoint para que los siguientes conjuntos sean disjuntos: conjunto_sin_repetidos_contranarrativa_i, conjunto_sin_repetidos_contranarrativa_k.~\n",
        "\n",
        "3. ~Escribir función para chequear que los conjuntos de contranarrativas_i y contranarrativas_k tienen aproximadamente los mismos elemenots. Hacer lo mismo para odio_i y odio_k.~\n",
        "\n",
        "3. ~Chequear que conjunto_sin_repetidos_odio_i y conjunto_sin_repetidos_odio_k son una lista sin repetidos y depués chequear que sean disjuntos. Y despues chequear que para cada odio en df_odio_k y df_odio_i existe al menos una contranarrativa en conjunto_sin_repetidos_odio_k y conjunto_sin_repetidos_odio_i respectivamente.~\n",
        "\n",
        "3. ~Ya generé los siguientes conjuntos, adaptar el resto de notebook (de \"Generación de embeddings\" para abajo) para que los utilice:~ \n",
        "* ~conjunto_sin_repetidos_contranarrativa_i~\n",
        "* ~conjunto_sin_repetidos_contranarrativa_k~\n",
        "* ~conjunto_sin_repetidos_odio_i~ \n",
        "* ~conjunto_sin_repetidos_odio_k~\n",
        "\n",
        "3. Enviar video fundar.\n",
        "\n",
        "3. Cosas que me dijeron el 6 de enero (en todo caso organizar estas tareas en otro documento):\n",
        "\n",
        ">>Preporcesar datos -> si sobra el tiempo hacer\n",
        ">>\n",
        ">>Argumentación, preguntar: Los conjuntos disjuntos Odio_i, Odio_k, Contranarrativa_i y Contranarrativa_k, se generan aleatoriamente y son distintos cada vez que se ejecuta la notebook. Está bien?\n",
        ">>\tUsar random.Seed(número) para setear semilla y \n",
        ">>\n",
        ">>Otro experimento:\n",
        "\tGenerar tres particiones disitntas y calcular la desviación standard.\n",
        "\tEvaluar con un idioma y testear con otro.\n",
        ">>\n",
        ">>mean_reciprocal_rank da 0.31.\n",
        "Con un ranking randonm da 0.0\n",
        ">>\n",
        ">>Pedir a Dami extensión d Chrome para latex: Languaje tools.\n",
        ">>\n",
        ">>Ver si hay rangos interesantes sobre las métricas que voy a implementar.\n",
        "\n",
        "3. Revisado hasta sección \"Sanity Checks y pruebas a mano.\"\n",
        "\n",
        "3. Ver si al correr Metrica1, para odio_k se guarda la cantidad de contranarrativas para odio_k en el conan o en Contranarrativas_k\n",
        "\n",
        "3. Filtrar df_odio_conjunto_sin_repetidos_odio_i afuera de metrica1Particion y chequear que todo elemento del dataframe está en conjunto_sin_repetidos_odio_i  y que el dataframe no tiene nada más.\n",
        "Lo mismo para df_contranarrativa_conjunto_sin_repetidos_contranarrativa_k y conjunto_sin_repetidos_contranarrativa_k\n",
        "\n",
        "3. Quizás:\n",
        ">> Agregar los sanity checks de la siguiente sección a la función generadora de conjuntos:\n",
        ">>\n",
        ">> Sanity check para conjunto_sin_repetidos_contranarrativa_i, conjunto_sin_repetidos_contranarrativa_k, conjunto_sin_repetidos_odio_i y conjunto_sin_repetidos_odio_k.\n",
        "\n",
        "3. Metrica1 ya adaptada a nuevos conjuntos disjuntos, revisar y revisar de ahi, para abajo, toda la notebook.\n",
        "\n",
        "3. Arreglar warning que a veces aparece al llamar a generarConjuntosOdioIyKContranarrativaIyK.\n",
        "\n",
        "3. Cuando termine todo, borrar todas las medidas de tiempo metrica1Particion.\n",
        "\n",
        "3.  Separar el dataset en cuatro conjuntos disjuntos y adaptar toda la notebook para que trabaje con estos conjuntos. Los conjuntos disjuntos se usarán para elegir cada uno de estos elementos de conjuntos disjuntos: odio_i, contranarrativa_i, odio_k, contranarrativa_k. Este paso está tercero porque hacer los pasos 1 y 2 antes, me habilita (si en un futuro queremos, para comparar) correr el experimento sin sacar odio_i, contranarrativa_i, odio_k y contranarrativa_k de conjuntos disjuntos.\n",
        "4. Correr la función correr_metrica_1 sobre todo el dataset (ahora dividido en conjuntos disjuntos) y guardar los resultados en Drive (para no tener que vovler a correr esta parte del experimento que es la que más demora).\n",
        "\n",
        "13 de enero:\n",
        "\n",
        "5. Calcular todas las métricas del punto 2 y armar los gráficos correspondientes.\n",
        "5. Hacer el experimento para los otros modelos de SBERT (están en el documento Tesis).\n",
        "\n",
        "20 de enero:\n",
        "6. Luego de separar en cuatro conjuntos disjuntos el dataset, tengo que volver a plotear todo en cuatro colores distintos.\n",
        "7. Agregar leyenda al costado al scaterplot de colores que no tiene leyenda.\n",
        "8. Arreglar los plots de T-SNE de la misma manera en la que arreglé los de PCA (aplicar PCA sobre contranarrativas y odios a la vez).\n",
        "\n",
        "27 de enero:\n",
        "9. Cuando termine de hacer el experimento con un solo idoma, hacer con todos (a definir si voy a hacer esto).\n",
        "10. Agregar plots al documento tesis junto con su  descripción y análisis.\n",
        "11. Probar nuevas funciones de navegación entre embeddings (como por ejemplo tomar centroides de grupos de contranarrativas y de grupos de discursos de odio) (a definir si voy a hacer esto).\n",
        "\n",
        "\n",
        "12. Escribir tésis.\n",
        "\n",
        "**Cosas a considerar sin ningún orden particular**\n",
        "* Considerar hacer dimensionality reduction antes de aplicar mi ecuación de desplazamiento (contranarrat_i - odio_i + odio_k), quizás ayuda a que las cosas den mejor.\n",
        "* Chequear la función de Huggingface del pipeline de feature extraction, porque puede que sea lo que estoy haciendo en mi proyecyo.\n",
        "* Podría hacer clasificación con k-means para ver que tanto se mezclan los vectores de odio en el cluster de las contranarrativas y viceversa, probablemente los vectores de odio que estén dentro del cluster de las contranarrativas, van a empeorar el resultado de mi métrica 3.\n",
        "> * Parecen haber muchas contranarrativas en el cluster de los discursos de odio, supongo que deben ser las contanarrativas que más copipegan el condtenido de los discursos de odio. Se puede usar k-Means para identificar estas contranarrativas y después experimentar exclusivamente con estas contranarrativas por un lado y sin estas por el otro. \n",
        "* Si necesito mejorar los plots de PCA, chequear la respuesta animada a esta pregunta: https://stackoverflow.com/questions/10374930/matplotlib-annotating-a-3d-scatter-plot\n",
        "* No es la primera prioridad: Ver si model(contranarrat) + model(odio) = model(contranarrat + odio).\n",
        "* Quizás se puede mejorar la performance fitrando por el atributo cnType del dataset o haciendo alguna otra cosa con ese atributo. Además se puede ver que otras cosas se pueden hacer con los atributos del dataset para que esto mejore.\n",
        "* Ver si quiero tener Test, Cross-Validation y Validation set, y en tal caso generarlos en la sección (yo creo que no, pero tener esto presente). Si decido crearlos, puse una nota en la notebook diciendo en qué parte de la misma tengo que crearlos: \"#Fixme: Test, Cross-Validation y Validation set. Acá es donde debería crear estos sets, si es que decido crearlos.\"\n",
        "* Si llego a necesitar detectar idoma en un futuro:https://towardsdatascience.com/4-nlp-libraries-for-automatic-language-identification-of-text-data-in-python-cbc6bf664774\n",
        "\n",
        "\n",
        "**Notas exclusivamente para mi:**\n",
        "* Agregar elementos tachados de esta lista, al reporte semanal de este proyecto.\n",
        "* Anotar descripción de lo que fuí haciendo.\n",
        "* Chusmear cómo funciona T-SNE.\n",
        "* Los embeddings son vectores.\n",
        "* Googlear: What is a sentence embedding.\n"
      ],
      "metadata": {
        "id": "jEa2g6F-LAFt"
      }
    },
    {
      "cell_type": "markdown",
      "metadata": {
        "id": "Quh04B3eMw2V"
      },
      "source": [
        "#Descripción"
      ]
    },
    {
      "cell_type": "markdown",
      "metadata": {
        "id": "a4j60F65M0ro"
      },
      "source": [
        "En esta notebook voy a hacer lo mimso que en tesis2.ipynb, pero generando los embeddings pasándole una lista de strings a model.encode(), como lo indica la documentación de model.encode().\n",
        "Lo voy a hacer así, porque si lo hago así, model.encode() devuelve un tensor con los embbedings, que es literalmente lo que toma la función util.tensor().\n",
        "\n",
        "Si generase los embeddings con un for loop, como lo hacía en tesis3.ipynb, después tengo que transofrmar la lista de embeddings en un tensor y las dimensiones quedan raras y no se le pueden pasar a util.cos_sim.\n",
        "\n",
        "No voy a chequear si los embeddings generados de a uno son los mismos que los generados con la lista, voy a asumir que esto es así."
      ]
    },
    {
      "cell_type": "markdown",
      "metadata": {
        "id": "wEqL8xL7eJOk"
      },
      "source": [
        "# **Set-up**"
      ]
    },
    {
      "cell_type": "markdown",
      "metadata": {
        "id": "Si5Kd91ypV6s"
      },
      "source": [
        "\n",
        "\n",
        "Installation\n",
        "We recommend Python 3.6 or higher, PyTorch 1.6.0 or higher and transformers v4.6.0 or higher. The code does not work with Python 2.7.\n",
        "\n",
        "Install SentenceTransformers\n",
        "\n",
        "New section\n",
        "Install with pip\n",
        "\n",
        "Install the sentence-transformers with pip:"
      ]
    },
    {
      "cell_type": "code",
      "execution_count": null,
      "metadata": {
        "colab": {
          "base_uri": "https://localhost:8080/"
        },
        "id": "GxmzIhtmpM0_",
        "outputId": "2a01f85f-ab4f-4aa3-f7bb-c42ac6972a8c"
      },
      "outputs": [
        {
          "output_type": "stream",
          "name": "stdout",
          "text": [
            "Looking in indexes: https://pypi.org/simple, https://us-python.pkg.dev/colab-wheels/public/simple/\n",
            "Collecting sentence-transformers\n",
            "  Downloading sentence-transformers-2.2.2.tar.gz (85 kB)\n",
            "\u001b[?25l     \u001b[90m━━━━━━━━━━━━━━━━━━━━━━━━━━━━━━━━━━━━━━━━\u001b[0m \u001b[32m0.0/86.0 KB\u001b[0m \u001b[31m?\u001b[0m eta \u001b[36m-:--:--\u001b[0m\r\u001b[2K     \u001b[90m━━━━━━━━━━━━━━━━━━━━━━━━━━━━━━━━━━━━━━━━\u001b[0m \u001b[32m86.0/86.0 KB\u001b[0m \u001b[31m3.1 MB/s\u001b[0m eta \u001b[36m0:00:00\u001b[0m\n",
            "\u001b[?25h  Preparing metadata (setup.py) ... \u001b[?25l\u001b[?25hdone\n",
            "Collecting transformers<5.0.0,>=4.6.0\n",
            "  Downloading transformers-4.25.1-py3-none-any.whl (5.8 MB)\n",
            "\u001b[2K     \u001b[90m━━━━━━━━━━━━━━━━━━━━━━━━━━━━━━━━━━━━━━━━\u001b[0m \u001b[32m5.8/5.8 MB\u001b[0m \u001b[31m48.9 MB/s\u001b[0m eta \u001b[36m0:00:00\u001b[0m\n",
            "\u001b[?25hRequirement already satisfied: tqdm in /usr/local/lib/python3.8/dist-packages (from sentence-transformers) (4.64.1)\n",
            "Requirement already satisfied: torch>=1.6.0 in /usr/local/lib/python3.8/dist-packages (from sentence-transformers) (1.13.0+cu116)\n",
            "Requirement already satisfied: torchvision in /usr/local/lib/python3.8/dist-packages (from sentence-transformers) (0.14.0+cu116)\n",
            "Requirement already satisfied: numpy in /usr/local/lib/python3.8/dist-packages (from sentence-transformers) (1.21.6)\n",
            "Requirement already satisfied: scikit-learn in /usr/local/lib/python3.8/dist-packages (from sentence-transformers) (1.0.2)\n",
            "Requirement already satisfied: scipy in /usr/local/lib/python3.8/dist-packages (from sentence-transformers) (1.7.3)\n",
            "Requirement already satisfied: nltk in /usr/local/lib/python3.8/dist-packages (from sentence-transformers) (3.7)\n",
            "Collecting sentencepiece\n",
            "  Downloading sentencepiece-0.1.97-cp38-cp38-manylinux_2_17_x86_64.manylinux2014_x86_64.whl (1.3 MB)\n",
            "\u001b[2K     \u001b[90m━━━━━━━━━━━━━━━━━━━━━━━━━━━━━━━━━━━━━━━━\u001b[0m \u001b[32m1.3/1.3 MB\u001b[0m \u001b[31m63.3 MB/s\u001b[0m eta \u001b[36m0:00:00\u001b[0m\n",
            "\u001b[?25hCollecting huggingface-hub>=0.4.0\n",
            "  Downloading huggingface_hub-0.11.1-py3-none-any.whl (182 kB)\n",
            "\u001b[2K     \u001b[90m━━━━━━━━━━━━━━━━━━━━━━━━━━━━━━━━━━━━━━\u001b[0m \u001b[32m182.4/182.4 KB\u001b[0m \u001b[31m18.8 MB/s\u001b[0m eta \u001b[36m0:00:00\u001b[0m\n",
            "\u001b[?25hRequirement already satisfied: typing-extensions>=3.7.4.3 in /usr/local/lib/python3.8/dist-packages (from huggingface-hub>=0.4.0->sentence-transformers) (4.4.0)\n",
            "Requirement already satisfied: packaging>=20.9 in /usr/local/lib/python3.8/dist-packages (from huggingface-hub>=0.4.0->sentence-transformers) (21.3)\n",
            "Requirement already satisfied: filelock in /usr/local/lib/python3.8/dist-packages (from huggingface-hub>=0.4.0->sentence-transformers) (3.8.2)\n",
            "Requirement already satisfied: requests in /usr/local/lib/python3.8/dist-packages (from huggingface-hub>=0.4.0->sentence-transformers) (2.25.1)\n",
            "Requirement already satisfied: pyyaml>=5.1 in /usr/local/lib/python3.8/dist-packages (from huggingface-hub>=0.4.0->sentence-transformers) (6.0)\n",
            "Collecting tokenizers!=0.11.3,<0.14,>=0.11.1\n",
            "  Downloading tokenizers-0.13.2-cp38-cp38-manylinux_2_17_x86_64.manylinux2014_x86_64.whl (7.6 MB)\n",
            "\u001b[2K     \u001b[90m━━━━━━━━━━━━━━━━━━━━━━━━━━━━━━━━━━━━━━━━\u001b[0m \u001b[32m7.6/7.6 MB\u001b[0m \u001b[31m89.8 MB/s\u001b[0m eta \u001b[36m0:00:00\u001b[0m\n",
            "\u001b[?25hRequirement already satisfied: regex!=2019.12.17 in /usr/local/lib/python3.8/dist-packages (from transformers<5.0.0,>=4.6.0->sentence-transformers) (2022.6.2)\n",
            "Requirement already satisfied: joblib in /usr/local/lib/python3.8/dist-packages (from nltk->sentence-transformers) (1.2.0)\n",
            "Requirement already satisfied: click in /usr/local/lib/python3.8/dist-packages (from nltk->sentence-transformers) (7.1.2)\n",
            "Requirement already satisfied: threadpoolctl>=2.0.0 in /usr/local/lib/python3.8/dist-packages (from scikit-learn->sentence-transformers) (3.1.0)\n",
            "Requirement already satisfied: pillow!=8.3.*,>=5.3.0 in /usr/local/lib/python3.8/dist-packages (from torchvision->sentence-transformers) (7.1.2)\n",
            "Requirement already satisfied: pyparsing!=3.0.5,>=2.0.2 in /usr/local/lib/python3.8/dist-packages (from packaging>=20.9->huggingface-hub>=0.4.0->sentence-transformers) (3.0.9)\n",
            "Requirement already satisfied: certifi>=2017.4.17 in /usr/local/lib/python3.8/dist-packages (from requests->huggingface-hub>=0.4.0->sentence-transformers) (2022.12.7)\n",
            "Requirement already satisfied: chardet<5,>=3.0.2 in /usr/local/lib/python3.8/dist-packages (from requests->huggingface-hub>=0.4.0->sentence-transformers) (4.0.0)\n",
            "Requirement already satisfied: urllib3<1.27,>=1.21.1 in /usr/local/lib/python3.8/dist-packages (from requests->huggingface-hub>=0.4.0->sentence-transformers) (1.24.3)\n",
            "Requirement already satisfied: idna<3,>=2.5 in /usr/local/lib/python3.8/dist-packages (from requests->huggingface-hub>=0.4.0->sentence-transformers) (2.10)\n",
            "Building wheels for collected packages: sentence-transformers\n",
            "  Building wheel for sentence-transformers (setup.py) ... \u001b[?25l\u001b[?25hdone\n",
            "  Created wheel for sentence-transformers: filename=sentence_transformers-2.2.2-py3-none-any.whl size=125938 sha256=db3866fb769aaaebc7c31de118e2ee3058faadd0edb3e4dce8ea0e2b52dfc3e6\n",
            "  Stored in directory: /root/.cache/pip/wheels/5e/6f/8c/d88aec621f3f542d26fac0342bef5e693335d125f4e54aeffe\n",
            "Successfully built sentence-transformers\n",
            "Installing collected packages: tokenizers, sentencepiece, huggingface-hub, transformers, sentence-transformers\n",
            "Successfully installed huggingface-hub-0.11.1 sentence-transformers-2.2.2 sentencepiece-0.1.97 tokenizers-0.13.2 transformers-4.25.1\n"
          ]
        }
      ],
      "source": [
        "# Fixme: Para correr el script localmente, comentar esta línea (para correr en Colab, descomentar):\n",
        "!pip install -U sentence-transformers"
      ]
    },
    {
      "cell_type": "code",
      "execution_count": null,
      "metadata": {
        "id": "1GFMM19RrOZt"
      },
      "outputs": [],
      "source": [
        "import random\n",
        "import torch\n",
        "import pickle # to store and load the embeddings\n",
        "import sys\n",
        "import time\n",
        "import csv\n",
        "import heapq\n",
        "from sentence_transformers import SentenceTransformer, util\n",
        "\n",
        "device = torch.device(\"cuda:1\")"
      ]
    },
    {
      "cell_type": "markdown",
      "metadata": {
        "id": "Xv69xqOU4go5"
      },
      "source": [
        "# **Trabajando con el Dataset de CONAN:**\n"
      ]
    },
    {
      "cell_type": "code",
      "execution_count": null,
      "metadata": {
        "id": "ujQKaT5N4otu"
      },
      "outputs": [],
      "source": [
        "import pandas as pd     #Fixme: cuando esté todo terminado, puedo mover todos los imports a la parte superior.\n",
        "import numpy as np\n",
        "\n",
        "url = 'https://raw.githubusercontent.com/jnqeras/CONANDatasetCopy/main/CONAN/CONAN.csv'\n",
        "\n",
        "df1 = pd.read_csv(url)\n",
        "\n",
        "# Dataset is now stored in a Pandas Dataframe"
      ]
    },
    {
      "cell_type": "code",
      "execution_count": null,
      "metadata": {
        "id": "ROhb5cfS5T7f",
        "colab": {
          "base_uri": "https://localhost:8080/",
          "height": 617
        },
        "outputId": "4c885fe0-5d05-4ee1-c353-fd99da40704f"
      },
      "outputs": [
        {
          "output_type": "execute_result",
          "data": {
            "text/plain": [
              "                        cn_id  \\\n",
              "0    ENT1ST0001HS0033CN000021   \n",
              "1  ENT1ST0001HS0033CN000021P1   \n",
              "2  ENT1ST0001HS0033CN000021P2   \n",
              "3    ENT1ST0001HS0033CN000022   \n",
              "4  ENT1ST0001HS0033CN000022P1   \n",
              "\n",
              "                                          hateSpeech  \\\n",
              "0  According to a recent OFSTED report, a school ...   \n",
              "1  In Birmingham there is a school where girls an...   \n",
              "2  A school in Birningham is still separating gir...   \n",
              "3  According to a recent OFSTED report, a school ...   \n",
              "4  In Birmingham there is a school where girls an...   \n",
              "\n",
              "                                       counterSpeech        hsType hsSubType  \\\n",
              "0  To be fair, the OFSTED report is more concerne...  Islamophobia    crimes   \n",
              "1  To be fair, the OFSTED report is more concerne...  Islamophobia    crimes   \n",
              "2  To be fair, the OFSTED report is more concerne...  Islamophobia    crimes   \n",
              "3  While this story is presented as an 'Islamic i...  Islamophobia    crimes   \n",
              "4  While this story is presented as an 'Islamic i...  Islamophobia    crimes   \n",
              "\n",
              "  cnType   age gender educationLevel  \n",
              "0  facts  61.0   male       Bachelor  \n",
              "1  facts  61.0   male       Bachelor  \n",
              "2  facts  61.0   male       Bachelor  \n",
              "3  facts  61.0   male       Bachelor  \n",
              "4  facts  61.0   male       Bachelor  "
            ],
            "text/html": [
              "\n",
              "  <div id=\"df-bfef299d-81ad-45de-9ac0-88e686d4e5b0\">\n",
              "    <div class=\"colab-df-container\">\n",
              "      <div>\n",
              "<style scoped>\n",
              "    .dataframe tbody tr th:only-of-type {\n",
              "        vertical-align: middle;\n",
              "    }\n",
              "\n",
              "    .dataframe tbody tr th {\n",
              "        vertical-align: top;\n",
              "    }\n",
              "\n",
              "    .dataframe thead th {\n",
              "        text-align: right;\n",
              "    }\n",
              "</style>\n",
              "<table border=\"1\" class=\"dataframe\">\n",
              "  <thead>\n",
              "    <tr style=\"text-align: right;\">\n",
              "      <th></th>\n",
              "      <th>cn_id</th>\n",
              "      <th>hateSpeech</th>\n",
              "      <th>counterSpeech</th>\n",
              "      <th>hsType</th>\n",
              "      <th>hsSubType</th>\n",
              "      <th>cnType</th>\n",
              "      <th>age</th>\n",
              "      <th>gender</th>\n",
              "      <th>educationLevel</th>\n",
              "    </tr>\n",
              "  </thead>\n",
              "  <tbody>\n",
              "    <tr>\n",
              "      <th>0</th>\n",
              "      <td>ENT1ST0001HS0033CN000021</td>\n",
              "      <td>According to a recent OFSTED report, a school ...</td>\n",
              "      <td>To be fair, the OFSTED report is more concerne...</td>\n",
              "      <td>Islamophobia</td>\n",
              "      <td>crimes</td>\n",
              "      <td>facts</td>\n",
              "      <td>61.0</td>\n",
              "      <td>male</td>\n",
              "      <td>Bachelor</td>\n",
              "    </tr>\n",
              "    <tr>\n",
              "      <th>1</th>\n",
              "      <td>ENT1ST0001HS0033CN000021P1</td>\n",
              "      <td>In Birmingham there is a school where girls an...</td>\n",
              "      <td>To be fair, the OFSTED report is more concerne...</td>\n",
              "      <td>Islamophobia</td>\n",
              "      <td>crimes</td>\n",
              "      <td>facts</td>\n",
              "      <td>61.0</td>\n",
              "      <td>male</td>\n",
              "      <td>Bachelor</td>\n",
              "    </tr>\n",
              "    <tr>\n",
              "      <th>2</th>\n",
              "      <td>ENT1ST0001HS0033CN000021P2</td>\n",
              "      <td>A school in Birningham is still separating gir...</td>\n",
              "      <td>To be fair, the OFSTED report is more concerne...</td>\n",
              "      <td>Islamophobia</td>\n",
              "      <td>crimes</td>\n",
              "      <td>facts</td>\n",
              "      <td>61.0</td>\n",
              "      <td>male</td>\n",
              "      <td>Bachelor</td>\n",
              "    </tr>\n",
              "    <tr>\n",
              "      <th>3</th>\n",
              "      <td>ENT1ST0001HS0033CN000022</td>\n",
              "      <td>According to a recent OFSTED report, a school ...</td>\n",
              "      <td>While this story is presented as an 'Islamic i...</td>\n",
              "      <td>Islamophobia</td>\n",
              "      <td>crimes</td>\n",
              "      <td>facts</td>\n",
              "      <td>61.0</td>\n",
              "      <td>male</td>\n",
              "      <td>Bachelor</td>\n",
              "    </tr>\n",
              "    <tr>\n",
              "      <th>4</th>\n",
              "      <td>ENT1ST0001HS0033CN000022P1</td>\n",
              "      <td>In Birmingham there is a school where girls an...</td>\n",
              "      <td>While this story is presented as an 'Islamic i...</td>\n",
              "      <td>Islamophobia</td>\n",
              "      <td>crimes</td>\n",
              "      <td>facts</td>\n",
              "      <td>61.0</td>\n",
              "      <td>male</td>\n",
              "      <td>Bachelor</td>\n",
              "    </tr>\n",
              "  </tbody>\n",
              "</table>\n",
              "</div>\n",
              "      <button class=\"colab-df-convert\" onclick=\"convertToInteractive('df-bfef299d-81ad-45de-9ac0-88e686d4e5b0')\"\n",
              "              title=\"Convert this dataframe to an interactive table.\"\n",
              "              style=\"display:none;\">\n",
              "        \n",
              "  <svg xmlns=\"http://www.w3.org/2000/svg\" height=\"24px\"viewBox=\"0 0 24 24\"\n",
              "       width=\"24px\">\n",
              "    <path d=\"M0 0h24v24H0V0z\" fill=\"none\"/>\n",
              "    <path d=\"M18.56 5.44l.94 2.06.94-2.06 2.06-.94-2.06-.94-.94-2.06-.94 2.06-2.06.94zm-11 1L8.5 8.5l.94-2.06 2.06-.94-2.06-.94L8.5 2.5l-.94 2.06-2.06.94zm10 10l.94 2.06.94-2.06 2.06-.94-2.06-.94-.94-2.06-.94 2.06-2.06.94z\"/><path d=\"M17.41 7.96l-1.37-1.37c-.4-.4-.92-.59-1.43-.59-.52 0-1.04.2-1.43.59L10.3 9.45l-7.72 7.72c-.78.78-.78 2.05 0 2.83L4 21.41c.39.39.9.59 1.41.59.51 0 1.02-.2 1.41-.59l7.78-7.78 2.81-2.81c.8-.78.8-2.07 0-2.86zM5.41 20L4 18.59l7.72-7.72 1.47 1.35L5.41 20z\"/>\n",
              "  </svg>\n",
              "      </button>\n",
              "      \n",
              "  <style>\n",
              "    .colab-df-container {\n",
              "      display:flex;\n",
              "      flex-wrap:wrap;\n",
              "      gap: 12px;\n",
              "    }\n",
              "\n",
              "    .colab-df-convert {\n",
              "      background-color: #E8F0FE;\n",
              "      border: none;\n",
              "      border-radius: 50%;\n",
              "      cursor: pointer;\n",
              "      display: none;\n",
              "      fill: #1967D2;\n",
              "      height: 32px;\n",
              "      padding: 0 0 0 0;\n",
              "      width: 32px;\n",
              "    }\n",
              "\n",
              "    .colab-df-convert:hover {\n",
              "      background-color: #E2EBFA;\n",
              "      box-shadow: 0px 1px 2px rgba(60, 64, 67, 0.3), 0px 1px 3px 1px rgba(60, 64, 67, 0.15);\n",
              "      fill: #174EA6;\n",
              "    }\n",
              "\n",
              "    [theme=dark] .colab-df-convert {\n",
              "      background-color: #3B4455;\n",
              "      fill: #D2E3FC;\n",
              "    }\n",
              "\n",
              "    [theme=dark] .colab-df-convert:hover {\n",
              "      background-color: #434B5C;\n",
              "      box-shadow: 0px 1px 3px 1px rgba(0, 0, 0, 0.15);\n",
              "      filter: drop-shadow(0px 1px 2px rgba(0, 0, 0, 0.3));\n",
              "      fill: #FFFFFF;\n",
              "    }\n",
              "  </style>\n",
              "\n",
              "      <script>\n",
              "        const buttonEl =\n",
              "          document.querySelector('#df-bfef299d-81ad-45de-9ac0-88e686d4e5b0 button.colab-df-convert');\n",
              "        buttonEl.style.display =\n",
              "          google.colab.kernel.accessAllowed ? 'block' : 'none';\n",
              "\n",
              "        async function convertToInteractive(key) {\n",
              "          const element = document.querySelector('#df-bfef299d-81ad-45de-9ac0-88e686d4e5b0');\n",
              "          const dataTable =\n",
              "            await google.colab.kernel.invokeFunction('convertToInteractive',\n",
              "                                                     [key], {});\n",
              "          if (!dataTable) return;\n",
              "\n",
              "          const docLinkHtml = 'Like what you see? Visit the ' +\n",
              "            '<a target=\"_blank\" href=https://colab.research.google.com/notebooks/data_table.ipynb>data table notebook</a>'\n",
              "            + ' to learn more about interactive tables.';\n",
              "          element.innerHTML = '';\n",
              "          dataTable['output_type'] = 'display_data';\n",
              "          await google.colab.output.renderOutput(dataTable, element);\n",
              "          const docLink = document.createElement('div');\n",
              "          docLink.innerHTML = docLinkHtml;\n",
              "          element.appendChild(docLink);\n",
              "        }\n",
              "      </script>\n",
              "    </div>\n",
              "  </div>\n",
              "  "
            ]
          },
          "metadata": {},
          "execution_count": 4
        }
      ],
      "source": [
        "# Observo los primeros cinco elementos del Dataframe.\n",
        "df1.head()"
      ]
    },
    {
      "cell_type": "code",
      "source": [
        "# Filtro y elijo solamente los pares de contranarrativas y discursos de odio que \n",
        "# están en ingles.\n",
        "df1 = df1[df1['cn_id'].str.startswith(\"EN\")]"
      ],
      "metadata": {
        "id": "bEpqDlgTsiG5"
      },
      "execution_count": null,
      "outputs": []
    },
    {
      "cell_type": "code",
      "source": [
        "df1"
      ],
      "metadata": {
        "id": "tlUl1X2ivrRf",
        "colab": {
          "base_uri": "https://localhost:8080/",
          "height": 1000
        },
        "outputId": "16ce5718-92d1-4fef-84be-0401f7017a1e"
      },
      "execution_count": null,
      "outputs": [
        {
          "output_type": "execute_result",
          "data": {
            "text/plain": [
              "                           cn_id  \\\n",
              "0       ENT1ST0001HS0033CN000021   \n",
              "1     ENT1ST0001HS0033CN000021P1   \n",
              "2     ENT1ST0001HS0033CN000021P2   \n",
              "3       ENT1ST0001HS0033CN000022   \n",
              "4     ENT1ST0001HS0033CN000022P1   \n",
              "...                          ...   \n",
              "3859  ENT1ST0023HS0090CN001287P1   \n",
              "3860  ENT1ST0023HS0090CN001287P2   \n",
              "3861    ENT1ST0023HS0090CN001288   \n",
              "3862  ENT1ST0023HS0090CN001288P1   \n",
              "3863  ENT1ST0023HS0090CN001288P2   \n",
              "\n",
              "                                             hateSpeech  \\\n",
              "0     According to a recent OFSTED report, a school ...   \n",
              "1     In Birmingham there is a school where girls an...   \n",
              "2     A school in Birningham is still separating gir...   \n",
              "3     According to a recent OFSTED report, a school ...   \n",
              "4     In Birmingham there is a school where girls an...   \n",
              "...                                                 ...   \n",
              "3859  Women of our culture that decide to become Isl...   \n",
              "3860  White women converted to Islam are the saddest...   \n",
              "3861  Those White women converting to Islam are the ...   \n",
              "3862  Women of our culture that decide to become Isl...   \n",
              "3863  White women converted to Islam are the saddest...   \n",
              "\n",
              "                                          counterSpeech        hsType  \\\n",
              "0     To be fair, the OFSTED report is more concerne...  Islamophobia   \n",
              "1     To be fair, the OFSTED report is more concerne...  Islamophobia   \n",
              "2     To be fair, the OFSTED report is more concerne...  Islamophobia   \n",
              "3     While this story is presented as an 'Islamic i...  Islamophobia   \n",
              "4     While this story is presented as an 'Islamic i...  Islamophobia   \n",
              "...                                                 ...           ...   \n",
              "3859  So you are suggesting Pakistan, Saudi Arabia, ...  Islamophobia   \n",
              "3860  So you are suggesting Pakistan, Saudi Arabia, ...  Islamophobia   \n",
              "3861  Surely tolerance and understanding should exis...  Islamophobia   \n",
              "3862  Surely tolerance and understanding should exis...  Islamophobia   \n",
              "3863  Surely tolerance and understanding should exis...  Islamophobia   \n",
              "\n",
              "     hsSubType                  cnType   age gender educationLevel  \n",
              "0       crimes                   facts  61.0   male       Bachelor  \n",
              "1       crimes                   facts  61.0   male       Bachelor  \n",
              "2       crimes                   facts  61.0   male       Bachelor  \n",
              "3       crimes                   facts  61.0   male       Bachelor  \n",
              "4       crimes                   facts  61.0   male       Bachelor  \n",
              "...        ...                     ...   ...    ...            ...  \n",
              "3859     women  denouncing , hypocrisy  50.0   male       Bachelor  \n",
              "3860     women  denouncing , hypocrisy  50.0   male       Bachelor  \n",
              "3861     women                positive  25.0   male         Master  \n",
              "3862     women                positive  25.0   male         Master  \n",
              "3863     women                positive  25.0   male         Master  \n",
              "\n",
              "[3864 rows x 9 columns]"
            ],
            "text/html": [
              "\n",
              "  <div id=\"df-8741bbd8-802b-442d-aa78-65e4f3193030\">\n",
              "    <div class=\"colab-df-container\">\n",
              "      <div>\n",
              "<style scoped>\n",
              "    .dataframe tbody tr th:only-of-type {\n",
              "        vertical-align: middle;\n",
              "    }\n",
              "\n",
              "    .dataframe tbody tr th {\n",
              "        vertical-align: top;\n",
              "    }\n",
              "\n",
              "    .dataframe thead th {\n",
              "        text-align: right;\n",
              "    }\n",
              "</style>\n",
              "<table border=\"1\" class=\"dataframe\">\n",
              "  <thead>\n",
              "    <tr style=\"text-align: right;\">\n",
              "      <th></th>\n",
              "      <th>cn_id</th>\n",
              "      <th>hateSpeech</th>\n",
              "      <th>counterSpeech</th>\n",
              "      <th>hsType</th>\n",
              "      <th>hsSubType</th>\n",
              "      <th>cnType</th>\n",
              "      <th>age</th>\n",
              "      <th>gender</th>\n",
              "      <th>educationLevel</th>\n",
              "    </tr>\n",
              "  </thead>\n",
              "  <tbody>\n",
              "    <tr>\n",
              "      <th>0</th>\n",
              "      <td>ENT1ST0001HS0033CN000021</td>\n",
              "      <td>According to a recent OFSTED report, a school ...</td>\n",
              "      <td>To be fair, the OFSTED report is more concerne...</td>\n",
              "      <td>Islamophobia</td>\n",
              "      <td>crimes</td>\n",
              "      <td>facts</td>\n",
              "      <td>61.0</td>\n",
              "      <td>male</td>\n",
              "      <td>Bachelor</td>\n",
              "    </tr>\n",
              "    <tr>\n",
              "      <th>1</th>\n",
              "      <td>ENT1ST0001HS0033CN000021P1</td>\n",
              "      <td>In Birmingham there is a school where girls an...</td>\n",
              "      <td>To be fair, the OFSTED report is more concerne...</td>\n",
              "      <td>Islamophobia</td>\n",
              "      <td>crimes</td>\n",
              "      <td>facts</td>\n",
              "      <td>61.0</td>\n",
              "      <td>male</td>\n",
              "      <td>Bachelor</td>\n",
              "    </tr>\n",
              "    <tr>\n",
              "      <th>2</th>\n",
              "      <td>ENT1ST0001HS0033CN000021P2</td>\n",
              "      <td>A school in Birningham is still separating gir...</td>\n",
              "      <td>To be fair, the OFSTED report is more concerne...</td>\n",
              "      <td>Islamophobia</td>\n",
              "      <td>crimes</td>\n",
              "      <td>facts</td>\n",
              "      <td>61.0</td>\n",
              "      <td>male</td>\n",
              "      <td>Bachelor</td>\n",
              "    </tr>\n",
              "    <tr>\n",
              "      <th>3</th>\n",
              "      <td>ENT1ST0001HS0033CN000022</td>\n",
              "      <td>According to a recent OFSTED report, a school ...</td>\n",
              "      <td>While this story is presented as an 'Islamic i...</td>\n",
              "      <td>Islamophobia</td>\n",
              "      <td>crimes</td>\n",
              "      <td>facts</td>\n",
              "      <td>61.0</td>\n",
              "      <td>male</td>\n",
              "      <td>Bachelor</td>\n",
              "    </tr>\n",
              "    <tr>\n",
              "      <th>4</th>\n",
              "      <td>ENT1ST0001HS0033CN000022P1</td>\n",
              "      <td>In Birmingham there is a school where girls an...</td>\n",
              "      <td>While this story is presented as an 'Islamic i...</td>\n",
              "      <td>Islamophobia</td>\n",
              "      <td>crimes</td>\n",
              "      <td>facts</td>\n",
              "      <td>61.0</td>\n",
              "      <td>male</td>\n",
              "      <td>Bachelor</td>\n",
              "    </tr>\n",
              "    <tr>\n",
              "      <th>...</th>\n",
              "      <td>...</td>\n",
              "      <td>...</td>\n",
              "      <td>...</td>\n",
              "      <td>...</td>\n",
              "      <td>...</td>\n",
              "      <td>...</td>\n",
              "      <td>...</td>\n",
              "      <td>...</td>\n",
              "      <td>...</td>\n",
              "    </tr>\n",
              "    <tr>\n",
              "      <th>3859</th>\n",
              "      <td>ENT1ST0023HS0090CN001287P1</td>\n",
              "      <td>Women of our culture that decide to become Isl...</td>\n",
              "      <td>So you are suggesting Pakistan, Saudi Arabia, ...</td>\n",
              "      <td>Islamophobia</td>\n",
              "      <td>women</td>\n",
              "      <td>denouncing , hypocrisy</td>\n",
              "      <td>50.0</td>\n",
              "      <td>male</td>\n",
              "      <td>Bachelor</td>\n",
              "    </tr>\n",
              "    <tr>\n",
              "      <th>3860</th>\n",
              "      <td>ENT1ST0023HS0090CN001287P2</td>\n",
              "      <td>White women converted to Islam are the saddest...</td>\n",
              "      <td>So you are suggesting Pakistan, Saudi Arabia, ...</td>\n",
              "      <td>Islamophobia</td>\n",
              "      <td>women</td>\n",
              "      <td>denouncing , hypocrisy</td>\n",
              "      <td>50.0</td>\n",
              "      <td>male</td>\n",
              "      <td>Bachelor</td>\n",
              "    </tr>\n",
              "    <tr>\n",
              "      <th>3861</th>\n",
              "      <td>ENT1ST0023HS0090CN001288</td>\n",
              "      <td>Those White women converting to Islam are the ...</td>\n",
              "      <td>Surely tolerance and understanding should exis...</td>\n",
              "      <td>Islamophobia</td>\n",
              "      <td>women</td>\n",
              "      <td>positive</td>\n",
              "      <td>25.0</td>\n",
              "      <td>male</td>\n",
              "      <td>Master</td>\n",
              "    </tr>\n",
              "    <tr>\n",
              "      <th>3862</th>\n",
              "      <td>ENT1ST0023HS0090CN001288P1</td>\n",
              "      <td>Women of our culture that decide to become Isl...</td>\n",
              "      <td>Surely tolerance and understanding should exis...</td>\n",
              "      <td>Islamophobia</td>\n",
              "      <td>women</td>\n",
              "      <td>positive</td>\n",
              "      <td>25.0</td>\n",
              "      <td>male</td>\n",
              "      <td>Master</td>\n",
              "    </tr>\n",
              "    <tr>\n",
              "      <th>3863</th>\n",
              "      <td>ENT1ST0023HS0090CN001288P2</td>\n",
              "      <td>White women converted to Islam are the saddest...</td>\n",
              "      <td>Surely tolerance and understanding should exis...</td>\n",
              "      <td>Islamophobia</td>\n",
              "      <td>women</td>\n",
              "      <td>positive</td>\n",
              "      <td>25.0</td>\n",
              "      <td>male</td>\n",
              "      <td>Master</td>\n",
              "    </tr>\n",
              "  </tbody>\n",
              "</table>\n",
              "<p>3864 rows × 9 columns</p>\n",
              "</div>\n",
              "      <button class=\"colab-df-convert\" onclick=\"convertToInteractive('df-8741bbd8-802b-442d-aa78-65e4f3193030')\"\n",
              "              title=\"Convert this dataframe to an interactive table.\"\n",
              "              style=\"display:none;\">\n",
              "        \n",
              "  <svg xmlns=\"http://www.w3.org/2000/svg\" height=\"24px\"viewBox=\"0 0 24 24\"\n",
              "       width=\"24px\">\n",
              "    <path d=\"M0 0h24v24H0V0z\" fill=\"none\"/>\n",
              "    <path d=\"M18.56 5.44l.94 2.06.94-2.06 2.06-.94-2.06-.94-.94-2.06-.94 2.06-2.06.94zm-11 1L8.5 8.5l.94-2.06 2.06-.94-2.06-.94L8.5 2.5l-.94 2.06-2.06.94zm10 10l.94 2.06.94-2.06 2.06-.94-2.06-.94-.94-2.06-.94 2.06-2.06.94z\"/><path d=\"M17.41 7.96l-1.37-1.37c-.4-.4-.92-.59-1.43-.59-.52 0-1.04.2-1.43.59L10.3 9.45l-7.72 7.72c-.78.78-.78 2.05 0 2.83L4 21.41c.39.39.9.59 1.41.59.51 0 1.02-.2 1.41-.59l7.78-7.78 2.81-2.81c.8-.78.8-2.07 0-2.86zM5.41 20L4 18.59l7.72-7.72 1.47 1.35L5.41 20z\"/>\n",
              "  </svg>\n",
              "      </button>\n",
              "      \n",
              "  <style>\n",
              "    .colab-df-container {\n",
              "      display:flex;\n",
              "      flex-wrap:wrap;\n",
              "      gap: 12px;\n",
              "    }\n",
              "\n",
              "    .colab-df-convert {\n",
              "      background-color: #E8F0FE;\n",
              "      border: none;\n",
              "      border-radius: 50%;\n",
              "      cursor: pointer;\n",
              "      display: none;\n",
              "      fill: #1967D2;\n",
              "      height: 32px;\n",
              "      padding: 0 0 0 0;\n",
              "      width: 32px;\n",
              "    }\n",
              "\n",
              "    .colab-df-convert:hover {\n",
              "      background-color: #E2EBFA;\n",
              "      box-shadow: 0px 1px 2px rgba(60, 64, 67, 0.3), 0px 1px 3px 1px rgba(60, 64, 67, 0.15);\n",
              "      fill: #174EA6;\n",
              "    }\n",
              "\n",
              "    [theme=dark] .colab-df-convert {\n",
              "      background-color: #3B4455;\n",
              "      fill: #D2E3FC;\n",
              "    }\n",
              "\n",
              "    [theme=dark] .colab-df-convert:hover {\n",
              "      background-color: #434B5C;\n",
              "      box-shadow: 0px 1px 3px 1px rgba(0, 0, 0, 0.15);\n",
              "      filter: drop-shadow(0px 1px 2px rgba(0, 0, 0, 0.3));\n",
              "      fill: #FFFFFF;\n",
              "    }\n",
              "  </style>\n",
              "\n",
              "      <script>\n",
              "        const buttonEl =\n",
              "          document.querySelector('#df-8741bbd8-802b-442d-aa78-65e4f3193030 button.colab-df-convert');\n",
              "        buttonEl.style.display =\n",
              "          google.colab.kernel.accessAllowed ? 'block' : 'none';\n",
              "\n",
              "        async function convertToInteractive(key) {\n",
              "          const element = document.querySelector('#df-8741bbd8-802b-442d-aa78-65e4f3193030');\n",
              "          const dataTable =\n",
              "            await google.colab.kernel.invokeFunction('convertToInteractive',\n",
              "                                                     [key], {});\n",
              "          if (!dataTable) return;\n",
              "\n",
              "          const docLinkHtml = 'Like what you see? Visit the ' +\n",
              "            '<a target=\"_blank\" href=https://colab.research.google.com/notebooks/data_table.ipynb>data table notebook</a>'\n",
              "            + ' to learn more about interactive tables.';\n",
              "          element.innerHTML = '';\n",
              "          dataTable['output_type'] = 'display_data';\n",
              "          await google.colab.output.renderOutput(dataTable, element);\n",
              "          const docLink = document.createElement('div');\n",
              "          docLink.innerHTML = docLinkHtml;\n",
              "          element.appendChild(docLink);\n",
              "        }\n",
              "      </script>\n",
              "    </div>\n",
              "  </div>\n",
              "  "
            ]
          },
          "metadata": {},
          "execution_count": 6
        }
      ]
    },
    {
      "cell_type": "code",
      "source": [
        "df1.info()"
      ],
      "metadata": {
        "id": "jpAWjm7vgfvs",
        "colab": {
          "base_uri": "https://localhost:8080/"
        },
        "outputId": "366c007e-1f17-468c-be54-998bbc6d6e88"
      },
      "execution_count": null,
      "outputs": [
        {
          "output_type": "stream",
          "name": "stdout",
          "text": [
            "<class 'pandas.core.frame.DataFrame'>\n",
            "Int64Index: 3864 entries, 0 to 3863\n",
            "Data columns (total 9 columns):\n",
            " #   Column          Non-Null Count  Dtype  \n",
            "---  ------          --------------  -----  \n",
            " 0   cn_id           3864 non-null   object \n",
            " 1   hateSpeech      3864 non-null   object \n",
            " 2   counterSpeech   3864 non-null   object \n",
            " 3   hsType          3864 non-null   object \n",
            " 4   hsSubType       3864 non-null   object \n",
            " 5   cnType          3864 non-null   object \n",
            " 6   age             3864 non-null   float64\n",
            " 7   gender          3864 non-null   object \n",
            " 8   educationLevel  3864 non-null   object \n",
            "dtypes: float64(1), object(8)\n",
            "memory usage: 301.9+ KB\n"
          ]
        }
      ]
    },
    {
      "cell_type": "code",
      "source": [
        "df1.describe()"
      ],
      "metadata": {
        "id": "1tVoBavZhQDY",
        "colab": {
          "base_uri": "https://localhost:8080/",
          "height": 300
        },
        "outputId": "ead68b02-3aa0-483e-c419-6e645494f4d6"
      },
      "execution_count": null,
      "outputs": [
        {
          "output_type": "execute_result",
          "data": {
            "text/plain": [
              "               age\n",
              "count  3864.000000\n",
              "mean     31.646739\n",
              "std      13.153594\n",
              "min      21.000000\n",
              "25%      24.000000\n",
              "50%      25.000000\n",
              "75%      50.000000\n",
              "max      61.000000"
            ],
            "text/html": [
              "\n",
              "  <div id=\"df-10d0cda5-d611-48a2-abfd-892b3a92599a\">\n",
              "    <div class=\"colab-df-container\">\n",
              "      <div>\n",
              "<style scoped>\n",
              "    .dataframe tbody tr th:only-of-type {\n",
              "        vertical-align: middle;\n",
              "    }\n",
              "\n",
              "    .dataframe tbody tr th {\n",
              "        vertical-align: top;\n",
              "    }\n",
              "\n",
              "    .dataframe thead th {\n",
              "        text-align: right;\n",
              "    }\n",
              "</style>\n",
              "<table border=\"1\" class=\"dataframe\">\n",
              "  <thead>\n",
              "    <tr style=\"text-align: right;\">\n",
              "      <th></th>\n",
              "      <th>age</th>\n",
              "    </tr>\n",
              "  </thead>\n",
              "  <tbody>\n",
              "    <tr>\n",
              "      <th>count</th>\n",
              "      <td>3864.000000</td>\n",
              "    </tr>\n",
              "    <tr>\n",
              "      <th>mean</th>\n",
              "      <td>31.646739</td>\n",
              "    </tr>\n",
              "    <tr>\n",
              "      <th>std</th>\n",
              "      <td>13.153594</td>\n",
              "    </tr>\n",
              "    <tr>\n",
              "      <th>min</th>\n",
              "      <td>21.000000</td>\n",
              "    </tr>\n",
              "    <tr>\n",
              "      <th>25%</th>\n",
              "      <td>24.000000</td>\n",
              "    </tr>\n",
              "    <tr>\n",
              "      <th>50%</th>\n",
              "      <td>25.000000</td>\n",
              "    </tr>\n",
              "    <tr>\n",
              "      <th>75%</th>\n",
              "      <td>50.000000</td>\n",
              "    </tr>\n",
              "    <tr>\n",
              "      <th>max</th>\n",
              "      <td>61.000000</td>\n",
              "    </tr>\n",
              "  </tbody>\n",
              "</table>\n",
              "</div>\n",
              "      <button class=\"colab-df-convert\" onclick=\"convertToInteractive('df-10d0cda5-d611-48a2-abfd-892b3a92599a')\"\n",
              "              title=\"Convert this dataframe to an interactive table.\"\n",
              "              style=\"display:none;\">\n",
              "        \n",
              "  <svg xmlns=\"http://www.w3.org/2000/svg\" height=\"24px\"viewBox=\"0 0 24 24\"\n",
              "       width=\"24px\">\n",
              "    <path d=\"M0 0h24v24H0V0z\" fill=\"none\"/>\n",
              "    <path d=\"M18.56 5.44l.94 2.06.94-2.06 2.06-.94-2.06-.94-.94-2.06-.94 2.06-2.06.94zm-11 1L8.5 8.5l.94-2.06 2.06-.94-2.06-.94L8.5 2.5l-.94 2.06-2.06.94zm10 10l.94 2.06.94-2.06 2.06-.94-2.06-.94-.94-2.06-.94 2.06-2.06.94z\"/><path d=\"M17.41 7.96l-1.37-1.37c-.4-.4-.92-.59-1.43-.59-.52 0-1.04.2-1.43.59L10.3 9.45l-7.72 7.72c-.78.78-.78 2.05 0 2.83L4 21.41c.39.39.9.59 1.41.59.51 0 1.02-.2 1.41-.59l7.78-7.78 2.81-2.81c.8-.78.8-2.07 0-2.86zM5.41 20L4 18.59l7.72-7.72 1.47 1.35L5.41 20z\"/>\n",
              "  </svg>\n",
              "      </button>\n",
              "      \n",
              "  <style>\n",
              "    .colab-df-container {\n",
              "      display:flex;\n",
              "      flex-wrap:wrap;\n",
              "      gap: 12px;\n",
              "    }\n",
              "\n",
              "    .colab-df-convert {\n",
              "      background-color: #E8F0FE;\n",
              "      border: none;\n",
              "      border-radius: 50%;\n",
              "      cursor: pointer;\n",
              "      display: none;\n",
              "      fill: #1967D2;\n",
              "      height: 32px;\n",
              "      padding: 0 0 0 0;\n",
              "      width: 32px;\n",
              "    }\n",
              "\n",
              "    .colab-df-convert:hover {\n",
              "      background-color: #E2EBFA;\n",
              "      box-shadow: 0px 1px 2px rgba(60, 64, 67, 0.3), 0px 1px 3px 1px rgba(60, 64, 67, 0.15);\n",
              "      fill: #174EA6;\n",
              "    }\n",
              "\n",
              "    [theme=dark] .colab-df-convert {\n",
              "      background-color: #3B4455;\n",
              "      fill: #D2E3FC;\n",
              "    }\n",
              "\n",
              "    [theme=dark] .colab-df-convert:hover {\n",
              "      background-color: #434B5C;\n",
              "      box-shadow: 0px 1px 3px 1px rgba(0, 0, 0, 0.15);\n",
              "      filter: drop-shadow(0px 1px 2px rgba(0, 0, 0, 0.3));\n",
              "      fill: #FFFFFF;\n",
              "    }\n",
              "  </style>\n",
              "\n",
              "      <script>\n",
              "        const buttonEl =\n",
              "          document.querySelector('#df-10d0cda5-d611-48a2-abfd-892b3a92599a button.colab-df-convert');\n",
              "        buttonEl.style.display =\n",
              "          google.colab.kernel.accessAllowed ? 'block' : 'none';\n",
              "\n",
              "        async function convertToInteractive(key) {\n",
              "          const element = document.querySelector('#df-10d0cda5-d611-48a2-abfd-892b3a92599a');\n",
              "          const dataTable =\n",
              "            await google.colab.kernel.invokeFunction('convertToInteractive',\n",
              "                                                     [key], {});\n",
              "          if (!dataTable) return;\n",
              "\n",
              "          const docLinkHtml = 'Like what you see? Visit the ' +\n",
              "            '<a target=\"_blank\" href=https://colab.research.google.com/notebooks/data_table.ipynb>data table notebook</a>'\n",
              "            + ' to learn more about interactive tables.';\n",
              "          element.innerHTML = '';\n",
              "          dataTable['output_type'] = 'display_data';\n",
              "          await google.colab.output.renderOutput(dataTable, element);\n",
              "          const docLink = document.createElement('div');\n",
              "          docLink.innerHTML = docLinkHtml;\n",
              "          element.appendChild(docLink);\n",
              "        }\n",
              "      </script>\n",
              "    </div>\n",
              "  </div>\n",
              "  "
            ]
          },
          "metadata": {},
          "execution_count": 8
        }
      ]
    },
    {
      "cell_type": "code",
      "source": [
        "import matplotlib.pyplot as plt\n",
        "df1.hist(bins=50, figsize=(20,15))\n",
        "plt.show()"
      ],
      "metadata": {
        "id": "LGLPr19ciry-",
        "colab": {
          "base_uri": "https://localhost:8080/",
          "height": 598
        },
        "outputId": "33a681bb-a181-437e-d376-b2f3954c48f4"
      },
      "execution_count": null,
      "outputs": [
        {
          "output_type": "display_data",
          "data": {
            "text/plain": [
              "<Figure size 1440x1080 with 1 Axes>"
            ],
            "image/png": "[encoded data removed]"
          },
          "metadata": {
            "needs_background": "light"
          }
        }
      ]
    },
    {
      "cell_type": "markdown",
      "source": [
        "#Fixme: Test, Cross-Validation y Validation set. Acá es donde debería crear estos sets, si es que decido crearlos."
      ],
      "metadata": {
        "id": "RtL9pNW6l6q1"
      }
    },
    {
      "cell_type": "code",
      "execution_count": null,
      "metadata": {
        "id": "AIQbR6L04mj4",
        "colab": {
          "base_uri": "https://localhost:8080/",
          "height": 424
        },
        "outputId": "5e9add32-633d-4764-fcc4-7460521928e6"
      },
      "outputs": [
        {
          "output_type": "execute_result",
          "data": {
            "text/plain": [
              "                                            hateSpeech  \\\n",
              "0    According to a recent OFSTED report, a school ...   \n",
              "1    In Birmingham there is a school where girls an...   \n",
              "2    A school in Birningham is still separating gir...   \n",
              "3    According to a recent OFSTED report, a school ...   \n",
              "4    In Birmingham there is a school where girls an...   \n",
              "..                                                 ...   \n",
              "995  Muslims do not have nothing useful that can en...   \n",
              "996  Muslims have nothing to contribute to our soci...   \n",
              "997       Muslims cannot add any value to our culture.   \n",
              "998  Muslims do not have nothing useful that can en...   \n",
              "999  Muslims have nothing to contribute to our soci...   \n",
              "\n",
              "                                         counterSpeech  \n",
              "0    To be fair, the OFSTED report is more concerne...  \n",
              "1    To be fair, the OFSTED report is more concerne...  \n",
              "2    To be fair, the OFSTED report is more concerne...  \n",
              "3    While this story is presented as an 'Islamic i...  \n",
              "4    While this story is presented as an 'Islamic i...  \n",
              "..                                                 ...  \n",
              "995  Muslims have been part of the British fabric s...  \n",
              "996  Do you know that you are using a lot of things...  \n",
              "997  Do you know that you are using a lot of things...  \n",
              "998  Do you know that you are using a lot of things...  \n",
              "999  This may dissapoint you.but every single indiv...  \n",
              "\n",
              "[1000 rows x 2 columns]"
            ],
            "text/html": [
              "\n",
              "  <div id=\"df-ae9f4600-584b-45e1-b1b5-29d2a23a65bd\">\n",
              "    <div class=\"colab-df-container\">\n",
              "      <div>\n",
              "<style scoped>\n",
              "    .dataframe tbody tr th:only-of-type {\n",
              "        vertical-align: middle;\n",
              "    }\n",
              "\n",
              "    .dataframe tbody tr th {\n",
              "        vertical-align: top;\n",
              "    }\n",
              "\n",
              "    .dataframe thead th {\n",
              "        text-align: right;\n",
              "    }\n",
              "</style>\n",
              "<table border=\"1\" class=\"dataframe\">\n",
              "  <thead>\n",
              "    <tr style=\"text-align: right;\">\n",
              "      <th></th>\n",
              "      <th>hateSpeech</th>\n",
              "      <th>counterSpeech</th>\n",
              "    </tr>\n",
              "  </thead>\n",
              "  <tbody>\n",
              "    <tr>\n",
              "      <th>0</th>\n",
              "      <td>According to a recent OFSTED report, a school ...</td>\n",
              "      <td>To be fair, the OFSTED report is more concerne...</td>\n",
              "    </tr>\n",
              "    <tr>\n",
              "      <th>1</th>\n",
              "      <td>In Birmingham there is a school where girls an...</td>\n",
              "      <td>To be fair, the OFSTED report is more concerne...</td>\n",
              "    </tr>\n",
              "    <tr>\n",
              "      <th>2</th>\n",
              "      <td>A school in Birningham is still separating gir...</td>\n",
              "      <td>To be fair, the OFSTED report is more concerne...</td>\n",
              "    </tr>\n",
              "    <tr>\n",
              "      <th>3</th>\n",
              "      <td>According to a recent OFSTED report, a school ...</td>\n",
              "      <td>While this story is presented as an 'Islamic i...</td>\n",
              "    </tr>\n",
              "    <tr>\n",
              "      <th>4</th>\n",
              "      <td>In Birmingham there is a school where girls an...</td>\n",
              "      <td>While this story is presented as an 'Islamic i...</td>\n",
              "    </tr>\n",
              "    <tr>\n",
              "      <th>...</th>\n",
              "      <td>...</td>\n",
              "      <td>...</td>\n",
              "    </tr>\n",
              "    <tr>\n",
              "      <th>995</th>\n",
              "      <td>Muslims do not have nothing useful that can en...</td>\n",
              "      <td>Muslims have been part of the British fabric s...</td>\n",
              "    </tr>\n",
              "    <tr>\n",
              "      <th>996</th>\n",
              "      <td>Muslims have nothing to contribute to our soci...</td>\n",
              "      <td>Do you know that you are using a lot of things...</td>\n",
              "    </tr>\n",
              "    <tr>\n",
              "      <th>997</th>\n",
              "      <td>Muslims cannot add any value to our culture.</td>\n",
              "      <td>Do you know that you are using a lot of things...</td>\n",
              "    </tr>\n",
              "    <tr>\n",
              "      <th>998</th>\n",
              "      <td>Muslims do not have nothing useful that can en...</td>\n",
              "      <td>Do you know that you are using a lot of things...</td>\n",
              "    </tr>\n",
              "    <tr>\n",
              "      <th>999</th>\n",
              "      <td>Muslims have nothing to contribute to our soci...</td>\n",
              "      <td>This may dissapoint you.but every single indiv...</td>\n",
              "    </tr>\n",
              "  </tbody>\n",
              "</table>\n",
              "<p>1000 rows × 2 columns</p>\n",
              "</div>\n",
              "      <button class=\"colab-df-convert\" onclick=\"convertToInteractive('df-ae9f4600-584b-45e1-b1b5-29d2a23a65bd')\"\n",
              "              title=\"Convert this dataframe to an interactive table.\"\n",
              "              style=\"display:none;\">\n",
              "        \n",
              "  <svg xmlns=\"http://www.w3.org/2000/svg\" height=\"24px\"viewBox=\"0 0 24 24\"\n",
              "       width=\"24px\">\n",
              "    <path d=\"M0 0h24v24H0V0z\" fill=\"none\"/>\n",
              "    <path d=\"M18.56 5.44l.94 2.06.94-2.06 2.06-.94-2.06-.94-.94-2.06-.94 2.06-2.06.94zm-11 1L8.5 8.5l.94-2.06 2.06-.94-2.06-.94L8.5 2.5l-.94 2.06-2.06.94zm10 10l.94 2.06.94-2.06 2.06-.94-2.06-.94-.94-2.06-.94 2.06-2.06.94z\"/><path d=\"M17.41 7.96l-1.37-1.37c-.4-.4-.92-.59-1.43-.59-.52 0-1.04.2-1.43.59L10.3 9.45l-7.72 7.72c-.78.78-.78 2.05 0 2.83L4 21.41c.39.39.9.59 1.41.59.51 0 1.02-.2 1.41-.59l7.78-7.78 2.81-2.81c.8-.78.8-2.07 0-2.86zM5.41 20L4 18.59l7.72-7.72 1.47 1.35L5.41 20z\"/>\n",
              "  </svg>\n",
              "      </button>\n",
              "      \n",
              "  <style>\n",
              "    .colab-df-container {\n",
              "      display:flex;\n",
              "      flex-wrap:wrap;\n",
              "      gap: 12px;\n",
              "    }\n",
              "\n",
              "    .colab-df-convert {\n",
              "      background-color: #E8F0FE;\n",
              "      border: none;\n",
              "      border-radius: 50%;\n",
              "      cursor: pointer;\n",
              "      display: none;\n",
              "      fill: #1967D2;\n",
              "      height: 32px;\n",
              "      padding: 0 0 0 0;\n",
              "      width: 32px;\n",
              "    }\n",
              "\n",
              "    .colab-df-convert:hover {\n",
              "      background-color: #E2EBFA;\n",
              "      box-shadow: 0px 1px 2px rgba(60, 64, 67, 0.3), 0px 1px 3px 1px rgba(60, 64, 67, 0.15);\n",
              "      fill: #174EA6;\n",
              "    }\n",
              "\n",
              "    [theme=dark] .colab-df-convert {\n",
              "      background-color: #3B4455;\n",
              "      fill: #D2E3FC;\n",
              "    }\n",
              "\n",
              "    [theme=dark] .colab-df-convert:hover {\n",
              "      background-color: #434B5C;\n",
              "      box-shadow: 0px 1px 3px 1px rgba(0, 0, 0, 0.15);\n",
              "      filter: drop-shadow(0px 1px 2px rgba(0, 0, 0, 0.3));\n",
              "      fill: #FFFFFF;\n",
              "    }\n",
              "  </style>\n",
              "\n",
              "      <script>\n",
              "        const buttonEl =\n",
              "          document.querySelector('#df-ae9f4600-584b-45e1-b1b5-29d2a23a65bd button.colab-df-convert');\n",
              "        buttonEl.style.display =\n",
              "          google.colab.kernel.accessAllowed ? 'block' : 'none';\n",
              "\n",
              "        async function convertToInteractive(key) {\n",
              "          const element = document.querySelector('#df-ae9f4600-584b-45e1-b1b5-29d2a23a65bd');\n",
              "          const dataTable =\n",
              "            await google.colab.kernel.invokeFunction('convertToInteractive',\n",
              "                                                     [key], {});\n",
              "          if (!dataTable) return;\n",
              "\n",
              "          const docLinkHtml = 'Like what you see? Visit the ' +\n",
              "            '<a target=\"_blank\" href=https://colab.research.google.com/notebooks/data_table.ipynb>data table notebook</a>'\n",
              "            + ' to learn more about interactive tables.';\n",
              "          element.innerHTML = '';\n",
              "          dataTable['output_type'] = 'display_data';\n",
              "          await google.colab.output.renderOutput(dataTable, element);\n",
              "          const docLink = document.createElement('div');\n",
              "          docLink.innerHTML = docLinkHtml;\n",
              "          element.appendChild(docLink);\n",
              "        }\n",
              "      </script>\n",
              "    </div>\n",
              "  </div>\n",
              "  "
            ]
          },
          "metadata": {},
          "execution_count": 10
        }
      ],
      "source": [
        "# Selecciono las dos columnas que me interesan\n",
        "sentences_conan = df1[['hateSpeech', 'counterSpeech']]\n",
        "\n",
        "sentences_conan[0:1000]"
      ]
    },
    {
      "cell_type": "markdown",
      "metadata": {
        "id": "kKnUCD5HGZkJ"
      },
      "source": [
        "Hago una selección de únicamemente las contranarrativas (para armar el ránking que consiste en contranarrativas exclusivamente)."
      ]
    },
    {
      "cell_type": "code",
      "execution_count": null,
      "metadata": {
        "id": "VO6aB_nqGy4e",
        "colab": {
          "base_uri": "https://localhost:8080/",
          "height": 53
        },
        "outputId": "7b30cad9-4c7d-4a65-9a34-53460590303a"
      },
      "outputs": [
        {
          "output_type": "execute_result",
          "data": {
            "text/plain": [
              "\"\\n# Selecciono la columna de contranarrativas\\ncounternarratives_conan = df1[['counterSpeech']]\\n\""
            ],
            "application/vnd.google.colaboratory.intrinsic+json": {
              "type": "string"
            }
          },
          "metadata": {},
          "execution_count": 11
        }
      ],
      "source": [
        "\"\"\"\n",
        "# Selecciono la columna de contranarrativas\n",
        "counternarratives_conan = df1[['counterSpeech']]\n",
        "\"\"\""
      ]
    },
    {
      "cell_type": "code",
      "execution_count": null,
      "metadata": {
        "id": "zxb-crHdIG5u"
      },
      "outputs": [],
      "source": [
        "\n",
        "# Selecciono la columna de discursos de odio\n",
        "hate_speech_conan = df1[['hateSpeech']]"
      ]
    },
    {
      "cell_type": "markdown",
      "metadata": {
        "id": "oL5nlA0xzgZ8"
      },
      "source": [
        "Creo embeddings para los mensajes de odio y sus contranarrativas."
      ]
    },
    {
      "cell_type": "code",
      "execution_count": null,
      "metadata": {
        "id": "3uob9zsP4bzm",
        "colab": {
          "base_uri": "https://localhost:8080/",
          "height": 465,
          "referenced_widgets": [
            "ae81e6fe66a34a67963fd84a15815d6d",
            "a290fb862986420e97af3fb6945922b7",
            "ff18cbf04dfd443ab6f46981cc7af3c8",
            "02e86f463f09409f8f89b855aae9e2ef",
            "166511fce4b443088b90371645537551",
            "5e6adeab2f2a4411b5a9b44728acc082",
            "2e49d9c4d0e74fb9862b4c3d98cf7110",
            "16a0c625f58c427d8475ce15db9b4342",
            "32711d8f4f3d49e7843fbeacb8b0e915",
            "2ec623ae092e4d1fb9fb66551005f661",
            "8b93d00ad82f4c2695a0c7ac25c354b3",
            "e36a901ffaaf48b288c48a11f6a6c106",
            "5cf7e36ad27b4ab59b30db0bc29d1e9f",
            "749d16a6744b4f2db58c382cd4af3e04",
            "f6c2f3036bf54129abcb3a69e823bd45",
            "ea3b093992f44fe59706b5507a7ae1c2",
            "2e5146992d974070968efb174c50c726",
            "7354d8774a6e4c90ab4edff33e558077",
            "c26b31d877df465aa07e0d4772bf772b",
            "247dc60da2b64e4bb88bfae317bdf9c2",
            "9518bcbb574842ca8154e180f79037a2",
            "b43d38b744e540cabac2cbae89fb533e",
            "887ee0e2952b478aabe94f1bbd1a215b",
            "77c76c7e4f6b449cac00028dd57ac8d7",
            "2316192af8f046d8883ad323ee3a05c4",
            "032864d7460944b49a8463968883cdbd",
            "2a4967d8dd104f45aef8410465009a75",
            "559a749a93244aa298e75ec5ea2617ca",
            "5f7089a9540c4ac6acc70c274e6a1eda",
            "1dc3bdb623864ab3a9cfd0470a6b045e",
            "9c7729222aa34f63a7840deb43ab2d4f",
            "971004333ade45eda52352b515f72966",
            "0332b2a37fb5418dae2a107e38152fcb",
            "afd27fe36d7d47f9be5802cf8d682945",
            "4774254a999d4d79bef976440a58daec",
            "496530f81b054c3285928e8da7e3f592",
            "7b129cd6a2b0415cb88133a5c9b81aa9",
            "d0ee8db91d11400398bc8848f6b05bb9",
            "a06ae96fbe9b461caa237422448073f4",
            "dbb13808c333421f883387ae5a846d94",
            "947607678991438894ea3c5e945149a0",
            "e0afa6800a1446e2a3ea9f559e18d71f",
            "29da936f2e1345db98c3c8821bf963cc",
            "24d25b9f34154195acad1171271edd59",
            "3afbd18e65ea48109c3e49447beeb74b",
            "e6d85e7074d042f98702b9481069091c",
            "d338275fd39c41d5bcd277edd3f1a97c",
            "b22d58e962a141dcadfad117c0667563",
            "add9e7766c5f44089e93ec3a743d3ddc",
            "6150d30716c6457c9201816158312028",
            "0765506ee1c746f2be14ec7f612af5dd",
            "258d0a8fbd9d412b9aa184b80effd536",
            "231b218a816b4c1bae6396dca724459f",
            "0ed37ccbc7bf4724a296670069cfee97",
            "3320ac33e8254c8790dfacbe2d3763dd",
            "50fbe203308a470fb92ae99faf33a47f",
            "964d2177ec3f432a822dbad79bfe77ef",
            "50a975463f3240aebee5d85ddd309621",
            "2c9760060c1c4d6388d129ae626647b5",
            "27c5eea088d04003a037be0b8ea34d70",
            "3a179719ed67468aa2cd49e9683b8a2d",
            "0b0a9ab8973c414e9f77a1f8bbbe322a",
            "fc4b66c12b57463591a3d05477e26c94",
            "ba58c165ca6f4ef7a76b235219a4964e",
            "e6a76d23ec704807af078ab34bf63de1",
            "af047031079a439486e8817e2cb51277",
            "61604f0be5d649d1959081560ef2b400",
            "35db95a503454f4895dd7fc3b263add6",
            "390ba292178f4917bcd5230891508327",
            "c2f6f7f4143e4f22847ffb3eda47ee18",
            "d5bb778afe5e4945b6518f5a96c8e8cb",
            "219677186cde4057b3878d3c08b5d3d4",
            "e1d75a1954f847059c564ebd730a108a",
            "03696e138c914c7daba90bf644a996be",
            "cfab18d38c954e14bb25eb402c1fd718",
            "a8e9c60494d64d7483fe8efeff3539b1",
            "9e3637e6e12d46ce9946066fa0ae47a4",
            "8795e730b2fc429b8ddd894e739abb3b",
            "8ac6a69a94814159b39fc350df4b771a",
            "da54e879c4a241fbb3b8f611ec862330",
            "04e103adbe224a19abcfc753cfa303ae",
            "35d3f0fd530043018acc9ea71cb53fe4",
            "26c3cc9c764b402d985993e866c9891d",
            "bd948831b93846f7848361ebc0bdf8a1",
            "d00065e47dba4827858fe84f956a119b",
            "42ee39aaf973409ab18471043966fed8",
            "c4556953d65749a7a2425d32289a2d44",
            "9b8d5d4a59224b4989077e7bbe8087c0",
            "05eba374001f49839f001e1dc7bff8dd",
            "610464d870f4405ca72f8ecedb8867db",
            "93aa806763c64b98ab9ed4ded9e4d650",
            "c8a8eba383bd405083567a79aac202bb",
            "ecc9706c45e14320b4f32881490daef1",
            "bc55da0719db4ed79498ab6e512d731f",
            "e23204a8c540498081b0dbfe62d05041",
            "abe10226c50c49748d6809b0c4ba6fc2",
            "b3dcecbec94c4cee85ee96bcdd9dba97",
            "2e50ccb5fc2f4bb4a8aaf9be684a217e",
            "fcd5e39d9627411db9b5cb693717c34e",
            "0fb56d9cf85d4658b6c6a57e9f24c1ef",
            "402a3e918d1749c880353163698c2005",
            "47ab68d6ba0744d7a375782b6d743f51",
            "4f96ef2bc66c470e86cb1e20aed208cc",
            "6c6d9368ada1453ebfc0f13ccc6f7fad",
            "ef9c5daea7af47b0b58be4836ce684fa",
            "f4c1aba52b9e4fbca9bbcf53f3e762b8",
            "51a22d03dc694a13b7797c0402b9b782",
            "fbd3f9a67b51419c9b77f4f4d351a42f",
            "742190c1b6b34ba6a7464594f276d903",
            "69dedcfda24e4021a032cc42d43bb8c6",
            "3277e5441c3740a0b6f78b33b6120cd8",
            "51f3e3fb7f9742d1bab97c203b20a380",
            "8f1e33ea553a4d338ee5112901b6af20",
            "302b1108097c44a689bb9f0dbb0aa9e8",
            "cf11cb94b5354b87bf821436208e0b25",
            "2752dee19de7449eb6c543badded0202",
            "ebc2bfe01eea4c54b35011a9e74360d7",
            "1d7c157220de45eb83e0641c4dbcf38d",
            "cc13bf3936c7406f8415dd714051ec74",
            "57474080e65d43ecb3f5d3b34bf5c39c",
            "06f73ef594554ecea478382efbcc87aa",
            "270247f1c05b4b7dbe06d50b49ab345b",
            "d37844127718469a96b18aa72009be5e",
            "2bb87a76d8ce4135a3d68f041bd4948f",
            "60c481a54a604e669accf06e33e71647",
            "b5e698c4c5534a14b340a9931006f0db",
            "786ff33bff4d48488567f7b24594db4b",
            "c24fd6c3f1254fb1b5b04ca5fe70e898",
            "d64527a6296943b3a142d379b9ed499b",
            "4b2c7eae02784d838f08de9560bfb987",
            "af69c8b9dbde4b35926e91932bbf4069",
            "91e0f0438f48421a9564a67edcbcd4f7",
            "6d21dac6203c40a2b14e166b03114c51",
            "f8241327f7814fb696513df7fd03fef5",
            "33b287f13ce0424c97c0bcc936ed6391",
            "52b131c8ef0e4c629fa105dd2d96e4d1",
            "5dbcfae02861405f9c86e7e57f017143",
            "fc8d1b3ada004750afd68a443bea476c",
            "f0d7bfdc24cc4f0389825d95fd4ff36f",
            "47d5ac250c1a4d01adbc4f60661c4dae",
            "450d80f24d214dac961d3847c67381af",
            "0728b20e869340bfa9d9ebdc5774db57",
            "27477661f68f49a48be02b5a33a9602e",
            "427067bd76ab4757bf4968d1dce88f6f",
            "8f36a60a58aa43bc8a35fcce8edcdd4a",
            "a890f6624775429d85ba8cffe5a2d1a2",
            "de53d60339554f31a62a4f90f9aba801",
            "0a34943ab74a4d52a678b8140e6f72e5",
            "f47f8ca825ee46859618cab880957fd2",
            "7da9fb45080f4cc68f844ab8789d6b49",
            "dab3eeb912a349a4af75630f7292fc0d",
            "269c95a991e74b06b02760a4dc83651e",
            "57ff57ab60474a4b83f003d061177162",
            "d05b985b4fe149d482752442df1f8515"
          ]
        },
        "outputId": "11255a46-e006-4b36-9f42-a201cd9f7f43"
      },
      "outputs": [
        {
          "output_type": "display_data",
          "data": {
            "text/plain": [
              "Downloading:   0%|          | 0.00/1.18k [00:00<?, ?B/s]"
            ],
            "application/vnd.jupyter.widget-view+json": {
              "version_major": 2,
              "version_minor": 0,
              "model_id": "ae81e6fe66a34a67963fd84a15815d6d"
            }
          },
          "metadata": {}
        },
        {
          "output_type": "display_data",
          "data": {
            "text/plain": [
              "Downloading:   0%|          | 0.00/190 [00:00<?, ?B/s]"
            ],
            "application/vnd.jupyter.widget-view+json": {
              "version_major": 2,
              "version_minor": 0,
              "model_id": "e36a901ffaaf48b288c48a11f6a6c106"
            }
          },
          "metadata": {}
        },
        {
          "output_type": "display_data",
          "data": {
            "text/plain": [
              "Downloading:   0%|          | 0.00/10.6k [00:00<?, ?B/s]"
            ],
            "application/vnd.jupyter.widget-view+json": {
              "version_major": 2,
              "version_minor": 0,
              "model_id": "887ee0e2952b478aabe94f1bbd1a215b"
            }
          },
          "metadata": {}
        },
        {
          "output_type": "display_data",
          "data": {
            "text/plain": [
              "Downloading:   0%|          | 0.00/612 [00:00<?, ?B/s]"
            ],
            "application/vnd.jupyter.widget-view+json": {
              "version_major": 2,
              "version_minor": 0,
              "model_id": "afd27fe36d7d47f9be5802cf8d682945"
            }
          },
          "metadata": {}
        },
        {
          "output_type": "display_data",
          "data": {
            "text/plain": [
              "Downloading:   0%|          | 0.00/116 [00:00<?, ?B/s]"
            ],
            "application/vnd.jupyter.widget-view+json": {
              "version_major": 2,
              "version_minor": 0,
              "model_id": "3afbd18e65ea48109c3e49447beeb74b"
            }
          },
          "metadata": {}
        },
        {
          "output_type": "display_data",
          "data": {
            "text/plain": [
              "Downloading:   0%|          | 0.00/39.3k [00:00<?, ?B/s]"
            ],
            "application/vnd.jupyter.widget-view+json": {
              "version_major": 2,
              "version_minor": 0,
              "model_id": "50fbe203308a470fb92ae99faf33a47f"
            }
          },
          "metadata": {}
        },
        {
          "output_type": "display_data",
          "data": {
            "text/plain": [
              "Downloading:   0%|          | 0.00/90.9M [00:00<?, ?B/s]"
            ],
            "application/vnd.jupyter.widget-view+json": {
              "version_major": 2,
              "version_minor": 0,
              "model_id": "61604f0be5d649d1959081560ef2b400"
            }
          },
          "metadata": {}
        },
        {
          "output_type": "display_data",
          "data": {
            "text/plain": [
              "Downloading:   0%|          | 0.00/53.0 [00:00<?, ?B/s]"
            ],
            "application/vnd.jupyter.widget-view+json": {
              "version_major": 2,
              "version_minor": 0,
              "model_id": "8795e730b2fc429b8ddd894e739abb3b"
            }
          },
          "metadata": {}
        },
        {
          "output_type": "display_data",
          "data": {
            "text/plain": [
              "Downloading:   0%|          | 0.00/112 [00:00<?, ?B/s]"
            ],
            "application/vnd.jupyter.widget-view+json": {
              "version_major": 2,
              "version_minor": 0,
              "model_id": "05eba374001f49839f001e1dc7bff8dd"
            }
          },
          "metadata": {}
        },
        {
          "output_type": "display_data",
          "data": {
            "text/plain": [
              "Downloading:   0%|          | 0.00/466k [00:00<?, ?B/s]"
            ],
            "application/vnd.jupyter.widget-view+json": {
              "version_major": 2,
              "version_minor": 0,
              "model_id": "0fb56d9cf85d4658b6c6a57e9f24c1ef"
            }
          },
          "metadata": {}
        },
        {
          "output_type": "display_data",
          "data": {
            "text/plain": [
              "Downloading:   0%|          | 0.00/350 [00:00<?, ?B/s]"
            ],
            "application/vnd.jupyter.widget-view+json": {
              "version_major": 2,
              "version_minor": 0,
              "model_id": "3277e5441c3740a0b6f78b33b6120cd8"
            }
          },
          "metadata": {}
        },
        {
          "output_type": "display_data",
          "data": {
            "text/plain": [
              "Downloading:   0%|          | 0.00/13.2k [00:00<?, ?B/s]"
            ],
            "application/vnd.jupyter.widget-view+json": {
              "version_major": 2,
              "version_minor": 0,
              "model_id": "270247f1c05b4b7dbe06d50b49ab345b"
            }
          },
          "metadata": {}
        },
        {
          "output_type": "display_data",
          "data": {
            "text/plain": [
              "Downloading:   0%|          | 0.00/232k [00:00<?, ?B/s]"
            ],
            "application/vnd.jupyter.widget-view+json": {
              "version_major": 2,
              "version_minor": 0,
              "model_id": "6d21dac6203c40a2b14e166b03114c51"
            }
          },
          "metadata": {}
        },
        {
          "output_type": "display_data",
          "data": {
            "text/plain": [
              "Downloading:   0%|          | 0.00/349 [00:00<?, ?B/s]"
            ],
            "application/vnd.jupyter.widget-view+json": {
              "version_major": 2,
              "version_minor": 0,
              "model_id": "427067bd76ab4757bf4968d1dce88f6f"
            }
          },
          "metadata": {}
        }
      ],
      "source": [
        "model = SentenceTransformer('all-MiniLM-L6-v2')         \n",
        "#fixme: acá está la documentación de este modelo, si cambio de modelo, cambiará el formato en el que tengo que pasarle las frases que quiero encodear (tuits odio y contranarrativas)."
      ]
    },
    {
      "cell_type": "markdown",
      "metadata": {
        "id": "wCnMuSpK4f1f"
      },
      "source": [
        "*Convierto* los dataframes en dos listas de strings (porque es lo que toma el modelo 'all-MiniLM-L6-v2'). Voy a eliminar los repetidos.\n"
      ]
    },
    {
      "cell_type": "code",
      "execution_count": null,
      "metadata": {
        "id": "jpCxS16MrT64"
      },
      "outputs": [],
      "source": [
        "def removeDuplicatesFromList(list):\n",
        "  # Removes duplicated from list\n",
        "  # using list comprehension + enumerate()\n",
        "  \n",
        "  res = [i for n, i in enumerate(list) if i not in list[:n]]\n",
        "  return res"
      ]
    },
    {
      "cell_type": "code",
      "execution_count": null,
      "metadata": {
        "id": "pC8oIb0_4fSV",
        "colab": {
          "base_uri": "https://localhost:8080/",
          "height": 53
        },
        "outputId": "4bcbfe8e-920b-4da8-bc01-30bf3de3b892"
      },
      "outputs": [
        {
          "output_type": "execute_result",
          "data": {
            "text/plain": [
              "'\\n# convierto el dataframe en una lista sin repetidos\\nsentences_conan_list_sin_repetidos = removeDuplicatesFromList(list(sentences_conan.values.flatten()));\\n'"
            ],
            "application/vnd.google.colaboratory.intrinsic+json": {
              "type": "string"
            }
          },
          "metadata": {},
          "execution_count": 15
        }
      ],
      "source": [
        "\"\"\"\n",
        "# convierto el dataframe en una lista sin repetidos\n",
        "sentences_conan_list_sin_repetidos = removeDuplicatesFromList(list(sentences_conan.values.flatten()));\n",
        "\"\"\""
      ]
    },
    {
      "cell_type": "code",
      "execution_count": null,
      "metadata": {
        "id": "LxhwzgSzHRSu",
        "colab": {
          "base_uri": "https://localhost:8080/",
          "height": 53
        },
        "outputId": "a1fe8363-5bc3-4e64-fcea-5a4773311cc7"
      },
      "outputs": [
        {
          "output_type": "execute_result",
          "data": {
            "text/plain": [
              "'\\ncounternarratives_conan_list_sin_repetidos = removeDuplicatesFromList(list(counternarratives_conan.values.flatten()));\\n'"
            ],
            "application/vnd.google.colaboratory.intrinsic+json": {
              "type": "string"
            }
          },
          "metadata": {},
          "execution_count": 16
        }
      ],
      "source": [
        "\"\"\"\n",
        "counternarratives_conan_list_sin_repetidos = removeDuplicatesFromList(list(counternarratives_conan.values.flatten()));\n",
        "\"\"\""
      ]
    },
    {
      "cell_type": "code",
      "execution_count": null,
      "metadata": {
        "id": "JGTksGtBIxMY"
      },
      "outputs": [],
      "source": [
        "hate_speech_conan_list_sin_repetidos = removeDuplicatesFromList(list(hate_speech_conan.values.flatten()));"
      ]
    },
    {
      "cell_type": "markdown",
      "metadata": {
        "id": "EtYIGZFH93cV"
      },
      "source": [
        "Fixme: acá podría chequear si sentences_conan_list_sin_repetidos y counternarratives_conan_list_sin_repetidos efectivamente no tienen repetidos."
      ]
    },
    {
      "cell_type": "code",
      "execution_count": null,
      "metadata": {
        "id": "teqFxSWt9_8g",
        "colab": {
          "base_uri": "https://localhost:8080/",
          "height": 53
        },
        "outputId": "992527bd-93a7-44f4-b97e-fb54d6b75f83"
      },
      "outputs": [
        {
          "output_type": "execute_result",
          "data": {
            "text/plain": [
              "'\\n#Veo cuántos elementos tiene sentences_conan_list eliminado repetidos.\\nlen(sentences_conan_list_sin_repetidos)\\n'"
            ],
            "application/vnd.google.colaboratory.intrinsic+json": {
              "type": "string"
            }
          },
          "metadata": {},
          "execution_count": 18
        }
      ],
      "source": [
        "\"\"\"\n",
        "#Veo cuántos elementos tiene sentences_conan_list eliminado repetidos.\n",
        "len(sentences_conan_list_sin_repetidos)\n",
        "\"\"\""
      ]
    },
    {
      "cell_type": "code",
      "execution_count": null,
      "metadata": {
        "id": "38iEScv2Hz5T",
        "colab": {
          "base_uri": "https://localhost:8080/",
          "height": 53
        },
        "outputId": "a8d4a13e-0029-42c4-b6d7-6d049a4dcfbd"
      },
      "outputs": [
        {
          "output_type": "execute_result",
          "data": {
            "text/plain": [
              "'\\n#Veo cuántos elementos tiene counternarratives_conan_list eliminado repetidos.\\nlen(counternarratives_conan_list_sin_repetidos)\\n'"
            ],
            "application/vnd.google.colaboratory.intrinsic+json": {
              "type": "string"
            }
          },
          "metadata": {},
          "execution_count": 19
        }
      ],
      "source": [
        "\"\"\"\n",
        "#Veo cuántos elementos tiene counternarratives_conan_list eliminado repetidos.\n",
        "len(counternarratives_conan_list_sin_repetidos)\n",
        "\"\"\""
      ]
    },
    {
      "cell_type": "code",
      "execution_count": null,
      "metadata": {
        "id": "JX1-Do92KBbs",
        "colab": {
          "base_uri": "https://localhost:8080/",
          "height": 53
        },
        "outputId": "4842309a-61b8-4056-d30c-6ed86a2aceb0"
      },
      "outputs": [
        {
          "output_type": "execute_result",
          "data": {
            "text/plain": [
              "'\\n#Veo cuántos elementos tiene hate_speech_conan_list_sin_repetidos eliminado repetidos.\\nlen(hate_speech_conan_list_sin_repetidos)\\n'"
            ],
            "application/vnd.google.colaboratory.intrinsic+json": {
              "type": "string"
            }
          },
          "metadata": {},
          "execution_count": 20
        }
      ],
      "source": [
        "\"\"\"\n",
        "#Veo cuántos elementos tiene hate_speech_conan_list_sin_repetidos eliminado repetidos.\n",
        "len(hate_speech_conan_list_sin_repetidos)\n",
        "\"\"\""
      ]
    },
    {
      "cell_type": "code",
      "execution_count": null,
      "metadata": {
        "id": "4KjrYglaKOuU",
        "colab": {
          "base_uri": "https://localhost:8080/",
          "height": 53
        },
        "outputId": "985c45cb-fb4c-42e9-91e5-bcb48f4735cc"
      },
      "outputs": [
        {
          "output_type": "execute_result",
          "data": {
            "text/plain": [
              "'\\n# Chequeo si da la suma:\\nlen(sentences_conan_list_sin_repetidos) == len(counternarratives_conan_list_sin_repetidos) + len(hate_speech_conan_list_sin_repetidos)\\n'"
            ],
            "application/vnd.google.colaboratory.intrinsic+json": {
              "type": "string"
            }
          },
          "metadata": {},
          "execution_count": 21
        }
      ],
      "source": [
        "\"\"\"\n",
        "# Chequeo si da la suma:\n",
        "len(sentences_conan_list_sin_repetidos) == len(counternarratives_conan_list_sin_repetidos) + len(hate_speech_conan_list_sin_repetidos)\n",
        "\"\"\""
      ]
    },
    {
      "cell_type": "markdown",
      "source": [
        "##Genero los conjuntos disjuntos conjunto_sin_repetidos_contranarrativas_i, conjunto_sin_repetidos_contranarrativas_k, conjunto_sin_repetidos_odio_i y conjunto_sin_repetidos_odio_k."
      ],
      "metadata": {
        "id": "sIsgBXTPgBio"
      }
    },
    {
      "cell_type": "code",
      "source": [
        "def splitListInHalfAtRandom(list):  # Toma una lista list y devuevle dos listas de iugal tamaño, disjuntas con los elementos de lista.\n",
        "  random.shuffle(list)\n",
        "  list1 = list[:int(len(list)/2)] \n",
        "  list2 = list[int(len(list)/2):]\n",
        "  return list1, list2"
      ],
      "metadata": {
        "id": "mP1rudmKlYMr"
      },
      "execution_count": null,
      "outputs": []
    },
    {
      "cell_type": "markdown",
      "source": [
        "### Genero los conjuntos disjuntos conjunto_sin_repetidos_contranarrativa_i, conjunto_sin_repetidos_contranarrativa_k, conjunto_sin_repetidos_odio_i y conjunto_sin_repetidos_odio_k."
      ],
      "metadata": {
        "id": "ncb7X_lb7Ozx"
      }
    },
    {
      "cell_type": "code",
      "source": [
        "# Given a DataFrame (dataFrame), the name of one \n",
        "# of it's columns (columnName) and a list of \n",
        "# values (values), it filters \"dataFrame\" by the\n",
        "# column \"columnName usign \"values\".\n",
        "\n",
        "def filterDataFrameByColumnValues(dataFrame, columnName, values):\n",
        "  rslt_df = dataFrame[dataFrame[columnName].isin(values)] \n",
        "  return rslt_df\n",
        "\n",
        "  "
      ],
      "metadata": {
        "id": "fXy45uXoEY3H"
      },
      "execution_count": null,
      "outputs": []
    },
    {
      "cell_type": "code",
      "source": [
        "# Remueve de df todas las filas que tengan el valor \"valor\" en la columna \"columna\". \n",
        "def removeRowsFromDf(df, valor, columna):\n",
        "    df.drop(df[df[columna] == valor].index, inplace = True)"
      ],
      "metadata": {
        "id": "CDFwL9uPcek4"
      },
      "execution_count": null,
      "outputs": []
    },
    {
      "cell_type": "code",
      "source": [
        "# Hace que los DataFrames dataFrame1 y dataFrame2 sean\n",
        "# disjuntos respecto a sus valores en las columnas \n",
        "# 'columnName'.\n",
        "# Hace que list1 y list2 sean disjuntas.\n",
        "\n",
        "\n",
        "def makeDisjoint(list1, list2, dataFrame1, dataFrame2, columnName):\n",
        "    \n",
        "    removeFromList1 = []\n",
        "    removeFromList2 = []\n",
        "\n",
        "    # traverse in the 1st list\n",
        "    for x in list1:\n",
        " \n",
        "        # traverse in the 2nd list\n",
        "        for y in list2:\n",
        "   \n",
        "            # if one common\n",
        "            if x == y and x not in removeFromList1 and x not in removeFromList2:\n",
        "                if list1.count(x) == list2.count(x):\n",
        "                    if len(removeFromList1) < len(removeFromList2):\n",
        "                        removeFromList1.append(x)\n",
        "                        removeRowsFromDf(dataFrame1, x, columnName)\n",
        "                    else:\n",
        "                        removeFromList2.append(x)\n",
        "                        removeRowsFromDf(dataFrame2, x, columnName)\n",
        "                else:\n",
        "                    if list1.count(x) < list2.count(x):\n",
        "                        removeFromList1.append(x)\n",
        "                        removeRowsFromDf(dataFrame1, x, columnName)\n",
        "                    else:\n",
        "                        removeFromList2.append(x)\n",
        "                        removeRowsFromDf(dataFrame2, x, columnName)\n",
        "\n",
        "    resList1 = [i for i in list1 if i not in removeFromList1]\n",
        "    resList2 = [i for i in list2 if i not in removeFromList2]\n",
        "\n",
        "    return resList1, resList2"
      ],
      "metadata": {
        "id": "6y77gTPfuyEs"
      },
      "execution_count": null,
      "outputs": []
    },
    {
      "cell_type": "code",
      "source": [
        "# Genera los conjuntos disjuntos Odio_i y Odio_k\n",
        "# Y sus correspondientes conjuntos disjuntos de\n",
        "# contranarrativas ContranarrativaI y ContranarrativaK\n",
        "\n",
        "def generarConjuntosOdioIyKContranarrativaIyK ():\n",
        "    iteracion = 1\n",
        "\n",
        "    conjunto_sin_repetidos_odio_i = []\n",
        "    conjunto_sin_repetidos_odio_k = []\n",
        "    conjunto_sin_repetidos_contranarrativa_i = []\n",
        "    conjunto_sin_repetidos_contranarrativa_k = []\n",
        "\n",
        "    # Mientras conjunto_sin_repetidos_odio_i y conjunto_sin_repetidos_odio_k no tengan el mismo tamaño y\n",
        "    # Mientras conjunto_sin_repetidos_contranarrativa_i y conjunto_sin_repetidos_contranarrativa_k no tengan aproximadamente el mismo tamaño\n",
        "    while iteracion == 1 or not (abs(len(conjunto_sin_repetidos_odio_i) - len(conjunto_sin_repetidos_odio_k)) < 10 and abs(len(conjunto_sin_repetidos_contranarrativa_i) - len(conjunto_sin_repetidos_contranarrativa_k)) < 20):\n",
        "        \n",
        "        print('Generando conjuntos Odios_i, Odios_k, Contranarrativas_i, Contranarrativas_k, iteración número: ', iteracion)\n",
        "        iteracion +=1\n",
        "        \n",
        "        # Genero conjuntos disjuntos de odio_i y k, temporales (este paso es random):\n",
        "        conjunto_sin_repetidos_odio_i_temp, conjunto_sin_repetidos_odio_k_temp = splitListInHalfAtRandom(hate_speech_conan_list_sin_repetidos)\n",
        "\n",
        "        # Genero un DataFrame de odios y contranarrativas I:\n",
        "        dfOdiosYContanarrativasI = filterDataFrameByColumnValues(sentences_conan, 'hateSpeech', conjunto_sin_repetidos_odio_i_temp)\n",
        "\n",
        "        # Genero un DataFrame de odios y contranarrativas K:\n",
        "        dfOdiosYContanarrativasK = filterDataFrameByColumnValues(sentences_conan, 'hateSpeech', conjunto_sin_repetidos_odio_k_temp)\n",
        "\n",
        "        # Genero un DataFrame de contranarrativas I:\n",
        "        df_contranarrativa_i = dfOdiosYContanarrativasI[['counterSpeech']]\n",
        "\n",
        "        # Genero un DataFrame de contranarrativas K:\n",
        "        df_contranarrativa_k = dfOdiosYContanarrativasK[['counterSpeech']]\n",
        "\n",
        "        # Convierto los dataframes df_odio_i y df_odio_k en dos lista sin repetidos\n",
        "        conjunto_sin_repetidos_contranarrativa_i = removeDuplicatesFromList(list(df_contranarrativa_i.values.flatten()));\n",
        "        conjunto_sin_repetidos_contranarrativa_k = removeDuplicatesFromList(list(df_contranarrativa_k.values.flatten()));\n",
        "\n",
        "        # Hago que conjunto_sin_repetidos_odio_i_temp y conjunto_sin_repetidos_odio_k_temp sean disjuntos:\n",
        "        conjunto_sin_repetidos_contranarrativa_i, conjunto_sin_repetidos_contranarrativa_k = makeDisjoint(conjunto_sin_repetidos_contranarrativa_i, conjunto_sin_repetidos_contranarrativa_k, dfOdiosYContanarrativasI, dfOdiosYContanarrativasK, 'counterSpeech')\n",
        "\n",
        "        #Obtengo el conjunto sin repetidos conjunto_sin_repetidos_odio_i\n",
        "        hate_speech_conan_i = dfOdiosYContanarrativasI[['hateSpeech']]\n",
        "        conjunto_sin_repetidos_odio_i = removeDuplicatesFromList(list(hate_speech_conan_i.values.flatten()));\n",
        "\n",
        "        #Obtengo el conjunto sin repetidos conjunto_sin_repetidos_odio_k\n",
        "        hate_speech_conan_k = dfOdiosYContanarrativasK[['hateSpeech']]\n",
        "        conjunto_sin_repetidos_odio_k = removeDuplicatesFromList(list(hate_speech_conan_k.values.flatten()));\n",
        "        \n",
        "    # Fixme: dfOdiosYContanarrativasI y dfOdiosYContanarrativasK, sólo se devuelven para sanity checks.\n",
        "    return conjunto_sin_repetidos_odio_i, conjunto_sin_repetidos_contranarrativa_i, conjunto_sin_repetidos_odio_k, conjunto_sin_repetidos_contranarrativa_k, dfOdiosYContanarrativasI, dfOdiosYContanarrativasK "
      ],
      "metadata": {
        "id": "sKX2KF2GCle3"
      },
      "execution_count": null,
      "outputs": []
    },
    {
      "cell_type": "code",
      "source": [
        "conjunto_sin_repetidos_odio_i, conjunto_sin_repetidos_contranarrativa_i, conjunto_sin_repetidos_odio_k, conjunto_sin_repetidos_contranarrativa_k, dfOdiosYContanarrativasI, dfOdiosYContanarrativasK = generarConjuntosOdioIyKContranarrativaIyK()"
      ],
      "metadata": {
        "colab": {
          "base_uri": "https://localhost:8080/"
        },
        "id": "BHq9y97WGLLi",
        "outputId": "791e99ce-c5de-4914-d934-89706c9dc5a5"
      },
      "execution_count": null,
      "outputs": [
        {
          "output_type": "stream",
          "name": "stdout",
          "text": [
            "Generando conjuntos Odios_i, Odios_k, Contranarrativas_i, Contranarrativas_k, iteración número:  1\n"
          ]
        },
        {
          "output_type": "stream",
          "name": "stderr",
          "text": [
            "/usr/local/lib/python3.8/dist-packages/pandas/core/frame.py:4906: SettingWithCopyWarning: \n",
            "A value is trying to be set on a copy of a slice from a DataFrame\n",
            "\n",
            "See the caveats in the documentation: https://pandas.pydata.org/pandas-docs/stable/user_guide/indexing.html#returning-a-view-versus-a-copy\n",
            "  return super().drop(\n"
          ]
        },
        {
          "output_type": "stream",
          "name": "stdout",
          "text": [
            "Generando conjuntos Odios_i, Odios_k, Contranarrativas_i, Contranarrativas_k, iteración número:  2\n",
            "Generando conjuntos Odios_i, Odios_k, Contranarrativas_i, Contranarrativas_k, iteración número:  3\n",
            "Generando conjuntos Odios_i, Odios_k, Contranarrativas_i, Contranarrativas_k, iteración número:  4\n",
            "Generando conjuntos Odios_i, Odios_k, Contranarrativas_i, Contranarrativas_k, iteración número:  5\n",
            "Generando conjuntos Odios_i, Odios_k, Contranarrativas_i, Contranarrativas_k, iteración número:  6\n",
            "Generando conjuntos Odios_i, Odios_k, Contranarrativas_i, Contranarrativas_k, iteración número:  7\n",
            "Generando conjuntos Odios_i, Odios_k, Contranarrativas_i, Contranarrativas_k, iteración número:  8\n",
            "Generando conjuntos Odios_i, Odios_k, Contranarrativas_i, Contranarrativas_k, iteración número:  9\n",
            "Generando conjuntos Odios_i, Odios_k, Contranarrativas_i, Contranarrativas_k, iteración número:  10\n",
            "Generando conjuntos Odios_i, Odios_k, Contranarrativas_i, Contranarrativas_k, iteración número:  11\n"
          ]
        }
      ]
    },
    {
      "cell_type": "markdown",
      "source": [],
      "metadata": {
        "id": "nTm5HtY5hH21"
      }
    },
    {
      "cell_type": "markdown",
      "metadata": {
        "id": "6m9GLkGp46K5"
      },
      "source": [
        "# **Generación de embeddings.**"
      ]
    },
    {
      "cell_type": "markdown",
      "metadata": {
        "id": "ncDPgHjvgxAg"
      },
      "source": [
        "##Genero los embeddings de los discursos de odio a partir de la lista de discursos de odio sin repetidos."
      ]
    },
    {
      "cell_type": "code",
      "execution_count": null,
      "metadata": {
        "id": "I7_qLB2vHSgL",
        "colab": {
          "base_uri": "https://localhost:8080/"
        },
        "outputId": "1a04efac-cf61-4ccc-823f-91c265b9ba19"
      },
      "outputs": [
        {
          "output_type": "stream",
          "name": "stdout",
          "text": [
            "Generando Embeddings para los discursos de odio.\n"
          ]
        }
      ],
      "source": [
        "print('Generando Embeddings para los discursos de odio.')"
      ]
    },
    {
      "cell_type": "code",
      "execution_count": null,
      "metadata": {
        "id": "EbqUhf9-hWiq",
        "colab": {
          "base_uri": "https://localhost:8080/"
        },
        "outputId": "f2bdec86-34f9-4c7a-eb72-83ba436b3b34"
      },
      "outputs": [
        {
          "output_type": "stream",
          "name": "stdout",
          "text": [
            "Generando Embeddings para los discursos de Odio_i.\n"
          ]
        }
      ],
      "source": [
        "# Fixme: Comentar la siguiente celda si los embeddings ya están generados.\n",
        "# Genero los embeddings y los guardo en el disco. \n",
        "\n",
        "print('Generando Embeddings para los discursos de Odio_i.')\n",
        "\n",
        "# Genero los embeddings para el conjunto Odio_i\n",
        "embeddings_hate_speech_i = model.encode(conjunto_sin_repetidos_odio_i, convert_to_tensor=True);\n",
        "\n",
        "# Store embeddings on disc\n",
        "with open('embeddings_hate_speech_i.pkl', \"wb\") as fOut:\n",
        "    pickle.dump({'embeddings': embeddings_hate_speech_i}, fOut, protocol=pickle.HIGHEST_PROTOCOL)\n"
      ]
    },
    {
      "cell_type": "code",
      "source": [
        "# Fixme: Comentar la siguiente celda si los embeddings ya están generados.\n",
        "# Genero los embeddings y los guardo en el disco. \n",
        "\n",
        "print('Generando Embeddings para los discursos de Odio_k.')\n",
        "\n",
        "# Genero los embeddings para el conjunto Odio_k\n",
        "embeddings_hate_speech_k = model.encode(conjunto_sin_repetidos_odio_k, convert_to_tensor=True);\n",
        "\n",
        "# Store embeddings on disc\n",
        "with open('embeddings_hate_speech_k.pkl', \"wb\") as fOut:\n",
        "    pickle.dump({'embeddings': embeddings_hate_speech_k}, fOut, protocol=pickle.HIGHEST_PROTOCOL)\n"
      ],
      "metadata": {
        "colab": {
          "base_uri": "https://localhost:8080/"
        },
        "id": "ZjRh4uANOC42",
        "outputId": "a2a818d1-d42e-4dea-a6e5-396110d65c13"
      },
      "execution_count": null,
      "outputs": [
        {
          "output_type": "stream",
          "name": "stdout",
          "text": [
            "Generando Embeddings para los discursos de Odio_k.\n"
          ]
        }
      ]
    },
    {
      "cell_type": "code",
      "execution_count": null,
      "metadata": {
        "id": "p3if0o2o8jg5"
      },
      "outputs": [],
      "source": [
        "# Load embeddings of Hate_Speech_i from disc\n",
        "\n",
        "with open('embeddings_hate_speech_i.pkl', \"rb\") as fIn:\n",
        "    stored_data = pickle.load(fIn)\n",
        "    embeddings_hate_speech_i = stored_data['embeddings']"
      ]
    },
    {
      "cell_type": "code",
      "source": [
        "# Load embeddings of Hate_Speech_k from disc\n",
        "\n",
        "with open('embeddings_hate_speech_k.pkl', \"rb\") as fIn:\n",
        "    stored_data = pickle.load(fIn)\n",
        "    embeddings_hate_speech_k = stored_data['embeddings']"
      ],
      "metadata": {
        "id": "0tDpGuKGOw7K"
      },
      "execution_count": null,
      "outputs": []
    },
    {
      "cell_type": "markdown",
      "metadata": {
        "id": "5Fnr0SmoVsTe"
      },
      "source": [
        "### La siguiente celda debe utilizarse cuando haya GPUs disponibles."
      ]
    },
    {
      "cell_type": "code",
      "execution_count": null,
      "metadata": {
        "id": "N1HRbbcrUhST"
      },
      "outputs": [],
      "source": [
        "# Envío los embeddings_hate_speech_conan_list_sin_repetidos_creado_por_lista a la GPU:\n",
        "# embeddings_hate_speech_i.to(device)\n",
        "# embeddings_hate_speech_k.to(device)"
      ]
    },
    {
      "cell_type": "markdown",
      "source": [
        "### Busco la dimensión de embeddings_hate_speech_i y embeddings_hate_speech_k, esto queda como detalle anecdótico, porque las dimensiones varían cada vez que ejecuto el script.   "
      ],
      "metadata": {
        "id": "2wvxszhKRMYi"
      }
    },
    {
      "cell_type": "markdown",
      "source": [
        "Fixme: borrar esta sección, hasta \"##Genero los embeddings para las contranarrativas a partir de la lista de contranarrativas sin repetidos.\""
      ],
      "metadata": {
        "id": "AGcM-Gh0RZ-c"
      }
    },
    {
      "cell_type": "markdown",
      "metadata": {
        "id": "Bg_U-A4OHWOH"
      },
      "source": [
        "Busco la dimensión de embeddings_hate_speech_i"
      ]
    },
    {
      "cell_type": "code",
      "execution_count": null,
      "metadata": {
        "id": "1v2tkJUmHdBb",
        "colab": {
          "base_uri": "https://localhost:8080/"
        },
        "outputId": "9c17c3ff-11e7-4c47-ff24-8f3e15ffdbba"
      },
      "outputs": [
        {
          "output_type": "execute_result",
          "data": {
            "text/plain": [
              "202"
            ]
          },
          "metadata": {},
          "execution_count": 34
        }
      ],
      "source": [
        "len(embeddings_hate_speech_i)"
      ]
    },
    {
      "cell_type": "code",
      "execution_count": null,
      "metadata": {
        "id": "75DTkhMZFjxB",
        "colab": {
          "base_uri": "https://localhost:8080/"
        },
        "outputId": "00b3fc87-7775-458d-fc18-b28cf8a07e11"
      },
      "outputs": [
        {
          "output_type": "execute_result",
          "data": {
            "text/plain": [
              "384"
            ]
          },
          "metadata": {},
          "execution_count": 35
        }
      ],
      "source": [
        "len(embeddings_hate_speech_i[3])"
      ]
    },
    {
      "cell_type": "markdown",
      "metadata": {
        "id": "C_RbG-ivHfbz"
      },
      "source": [
        "embeddings_hate_speech_i es una matriz de 204 x 384 = cantidad_mensajes_de_odio_sin_repetir x largo_de_cada_embedding"
      ]
    },
    {
      "cell_type": "markdown",
      "source": [
        "Busco la dimensión de embeddings_hate_speech_k"
      ],
      "metadata": {
        "id": "SgoAnwoVQ88v"
      }
    },
    {
      "cell_type": "code",
      "execution_count": null,
      "metadata": {
        "colab": {
          "base_uri": "https://localhost:8080/"
        },
        "outputId": "7e9b853b-0e02-478e-8664-33643755b763",
        "id": "Gfa8dBkVQ1G7"
      },
      "outputs": [
        {
          "output_type": "execute_result",
          "data": {
            "text/plain": [
              "195"
            ]
          },
          "metadata": {},
          "execution_count": 36
        }
      ],
      "source": [
        "len(embeddings_hate_speech_k)"
      ]
    },
    {
      "cell_type": "code",
      "execution_count": null,
      "metadata": {
        "colab": {
          "base_uri": "https://localhost:8080/"
        },
        "outputId": "c33dcabb-65ca-42ad-a655-a96c3d60da5b",
        "id": "HtIXURbfQ1G8"
      },
      "outputs": [
        {
          "output_type": "execute_result",
          "data": {
            "text/plain": [
              "384"
            ]
          },
          "metadata": {},
          "execution_count": 37
        }
      ],
      "source": [
        "len(embeddings_hate_speech_k[3])"
      ]
    },
    {
      "cell_type": "markdown",
      "metadata": {
        "id": "dVL_w5ssQ1G9"
      },
      "source": [
        "embeddings_hate_speech_k es una matriz de 204 x 384 = cantidad_mensajes_de_odio_sin_repetir x largo_de_cada_embedding"
      ]
    },
    {
      "cell_type": "markdown",
      "metadata": {
        "id": "LtU1rZmQveBS"
      },
      "source": [
        "##Genero los embeddings para las contranarrativas a partir de la lista de contranarrativas sin repetidos."
      ]
    },
    {
      "cell_type": "code",
      "execution_count": null,
      "metadata": {
        "id": "GMHw5_JNHYyF",
        "colab": {
          "base_uri": "https://localhost:8080/"
        },
        "outputId": "476e42c5-dbe4-4051-d1f7-944fbc3210af"
      },
      "outputs": [
        {
          "output_type": "stream",
          "name": "stdout",
          "text": [
            "Generando Embeddings para las contranarrativas.\n"
          ]
        }
      ],
      "source": [
        "print('Generando Embeddings para las contranarrativas.')"
      ]
    },
    {
      "cell_type": "code",
      "execution_count": null,
      "metadata": {
        "id": "kQ2GDh4a_Zm0",
        "colab": {
          "base_uri": "https://localhost:8080/"
        },
        "outputId": "7ab9bcb9-1c7a-40b9-a209-266131adeeba"
      },
      "outputs": [
        {
          "output_type": "stream",
          "name": "stdout",
          "text": [
            "Generando Embeddings para las Contranarrativas_i\n"
          ]
        }
      ],
      "source": [
        "# Fixme: Comentar la siguiente celda si los embeddings ya están generados.\n",
        "# Genero los embeddings y los guardo en el disco. \n",
        "\n",
        "print('Generando Embeddings para las Contranarrativas_i')\n",
        "\n",
        "# Genero los embeddings\n",
        "# If available, the model is automatically executed on the GPU.\n",
        "embeddings_counternarratives_i = model.encode(conjunto_sin_repetidos_contranarrativa_i, convert_to_tensor=True);\n",
        "\n",
        "# Store embeddings on disc\n",
        "with open('embeddings_counternarratives_i.pkl', \"wb\") as fOut:\n",
        "    pickle.dump({'embeddings': embeddings_counternarratives_i}, fOut, protocol=pickle.HIGHEST_PROTOCOL)\n"
      ]
    },
    {
      "cell_type": "code",
      "source": [
        "# Fixme: Comentar la siguiente celda si los embeddings ya están generados.\n",
        "# Genero los embeddings y los guardo en el disco. \n",
        "\n",
        "print('Generando Embeddings para las Contranarrativas_k')\n",
        "\n",
        "# Genero los embeddings\n",
        "# If available, the model is automatically executed on the GPU.\n",
        "embeddings_counternarratives_k = model.encode(conjunto_sin_repetidos_contranarrativa_k, convert_to_tensor=True);\n",
        "\n",
        "# Store embeddings on disc\n",
        "with open('embeddings_counternarratives_k.pkl', \"wb\") as fOut:\n",
        "    pickle.dump({'embeddings': embeddings_counternarratives_k}, fOut, protocol=pickle.HIGHEST_PROTOCOL)\n"
      ],
      "metadata": {
        "colab": {
          "base_uri": "https://localhost:8080/"
        },
        "id": "fHykRGIPSbWR",
        "outputId": "e61e0aa0-d656-47b0-903e-9d4739a78991"
      },
      "execution_count": null,
      "outputs": [
        {
          "output_type": "stream",
          "name": "stdout",
          "text": [
            "Generando Embeddings para las Contranarrativas_k\n"
          ]
        }
      ]
    },
    {
      "cell_type": "code",
      "execution_count": null,
      "metadata": {
        "id": "Gw7K-72W_Zm1"
      },
      "outputs": [],
      "source": [
        "# Fixme: comentar la siguiente celda genero los embeddings por lo que no hace falta cargarlos.\n",
        "# Load embeddings from disc\n",
        "with open('embeddings_counternarratives_i.pkl', \"rb\") as fIn:\n",
        "    stored_data = pickle.load(fIn)\n",
        "    embeddings_counternarratives_i = stored_data['embeddings']"
      ]
    },
    {
      "cell_type": "code",
      "source": [
        "# Fixme: comentar la siguiente celda genero los embeddings por lo que no hace falta cargarlos.\n",
        "# Load embeddings from disc\n",
        "with open('embeddings_counternarratives_k.pkl', \"rb\") as fIn:\n",
        "    stored_data = pickle.load(fIn)\n",
        "    embeddings_counternarratives_k = stored_data['embeddings']"
      ],
      "metadata": {
        "id": "_OkywfDaSvJH"
      },
      "execution_count": null,
      "outputs": []
    },
    {
      "cell_type": "markdown",
      "metadata": {
        "id": "-Q84uKwYWT-v"
      },
      "source": [
        "### La siguiente celda debe utilizarse cuando haya GPUs disponibles."
      ]
    },
    {
      "cell_type": "code",
      "execution_count": null,
      "metadata": {
        "id": "d5PJKebYWT-v"
      },
      "outputs": [],
      "source": [
        "# Envío los embeddings_hate_speech_conan_list_sin_repetidos_creado_por_lista a la GPU:\n",
        "# embeddings_counternarratives_i.to(device)\n",
        "# embeddings_counternarratives_k.to(device)"
      ]
    },
    {
      "cell_type": "markdown",
      "source": [
        "### Busco la dimensión de embeddings_counternarratives_i y embeddings_counternarratives_k, esto queda como detalle anecdótico, porque las dimensiones varían cada vez que ejecuto el script.   "
      ],
      "metadata": {
        "id": "sjL11qrYTeq8"
      }
    },
    {
      "cell_type": "markdown",
      "source": [
        "Fixme: borrar esta sección, hasta \"# **Métrica 1:**\""
      ],
      "metadata": {
        "id": "eff-zfk4Teq9"
      }
    },
    {
      "cell_type": "markdown",
      "metadata": {
        "id": "sRuqtswfH9HR"
      },
      "source": [
        "Busco la dimensión de embeddings_counternarratives_i"
      ]
    },
    {
      "cell_type": "code",
      "execution_count": null,
      "metadata": {
        "id": "GtNWZJKuH16e",
        "colab": {
          "base_uri": "https://localhost:8080/"
        },
        "outputId": "5cb41991-7a36-4a19-a3d3-82faca561af8"
      },
      "outputs": [
        {
          "output_type": "execute_result",
          "data": {
            "text/plain": [
              "643"
            ]
          },
          "metadata": {},
          "execution_count": 44
        }
      ],
      "source": [
        "len(embeddings_counternarratives_i)"
      ]
    },
    {
      "cell_type": "code",
      "execution_count": null,
      "metadata": {
        "id": "omv5ukIwH39E",
        "colab": {
          "base_uri": "https://localhost:8080/"
        },
        "outputId": "2f82a43a-6b94-48fb-8a4b-4c229921684a"
      },
      "outputs": [
        {
          "output_type": "execute_result",
          "data": {
            "text/plain": [
              "384"
            ]
          },
          "metadata": {},
          "execution_count": 45
        }
      ],
      "source": [
        "len(embeddings_counternarratives_i[0])"
      ]
    },
    {
      "cell_type": "markdown",
      "metadata": {
        "id": "zUSncL4CIEW1"
      },
      "source": [
        "embeddings_counternarratives_i es una matriz de 634 x 384 = cantidad_contranarrativas_sin_repetir x largo_de_cada_embedding."
      ]
    },
    {
      "cell_type": "markdown",
      "metadata": {
        "id": "l-EFQMI0TzOu"
      },
      "source": [
        "Busco la dimensión de embeddings_counternarratives_k"
      ]
    },
    {
      "cell_type": "code",
      "execution_count": null,
      "metadata": {
        "colab": {
          "base_uri": "https://localhost:8080/"
        },
        "outputId": "026d0bd1-d844-4b0e-846a-f2db1dfb564c",
        "id": "K3VWQbLFTzOu"
      },
      "outputs": [
        {
          "output_type": "execute_result",
          "data": {
            "text/plain": [
              "627"
            ]
          },
          "metadata": {},
          "execution_count": 46
        }
      ],
      "source": [
        "len(embeddings_counternarratives_k)"
      ]
    },
    {
      "cell_type": "code",
      "execution_count": null,
      "metadata": {
        "colab": {
          "base_uri": "https://localhost:8080/"
        },
        "outputId": "e4f3d10a-10be-4a56-d919-681fe544c6d1",
        "id": "ml9Y4N-ZTzOv"
      },
      "outputs": [
        {
          "output_type": "execute_result",
          "data": {
            "text/plain": [
              "384"
            ]
          },
          "metadata": {},
          "execution_count": 47
        }
      ],
      "source": [
        "len(embeddings_counternarratives_k[0])"
      ]
    },
    {
      "cell_type": "markdown",
      "metadata": {
        "id": "OsqtIaEATzOv"
      },
      "source": [
        "embeddings_counternarratives_k es una matriz de 636 x 384 = cantidad_contranarrativas_sin_repetir x largo_de_cada_embedding."
      ]
    },
    {
      "cell_type": "markdown",
      "metadata": {
        "id": "fuBXAreYLUt8"
      },
      "source": [
        "# **Métrica 1:**"
      ]
    },
    {
      "cell_type": "markdown",
      "metadata": {
        "id": "gV_KEUitLwSn"
      },
      "source": [
        "## Funciones útiles para calclar métrica 1:"
      ]
    },
    {
      "cell_type": "markdown",
      "metadata": {
        "id": "7QRyOH2yL4kD"
      },
      "source": [
        "### NmaxelementsHeap:"
      ]
    },
    {
      "cell_type": "code",
      "execution_count": null,
      "metadata": {
        "id": "4RpANQ0R-AQB"
      },
      "outputs": [],
      "source": [
        "# Function returns N largest elements and the position they have in the input list.\n",
        "def NmaxelementsHeap(list1, N):\n",
        "  \n",
        "  listOfPairs =[]\n",
        "  for i in range(len(list1)):\n",
        "    listOfPairs.append((-1*list1[i], i)); #fixme: importante: multiplico cada elemento de list1 por -1 para poder usar un minHeap como si fuese un max heap\n",
        "  \n",
        "  resNegative = heapq.nsmallest(N, listOfPairs, key=lambda x: x[0]) \n",
        "  \n",
        "  res = [];\n",
        "  for i in range(len(resNegative)):\n",
        "    res.append((-1*resNegative[i][0], resNegative[i][1])); #fixme: importante: multiplico cada elemento de list1 por -1 para poder usar un minHeap como si fuese un max heap\n",
        "  \n",
        "  return(res)"
      ]
    },
    {
      "cell_type": "markdown",
      "metadata": {
        "id": "i3kArlEKYFp7"
      },
      "source": [
        "## Aplico métrica 1 usando producto matricial:"
      ]
    },
    {
      "cell_type": "markdown",
      "metadata": {
        "id": "TT4ycnPYo5h1"
      },
      "source": [
        "Voy a calcular todos los embeddings a mano (contranarrativa_i - odio_i + odio_k) y los voy a guardar en una matriz (en un tensor de 2 dimensiones (cantidad_de_mbeddings_calculados_a_mano x tamaño_embedding). Luego voy a llamar a cos_sim con esta matriz como primer parámetro parámetro y los embeddings de todas las contranarrativas como segúndo parámetro, espero que me devuelva una matriz de dos dimensiones (cantidad_de_mbeddings_calculados_a_mano x cantidad_contranarrativas), donde cada posición indique la cos_sim entre el embedding_calculado_a_mano_i y la contranarrativa_j."
      ]
    },
    {
      "cell_type": "code",
      "execution_count": null,
      "metadata": {
        "id": "pZ-ZJLPbYFp8",
        "colab": {
          "base_uri": "https://localhost:8080/"
        },
        "outputId": "442dbb7b-c0a4-4653-a570-07dcaf1da22d"
      },
      "outputs": [
        {
          "output_type": "stream",
          "name": "stdout",
          "text": [
            "Calculando métrica 1 usando producto matricial\n"
          ]
        }
      ],
      "source": [
        "print('Calculando métrica 1 usando producto matricial')"
      ]
    },
    {
      "cell_type": "markdown",
      "metadata": {
        "id": "tGJ_7r73N30S"
      },
      "source": [
        "Fixme: en el siguiente método, lo que viene después de \n",
        "\n",
        "print('Matriz de cos_sim calculada con el método matricial, armando el resto de la métrica 1...')\n",
        "\n",
        "Demora entre 1000 y 46396 veces más que lo que viene antes (demora 46396 veces más cuando son 100 odio y 100 contranarrat).\n",
        "\n",
        "**Primeras 10 contranarrativas y todos los odios, con for unroll deNmaxelems, dura 5:08min , Detalles:**\n",
        "\n",
        "Calculando métrica 1, iteración número 0\n",
        "\n",
        "Calculando métrica 1, iteración número 10000\n",
        "\n",
        "Calculando métrica 1, iteración número 20000\n",
        "\n",
        "El cálculo de cos_sim usando el método matricial: 20.435ms\n",
        "\n",
        "Matriz de cos_sim calculada con el método matricial, armando el resto de la métrica 1...\n",
        "\n",
        "La métrica 1 con el método matricial, demora: 308848.450ms. Compuestos por:\n",
        "\n",
        "El cálculo de cos_sim usando el método matricial: 20.435ms\n",
        "\n",
        "El armado de la métrica 1: 308343.733ms. Que a su vez, está compesta por:\n",
        "\n",
        "La primera parte, demora: 9150.491ms.\n",
        "\n",
        "Todos los llamados a Nmaxelements, demoran: 236265.574ms.\n",
        "\n",
        "La segunda parte, demora: 2326.070ms.\n",
        "\n",
        "Busqueda contranarrativas para todos los odio_k, demora: 51175.660ms.\n",
        "\n",
        "Contar aciertos de la métrica 1, demora: 6243.628ms.\n",
        "\n",
        "Guardar los resultados en el csv, demora: 425.509ms.\n",
        "\n",
        "**100 contranarrat y 100 odio: demora 3 min (en Colab). Detalles:**\n",
        "\n",
        "Calculando métrica 1, iteración número 0\n",
        "Calculando métrica 1, iteración número 10000\n",
        "Calculando métrica 1, iteración número 20000\n",
        "El cálculo de cos_sim usando el método matricial: 3.741ms\n",
        "Matriz de cos_sim calculada con el método matricial, armando el resto de la métrica 1...\n",
        "La métrica 1 con el método matricial, demora: 174345.443ms. Compuestos por:\n",
        "El cálculo de cos_sim usando el método matricial: 3.741ms\n",
        "El armado de la métrica 1: 173568.804ms. Que a su vez, está compesta por:\n",
        "La primera parte, demora: 9040.390ms.\n",
        "Todos los llamados a Nmaxelements, demoran: 108469.833ms.\n",
        "La segunda parte, demora: 2016.185ms.\n",
        "Busqueda contranarrativas para todos los odio_k, demora: 45944.288ms.\n",
        "Contar aciertos de la métrica 1, demora: 5540.396ms.\n",
        "\n",
        "**100 contranarrat y 100 odio (en mi compu), demora 1:44min. Detalles:**\n",
        "\n",
        "El cálculo de cos_sim usando el método matricial: 1.943ms\n",
        "Matriz de cos_sim calculada con el método matricial, armando el resto de la métrica 1...\n",
        "La métrica 1 con el método matricial, demora: 104272.478ms. Compuestos por:\n",
        "El cálculo de cos_sim usando el método matricial: 1.943ms\n",
        "El armado de la métrica 1: 103875.651ms. Que a su vez, está compesta por:\n",
        "La primera parte, demora: 3248.946ms.\n",
        "Todos los llamados a Nmaxelements, demoran: 77209.142ms.\n",
        "La segunda parte, demora: 593.886ms.\n",
        "Busqueda contranarrativas para todos los odio_k, demora: 19103.161ms.\n",
        "Contar aciertos de la métrica 1, demora: 3020.811ms.\n",
        "\n",
        "\n",
        "**100 contranarrat y todos los odio: demora 15 min (en Colab). Detalles:**\n",
        "\n",
        "El cálculo de cos_sim usando el método matricial: 6.139ms\n",
        "Matriz de cos_sim calculada con el método matricial, armando el resto de la métrica 1...\n",
        "La métrica 1 con el método matricial, demora: 953376.638ms. Compuestos por:\n",
        "El cálculo de cos_sim usando el método matricial: 6.139ms\n",
        "El armado de la métrica 1: 951721.669ms. Que a su vez, está compesta por:\n",
        "La primera parte, demora: 32897.451ms.\n",
        "Todos los llamados a Nmaxelements, demoran: 645027.737ms.\n",
        "La segunda parte, demora: 7062.055ms.\n",
        "Busqueda contranarrativas para todos los odio_k, demora: 200154.156ms.\n",
        "Contar aciertos de la métrica 1, demora: 27757.961ms.\n",
        "\n",
        "**100 contranarrat y todos los odio: demora 16:29 min min (en mi compu). Detalles:**\n",
        "El cálculo de cos_sim usando el método matricial: 22.359ms\n",
        "Matriz de cos_sim calculada con el método matricial, armando el resto de la métrica 1...\n",
        "La métrica 1 con el método matricial, demora: 989372.569ms. Compuestos por:\n",
        "El cálculo de cos_sim usando el método matricial: 22.359ms\n",
        "El armado de la métrica 1: 987132.712ms. Que a su vez, está compesta por:\n",
        "La primera parte, demora: 31965.642ms.\n",
        "Todos los llamados a Nmaxelements, demoran: 728649.789ms.\n",
        "La segunda parte, demora: 5907.041ms.\n",
        "Busqueda contranarrativas para todos los odio_k, demora: 185458.379ms.\n",
        "Contar aciertos de la métrica 1, demora: 27927.447ms.\n",
        "\n",
        "**200 contranarrat y todos los odio: demora 34 min (en Colab). Detalles:**\n",
        "\n",
        "El cálculo de cos_sim usando el método matricial: 18.675ms\n",
        "Matriz de cos_sim calculada con el método matricial, armando el resto de la métrica 1...\n",
        "La métrica 1 con el método matricial, demora: 2057579.552ms. Compuestos por:\n",
        "El cálculo de cos_sim usando el método matricial: 18.675ms\n",
        "El armado de la métrica 1: 2053466.698ms. Que a su vez, está compesta por:\n",
        "La primera parte, demora: 97328.012ms.\n",
        "Todos los llamados a Nmaxelements, demoran: 1326219.087ms.\n",
        "La segunda parte, demora: 20366.521ms.\n",
        "Busqueda contranarrativas para todos los odio_k, demora: 460403.959ms.\n",
        "Contar aciertos de la métrica 1, demora: 62495.830ms."
      ]
    },
    {
      "cell_type": "code",
      "execution_count": null,
      "metadata": {
        "id": "Y7XvxEFPYFp9"
      },
      "outputs": [],
      "source": [
        "# Esta función calcula la métrica 1, eligiendo contranarrativa_i, odio_i y odio_k de la siguiente manera:\n",
        "  # contranarativa_i: está en el rango conjunto_sin_repetidos_contranarrativa_i[contranarrativa_i_limite_inferior : contranarrativa_i_limite_superior];\n",
        "  # odio_i: itera por todos los discursos de odio en conjunto_sin_repetidos_odio_i.\n",
        "  # odio_k: itera por todos los valores de conjunto_sin_repetidos_odio_k.\n",
        "\n",
        "def metrica1Particion(contranarrativa_i_limite_inferior, contranarrativa_i_limite_superior, ret = False):\n",
        "  # Hago el setup de algunos parámetros:\n",
        "\n",
        "  #Borrar metrica1.csv si ya está creado (Fixme: pensar si lo tengo que borrar).\n",
        "  start_calculo_metrica_1_matricial = time.time()\n",
        "  \n",
        "  lista_embeddings_calculados_a_mano = []\n",
        "  indices_contranarrativa_i_odio_i_odio_k = []\n",
        "  iteraciones = 0;\n",
        "  cantidad_discursos_odio_k_iterados_matricial = len(conjunto_sin_repetidos_odio_k)  # fixme: debe ser len(hate_speech_conan_list_sin_repetidos) para no estropear el orden al llamar muchas veces a esta función (metrica1Particion).\n",
        "                                                                                          # junto a cantidad_contranarrativas_iteradas_matricial determina la parte del dataset en la que se aplica la métrica 1.\n",
        "  \n",
        "  # fixme: las siguientes listas son sólo para sanity check, una vez realizados los chequeos, se pueden comentar:\n",
        "  lista_pares_métrica_1_top10_matricial = []\n",
        "  lista_pares_métrica_1_top10_random = []\n",
        "  lista_contranarrativa_i_embedding_matricial = []\n",
        "  df_odio_en_conan_list_matricial = []\n",
        "  odio_i_lista_sanity_check_matricial = []\n",
        "  lista_listas_odio_i_embedding_matricial = []\n",
        "  lista_listas_embedding_contranarrativa_i_sin_discurso_de_odio_i_matricial = []\n",
        "  lista_listas_listas_odio_k_embedding_creado_por_lista_matricial = []\n",
        "  #Fixme: cuando esté terminado unificar los nombres de los índices.\n",
        "\n",
        "  # Filtro dfOdiosYContanarrativasI, tal que los mensajes de odio, aparezcan en conjunto_sin_repetidos_odio_i\n",
        "  df_odio_conjunto_sin_repetidos_odio_i = dfOdiosYContanarrativasI[dfOdiosYContanarrativasI['hateSpeech'].isin(conjunto_sin_repetidos_odio_i)]\n",
        "  \n",
        "  # Filtro las contranarrativas en conan para odio_k, tal que aparezcan en conjunto_sin_repetidos_contranarrativa_k\n",
        "  df_contranarrativa_conjunto_sin_repetidos_contranarrativa_k = dfOdiosYContanarrativasK[dfOdiosYContanarrativasK['counterSpeech'].isin(conjunto_sin_repetidos_contranarrativa_k)]\n",
        "  \n",
        "  for contranarrativa_i_indice in range(contranarrativa_i_limite_inferior, contranarrativa_i_limite_superior): #fixme: lo que modifico es esto, antes decía: for contranarrativa_i_indice in range(0, len(counternarratives_conan_list_sin_repetidos)):\n",
        "    # store iteration start timestamp\n",
        "    start_calculo_cos_sim = time.time()\n",
        "    \n",
        "    # contranarrativa_i_indice será el índice de la contranarrativa_i.\n",
        "    #selecciono el embedding de la contranarrativa_i\n",
        "    contranarrativa_i_embedding = embeddings_counternarratives_i[contranarrativa_i_indice];\n",
        "    lista_contranarrativa_i_embedding_matricial.append(contranarrativa_i_embedding) # fixme: sólo para sanity check\n",
        "\n",
        "    # Busco los discursos de odio para la contranarrativa_i\n",
        "    df_oido_conjunto_sin_repetidos_odio_i_para_contranarrativa_i = df_odio_conjunto_sin_repetidos_odio_i.loc[df_odio_conjunto_sin_repetidos_odio_i['counterSpeech'] == conjunto_sin_repetidos_contranarrativa_i[contranarrativa_i_indice], 'hateSpeech'] \n",
        "    df_odio_en_conan_list_matricial.append(df_oido_conjunto_sin_repetidos_odio_i_para_contranarrativa_i) # fixme: sólo para sanity check\n",
        "\n",
        "    # Elijo cada uno de los discursos de odio que aparecen en Conan para la conranarrativa_i (los llamo odio_i). \n",
        "    lista_odio_i_embedding_matricial = [] #fixme: solo para sanity check\n",
        "    lista_embedding_contranarrativa_i_sin_discurso_de_odio_i_matricial = []   #fixme: solo para sanity check\n",
        "    lista_odio_i_para_contranarrat_i_matricial = [] # fixme: solo para sanity check\n",
        "    lista_listas_odio_k_embedding_creado_por_lista_matricial = [] # fixme: solo para sanity check\n",
        "    \n",
        "    for ind in  df_oido_conjunto_sin_repetidos_odio_i_para_contranarrativa_i.index:\n",
        "      odio_i = df_oido_conjunto_sin_repetidos_odio_i_para_contranarrativa_i.loc[ind]\n",
        "      lista_odio_i_para_contranarrat_i_matricial.append(odio_i) # fixme: sólo para sanity check\n",
        "\n",
        "      # Busco el índice de odio_i en conjunto_sin_repetidos_odio_i.\n",
        "      indice_odio_i = conjunto_sin_repetidos_odio_i.index(odio_i)\n",
        "\n",
        "      # Busco el embedding para odio_i  \n",
        "      odio_i_embedding = embeddings_hate_speech_i[indice_odio_i]\n",
        "      lista_odio_i_embedding_matricial.append(odio_i_embedding) #fixme: solo para sanity check\n",
        "\n",
        "      # Resto el embedding de odio_i al de contranarrativa_i.\n",
        "      embedding_contranarrativa_i_sin_discurso_de_odio_i = contranarrativa_i_embedding - odio_i_embedding\n",
        "      lista_embedding_contranarrativa_i_sin_discurso_de_odio_i_matricial.append(embedding_contranarrativa_i_sin_discurso_de_odio_i) #fixme: solo para sanity check\n",
        "\n",
        "      lista_odio_k_embedding_creado_por_lista_matricial = [] # fixme: solo para sanity check\n",
        "    \n",
        "      for odio_k_indice in range(0, cantidad_discursos_odio_k_iterados_matricial): # como máximo puede iterar hasta len(conjunto_sin_repetidos_odio_k)\n",
        "        if odio_k_indice == indice_odio_i: continue # Elijo un mensaje odio_k (distinto a odio_i)\n",
        "        odio_k = conjunto_sin_repetidos_odio_k[odio_k_indice]\n",
        "\n",
        "        # Busco el embedding de odio_k embedding\n",
        "        odio_k_embedding = embeddings_hate_speech_k[odio_k_indice];\n",
        "        lista_odio_k_embedding_creado_por_lista_matricial.append(odio_k_embedding) #fixme: solo para sanity check\n",
        "\n",
        "        # Sumo el embedding de odio_K a embedding_contranarrativa_i_sin_discurso_de_odio_i.\n",
        "        embedding_cercano_a_contranarrativa_para_odio_k = embedding_contranarrativa_i_sin_discurso_de_odio_i + odio_k_embedding\n",
        "\n",
        "        # Appendeo el embedding calculado en el paso anterior al tensor de embeddings:\n",
        "        lista_embeddings_calculados_a_mano.append(embedding_cercano_a_contranarrativa_para_odio_k)\n",
        "\n",
        "        # Guardo una tripla con los ínidces de las contranarrativas y discursos de odio que se usaron en esta iteración:\n",
        "        # (contranarrativa_i, odio_i, odio_k)\n",
        "        indices_contranarrativa_i_odio_i_odio_k.append((contranarrativa_i_indice, indice_odio_i, odio_k_indice))\n",
        "        \n",
        "        #Imprimo estatus de estar corriendo:\n",
        "        if(iteraciones % 10000 == 0):\n",
        "            print('Calculando métrica 1, iteración número', iteraciones);\n",
        "        iteraciones += 1;\n",
        "      lista_listas_odio_k_embedding_creado_por_lista_matricial.append(lista_odio_k_embedding_creado_por_lista_matricial) # fixme: solo para sanity check\n",
        "\n",
        "    lista_listas_listas_odio_k_embedding_creado_por_lista_matricial.append(lista_listas_odio_k_embedding_creado_por_lista_matricial) # fixme: solo para sanity check\n",
        "    odio_i_lista_sanity_check_matricial.append(lista_odio_i_para_contranarrat_i_matricial) # fixme: sólo para sanity check\n",
        "    lista_listas_odio_i_embedding_matricial.append(lista_odio_i_embedding_matricial) #fixme: sólo para sanity check\n",
        "    lista_listas_embedding_contranarrativa_i_sin_discurso_de_odio_i_matricial.append(lista_embedding_contranarrativa_i_sin_discurso_de_odio_i_matricial) #fixme: sólo para sanity check\n",
        "\n",
        "  # store iteration end timestamp\n",
        "  end_calculo_cos_sim = time.time()  \n",
        "  # store iteration start timestamp\n",
        "  start_armado_de_metrica_1 = time.time()\n",
        "\n",
        "  # transformo la lista de embeddings en una matriz de embeddings (pytorch.tensor)\n",
        "  matriz_de_embeddings_calculados_a_mano = torch.stack(lista_embeddings_calculados_a_mano,0)\n",
        "\n",
        "  # Elimino la lista de embeddings para liberar memoria\n",
        "  del(lista_embeddings_calculados_a_mano)\n",
        "\n",
        "  #Fixme: la función util.cos_sim es lo que más demora, asegurarse de que se calcula en la GPU.\n",
        "  # Calculo la cos_sim utilizando la matriz de embeddings\n",
        "  cos_sim_calculado_con_matriz = util.cos_sim(matriz_de_embeddings_calculados_a_mano, embeddings_counternarratives_k) #Fixme: reemplazo embeddings_counternarratives_conan_list_sin_repetidos_creado_por_lista por embeddings_counternarratives_k, estoy casi seguro que va esto y que no va embeddings_counternarratives_i.\n",
        "\n",
        "  #Elimnimo la matriz de embeddings\n",
        "  del(matriz_de_embeddings_calculados_a_mano)\n",
        "\n",
        "  #fixme: sólo para medir tiempos, una vez optimizado, borrar\n",
        "  demora_busqueda_contranarrativas_odio_k = 0\n",
        "  demora_llamado_a_Nmaxelements = 0\n",
        "  demora_primera_parte_calculo_metrica_1_matricial = 0\n",
        "  demora_segunda_parte_calculo_metrica_1_matricial = 0\n",
        "  demora_contar_aciertos_metrica_1 = 0\n",
        "  demora_guardar_resultado_en_csv = 0\n",
        "\n",
        "  print(f\"El cálculo de cos_sim usando el método matricial: {(end_calculo_cos_sim-start_calculo_cos_sim)*10**3:.03f}ms\")\n",
        "  print('Matriz de cos_sim calculada con el método matricial, armando el resto de la métrica 1...')\n",
        "\n",
        "  #Itero por la matriz_de_embeddings_calculados_a_mano armando los rankings:\n",
        "\n",
        "  # writing metrica1 to csv file:\n",
        "  # field names\n",
        "  fields = ['Contranarrativa_i', 'Odio_i', 'Odio_k', 'Contranarrativas para Odio_k en el ranking', 'Cantidad de contranarrativas que existen para Odio_k', 'Top 1 Contranarrativa (cos_sim, index)', 'Top 2 Contranarrativa (cos_sim, index)', 'Top 3 Contranarrativa (cos_sim, index)', 'Top 4 Contranarrativa (cos_sim, index)', 'Top 5 Contranarrativa (cos_sim, index)', 'Top 6 Contranarrativa (cos_sim, index)', 'Top 7 Contranarrativa (cos_sim, index)', 'Top 8 Contranarrativa (cos_sim, index)', 'Top 9 Contranarrativa (cos_sim, index)', 'Top 10 Contranarrativa (cos_sim, index)']\n",
        "  fieldsRandom = ['Contranarrativa_i', 'Odio_i', 'Odio_k', 'Contranarrativas para Odio_k en el ranking', 'Cantidad de contranarrativas que existen para Odio_k']\n",
        "\n",
        "  # name of csv file\n",
        "  filename1 = \"metrica1Top10ParticionContranarrativa\" + str(contranarrativa_i_limite_inferior) + \"a\" + str(contranarrativa_i_limite_superior -1) + \".csv\"\n",
        "  filename2 = \"metrica1Top10RandomContranarrativa\" + str(contranarrativa_i_limite_inferior) + \"a\" + str(contranarrativa_i_limite_superior -1) + \".csv\"\n",
        "\n",
        "  with open(filename1, 'w') as csvfile:\n",
        "    # creating a csv writer object\n",
        "    csvwriterMetrica1Top10 = csv.writer(csvfile)\n",
        "    # writing the fields\n",
        "    csvwriterMetrica1Top10.writerow(fields)\n",
        "  \n",
        "    #Fixme: esto está feo, ver de refactorear (Problema: quiero escribir en múltiples csv a la vez, tengo que crear los distintos csv writers, me gustaría que )\n",
        "    with open(filename2, 'w') as csvfile:\n",
        "      # creating a csv writer object\n",
        "      csvwriterMetrica1Top10Random = csv.writer(csvfile)\n",
        "      # writing the fields\n",
        "      csvwriterMetrica1Top10Random.writerow(fieldsRandom)\n",
        "\n",
        "      for indice_tripla_i in range(0,len(indices_contranarrativa_i_odio_i_odio_k)):\n",
        "        start_primera_parte_calculo_metrica_1_matricial = time.time()\n",
        "        # Busco el tensor correspondiente a la i_ésima tripla (contranarrativa_i, odio_i, odio_k). \n",
        "        cos_sim_embedding_cercano_a_contranarrativa_para_odio_k_y_tripla_i = cos_sim_calculado_con_matriz[indice_tripla_i]\n",
        "\n",
        "        #Elimino cos_sim de esta iteración: Fixe: cuando termine de iterar por toda cos_sim_calculado_con_matriz generando los rankings, la tengo que eliminar\n",
        "        #del(cos_sim_calculado_con_matriz)\n",
        "\n",
        "        #transformo el tensor con las cos_sim en una lista con las cos_sim (quizás esta transformación podría evitarse, pero me parece más claro cómo eliminar un elemento de una lsita que de un tensor).\n",
        "        lista_cos_sim_embedding_cercano_a_contranarrativa_para_odio_k_y_tripla_i = cos_sim_embedding_cercano_a_contranarrativa_para_odio_k_y_tripla_i.tolist()\n",
        "\n",
        "        end_primera_parte_calculo_metrica_1_matricial = time.time()\n",
        "        demora_primera_parte_calculo_metrica_1_matricial += (end_primera_parte_calculo_metrica_1_matricial-start_primera_parte_calculo_metrica_1_matricial)\n",
        "\n",
        "        # store iteration start timestamp\n",
        "        start_llamado_a_Nmaxelements = time.time()\n",
        "        # Calculo  (cos_sim, índice) de las top 10 contranarrativas para odio k (calculadas a partir de la tripla (contranarrativa_i, odio_i, odio_k)), abajo se le agrega un elemento a la trípla.\n",
        "        ranking10MejoresContranarrativasParaOdioKYTriplaI = NmaxelementsHeap(lista_cos_sim_embedding_cercano_a_contranarrativa_para_odio_k_y_tripla_i, 10)\n",
        "        # store iteration end timestamp\n",
        "        end_llamado_a_Nmaxelements = time.time()\n",
        "        #Calculo la demora de labúsqueda de contranarrativas para odio_k para esta iteración.\n",
        "        demora_llamado_a_Nmaxelements += end_llamado_a_Nmaxelements-start_llamado_a_Nmaxelements\n",
        "\n",
        "        start_segunda_parte_calculo_metrica_1_matricial = time.time()\n",
        "\n",
        "        #Fixme: estos rankings Top5, Top3, Top2 y Top1, probablemente los borre, porque no se usan en las métricas que voy a usar.\n",
        "        \"\"\"\n",
        "        # Calculo la cos_sim e índice de las top 5 contranarrativas para odio k.\n",
        "        ranking5MejoresContranarrativasParaOdioKYTriplaI = ranking10MejoresContranarrativasParaOdioKYTriplaI[0:5]\n",
        "        # Calculo la cos_sim e índice de las top 3 contranarrativas para odio k.\n",
        "        ranking3MejoresContranarrativasParaOdioKYTriplaI = ranking10MejoresContranarrativasParaOdioKYTriplaI[0:3]\n",
        "        # Calculo la cos_sim e índice de la top 1 contranarrativa para odio k.\n",
        "        ranking1MejoresContranarrativasParaOdioKYTriplaI = ranking10MejoresContranarrativasParaOdioKYTriplaI[0]\n",
        "        \"\"\"\n",
        "\n",
        "        # Busco las top 10 contranarrativas (busco efectivamente los strings, no los índices).\n",
        "        counternarratives_ranking_list_top10_matricial =[]\n",
        "        for score, l in ranking10MejoresContranarrativasParaOdioKYTriplaI: #fixme: mega importante, chequear que el rango [0:10] son 10 resultados y no 11.\n",
        "            counternarratives_ranking_list_top10_matricial.append(conjunto_sin_repetidos_contranarrativa_k[l]) #  Fixme: prestar atención a esta línea, reemplacé counternarratives_conan_list_sin_repetidos por conjunto_sin_repetidos_contranarrativa_k\n",
        "\n",
        "        #Fixme: estos rankings Top5, Top3, Top2 y Top1, probablemente los borre, porque no se usan en las métricas que voy a usar.\n",
        "        \"\"\"\n",
        "        # Busco las top 5 contranarrativas (busco efectivamente los strings, no los índices).\n",
        "        counternarratives_ranking_list_top5_matricial = counternarratives_ranking_list_top10_matricial[0:5]\n",
        "        # Busco las top 3 contranarrativas (busco efectivamente los strings, no los índices).\n",
        "        counternarratives_ranking_list_top3_matricial = counternarratives_ranking_list_top10_matricial[0:3]\n",
        "        # Busco la top 1 contranarrativa (busco efectivamente el string, no el índices).\n",
        "        counternarratives_ranking_list_top1_matricial = counternarratives_ranking_list_top10_matricial[0:1]\n",
        "        \"\"\"\n",
        "\n",
        "        #Fixme: acá puedo eliminar código repetido:\n",
        "        #Genero un top 10 con contranarrativas tomadas al azar\n",
        "        counternarratives_ranking_list_top10_random_matricial = random.sample(conjunto_sin_repetidos_contranarrativa_k, 10) #  Fixme: prestar atención a esta línea, reemplacé counternarratives_conan_list_sin_repetidos por conjunto_sin_repetidos_contranarrativa_k\n",
        "        \n",
        "        #Fixme: estos rankings Top5, Top3, Top2 y Top1, probablemente los borre, porque no se usan en las métricas que voy a usar.\n",
        "        \"\"\"\n",
        "        #Genero un top 5 con contranarrativas tomadas al azar\n",
        "        counternarratives_ranking_list_top5_random = counternarratives_ranking_list_top10_random_matricial[0:5]\n",
        "        #Genero un top 3 con contranarrativas tomadas al azar\n",
        "        counternarratives_ranking_list_top3_random =  counternarratives_ranking_list_top10_random_matricial[0:3]\n",
        "        #Genero un top 1 con contranarrativas tomadas al azar\n",
        "        counternarratives_ranking_list_top1_random =  counternarratives_ranking_list_top10_random_matricial[0:1]\n",
        "        \"\"\"\n",
        "        \n",
        "        #Fixme: acá puedo eliminar código repetido:\n",
        "        # Calculo la métrica_1 para el caso contranarrativa_i, odio_i, odio_k y ranking de 10 contranarrativas \n",
        "        # y la guardo en la lista_pares_métrica_1_top10. \n",
        "        # Además calclo la métrica 1 para el ranking de 10 contranarrativas random.\n",
        "\n",
        "        # Primero calculo los indices de contranarrativa_i, odio_i y odio_k a partir de las triplas\n",
        "        tripla_iterada = indices_contranarrativa_i_odio_i_odio_k[indice_tripla_i]\n",
        "        indice_contranarrativa_i = tripla_iterada[0]\n",
        "        indice_odio_i = tripla_iterada[1]\n",
        "        indice_odio_k = tripla_iterada[2]\n",
        "        odio_k = conjunto_sin_repetidos_odio_k[indice_odio_k]\n",
        "\n",
        "        end_segunda_parte_calculo_metrica_1_matricial = time.time()\n",
        "        demora_segunda_parte_calculo_metrica_1_matricial += (end_segunda_parte_calculo_metrica_1_matricial - start_segunda_parte_calculo_metrica_1_matricial)\n",
        "\n",
        "\n",
        "        # store iteration start timestamp\n",
        "        start_busqueda_contranarrativas_para_odio_k = time.time()\n",
        "        # Busco las contranarrativas para odio_k        \n",
        "        df_contranarrativas_en_conan_para_odio_k_matricial = df_contranarrativa_conjunto_sin_repetidos_contranarrativa_k.loc[df_contranarrativa_conjunto_sin_repetidos_contranarrativa_k['hateSpeech'] == odio_k, 'counterSpeech'] #fixme: ojo con esto, tengo que chequear que el hate speech que me interesa es efectivamente odio_k_sacado_de_lista_de_triplas.\n",
        "\n",
        "        # store iteration end timestamp\n",
        "        end_busqueda_contranarrativas_para_odio_k = time.time()\n",
        "        #Calculo la demora de labúsqueda de contranarrativas para odio_k para esta iteración.\n",
        "        demora_busqueda_contranarrativas_odio_k += end_busqueda_contranarrativas_para_odio_k-start_busqueda_contranarrativas_para_odio_k\n",
        "        \n",
        "        start_contar_aciertos_metrica_1 = time.time()\n",
        "        metrica1_matricial = 0;\n",
        "        metrica1_random_top10_matricial = 0;\n",
        "\n",
        "        for m in range(0,len(counternarratives_ranking_list_top10_matricial)):\n",
        "          if counternarratives_ranking_list_top10_matricial[m] in df_contranarrativas_en_conan_para_odio_k_matricial.values:\n",
        "              metrica1_matricial += 1;\n",
        "              #fixme: tengo que crear una nueva tupla y pisar la vieja porque las tuplas son ininutables, me gustaría no tener que crear una nueva tupla y modificarla in place (necesito buscar una nueva estructura para almacenar los datos).\n",
        "              ranking10MejoresContranarrativasParaOdioKYTriplaI[m] = ranking10MejoresContranarrativasParaOdioKYTriplaI[m] + (1,) # indica que la contranarrativa en la posición m del ranking top 10 es una contranarrativa para odio_km, la tripla queda (cos_sim, índice,1).\n",
        "          else:\n",
        "              #fixme: tengo que crear una nueva tupla y pisar la vieja porque las tuplas son ininutables, me gustaría no tener que crear una nueva tupla y modificarla in place (necesito buscar una nueva estructura para almacenar los datos).\n",
        "              ranking10MejoresContranarrativasParaOdioKYTriplaI[m] = ranking10MejoresContranarrativasParaOdioKYTriplaI[m] + (0,) # indica que la contranarrativa en la posición m del ranking top 10 es una contranarrativa para odio_k, la tripla queda (cos_sim, índice,0)\n",
        "          if counternarratives_ranking_list_top10_random_matricial[m] in df_contranarrativas_en_conan_para_odio_k_matricial.values:\n",
        "              metrica1_random_top10_matricial += 1;\n",
        "        end_contar_aciertos_metrica_1 = time.time()\n",
        "        demora_contar_aciertos_metrica_1 += (end_contar_aciertos_metrica_1 - start_contar_aciertos_metrica_1)\n",
        "\n",
        "        \n",
        "        #Fixme: creo que lista_pares_métrica_1_top10_matricial y lista_pares_métrica_1_top10_random. sólo las uso para sanity check, si es así, las puedo borrar.\n",
        "        lista_pares_métrica_1_top10_matricial.append(('Contranarrativa_i, está en la posición', indice_contranarrativa_i,'en counternarratives_conan_list_sin_repetidos. Odio_i está en la posición numero', indice_odio_i, 'en hate_speech_conan_list_sin_repetidos.', 'Para el mensaje de odio en la posición', indice_odio_k,' en hate_speech_conan_list_sin_repetidos, el ranking de 10 contranarrativas contiene', metrica1_matricial, 'de las', df_contranarrativas_en_conan_para_odio_k_matricial.shape[0],'contranarrativas que existen en el conan para ese discurso de odio'))\n",
        "        lista_pares_métrica_1_top10_random.append(('Contranarrativa_i, está en la posición', indice_contranarrativa_i,'en counternarratives_conan_list_sin_repetidos. Odio_i está en la posición numero', indice_odio_i, 'en hate_speech_conan_list_sin_repetidos.', 'Para el mensaje de odio en la posición', indice_odio_k,' en hate_speech_conan_list_sin_repetidos, el ranking de 10 contranarrativas random contiene', metrica1_random_top10_matricial, 'de las', df_contranarrativas_en_conan_para_odio_k_matricial.shape[0],'contranarrativas que existen en el conan para ese discurso de odio'))\n",
        "\n",
        "        start_guardar_resultado_en_csv = time.time()\n",
        "        # Write the iteration into a .csv:\n",
        "        # creating this iteration row:\n",
        "        row_metrica_1_top_10_matricial = [indice_contranarrativa_i, indice_odio_i, indice_odio_k, metrica1_matricial, df_contranarrativas_en_conan_para_odio_k_matricial.shape[0]]\n",
        "        row_metrica_1_top_10_matricial.extend(ranking10MejoresContranarrativasParaOdioKYTriplaI) # Agrergo explícitamente el ranking de las 10 contranarrativas.\n",
        "        row_metrica_1_top_10_random = [indice_contranarrativa_i, indice_odio_i, indice_odio_k, metrica1_random_top10_matricial, df_contranarrativas_en_conan_para_odio_k_matricial.shape[0]]\n",
        "        \n",
        "        # writing this iteration rows:\n",
        "        csvwriterMetrica1Top10.writerow(row_metrica_1_top_10_matricial)\n",
        "        csvwriterMetrica1Top10Random.writerow(row_metrica_1_top_10_random)\n",
        "        end_guardar_resultado_en_csv = time.time()\n",
        "        demora_guardar_resultado_en_csv += end_guardar_resultado_en_csv - start_guardar_resultado_en_csv\n",
        "      \n",
        "      # store iteration end timestamp\n",
        "      end_armado_de_metrica_1 = time.time()  \n",
        "\n",
        "      end_calculo_metrica_1_matricial = time.time()\n",
        "      print(f\"La métrica 1 con el método matricial, demora: {(end_calculo_metrica_1_matricial-start_calculo_metrica_1_matricial)*10**3:.03f}ms. Compuestos por:\")\n",
        "\n",
        "      print(f\"El cálculo de cos_sim usando el método matricial: {(end_calculo_cos_sim-start_calculo_cos_sim)*10**3:.03f}ms\")\n",
        "      print(f\"El armado de la métrica 1: {(end_armado_de_metrica_1-start_armado_de_metrica_1)*10**3:.03f}ms. Que a su vez, está compesta por:\")\n",
        "      print(f\"La primera parte, demora: {(demora_primera_parte_calculo_metrica_1_matricial)*10**3:.03f}ms.\")\n",
        "      print(f\"Todos los llamados a NmaxelementsHeap, demoran: {(demora_llamado_a_Nmaxelements)*10**3:.03f}ms.\")\n",
        "      print(f\"La segunda parte, demora: {(demora_segunda_parte_calculo_metrica_1_matricial)*10**3:.03f}ms.\")\n",
        "      print(f\"Busqueda contranarrativas para todos los odio_k, demora: {(demora_busqueda_contranarrativas_odio_k)*10**3:.03f}ms.\")\n",
        "      print(f\"Contar aciertos de la métrica 1, demora: {(demora_contar_aciertos_metrica_1)*10**3:.03f}ms.\")\n",
        "      print(f\"Guardar los resultados en el csv, demora: {(demora_guardar_resultado_en_csv)*10**3:.03f}ms.\")\n",
        "  # fixme: comentar este return luego de pasar los sanity checks para liberar memoria y porque el return demora mucho:\n",
        "  if (ret):\n",
        "    print ('The return is activated.')\n",
        "    return lista_contranarrativa_i_embedding_matricial, df_odio_en_conan_list_matricial, odio_i_lista_sanity_check_matricial, lista_listas_odio_i_embedding_matricial, lista_listas_embedding_contranarrativa_i_sin_discurso_de_odio_i_matricial, lista_listas_listas_odio_k_embedding_creado_por_lista_matricial, indices_contranarrativa_i_odio_i_odio_k, cos_sim_calculado_con_matriz, lista_pares_métrica_1_top10_matricial; #fixme: este return es sólamente para sanity checks, lo que importa de esta función, es lo que escribe en los .csv."
      ]
    },
    {
      "cell_type": "code",
      "execution_count": null,
      "metadata": {
        "id": "LgVHrElYdVIE"
      },
      "outputs": [],
      "source": [
        "# (tope_superior <= len(conjunto_sin_repetidos_contranarrativa_i)), de a batches de tamaño cant_elems_particion.\n",
        "#fixme: en colab se está bancando cant_elems_particion = 50. \n",
        "def correr_metrica_1(cant_elems_particion, tope_superior):\n",
        "\n",
        "  largo_particion_extra =  tope_superior % cant_elems_particion\n",
        "  cantidad_de_particiones_con_cant_elems_elementos = tope_superior // cant_elems_particion\n",
        "  cantidad_de_particiones_totales = cantidad_de_particiones_con_cant_elems_elementos + (largo_particion_extra != 0)\n",
        "  \n",
        "  print('Se correrá la métrica 1 sobre las primeras', tope_superior, 'contranarrativas de counternarratives_conan_list_sin_repetidos.')\n",
        "  print('Cantidad de paritciones con', cant_elems_particion, 'elementos:', cantidad_de_particiones_con_cant_elems_elementos)\n",
        "  print('Cantidad de elementos de la última partición:',largo_particion_extra)\n",
        "  print('Cantidad de particiones totales:', cantidad_de_particiones_totales);\n",
        "  \n",
        "  for i in range (0, cantidad_de_particiones_totales-1):\n",
        "    print('Corriendo partición número', i+1,'de ', cantidad_de_particiones_totales)\n",
        "    limite_inferior = i* cant_elems_particion\n",
        "    print('limite_inferior:', limite_inferior)\n",
        "    limite_superior = limite_inferior + cant_elems_particion \n",
        "    print('limite_superior:', limite_superior)\n",
        "    metrica1Particion(limite_inferior, limite_superior);\n",
        "\n",
        "  print('Corriendo partición número', cantidad_de_particiones_totales,'de ', cantidad_de_particiones_totales)\n",
        "  ultimo_limite_iferior = (cantidad_de_particiones_totales-1) * cant_elems_particion\n",
        "  print('ultimo_limite_iferior:', ultimo_limite_iferior);\n",
        "  ultimo_limite_superior = tope_superior;\n",
        "  print('ultimo_limite_superior:', ultimo_limite_superior);\n",
        "  metrica1Particion(ultimo_limite_iferior, ultimo_limite_superior);\n"
      ]
    },
    {
      "cell_type": "markdown",
      "metadata": {
        "id": "TUXNiSTBcB4T"
      },
      "source": [
        "**La siguiente celda (metrica1Particion), demora:**\n",
        "\n",
        "**10 contranarrativas, todos los odios, usando NmaxelemsHeap: demora 2:04min. Detalles:**\n",
        "\n",
        "Calculando métrica 1, iteración número 0\n",
        "\n",
        "Calculando métrica 1, iteración número 10000\n",
        "\n",
        "Calculando métrica 1, iteración número 20000\n",
        "\n",
        "El cálculo de cos_sim usando el método matricial: 16.305ms\n",
        "\n",
        "Matriz de cos_sim calculada con el método matricial, armando el resto de la métrica 1...\n",
        "\n",
        "La métrica 1 con el método matricial, demora: 124295.007ms. Compuestos por:\n",
        "\n",
        "El cálculo de cos_sim usando el método matricial: 16.305ms\n",
        "\n",
        "El armado de la métrica 1: 124117.083ms. Que a su vez, está compesta por:\n",
        "\n",
        "La primera parte, demora: 5226.930ms.\n",
        "\n",
        "Todos los llamados a NmaxelementsHeap, demoran: 71243.195ms.\n",
        "\n",
        "La segunda parte, demora: 1151.670ms.\n",
        "\n",
        "Busqueda contranarrativas para todos los odio_k, demora: 34681.850ms.\n",
        "\n",
        "Contar aciertos de la métrica 1, demora: 4949.305ms.\n",
        "\n",
        "Guardar los resultados en el csv, demora: 232.373ms.\n",
        "\n",
        "**10 contranarrativas, todos los odios, en colab: demora 3:03min. Detalles:**\n",
        "\n",
        "Calculando métrica 1, iteración número 0\n",
        "\n",
        "Calculando métrica 1, iteración número 10000\n",
        "\n",
        "Calculando métrica 1, iteración número 20000\n",
        "\n",
        "El cálculo de cos_sim usando el método matricial: 26.998ms\n",
        "\n",
        "Matriz de cos_sim calculada con el método matricial, armando el resto de la métrica 1...\n",
        "\n",
        "La métrica 1 con el método matricial, demora: 183723.089ms. Compuestos por:\n",
        "\n",
        "El cálculo de cos_sim usando el método matricial: 26.998ms\n",
        "\n",
        "El armado de la métrica 1: 183259.602ms. Que a su vez, está compesta por:\n",
        "\n",
        "La primera parte, demora: 7022.134ms.\n",
        "\n",
        "Todos los llamados a Nmaxelements, demoran: 118318.360ms.\n",
        "\n",
        "La segunda parte, demora: 1635.763ms.\n",
        "\n",
        "Busqueda contranarrativas para todos los odio_k, demora: 46785.179ms.\n",
        "\n",
        "Contar aciertos de la métrica 1, demora: 5764.821ms.\n",
        "\n",
        "Guardar los resultados en el csv, demora: 330.365ms.\n",
        "\n",
        "****10 contranarrativas, todos los odios, con agregando el código de Nmaxelements directamente al for, en colab: demora 3:03min. Detalles**\n",
        "\n",
        "Calculando métrica 1, iteración número 0\n",
        "\n",
        "Calculando métrica 1, iteración número 10000\n",
        "\n",
        "Calculando métrica 1, iteración número 20000\n",
        "\n",
        "El cálculo de cos_sim usando el método matricial: 19.141ms\n",
        "\n",
        "Matriz de cos_sim calculada con el método matricial, armando el resto de la métrica 1...\n",
        "\n",
        "La métrica 1 con el método matricial, demora: 183252.376ms. \n",
        "Compuestos por:\n",
        "\n",
        "El cálculo de cos_sim usando el método matricial: 19.141ms\n",
        "\n",
        "El armado de la métrica 1: 182811.994ms. Que a su vez, está compesta \n",
        "por:\n",
        "\n",
        "La primera parte, demora: 8429.406ms.\n",
        "\n",
        "Todos los llamados a Nmaxelements, demoran: 115662.871ms.\n",
        "\n",
        "La segunda parte, demora: 1991.105ms.\n",
        "\n",
        "Busqueda contranarrativas para todos los odio_k, demora: 48094.448ms.\n",
        "\n",
        "Contar aciertos de la métrica 1, demora: 5695.901ms.\n",
        "\n",
        "Guardar los resultados en el csv, demora: 361.665ms.\n",
        "\n",
        "**100 contranarrativas, todos los odios, en colab: demora 34 min (sin comentar el return de metrica1Particion -lo que hace que me quede sin RAM-). Detalles:**\n",
        "\n",
        "Calculando métrica 1, iteración número 0\n",
        "\n",
        "Calculando métrica 1, iteración número 10000\n",
        "\n",
        "Calculando métrica 1, iteración número 20000\n",
        "\n",
        "Calculando métrica 1, iteración número 30000\n",
        "\n",
        "Calculando métrica 1, iteración número 40000\n",
        "\n",
        "Calculando métrica 1, iteración número 50000\n",
        "\n",
        "Calculando métrica 1, iteración número 60000\n",
        "\n",
        "Calculando métrica 1, iteración número 70000\n",
        "\n",
        "Calculando métrica 1, iteración número 80000\n",
        "\n",
        "Calculando métrica 1, iteración número 90000\n",
        "\n",
        "Calculando métrica 1, iteración número 100000\n",
        "\n",
        "Calculando métrica 1, iteración número 110000\n",
        "\n",
        "Calculando métrica 1, iteración número 120000\n",
        "\n",
        "Calculando métrica 1, iteración número 130000\n",
        "\n",
        "Calculando métrica 1, iteración número 140000\n",
        "\n",
        "Calculando métrica 1, iteración número 150000\n",
        "\n",
        "Calculando métrica 1, iteración número 160000\n",
        "\n",
        "Calculando métrica 1, iteración número 170000\n",
        "\n",
        "Calculando métrica 1, iteración número 180000\n",
        "\n",
        "Calculando métrica 1, iteración número 190000\n",
        "\n",
        "Calculando métrica 1, iteración número 200000\n",
        "\n",
        "Calculando métrica 1, iteración número 210000\n",
        "\n",
        "Calculando métrica 1, iteración número 220000\n",
        "\n",
        "Calculando métrica 1, iteración número 230000\n",
        "\n",
        "Calculando métrica 1, iteración número 240000\n",
        "\n",
        "Calculando métrica 1, iteración número 250000\n",
        "\n",
        "Calculando métrica 1, iteración número 260000\n",
        "\n",
        "Calculando métrica 1, iteración número 270000\n",
        "\n",
        "El cálculo de cos_sim usando el método matricial: 30.605ms\n",
        "\n",
        "Matriz de cos_sim calculada con el método matricial, armando el resto de la métrica 1...\n",
        "\n",
        "La métrica 1 con el método matricial, demora: 2054743.816ms. \n",
        "Compuestos por:\n",
        "\n",
        "El cálculo de cos_sim usando el método matricial: 30.605ms\n",
        "\n",
        "El armado de la métrica 1: 2050592.466ms. Que a su vez, está compesta por:\n",
        "\n",
        "La primera parte, demora: 96791.699ms.\n",
        "\n",
        "Todos los llamados a Nmaxelements, demoran: 1304214.240ms.\n",
        "\n",
        "La segunda parte, demora: 19732.027ms.\n",
        "\n",
        "Busqueda contranarrativas para todos los odio_k, demora: 530989.831ms.\n",
        "\n",
        "Contar aciertos de la métrica 1, demora: 63563.209ms.\n",
        "\n",
        "Guardar los resultados en el csv, demora: 3977.709ms.\n",
        "\n",
        "**100 contranarrativas, todos los odios, en colab: demora 35 min (COMENTANDO el return de metrica1Particion -lo que hace que NO me quede sin RAM-). Detalles:**\n",
        "\n",
        "Métrica 3, con ranking de 10 elementos: 0.13802295976657636\n",
        "\n",
        "Métrica 3, con ranking de 10 elementos elegidos al azar: 0.0030279146728529847\n",
        "\n",
        "Calculando métrica 1, iteración número 0\n",
        "\n",
        "Calculando métrica 1, iteración número 10000\n",
        "\n",
        "Calculando métrica 1, iteración número 20000\n",
        "\n",
        "Calculando métrica 1, iteración número 30000\n",
        "\n",
        "Calculando métrica 1, iteración número 40000\n",
        "\n",
        "Calculando métrica 1, iteración número 50000\n",
        "\n",
        "Calculando métrica 1, iteración número 60000\n",
        "\n",
        "Calculando métrica 1, iteración número 70000\n",
        "\n",
        "Calculando métrica 1, iteración número 80000\n",
        "\n",
        "Calculando métrica 1, iteración número 90000\n",
        "\n",
        "Calculando métrica 1, iteración número 100000\n",
        "\n",
        "Calculando métrica 1, iteración número 110000\n",
        "\n",
        "Calculando métrica 1, iteración número 120000\n",
        "\n",
        "Calculando métrica 1, iteración número 130000\n",
        "\n",
        "Calculando métrica 1, iteración número 140000\n",
        "\n",
        "Calculando métrica 1, iteración número 150000\n",
        "\n",
        "Calculando métrica 1, iteración número 160000\n",
        "\n",
        "Calculando métrica 1, iteración número 170000\n",
        "\n",
        "Calculando métrica 1, iteración número 180000\n",
        "\n",
        "Calculando métrica 1, iteración número 190000\n",
        "\n",
        "Calculando métrica 1, iteración número 200000\n",
        "\n",
        "Calculando métrica 1, iteración número 210000\n",
        "\n",
        "Calculando métrica 1, iteración número 220000\n",
        "\n",
        "Calculando métrica 1, iteración número 230000\n",
        "\n",
        "Calculando métrica 1, iteración número 240000\n",
        "\n",
        "Calculando métrica 1, iteración número 250000\n",
        "\n",
        "Calculando métrica 1, iteración número 260000\n",
        "\n",
        "Calculando métrica 1, iteración número 270000\n",
        "\n",
        "El cálculo de cos_sim usando el método matricial: 22.897ms\n",
        "\n",
        "Matriz de cos_sim calculada con el método matricial, armando el \n",
        "resto de la métrica 1...\n",
        "\n",
        "La métrica 1 con el método matricial, demora: 2111964.455ms.Compuestos por:\n",
        "\n",
        "El cálculo de cos_sim usando el método matricial: 22.897ms\n",
        "\n",
        "El armado de la métrica 1: 2108293.612ms. Que a su vez, está compesta por:\n",
        "\n",
        "La primera parte, demora: 111801.079ms.\n",
        "\n",
        "Todos los llamados a Nmaxelements, demoran: 1326018.372ms.\n",
        "\n",
        "La segunda parte, demora: 22513.944ms.\n",
        "\n",
        "Busqueda contranarrativas para todos los odio_k, demora: 550915.412ms.\n",
        "\n",
        "Contar aciertos de la métrica 1, demora: 65051.833ms.\n",
        "\n",
        "Guardar los resultados en el csv, demora: 4073.208ms.\n",
        "\n",
        "**100 contranarrativas, todos los odios, con NmaxElems unrolled, en colab: demora 35:50 min (COMENTANDO el return de metrica1Particion -lo que hace que NO me quede sin RAM-). Detalles:**\n",
        "\n",
        "Calculando métrica 1, iteración número 0\n",
        "Calculando métrica 1, iteración número 10000\n",
        "Calculando métrica 1, iteración número 20000\n",
        "Calculando métrica 1, iteración número 30000\n",
        "Calculando métrica 1, iteración número 40000\n",
        "Calculando métrica 1, iteración número 50000\n",
        "Calculando métrica 1, iteración número 60000\n",
        "Calculando métrica 1, iteración número 70000\n",
        "Calculando métrica 1, iteración número 80000\n",
        "Calculando métrica 1, iteración número 90000\n",
        "Calculando métrica 1, iteración número 100000\n",
        "Calculando métrica 1, iteración número 110000\n",
        "Calculando métrica 1, iteración número 120000\n",
        "Calculando métrica 1, iteración número 130000\n",
        "Calculando métrica 1, iteración número 140000\n",
        "Calculando métrica 1, iteración número 150000\n",
        "Calculando métrica 1, iteración número 160000\n",
        "Calculando métrica 1, iteración número 170000\n",
        "Calculando métrica 1, iteración número 180000\n",
        "Calculando métrica 1, iteración número 190000\n",
        "Calculando métrica 1, iteración número 200000\n",
        "Calculando métrica 1, iteración número 210000\n",
        "Calculando métrica 1, iteración número 220000\n",
        "Calculando métrica 1, iteración número 230000\n",
        "Calculando métrica 1, iteración número 240000\n",
        "Calculando métrica 1, iteración número 250000\n",
        "Calculando métrica 1, iteración número 260000\n",
        "Calculando métrica 1, iteración número 270000\n",
        "El cálculo de cos_sim usando el método matricial: 21.044ms\n",
        "Matriz de cos_sim calculada con el método matricial, armando el resto de la métrica 1...\n",
        "La métrica 1 con el método matricial, demora: 2149079.851ms. Compuestos por:\n",
        "El cálculo de cos_sim usando el método matricial: 21.044ms\n",
        "El armado de la métrica 1: 2145313.122ms. Que a su vez, está compesta por:\n",
        "La primera parte, demora: 125387.282ms.\n",
        "Todos los llamados a Nmaxelements, demoran: 1345326.120ms.\n",
        "La segunda parte, demora: 23774.543ms.\n",
        "Busqueda contranarrativas para todos los odio_k, demora: 546263.784ms.\n",
        "Contar aciertos de la métrica 1, demora: 65049.911ms.\n",
        "Guardar los resultados en el csv, demora: 4142.322ms."
      ]
    },
    {
      "cell_type": "code",
      "execution_count": null,
      "metadata": {
        "id": "4ORdbroLlX9K",
        "colab": {
          "base_uri": "https://localhost:8080/"
        },
        "outputId": "7b8fe8b0-419d-487b-c71c-d9cefc8314f0"
      },
      "outputs": [
        {
          "output_type": "stream",
          "name": "stdout",
          "text": [
            "Se correrá la métrica 1 sobre las primeras 643 contranarrativas de counternarratives_conan_list_sin_repetidos.\n",
            "Cantidad de paritciones con 20 elementos: 32\n",
            "Cantidad de elementos de la última partición: 3\n",
            "Cantidad de particiones totales: 33\n",
            "Corriendo partición número 1 de  33\n",
            "limite_inferior: 0\n",
            "limite_superior: 20\n",
            "Calculando métrica 1, iteración número 0\n",
            "El cálculo de cos_sim usando el método matricial: 2.103ms\n",
            "Matriz de cos_sim calculada con el método matricial, armando el resto de la métrica 1...\n",
            "La métrica 1 con el método matricial, demora: 9580.976ms. Compuestos por:\n",
            "El cálculo de cos_sim usando el método matricial: 2.103ms\n",
            "El armado de la métrica 1: 9491.082ms. Que a su vez, está compesta por:\n",
            "La primera parte, demora: 464.071ms.\n",
            "Todos los llamados a NmaxelementsHeap, demoran: 2439.931ms.\n",
            "La segunda parte, demora: 257.452ms.\n",
            "Busqueda contranarrativas para todos los odio_k, demora: 3958.236ms.\n",
            "Contar aciertos de la métrica 1, demora: 1828.519ms.\n",
            "Guardar los resultados en el csv, demora: 376.631ms.\n",
            "Corriendo partición número 2 de  33\n",
            "limite_inferior: 20\n",
            "limite_superior: 40\n",
            "Calculando métrica 1, iteración número 0\n",
            "El cálculo de cos_sim usando el método matricial: 2.702ms\n",
            "Matriz de cos_sim calculada con el método matricial, armando el resto de la métrica 1...\n",
            "La métrica 1 con el método matricial, demora: 5129.711ms. Compuestos por:\n",
            "El cálculo de cos_sim usando el método matricial: 2.702ms\n",
            "El armado de la métrica 1: 5076.846ms. Que a su vez, está compesta por:\n",
            "La primera parte, demora: 244.577ms.\n",
            "Todos los llamados a NmaxelementsHeap, demoran: 1300.105ms.\n",
            "La segunda parte, demora: 137.969ms.\n",
            "Busqueda contranarrativas para todos los odio_k, demora: 2122.206ms.\n",
            "Contar aciertos de la métrica 1, demora: 983.561ms.\n",
            "Guardar los resultados en el csv, demora: 202.366ms.\n",
            "Corriendo partición número 3 de  33\n",
            "limite_inferior: 40\n",
            "limite_superior: 60\n",
            "Calculando métrica 1, iteración número 0\n",
            "El cálculo de cos_sim usando el método matricial: 1.704ms\n",
            "Matriz de cos_sim calculada con el método matricial, armando el resto de la métrica 1...\n",
            "La métrica 1 con el método matricial, demora: 6290.195ms. Compuestos por:\n",
            "El cálculo de cos_sim usando el método matricial: 1.704ms\n",
            "El armado de la métrica 1: 6226.679ms. Que a su vez, está compesta por:\n",
            "La primera parte, demora: 289.095ms.\n",
            "Todos los llamados a NmaxelementsHeap, demoran: 1604.079ms.\n",
            "La segunda parte, demora: 167.927ms.\n",
            "Busqueda contranarrativas para todos los odio_k, demora: 2595.737ms.\n",
            "Contar aciertos de la métrica 1, demora: 1212.360ms.\n",
            "Guardar los resultados en el csv, demora: 249.473ms.\n",
            "Corriendo partición número 4 de  33\n",
            "limite_inferior: 60\n",
            "limite_superior: 80\n",
            "Calculando métrica 1, iteración número 0\n",
            "El cálculo de cos_sim usando el método matricial: 1.669ms\n",
            "Matriz de cos_sim calculada con el método matricial, armando el resto de la métrica 1...\n",
            "La métrica 1 con el método matricial, demora: 4408.109ms. Compuestos por:\n",
            "El cálculo de cos_sim usando el método matricial: 1.669ms\n",
            "El armado de la métrica 1: 4363.102ms. Que a su vez, está compesta por:\n",
            "La primera parte, demora: 198.823ms.\n",
            "Todos los llamados a NmaxelementsHeap, demoran: 1121.550ms.\n",
            "La segunda parte, demora: 121.409ms.\n",
            "Busqueda contranarrativas para todos los odio_k, demora: 1823.105ms.\n",
            "Contar aciertos de la métrica 1, demora: 843.688ms.\n",
            "Guardar los resultados en el csv, demora: 170.415ms.\n",
            "Corriendo partición número 5 de  33\n",
            "limite_inferior: 80\n",
            "limite_superior: 100\n",
            "Calculando métrica 1, iteración número 0\n",
            "El cálculo de cos_sim usando el método matricial: 1.682ms\n",
            "Matriz de cos_sim calculada con el método matricial, armando el resto de la métrica 1...\n",
            "La métrica 1 con el método matricial, demora: 5372.530ms. Compuestos por:\n",
            "El cálculo de cos_sim usando el método matricial: 1.682ms\n",
            "El armado de la métrica 1: 5319.007ms. Que a su vez, está compesta por:\n",
            "La primera parte, demora: 247.202ms.\n",
            "Todos los llamados a NmaxelementsHeap, demoran: 1386.812ms.\n",
            "La segunda parte, demora: 145.962ms.\n",
            "Busqueda contranarrativas para todos los odio_k, demora: 2209.809ms.\n",
            "Contar aciertos de la métrica 1, demora: 1027.340ms.\n",
            "Guardar los resultados en el csv, demora: 209.841ms.\n",
            "Corriendo partición número 6 de  33\n",
            "limite_inferior: 100\n",
            "limite_superior: 120\n",
            "Calculando métrica 1, iteración número 0\n",
            "El cálculo de cos_sim usando el método matricial: 2.851ms\n",
            "Matriz de cos_sim calculada con el método matricial, armando el resto de la métrica 1...\n",
            "La métrica 1 con el método matricial, demora: 8940.487ms. Compuestos por:\n",
            "El cálculo de cos_sim usando el método matricial: 2.851ms\n",
            "El armado de la métrica 1: 8865.513ms. Que a su vez, está compesta por:\n",
            "La primera parte, demora: 411.856ms.\n",
            "Todos los llamados a NmaxelementsHeap, demoran: 2231.625ms.\n",
            "La segunda parte, demora: 233.625ms.\n",
            "Busqueda contranarrativas para todos los odio_k, demora: 3818.094ms.\n",
            "Contar aciertos de la métrica 1, demora: 1671.576ms.\n",
            "Guardar los resultados en el csv, demora: 346.866ms.\n",
            "Corriendo partición número 7 de  33\n",
            "limite_inferior: 120\n",
            "limite_superior: 140\n",
            "Calculando métrica 1, iteración número 0\n",
            "El cálculo de cos_sim usando el método matricial: 2.765ms\n",
            "Matriz de cos_sim calculada con el método matricial, armando el resto de la métrica 1...\n",
            "La métrica 1 con el método matricial, demora: 7322.409ms. Compuestos por:\n",
            "El cálculo de cos_sim usando el método matricial: 2.765ms\n",
            "El armado de la métrica 1: 7254.057ms. Que a su vez, está compesta por:\n",
            "La primera parte, demora: 332.997ms.\n",
            "Todos los llamados a NmaxelementsHeap, demoran: 1891.633ms.\n",
            "La segunda parte, demora: 198.011ms.\n",
            "Busqueda contranarrativas para todos los odio_k, demora: 3012.968ms.\n",
            "Contar aciertos de la métrica 1, demora: 1404.299ms.\n",
            "Guardar los resultados en el csv, demora: 288.671ms.\n",
            "Corriendo partición número 8 de  33\n",
            "limite_inferior: 140\n",
            "limite_superior: 160\n",
            "Calculando métrica 1, iteración número 0\n",
            "El cálculo de cos_sim usando el método matricial: 4.090ms\n",
            "Matriz de cos_sim calculada con el método matricial, armando el resto de la métrica 1...\n",
            "La métrica 1 con el método matricial, demora: 10591.312ms. Compuestos por:\n",
            "El cálculo de cos_sim usando el método matricial: 4.090ms\n",
            "El armado de la métrica 1: 10508.181ms. Que a su vez, está compesta por:\n",
            "La primera parte, demora: 472.285ms.\n",
            "Todos los llamados a NmaxelementsHeap, demoran: 2878.333ms.\n",
            "La segunda parte, demora: 276.994ms.\n",
            "Busqueda contranarrativas para todos los odio_k, demora: 4283.951ms.\n",
            "Contar aciertos de la métrica 1, demora: 2006.959ms.\n",
            "Guardar los resultados en el csv, demora: 420.067ms.\n",
            "Corriendo partición número 9 de  33\n",
            "limite_inferior: 160\n",
            "limite_superior: 180\n",
            "Calculando métrica 1, iteración número 0\n",
            "El cálculo de cos_sim usando el método matricial: 1.699ms\n",
            "Matriz de cos_sim calculada con el método matricial, armando el resto de la métrica 1...\n",
            "La métrica 1 con el método matricial, demora: 4613.499ms. Compuestos por:\n",
            "El cálculo de cos_sim usando el método matricial: 1.699ms\n",
            "El armado de la métrica 1: 4568.419ms. Que a su vez, está compesta por:\n",
            "La primera parte, demora: 214.980ms.\n",
            "Todos los llamados a NmaxelementsHeap, demoran: 1186.154ms.\n",
            "La segunda parte, demora: 122.807ms.\n",
            "Busqueda contranarrativas para todos los odio_k, demora: 1906.753ms.\n",
            "Contar aciertos de la métrica 1, demora: 877.256ms.\n",
            "Guardar los resultados en el csv, demora: 180.183ms.\n",
            "Corriendo partición número 10 de  33\n",
            "limite_inferior: 180\n",
            "limite_superior: 200\n",
            "Calculando métrica 1, iteración número 0\n",
            "El cálculo de cos_sim usando el método matricial: 3.079ms\n",
            "Matriz de cos_sim calculada con el método matricial, armando el resto de la métrica 1...\n",
            "La métrica 1 con el método matricial, demora: 7328.282ms. Compuestos por:\n",
            "El cálculo de cos_sim usando el método matricial: 3.079ms\n",
            "El armado de la métrica 1: 7251.974ms. Que a su vez, está compesta por:\n",
            "La primera parte, demora: 338.868ms.\n",
            "Todos los llamados a NmaxelementsHeap, demoran: 1885.435ms.\n",
            "La segunda parte, demora: 196.053ms.\n",
            "Busqueda contranarrativas para todos los odio_k, demora: 3014.581ms.\n",
            "Contar aciertos de la métrica 1, demora: 1404.176ms.\n",
            "Guardar los resultados en el csv, demora: 286.067ms.\n",
            "Corriendo partición número 11 de  33\n",
            "limite_inferior: 200\n",
            "limite_superior: 220\n",
            "Calculando métrica 1, iteración número 0\n",
            "El cálculo de cos_sim usando el método matricial: 4.219ms\n",
            "Matriz de cos_sim calculada con el método matricial, armando el resto de la métrica 1...\n",
            "La métrica 1 con el método matricial, demora: 6984.355ms. Compuestos por:\n",
            "El cálculo de cos_sim usando el método matricial: 4.219ms\n",
            "El armado de la métrica 1: 6917.424ms. Que a su vez, está compesta por:\n",
            "La primera parte, demora: 346.824ms.\n",
            "Todos los llamados a NmaxelementsHeap, demoran: 1757.875ms.\n",
            "La segunda parte, demora: 184.695ms.\n",
            "Busqueda contranarrativas para todos los odio_k, demora: 2885.514ms.\n",
            "Contar aciertos de la métrica 1, demora: 1348.402ms.\n",
            "Guardar los resultados en el csv, demora: 274.647ms.\n",
            "Corriendo partición número 12 de  33\n",
            "limite_inferior: 220\n",
            "limite_superior: 240\n",
            "Calculando métrica 1, iteración número 0\n",
            "Calculando métrica 1, iteración número 10000\n",
            "El cálculo de cos_sim usando el método matricial: 4.237ms\n",
            "Matriz de cos_sim calculada con el método matricial, armando el resto de la métrica 1...\n",
            "La métrica 1 con el método matricial, demora: 10509.266ms. Compuestos por:\n",
            "El cálculo de cos_sim usando el método matricial: 4.237ms\n",
            "El armado de la métrica 1: 10412.801ms. Que a su vez, está compesta por:\n",
            "La primera parte, demora: 490.688ms.\n",
            "Todos los llamados a NmaxelementsHeap, demoran: 2716.192ms.\n",
            "La segunda parte, demora: 280.789ms.\n",
            "Busqueda contranarrativas para todos los odio_k, demora: 4312.209ms.\n",
            "Contar aciertos de la métrica 1, demora: 2015.863ms.\n",
            "Guardar los resultados en el csv, demora: 412.782ms.\n",
            "Corriendo partición número 13 de  33\n",
            "limite_inferior: 240\n",
            "limite_superior: 260\n",
            "Calculando métrica 1, iteración número 0\n",
            "Calculando métrica 1, iteración número 10000\n",
            "El cálculo de cos_sim usando el método matricial: 4.083ms\n",
            "Matriz de cos_sim calculada con el método matricial, armando el resto de la métrica 1...\n",
            "La métrica 1 con el método matricial, demora: 15080.260ms. Compuestos por:\n",
            "El cálculo de cos_sim usando el método matricial: 4.083ms\n",
            "El armado de la métrica 1: 14986.290ms. Que a su vez, está compesta por:\n",
            "La primera parte, demora: 761.158ms.\n",
            "Todos los llamados a NmaxelementsHeap, demoran: 4130.529ms.\n",
            "La segunda parte, demora: 376.330ms.\n",
            "Busqueda contranarrativas para todos los odio_k, demora: 6103.439ms.\n",
            "Contar aciertos de la métrica 1, demora: 2782.590ms.\n",
            "Guardar los resultados en el csv, demora: 598.537ms.\n",
            "Corriendo partición número 14 de  33\n",
            "limite_inferior: 260\n",
            "limite_superior: 280\n",
            "Calculando métrica 1, iteración número 0\n",
            "El cálculo de cos_sim usando el método matricial: 3.114ms\n",
            "Matriz de cos_sim calculada con el método matricial, armando el resto de la métrica 1...\n",
            "La métrica 1 con el método matricial, demora: 8380.088ms. Compuestos por:\n",
            "El cálculo de cos_sim usando el método matricial: 3.114ms\n",
            "El armado de la métrica 1: 8093.150ms. Que a su vez, está compesta por:\n",
            "La primera parte, demora: 395.061ms.\n",
            "Todos los llamados a NmaxelementsHeap, demoran: 2133.592ms.\n",
            "La segunda parte, demora: 205.692ms.\n",
            "Busqueda contranarrativas para todos los odio_k, demora: 3384.549ms.\n",
            "Contar aciertos de la métrica 1, demora: 1503.415ms.\n",
            "Guardar los resultados en el csv, demora: 324.889ms.\n",
            "Corriendo partición número 15 de  33\n",
            "limite_inferior: 280\n",
            "limite_superior: 300\n",
            "Calculando métrica 1, iteración número 0\n",
            "El cálculo de cos_sim usando el método matricial: 4.200ms\n",
            "Matriz de cos_sim calculada con el método matricial, armando el resto de la métrica 1...\n",
            "La métrica 1 con el método matricial, demora: 6565.217ms. Compuestos por:\n",
            "El cálculo de cos_sim usando el método matricial: 4.200ms\n",
            "El armado de la métrica 1: 6503.396ms. Que a su vez, está compesta por:\n",
            "La primera parte, demora: 304.866ms.\n",
            "Todos los llamados a NmaxelementsHeap, demoran: 1697.268ms.\n",
            "La segunda parte, demora: 176.789ms.\n",
            "Busqueda contranarrativas para todos los odio_k, demora: 2694.399ms.\n",
            "Contar aciertos de la métrica 1, demora: 1260.875ms.\n",
            "Guardar los resultados en el csv, demora: 256.419ms.\n",
            "Corriendo partición número 16 de  33\n",
            "limite_inferior: 300\n",
            "limite_superior: 320\n",
            "Calculando métrica 1, iteración número 0\n",
            "Calculando métrica 1, iteración número 10000\n",
            "El cálculo de cos_sim usando el método matricial: 5.598ms\n",
            "Matriz de cos_sim calculada con el método matricial, armando el resto de la métrica 1...\n",
            "La métrica 1 con el método matricial, demora: 9876.785ms. Compuestos por:\n",
            "El cálculo de cos_sim usando el método matricial: 5.598ms\n",
            "El armado de la métrica 1: 9785.708ms. Que a su vez, está compesta por:\n",
            "La primera parte, demora: 470.371ms.\n",
            "Todos los llamados a NmaxelementsHeap, demoran: 2550.493ms.\n",
            "La segunda parte, demora: 263.998ms.\n",
            "Busqueda contranarrativas para todos los odio_k, demora: 4058.813ms.\n",
            "Contar aciertos de la métrica 1, demora: 1876.575ms.\n",
            "Guardar los resultados en el csv, demora: 387.837ms.\n",
            "Corriendo partición número 17 de  33\n",
            "limite_inferior: 320\n",
            "limite_superior: 340\n",
            "Calculando métrica 1, iteración número 0\n",
            "El cálculo de cos_sim usando el método matricial: 5.422ms\n",
            "Matriz de cos_sim calculada con el método matricial, armando el resto de la métrica 1...\n",
            "La métrica 1 con el método matricial, demora: 10662.975ms. Compuestos por:\n",
            "El cálculo de cos_sim usando el método matricial: 5.422ms\n",
            "El armado de la métrica 1: 10582.027ms. Que a su vez, está compesta por:\n",
            "La primera parte, demora: 497.753ms.\n",
            "Todos los llamados a NmaxelementsHeap, demoran: 2884.409ms.\n",
            "La segunda parte, demora: 281.197ms.\n",
            "Busqueda contranarrativas para todos los odio_k, demora: 4331.658ms.\n",
            "Contar aciertos de la métrica 1, demora: 2007.401ms.\n",
            "Guardar los resultados en el csv, demora: 414.761ms.\n",
            "Corriendo partición número 18 de  33\n",
            "limite_inferior: 340\n",
            "limite_superior: 360\n",
            "Calculando métrica 1, iteración número 0\n",
            "Calculando métrica 1, iteración número 10000\n",
            "El cálculo de cos_sim usando el método matricial: 3.115ms\n",
            "Matriz de cos_sim calculada con el método matricial, armando el resto de la métrica 1...\n",
            "La métrica 1 con el método matricial, demora: 11485.188ms. Compuestos por:\n",
            "El cálculo de cos_sim usando el método matricial: 3.115ms\n",
            "El armado de la métrica 1: 11388.454ms. Que a su vez, está compesta por:\n",
            "La primera parte, demora: 523.684ms.\n",
            "Todos los llamados a NmaxelementsHeap, demoran: 3128.017ms.\n",
            "La segunda parte, demora: 297.060ms.\n",
            "Busqueda contranarrativas para todos los odio_k, demora: 4637.818ms.\n",
            "Contar aciertos de la métrica 1, demora: 2177.179ms.\n",
            "Guardar los resultados en el csv, demora: 442.535ms.\n",
            "Corriendo partición número 19 de  33\n",
            "limite_inferior: 360\n",
            "limite_superior: 380\n",
            "Calculando métrica 1, iteración número 0\n",
            "El cálculo de cos_sim usando el método matricial: 1.688ms\n",
            "Matriz de cos_sim calculada con el método matricial, armando el resto de la métrica 1...\n",
            "La métrica 1 con el método matricial, demora: 4794.173ms. Compuestos por:\n",
            "El cálculo de cos_sim usando el método matricial: 1.688ms\n",
            "El armado de la métrica 1: 4739.021ms. Que a su vez, está compesta por:\n",
            "La primera parte, demora: 227.943ms.\n",
            "Todos los llamados a NmaxelementsHeap, demoran: 1246.430ms.\n",
            "La segunda parte, demora: 126.576ms.\n",
            "Busqueda contranarrativas para todos los odio_k, demora: 1964.719ms.\n",
            "Contar aciertos de la métrica 1, demora: 903.219ms.\n",
            "Guardar los resultados en el csv, demora: 188.013ms.\n",
            "Corriendo partición número 20 de  33\n",
            "limite_inferior: 380\n",
            "limite_superior: 400\n",
            "Calculando métrica 1, iteración número 0\n",
            "El cálculo de cos_sim usando el método matricial: 3.128ms\n",
            "Matriz de cos_sim calculada con el método matricial, armando el resto de la métrica 1...\n",
            "La métrica 1 con el método matricial, demora: 7109.005ms. Compuestos por:\n",
            "El cálculo de cos_sim usando el método matricial: 3.128ms\n",
            "El armado de la métrica 1: 7034.569ms. Que a su vez, está compesta por:\n",
            "La primera parte, demora: 350.818ms.\n",
            "Todos los llamados a NmaxelementsHeap, demoran: 1821.470ms.\n",
            "La segunda parte, demora: 188.086ms.\n",
            "Busqueda contranarrativas para todos los odio_k, demora: 2923.286ms.\n",
            "Contar aciertos de la métrica 1, demora: 1341.727ms.\n",
            "Guardar los resultados en el csv, demora: 284.370ms.\n",
            "Corriendo partición número 21 de  33\n",
            "limite_inferior: 400\n",
            "limite_superior: 420\n",
            "Calculando métrica 1, iteración número 0\n",
            "El cálculo de cos_sim usando el método matricial: 1.627ms\n",
            "Matriz de cos_sim calculada con el método matricial, armando el resto de la métrica 1...\n",
            "La métrica 1 con el método matricial, demora: 4145.411ms. Compuestos por:\n",
            "El cálculo de cos_sim usando el método matricial: 1.627ms\n",
            "El armado de la métrica 1: 4102.566ms. Que a su vez, está compesta por:\n",
            "La primera parte, demora: 205.846ms.\n",
            "Todos los llamados a NmaxelementsHeap, demoran: 1057.339ms.\n",
            "La segunda parte, demora: 108.989ms.\n",
            "Busqueda contranarrativas para todos los odio_k, demora: 1705.910ms.\n",
            "Contar aciertos de la métrica 1, demora: 788.979ms.\n",
            "Guardar los resultados en el csv, demora: 163.964ms.\n",
            "Corriendo partición número 22 de  33\n",
            "limite_inferior: 420\n",
            "limite_superior: 440\n",
            "Calculando métrica 1, iteración número 0\n",
            "El cálculo de cos_sim usando el método matricial: 1.693ms\n",
            "Matriz de cos_sim calculada con el método matricial, armando el resto de la métrica 1...\n",
            "La métrica 1 con el método matricial, demora: 5384.963ms. Compuestos por:\n",
            "El cálculo de cos_sim usando el método matricial: 1.693ms\n",
            "El armado de la métrica 1: 5329.704ms. Que a su vez, está compesta por:\n",
            "La primera parte, demora: 259.099ms.\n",
            "Todos los llamados a NmaxelementsHeap, demoran: 1384.783ms.\n",
            "La segunda parte, demora: 141.891ms.\n",
            "Busqueda contranarrativas para todos los odio_k, demora: 2213.855ms.\n",
            "Contar aciertos de la métrica 1, demora: 1025.111ms.\n",
            "Guardar los resultados en el csv, demora: 210.621ms.\n",
            "Corriendo partición número 23 de  33\n",
            "limite_inferior: 440\n",
            "limite_superior: 460\n",
            "Calculando métrica 1, iteración número 0\n",
            "El cálculo de cos_sim usando el método matricial: 2.991ms\n",
            "Matriz de cos_sim calculada con el método matricial, armando el resto de la métrica 1...\n",
            "La métrica 1 con el método matricial, demora: 6797.942ms. Compuestos por:\n",
            "El cálculo de cos_sim usando el método matricial: 2.991ms\n",
            "El armado de la métrica 1: 6363.920ms. Que a su vez, está compesta por:\n",
            "La primera parte, demora: 318.376ms.\n",
            "Todos los llamados a NmaxelementsHeap, demoran: 1644.223ms.\n",
            "La segunda parte, demora: 166.950ms.\n",
            "Busqueda contranarrativas para todos los odio_k, demora: 2627.827ms.\n",
            "Contar aciertos de la métrica 1, demora: 1231.902ms.\n",
            "Guardar los resultados en el csv, demora: 266.564ms.\n",
            "Corriendo partición número 24 de  33\n",
            "limite_inferior: 460\n",
            "limite_superior: 480\n",
            "Calculando métrica 1, iteración número 0\n",
            "El cálculo de cos_sim usando el método matricial: 2.981ms\n",
            "Matriz de cos_sim calculada con el método matricial, armando el resto de la métrica 1...\n",
            "La métrica 1 con el método matricial, demora: 7834.993ms. Compuestos por:\n",
            "El cálculo de cos_sim usando el método matricial: 2.981ms\n",
            "El armado de la métrica 1: 7756.140ms. Que a su vez, está compesta por:\n",
            "La primera parte, demora: 372.188ms.\n",
            "Todos los llamados a NmaxelementsHeap, demoran: 2022.687ms.\n",
            "La segunda parte, demora: 208.164ms.\n",
            "Busqueda contranarrativas para todos los odio_k, demora: 3215.064ms.\n",
            "Contar aciertos de la métrica 1, demora: 1494.341ms.\n",
            "Guardar los resultados en el csv, demora: 309.119ms.\n",
            "Corriendo partición número 25 de  33\n",
            "limite_inferior: 480\n",
            "limite_superior: 500\n",
            "Calculando métrica 1, iteración número 0\n",
            "El cálculo de cos_sim usando el método matricial: 3.250ms\n",
            "Matriz de cos_sim calculada con el método matricial, armando el resto de la métrica 1...\n",
            "La métrica 1 con el método matricial, demora: 4959.382ms. Compuestos por:\n",
            "El cálculo de cos_sim usando el método matricial: 3.250ms\n",
            "El armado de la métrica 1: 4908.149ms. Que a su vez, está compesta por:\n",
            "La primera parte, demora: 236.912ms.\n",
            "Todos los llamados a NmaxelementsHeap, demoran: 1285.093ms.\n",
            "La segunda parte, demora: 130.127ms.\n",
            "Busqueda contranarrativas para todos los odio_k, demora: 2025.970ms.\n",
            "Contar aciertos de la métrica 1, demora: 946.606ms.\n",
            "Guardar los resultados en el csv, demora: 197.760ms.\n",
            "Corriendo partición número 26 de  33\n",
            "limite_inferior: 500\n",
            "limite_superior: 520\n",
            "Calculando métrica 1, iteración número 0\n",
            "El cálculo de cos_sim usando el método matricial: 1.654ms\n",
            "Matriz de cos_sim calculada con el método matricial, armando el resto de la métrica 1...\n",
            "La métrica 1 con el método matricial, demora: 5618.465ms. Compuestos por:\n",
            "El cálculo de cos_sim usando el método matricial: 1.654ms\n",
            "El armado de la métrica 1: 5559.615ms. Que a su vez, está compesta por:\n",
            "La primera parte, demora: 261.145ms.\n",
            "Todos los llamados a NmaxelementsHeap, demoran: 1460.960ms.\n",
            "La segunda parte, demora: 148.528ms.\n",
            "Busqueda contranarrativas para todos los odio_k, demora: 2293.936ms.\n",
            "Contar aciertos de la métrica 1, demora: 1077.485ms.\n",
            "Guardar los resultados en el csv, demora: 219.733ms.\n",
            "Corriendo partición número 27 de  33\n",
            "limite_inferior: 520\n",
            "limite_superior: 540\n",
            "Calculando métrica 1, iteración número 0\n",
            "El cálculo de cos_sim usando el método matricial: 1.875ms\n",
            "Matriz de cos_sim calculada con el método matricial, armando el resto de la métrica 1...\n",
            "La métrica 1 con el método matricial, demora: 4172.069ms. Compuestos por:\n",
            "El cálculo de cos_sim usando el método matricial: 1.875ms\n",
            "El armado de la métrica 1: 4124.897ms. Que a su vez, está compesta por:\n",
            "La primera parte, demora: 199.624ms.\n",
            "Todos los llamados a NmaxelementsHeap, demoran: 1060.367ms.\n",
            "La segunda parte, demora: 110.922ms.\n",
            "Busqueda contranarrativas para todos los odio_k, demora: 1718.799ms.\n",
            "Contar aciertos de la métrica 1, demora: 800.572ms.\n",
            "Guardar los resultados en el csv, demora: 163.743ms.\n",
            "Corriendo partición número 28 de  33\n",
            "limite_inferior: 540\n",
            "limite_superior: 560\n",
            "Calculando métrica 1, iteración número 0\n",
            "El cálculo de cos_sim usando el método matricial: 4.784ms\n",
            "Matriz de cos_sim calculada con el método matricial, armando el resto de la métrica 1...\n",
            "La métrica 1 con el método matricial, demora: 6256.696ms. Compuestos por:\n",
            "El cálculo de cos_sim usando el método matricial: 4.784ms\n",
            "El armado de la métrica 1: 6194.727ms. Que a su vez, está compesta por:\n",
            "La primera parte, demora: 296.658ms.\n",
            "Todos los llamados a NmaxelementsHeap, demoran: 1611.048ms.\n",
            "La segunda parte, demora: 166.756ms.\n",
            "Busqueda contranarrativas para todos los odio_k, demora: 2566.093ms.\n",
            "Contar aciertos de la métrica 1, demora: 1192.109ms.\n",
            "Guardar los resultados en el csv, demora: 246.607ms.\n",
            "Corriendo partición número 29 de  33\n",
            "limite_inferior: 560\n",
            "limite_superior: 580\n",
            "Calculando métrica 1, iteración número 0\n",
            "El cálculo de cos_sim usando el método matricial: 4.099ms\n",
            "Matriz de cos_sim calculada con el método matricial, armando el resto de la métrica 1...\n",
            "La métrica 1 con el método matricial, demora: 6806.551ms. Compuestos por:\n",
            "El cálculo de cos_sim usando el método matricial: 4.099ms\n",
            "El armado de la métrica 1: 6744.600ms. Que a su vez, está compesta por:\n",
            "La primera parte, demora: 350.770ms.\n",
            "Todos los llamados a NmaxelementsHeap, demoran: 1759.601ms.\n",
            "La segunda parte, demora: 179.813ms.\n",
            "Busqueda contranarrativas para todos los odio_k, demora: 2815.043ms.\n",
            "Contar aciertos de la métrica 1, demora: 1269.078ms.\n",
            "Guardar los resultados en el csv, demora: 251.537ms.\n",
            "Corriendo partición número 30 de  33\n",
            "limite_inferior: 580\n",
            "limite_superior: 600\n",
            "Calculando métrica 1, iteración número 0\n",
            "Calculando métrica 1, iteración número 10000\n",
            "El cálculo de cos_sim usando el método matricial: 4.127ms\n",
            "Matriz de cos_sim calculada con el método matricial, armando el resto de la métrica 1...\n",
            "La métrica 1 con el método matricial, demora: 9884.282ms. Compuestos por:\n",
            "El cálculo de cos_sim usando el método matricial: 4.127ms\n",
            "El armado de la métrica 1: 9800.728ms. Que a su vez, está compesta por:\n",
            "La primera parte, demora: 479.793ms.\n",
            "Todos los llamados a NmaxelementsHeap, demoran: 2551.652ms.\n",
            "La segunda parte, demora: 259.508ms.\n",
            "Busqueda contranarrativas para todos los odio_k, demora: 4070.069ms.\n",
            "Contar aciertos de la métrica 1, demora: 1880.667ms.\n",
            "Guardar los resultados en el csv, demora: 392.269ms.\n",
            "Corriendo partición número 31 de  33\n",
            "limite_inferior: 600\n",
            "limite_superior: 620\n",
            "Calculando métrica 1, iteración número 0\n",
            "El cálculo de cos_sim usando el método matricial: 3.305ms\n",
            "Matriz de cos_sim calculada con el método matricial, armando el resto de la métrica 1...\n",
            "La métrica 1 con el método matricial, demora: 4033.513ms. Compuestos por:\n",
            "El cálculo de cos_sim usando el método matricial: 3.305ms\n",
            "El armado de la métrica 1: 3990.452ms. Que a su vez, está compesta por:\n",
            "La primera parte, demora: 191.552ms.\n",
            "Todos los llamados a NmaxelementsHeap, demoran: 1032.299ms.\n",
            "La segunda parte, demora: 107.748ms.\n",
            "Busqueda contranarrativas para todos los odio_k, demora: 1656.689ms.\n",
            "Contar aciertos de la métrica 1, demora: 772.290ms.\n",
            "Guardar los resultados en el csv, demora: 158.837ms.\n",
            "Corriendo partición número 32 de  33\n",
            "limite_inferior: 620\n",
            "limite_superior: 640\n",
            "Calculando métrica 1, iteración número 0\n",
            "El cálculo de cos_sim usando el método matricial: 3.672ms\n",
            "Matriz de cos_sim calculada con el método matricial, armando el resto de la métrica 1...\n",
            "La métrica 1 con el método matricial, demora: 4060.770ms. Compuestos por:\n",
            "El cálculo de cos_sim usando el método matricial: 3.672ms\n",
            "El armado de la métrica 1: 4014.779ms. Que a su vez, está compesta por:\n",
            "La primera parte, demora: 190.722ms.\n",
            "Todos los llamados a NmaxelementsHeap, demoran: 1053.035ms.\n",
            "La segunda parte, demora: 107.491ms.\n",
            "Busqueda contranarrativas para todos los odio_k, demora: 1656.976ms.\n",
            "Contar aciertos de la métrica 1, demora: 775.655ms.\n",
            "Guardar los resultados en el csv, demora: 160.287ms.\n",
            "Corriendo partición número 33 de  33\n",
            "ultimo_limite_iferior: 640\n",
            "ultimo_limite_superior: 643\n",
            "Calculando métrica 1, iteración número 0\n",
            "El cálculo de cos_sim usando el método matricial: 2.976ms\n",
            "Matriz de cos_sim calculada con el método matricial, armando el resto de la métrica 1...\n",
            "La métrica 1 con el método matricial, demora: 1312.835ms. Compuestos por:\n",
            "El cálculo de cos_sim usando el método matricial: 2.976ms\n",
            "El armado de la métrica 1: 1295.357ms. Que a su vez, está compesta por:\n",
            "La primera parte, demora: 59.728ms.\n",
            "Todos los llamados a NmaxelementsHeap, demoran: 363.327ms.\n",
            "La segunda parte, demora: 34.246ms.\n",
            "Busqueda contranarrativas para todos los odio_k, demora: 523.547ms.\n",
            "Contar aciertos de la métrica 1, demora: 243.929ms.\n",
            "Guardar los resultados en el csv, demora: 48.815ms.\n"
          ]
        }
      ],
      "source": [
        "# Es recomendable trabajar con batches de tamaño pequeño (batch_size= 10), porque demora lo mismo y ocupa menos RAM.\n",
        "batch_size = 20\n",
        "correr_metrica_1_hasta = len(conjunto_sin_repetidos_contranarrativa_i)  #  fixme: el valor más grande que puede tomar es: len(conjunto_sin_repetidos_contranarrativa_i) \n",
        "correr_metrica_1(batch_size, correr_metrica_1_hasta)"
      ]
    },
    {
      "cell_type": "markdown",
      "metadata": {
        "id": "GnV6KkQkW2h3"
      },
      "source": [
        "# **Métrica 2:**"
      ]
    },
    {
      "cell_type": "markdown",
      "metadata": {
        "id": "QGQLwM2KXA8o"
      },
      "source": [
        "metrica_2 = metrica_1 / min(número de contranarrativas para el un discurso de odio dado, cantidad_elementos_del_ranking).\n",
        "El mínimo está porque para algunos discursos de odio, el \"número de contranarrativas para el un discurso de odio dado\" es mucho mayor a \"cantidad_elementos_del_ranking\" y esto hace parecer que el ranking funciona muy mal, cuando en realidad el tope \"cantidad_elementos_del_ranking\" hace que no pueda devolver mayor \"número de contranarrativas para el un discurso de odio dado\"."
      ]
    },
    {
      "cell_type": "markdown",
      "metadata": {
        "id": "C3TqSqCcZ5VX"
      },
      "source": [
        "##Aplico métrica 2:"
      ]
    },
    {
      "cell_type": "code",
      "execution_count": null,
      "metadata": {
        "id": "06Vm99Po-T--",
        "colab": {
          "base_uri": "https://localhost:8080/"
        },
        "outputId": "3c72eb99-c71e-4ee8-ec65-55170c7ba83b"
      },
      "outputs": [
        {
          "output_type": "stream",
          "name": "stdout",
          "text": [
            "Calculando métrica 2\n"
          ]
        }
      ],
      "source": [
        "print('Calculando métrica 2')"
      ]
    },
    {
      "cell_type": "markdown",
      "metadata": {
        "id": "HIQmrnKsBozi"
      },
      "source": [
        "### Leo métrica 1 desde los archivos .csv y la guardo en una lista"
      ]
    },
    {
      "cell_type": "code",
      "execution_count": null,
      "metadata": {
        "id": "jB4_BN9EBoCS"
      },
      "outputs": [],
      "source": [
        "def readCSV(filename):\n",
        "  # initializing the titles and rows list\n",
        "  fields = []\n",
        "  rows = []\n",
        "\n",
        "  # reading csv file\n",
        "  with open(filename, 'r') as csvfile:\n",
        "      # creating a csv reader object\n",
        "      csvreader = csv.reader(csvfile)\n",
        "      \n",
        "      # extracting field names through first row\n",
        "      fields = next(csvreader)\n",
        "  \n",
        "      # extracting each data row one by one\n",
        "      for row in csvreader:\n",
        "          rows.append(row)\n",
        "  \n",
        "      # get total number of rows\n",
        "      print(\"Total no. of rows: %d\"%(csvreader.line_num))\n",
        "      \n",
        "      # Armo una lista de lsitas con todos los elementos del csv:\n",
        "      lista_pares_métrica_1_top10_matricial_leida_de_csv = [];\n",
        "      for row in rows:\n",
        "          # parsing each column of a row\n",
        "          rowList = [];\n",
        "          for col in range(0,5): #Los primeros cinco elementos son chars que deseo convertir en ints\n",
        "              rowList.append(int(row[col]));\n",
        "          for col in range(5,len(row)): # los últimos 10 elementos son strings que deseo convertir a tuplas.\n",
        "            rowList.append(eval(row[col]));\n",
        "          lista_pares_métrica_1_top10_matricial_leida_de_csv.append(rowList);\n",
        "  return lista_pares_métrica_1_top10_matricial_leida_de_csv;"
      ]
    },
    {
      "cell_type": "code",
      "execution_count": null,
      "metadata": {
        "id": "VUkUaBIS93XL"
      },
      "outputs": [],
      "source": [
        "# Lee hasta la métrica tope_superior, de archivos csv creados con batches de tamaño batch_size.\n",
        "def leer_metrica_1(batch_size, tope_superior = len(conjunto_sin_repetidos_contranarrativa_i), random = False): #fixme: lo ideal sería deducir batch_size (quizás a partir del nombre del csv).\n",
        "  largo_particion_extra =  tope_superior % batch_size\n",
        "  print('largo_particion_extra', largo_particion_extra);\n",
        "  cantidad_de_particiones = tope_superior // batch_size\n",
        "  print('cantidad_de_particiones', cantidad_de_particiones);\n",
        "  cantidad_de_particiones_totales = cantidad_de_particiones + (largo_particion_extra != 0)\n",
        "  print('cantidad_de_particiones_totales', cantidad_de_particiones_totales);\n",
        "  \n",
        "  lista_pares_métrica_1_top10_matricial_leida_de_csv = []\n",
        "  if largo_particion_extra == 0:        #fixme: me gustaría resolver esto, sin el if, pero el comportamiento es distinto según si largo_particion_extra == 0 o no.\n",
        "    for i in range (0, cantidad_de_particiones_totales):\n",
        "      print('Leyendo partición número', i+1,'de ', cantidad_de_particiones_totales)\n",
        "      limite_inferior = i* batch_size\n",
        "      print('limite_inferior:', limite_inferior)\n",
        "      limite_superior = limite_inferior + batch_size -1\n",
        "      print('limite_superior:', limite_superior)\n",
        "      if random == False:\n",
        "        filename = \"metrica1Top10ParticionContranarrativa\" + str(limite_inferior) + \"a\" + str(limite_superior) + \".csv\"\n",
        "      else:\n",
        "        filename = \"metrica1Top10RandomContranarrativa\" + str(limite_inferior) + \"a\" + str(limite_superior) + \".csv\"\n",
        "      print('leyendo desde el archivo', filename);\n",
        "      lista_pares_métrica_1_top10_matricial_leida_de_csv = lista_pares_métrica_1_top10_matricial_leida_de_csv + readCSV(filename);\n",
        "  else:\n",
        "    for i in range (0, cantidad_de_particiones_totales-1):\n",
        "      print('Leyendo partición número', i+1,'de ', cantidad_de_particiones_totales)\n",
        "      limite_inferior = i* batch_size\n",
        "      print('limite_inferior:', limite_inferior)\n",
        "      limite_superior = limite_inferior + batch_size -1\n",
        "      print('limite_superior:', limite_superior)\n",
        "      if random == False:\n",
        "        filename = \"metrica1Top10ParticionContranarrativa\" + str(limite_inferior) + \"a\" + str(limite_superior) + \".csv\"\n",
        "      else:\n",
        "        filename = \"metrica1Top10RandomContranarrativa\" + str(limite_inferior) + \"a\" + str(limite_superior) + \".csv\"\n",
        "      print('leyendo desde el archivo', filename);\n",
        "      lista_pares_métrica_1_top10_matricial_leida_de_csv = lista_pares_métrica_1_top10_matricial_leida_de_csv + readCSV(filename);\n",
        "    print('Leyendo partición número', cantidad_de_particiones_totales,'de ', cantidad_de_particiones_totales)\n",
        "    limite_inferior = (cantidad_de_particiones_totales-1) * batch_size\n",
        "    print('ultimo_limite_iferior:', limite_inferior);\n",
        "    limite_superior = tope_superior-1;\n",
        "    print('ultimo_limite_superior:', limite_superior);\n",
        "    if random == False:\n",
        "      filename = \"metrica1Top10ParticionContranarrativa\" + str(limite_inferior) + \"a\" + str(limite_superior) + \".csv\"\n",
        "    else:\n",
        "      filename = \"metrica1Top10RandomContranarrativa\" + str(limite_inferior) + \"a\" + str(limite_superior) + \".csv\"\n",
        "    print('leyendo desde el archivo', filename);\n",
        "    lista_pares_métrica_1_top10_matricial_leida_de_csv = lista_pares_métrica_1_top10_matricial_leida_de_csv + readCSV(filename);    \n",
        "  return lista_pares_métrica_1_top10_matricial_leida_de_csv;"
      ]
    },
    {
      "cell_type": "code",
      "execution_count": null,
      "metadata": {
        "id": "3Rf99Ffe0Hd-",
        "colab": {
          "base_uri": "https://localhost:8080/"
        },
        "outputId": "0c9701f8-c886-41af-a5b3-0ba370a38783"
      },
      "outputs": [
        {
          "output_type": "stream",
          "name": "stdout",
          "text": [
            "largo_particion_extra 3\n",
            "cantidad_de_particiones 32\n",
            "cantidad_de_particiones_totales 33\n",
            "Leyendo partición número 1 de  33\n",
            "limite_inferior: 0\n",
            "limite_superior: 19\n",
            "leyendo desde el archivo metrica1Top10ParticionContranarrativa0a19.csv\n",
            "Total no. of rows: 9895\n",
            "Leyendo partición número 2 de  33\n",
            "limite_inferior: 20\n",
            "limite_superior: 39\n",
            "leyendo desde el archivo metrica1Top10ParticionContranarrativa20a39.csv\n",
            "Total no. of rows: 5239\n",
            "Leyendo partición número 3 de  33\n",
            "limite_inferior: 40\n",
            "limite_superior: 59\n",
            "leyendo desde el archivo metrica1Top10ParticionContranarrativa40a59.csv\n",
            "Total no. of rows: 6597\n",
            "Leyendo partición número 4 de  33\n",
            "limite_inferior: 60\n",
            "limite_superior: 79\n",
            "leyendo desde el archivo metrica1Top10ParticionContranarrativa60a79.csv\n",
            "Total no. of rows: 4657\n",
            "Leyendo partición número 5 de  33\n",
            "limite_inferior: 80\n",
            "limite_superior: 99\n",
            "leyendo desde el archivo metrica1Top10ParticionContranarrativa80a99.csv\n",
            "Total no. of rows: 5627\n",
            "Leyendo partición número 6 de  33\n",
            "limite_inferior: 100\n",
            "limite_superior: 119\n",
            "leyendo desde el archivo metrica1Top10ParticionContranarrativa100a119.csv\n",
            "Total no. of rows: 9119\n",
            "Leyendo partición número 7 de  33\n",
            "limite_inferior: 120\n",
            "limite_superior: 139\n",
            "leyendo desde el archivo metrica1Top10ParticionContranarrativa120a139.csv\n",
            "Total no. of rows: 7761\n",
            "Leyendo partición número 8 de  33\n",
            "limite_inferior: 140\n",
            "limite_superior: 159\n",
            "leyendo desde el archivo metrica1Top10ParticionContranarrativa140a159.csv\n",
            "Total no. of rows: 9507\n",
            "Leyendo partición número 9 de  33\n",
            "limite_inferior: 160\n",
            "limite_superior: 179\n",
            "leyendo desde el archivo metrica1Top10ParticionContranarrativa160a179.csv\n",
            "Total no. of rows: 4851\n",
            "Leyendo partición número 10 de  33\n",
            "limite_inferior: 180\n",
            "limite_superior: 199\n",
            "leyendo desde el archivo metrica1Top10ParticionContranarrativa180a199.csv\n",
            "Total no. of rows: 7761\n",
            "Leyendo partición número 11 de  33\n",
            "limite_inferior: 200\n",
            "limite_superior: 219\n",
            "leyendo desde el archivo metrica1Top10ParticionContranarrativa200a219.csv\n",
            "Total no. of rows: 7179\n",
            "Leyendo partición número 12 de  33\n",
            "limite_inferior: 220\n",
            "limite_superior: 239\n",
            "leyendo desde el archivo metrica1Top10ParticionContranarrativa220a239.csv\n",
            "Total no. of rows: 11253\n",
            "Leyendo partición número 13 de  33\n",
            "limite_inferior: 240\n",
            "limite_superior: 259\n",
            "leyendo desde el archivo metrica1Top10ParticionContranarrativa240a259.csv\n",
            "Total no. of rows: 11641\n",
            "Leyendo partición número 14 de  33\n",
            "limite_inferior: 260\n",
            "limite_superior: 279\n",
            "leyendo desde el archivo metrica1Top10ParticionContranarrativa260a279.csv\n",
            "Total no. of rows: 7761\n",
            "Leyendo partición número 15 de  33\n",
            "limite_inferior: 280\n",
            "limite_superior: 299\n",
            "leyendo desde el archivo metrica1Top10ParticionContranarrativa280a299.csv\n",
            "Total no. of rows: 6985\n",
            "Leyendo partición número 16 de  33\n",
            "limite_inferior: 300\n",
            "limite_superior: 319\n",
            "leyendo desde el archivo metrica1Top10ParticionContranarrativa300a319.csv\n",
            "Total no. of rows: 10283\n",
            "Leyendo partición número 17 de  33\n",
            "limite_inferior: 320\n",
            "limite_superior: 339\n",
            "leyendo desde el archivo metrica1Top10ParticionContranarrativa320a339.csv\n",
            "Total no. of rows: 9507\n",
            "Leyendo partición número 18 de  33\n",
            "limite_inferior: 340\n",
            "limite_superior: 359\n",
            "leyendo desde el archivo metrica1Top10ParticionContranarrativa340a359.csv\n",
            "Total no. of rows: 10477\n",
            "Leyendo partición número 19 de  33\n",
            "limite_inferior: 360\n",
            "limite_superior: 379\n",
            "leyendo desde el archivo metrica1Top10ParticionContranarrativa360a379.csv\n",
            "Total no. of rows: 5045\n",
            "Leyendo partición número 20 de  33\n",
            "limite_inferior: 380\n",
            "limite_superior: 399\n",
            "leyendo desde el archivo metrica1Top10ParticionContranarrativa380a399.csv\n",
            "Total no. of rows: 7374\n",
            "Leyendo partición número 21 de  33\n",
            "limite_inferior: 400\n",
            "limite_superior: 419\n",
            "leyendo desde el archivo metrica1Top10ParticionContranarrativa400a419.csv\n",
            "Total no. of rows: 4269\n",
            "Leyendo partición número 22 de  33\n",
            "limite_inferior: 420\n",
            "limite_superior: 439\n",
            "leyendo desde el archivo metrica1Top10ParticionContranarrativa420a439.csv\n",
            "Total no. of rows: 5627\n",
            "Leyendo partición número 23 de  33\n",
            "limite_inferior: 440\n",
            "limite_superior: 459\n",
            "leyendo desde el archivo metrica1Top10ParticionContranarrativa440a459.csv\n",
            "Total no. of rows: 6597\n",
            "Leyendo partición número 24 de  33\n",
            "limite_inferior: 460\n",
            "limite_superior: 479\n",
            "leyendo desde el archivo metrica1Top10ParticionContranarrativa460a479.csv\n",
            "Total no. of rows: 8343\n",
            "Leyendo partición número 25 de  33\n",
            "limite_inferior: 480\n",
            "limite_superior: 499\n",
            "leyendo desde el archivo metrica1Top10ParticionContranarrativa480a499.csv\n",
            "Total no. of rows: 5239\n",
            "Leyendo partición número 26 de  33\n",
            "limite_inferior: 500\n",
            "limite_superior: 519\n",
            "leyendo desde el archivo metrica1Top10ParticionContranarrativa500a519.csv\n",
            "Total no. of rows: 6015\n",
            "Leyendo partición número 27 de  33\n",
            "limite_inferior: 520\n",
            "limite_superior: 539\n",
            "leyendo desde el archivo metrica1Top10ParticionContranarrativa520a539.csv\n",
            "Total no. of rows: 4269\n",
            "Leyendo partición número 28 de  33\n",
            "limite_inferior: 540\n",
            "limite_superior: 559\n",
            "leyendo desde el archivo metrica1Top10ParticionContranarrativa540a559.csv\n",
            "Total no. of rows: 6597\n",
            "Leyendo partición número 29 de  33\n",
            "limite_inferior: 560\n",
            "limite_superior: 579\n",
            "leyendo desde el archivo metrica1Top10ParticionContranarrativa560a579.csv\n",
            "Total no. of rows: 6597\n",
            "Leyendo partición número 30 de  33\n",
            "limite_inferior: 580\n",
            "limite_superior: 599\n",
            "leyendo desde el archivo metrica1Top10ParticionContranarrativa580a599.csv\n",
            "Total no. of rows: 10283\n",
            "Leyendo partición número 31 de  33\n",
            "limite_inferior: 600\n",
            "limite_superior: 619\n",
            "leyendo desde el archivo metrica1Top10ParticionContranarrativa600a619.csv\n",
            "Total no. of rows: 4274\n",
            "Leyendo partición número 32 de  33\n",
            "limite_inferior: 620\n",
            "limite_superior: 639\n",
            "leyendo desde el archivo metrica1Top10ParticionContranarrativa620a639.csv\n",
            "Total no. of rows: 4291\n",
            "Leyendo partición número 33 de  33\n",
            "ultimo_limite_iferior: 640\n",
            "ultimo_limite_superior: 642\n",
            "leyendo desde el archivo metrica1Top10ParticionContranarrativa640a642.csv\n",
            "Total no. of rows: 1171\n"
          ]
        }
      ],
      "source": [
        "# Métrica 2 en ranking de 10 elementos\n",
        "lista_pares_métrica_1_top10_matricial_leida_de_csv = leer_metrica_1(batch_size, correr_metrica_1_hasta)\n",
        "lista_metrica_2_top10_leida_de_csv = []\n",
        "posicion_contranarrativas_encontradas = 3 \n",
        "posicion_contranarrativas_totales = 4\n",
        "cantidad_elementos_del_rankingTop10 = 10\n",
        "\n",
        "for i in range(0, len(lista_pares_métrica_1_top10_matricial_leida_de_csv)):\n",
        "  metrica_2_para_par_i = lista_pares_métrica_1_top10_matricial_leida_de_csv[i][posicion_contranarrativas_encontradas]/min(lista_pares_métrica_1_top10_matricial_leida_de_csv[i][posicion_contranarrativas_totales],cantidad_elementos_del_rankingTop10)\n",
        "  lista_metrica_2_top10_leida_de_csv.append(metrica_2_para_par_i)"
      ]
    },
    {
      "cell_type": "code",
      "execution_count": null,
      "metadata": {
        "id": "8NIzs0WhCDsi",
        "colab": {
          "base_uri": "https://localhost:8080/"
        },
        "outputId": "335f96f6-19c5-408b-b490-399e350ec8cf"
      },
      "outputs": [
        {
          "output_type": "stream",
          "name": "stdout",
          "text": [
            "largo_particion_extra 3\n",
            "cantidad_de_particiones 32\n",
            "cantidad_de_particiones_totales 33\n",
            "Leyendo partición número 1 de  33\n",
            "limite_inferior: 0\n",
            "limite_superior: 19\n",
            "leyendo desde el archivo metrica1Top10RandomContranarrativa0a19.csv\n",
            "Total no. of rows: 9895\n",
            "Leyendo partición número 2 de  33\n",
            "limite_inferior: 20\n",
            "limite_superior: 39\n",
            "leyendo desde el archivo metrica1Top10RandomContranarrativa20a39.csv\n",
            "Total no. of rows: 5239\n",
            "Leyendo partición número 3 de  33\n",
            "limite_inferior: 40\n",
            "limite_superior: 59\n",
            "leyendo desde el archivo metrica1Top10RandomContranarrativa40a59.csv\n",
            "Total no. of rows: 6597\n",
            "Leyendo partición número 4 de  33\n",
            "limite_inferior: 60\n",
            "limite_superior: 79\n",
            "leyendo desde el archivo metrica1Top10RandomContranarrativa60a79.csv\n",
            "Total no. of rows: 4657\n",
            "Leyendo partición número 5 de  33\n",
            "limite_inferior: 80\n",
            "limite_superior: 99\n",
            "leyendo desde el archivo metrica1Top10RandomContranarrativa80a99.csv\n",
            "Total no. of rows: 5627\n",
            "Leyendo partición número 6 de  33\n",
            "limite_inferior: 100\n",
            "limite_superior: 119\n",
            "leyendo desde el archivo metrica1Top10RandomContranarrativa100a119.csv\n",
            "Total no. of rows: 9119\n",
            "Leyendo partición número 7 de  33\n",
            "limite_inferior: 120\n",
            "limite_superior: 139\n",
            "leyendo desde el archivo metrica1Top10RandomContranarrativa120a139.csv\n",
            "Total no. of rows: 7761\n",
            "Leyendo partición número 8 de  33\n",
            "limite_inferior: 140\n",
            "limite_superior: 159\n",
            "leyendo desde el archivo metrica1Top10RandomContranarrativa140a159.csv\n",
            "Total no. of rows: 9507\n",
            "Leyendo partición número 9 de  33\n",
            "limite_inferior: 160\n",
            "limite_superior: 179\n",
            "leyendo desde el archivo metrica1Top10RandomContranarrativa160a179.csv\n",
            "Total no. of rows: 4851\n",
            "Leyendo partición número 10 de  33\n",
            "limite_inferior: 180\n",
            "limite_superior: 199\n",
            "leyendo desde el archivo metrica1Top10RandomContranarrativa180a199.csv\n",
            "Total no. of rows: 7761\n",
            "Leyendo partición número 11 de  33\n",
            "limite_inferior: 200\n",
            "limite_superior: 219\n",
            "leyendo desde el archivo metrica1Top10RandomContranarrativa200a219.csv\n",
            "Total no. of rows: 7179\n",
            "Leyendo partición número 12 de  33\n",
            "limite_inferior: 220\n",
            "limite_superior: 239\n",
            "leyendo desde el archivo metrica1Top10RandomContranarrativa220a239.csv\n",
            "Total no. of rows: 11253\n",
            "Leyendo partición número 13 de  33\n",
            "limite_inferior: 240\n",
            "limite_superior: 259\n",
            "leyendo desde el archivo metrica1Top10RandomContranarrativa240a259.csv\n",
            "Total no. of rows: 11641\n",
            "Leyendo partición número 14 de  33\n",
            "limite_inferior: 260\n",
            "limite_superior: 279\n",
            "leyendo desde el archivo metrica1Top10RandomContranarrativa260a279.csv\n",
            "Total no. of rows: 7761\n",
            "Leyendo partición número 15 de  33\n",
            "limite_inferior: 280\n",
            "limite_superior: 299\n",
            "leyendo desde el archivo metrica1Top10RandomContranarrativa280a299.csv\n",
            "Total no. of rows: 6985\n",
            "Leyendo partición número 16 de  33\n",
            "limite_inferior: 300\n",
            "limite_superior: 319\n",
            "leyendo desde el archivo metrica1Top10RandomContranarrativa300a319.csv\n",
            "Total no. of rows: 10283\n",
            "Leyendo partición número 17 de  33\n",
            "limite_inferior: 320\n",
            "limite_superior: 339\n",
            "leyendo desde el archivo metrica1Top10RandomContranarrativa320a339.csv\n",
            "Total no. of rows: 9507\n",
            "Leyendo partición número 18 de  33\n",
            "limite_inferior: 340\n",
            "limite_superior: 359\n",
            "leyendo desde el archivo metrica1Top10RandomContranarrativa340a359.csv\n",
            "Total no. of rows: 10477\n",
            "Leyendo partición número 19 de  33\n",
            "limite_inferior: 360\n",
            "limite_superior: 379\n",
            "leyendo desde el archivo metrica1Top10RandomContranarrativa360a379.csv\n",
            "Total no. of rows: 5045\n",
            "Leyendo partición número 20 de  33\n",
            "limite_inferior: 380\n",
            "limite_superior: 399\n",
            "leyendo desde el archivo metrica1Top10RandomContranarrativa380a399.csv\n",
            "Total no. of rows: 7374\n",
            "Leyendo partición número 21 de  33\n",
            "limite_inferior: 400\n",
            "limite_superior: 419\n",
            "leyendo desde el archivo metrica1Top10RandomContranarrativa400a419.csv\n",
            "Total no. of rows: 4269\n",
            "Leyendo partición número 22 de  33\n",
            "limite_inferior: 420\n",
            "limite_superior: 439\n",
            "leyendo desde el archivo metrica1Top10RandomContranarrativa420a439.csv\n",
            "Total no. of rows: 5627\n",
            "Leyendo partición número 23 de  33\n",
            "limite_inferior: 440\n",
            "limite_superior: 459\n",
            "leyendo desde el archivo metrica1Top10RandomContranarrativa440a459.csv\n",
            "Total no. of rows: 6597\n",
            "Leyendo partición número 24 de  33\n",
            "limite_inferior: 460\n",
            "limite_superior: 479\n",
            "leyendo desde el archivo metrica1Top10RandomContranarrativa460a479.csv\n",
            "Total no. of rows: 8343\n",
            "Leyendo partición número 25 de  33\n",
            "limite_inferior: 480\n",
            "limite_superior: 499\n",
            "leyendo desde el archivo metrica1Top10RandomContranarrativa480a499.csv\n",
            "Total no. of rows: 5239\n",
            "Leyendo partición número 26 de  33\n",
            "limite_inferior: 500\n",
            "limite_superior: 519\n",
            "leyendo desde el archivo metrica1Top10RandomContranarrativa500a519.csv\n",
            "Total no. of rows: 6015\n",
            "Leyendo partición número 27 de  33\n",
            "limite_inferior: 520\n",
            "limite_superior: 539\n",
            "leyendo desde el archivo metrica1Top10RandomContranarrativa520a539.csv\n",
            "Total no. of rows: 4269\n",
            "Leyendo partición número 28 de  33\n",
            "limite_inferior: 540\n",
            "limite_superior: 559\n",
            "leyendo desde el archivo metrica1Top10RandomContranarrativa540a559.csv\n",
            "Total no. of rows: 6597\n",
            "Leyendo partición número 29 de  33\n",
            "limite_inferior: 560\n",
            "limite_superior: 579\n",
            "leyendo desde el archivo metrica1Top10RandomContranarrativa560a579.csv\n",
            "Total no. of rows: 6597\n",
            "Leyendo partición número 30 de  33\n",
            "limite_inferior: 580\n",
            "limite_superior: 599\n",
            "leyendo desde el archivo metrica1Top10RandomContranarrativa580a599.csv\n",
            "Total no. of rows: 10283\n",
            "Leyendo partición número 31 de  33\n",
            "limite_inferior: 600\n",
            "limite_superior: 619\n",
            "leyendo desde el archivo metrica1Top10RandomContranarrativa600a619.csv\n",
            "Total no. of rows: 4274\n",
            "Leyendo partición número 32 de  33\n",
            "limite_inferior: 620\n",
            "limite_superior: 639\n",
            "leyendo desde el archivo metrica1Top10RandomContranarrativa620a639.csv\n",
            "Total no. of rows: 4291\n",
            "Leyendo partición número 33 de  33\n",
            "ultimo_limite_iferior: 640\n",
            "ultimo_limite_superior: 642\n",
            "leyendo desde el archivo metrica1Top10RandomContranarrativa640a642.csv\n",
            "Total no. of rows: 1171\n"
          ]
        }
      ],
      "source": [
        "# Métrica 2 en ranking random de 10 elementos\n",
        "lista_pares_métrica_1_top10_matricial_leida_de_csv_random = leer_metrica_1(batch_size, correr_metrica_1_hasta, True)\n",
        "lista_metrica_2_top10_leida_de_csv_random = []\n",
        "posicion_contranarrativas_encontradas = 3 \n",
        "posicion_contranarrativas_totales = 4\n",
        "cantidad_elementos_del_rankingTop10 = 10\n",
        "\n",
        "for i in range(0, len(lista_pares_métrica_1_top10_matricial_leida_de_csv_random)):\n",
        "  metrica_2_para_par_i = lista_pares_métrica_1_top10_matricial_leida_de_csv_random[i][posicion_contranarrativas_encontradas]/min(lista_pares_métrica_1_top10_matricial_leida_de_csv_random[i][posicion_contranarrativas_totales],cantidad_elementos_del_rankingTop10)\n",
        "  lista_metrica_2_top10_leida_de_csv_random.append(metrica_2_para_par_i)"
      ]
    },
    {
      "cell_type": "markdown",
      "metadata": {
        "id": "pyzTl47zYQkO"
      },
      "source": [
        "# **Métrica 3: promedio de métrica 2:**"
      ]
    },
    {
      "cell_type": "markdown",
      "metadata": {
        "id": "NrTsZRR_YX6j"
      },
      "source": [
        "metrica_3 será el promedio de la metrica_2."
      ]
    },
    {
      "cell_type": "markdown",
      "metadata": {
        "id": "kfmoiuLQ4ajN"
      },
      "source": [
        "##Aplico métrica 3 leída desde csv:"
      ]
    },
    {
      "cell_type": "code",
      "execution_count": null,
      "metadata": {
        "id": "mQFZBzvS4dVu",
        "colab": {
          "base_uri": "https://localhost:8080/"
        },
        "outputId": "32381446-6a23-48d4-bd78-90af5277cf76"
      },
      "outputs": [
        {
          "output_type": "stream",
          "name": "stdout",
          "text": [
            "Métrica 3, con ranking de 10 elementos: 0.22295597248740373\n"
          ]
        }
      ],
      "source": [
        "metrica_3_top10_csv = sum(lista_metrica_2_top10_leida_de_csv)/len(lista_metrica_2_top10_leida_de_csv)\n",
        "print('Métrica 3, con ranking de 10 elementos:', metrica_3_top10_csv)"
      ]
    },
    {
      "cell_type": "code",
      "execution_count": null,
      "metadata": {
        "id": "haqtG9yVBQZo",
        "colab": {
          "base_uri": "https://localhost:8080/"
        },
        "outputId": "db36fb02-ca1c-478a-a74f-8e81eedc0257"
      },
      "outputs": [
        {
          "output_type": "stream",
          "name": "stdout",
          "text": [
            "Métrica 3, con ranking de 10 elementos elegidos al azar: 0.017591715918857415\n"
          ]
        }
      ],
      "source": [
        "# Calculo la métrica 3 para el ranking random de 10 elementos.\n",
        "metrica_3_top10_random = sum(lista_metrica_2_top10_leida_de_csv_random)/len(lista_metrica_2_top10_leida_de_csv_random)\n",
        "print('Métrica 3, con ranking de 10 elementos elegidos al azar:', metrica_3_top10_random)"
      ]
    },
    {
      "cell_type": "markdown",
      "metadata": {
        "id": "nG5CGWORBw1b"
      },
      "source": [
        "## Guardo los resultados de métrica 3 en archivos (se guardan en la notebook si se corre desde Google Colab y se guardan en la ubicación del script si se corre desde un script .py)."
      ]
    },
    {
      "cell_type": "markdown",
      "metadata": {
        "id": "vM8qgfXX7k8Y"
      },
      "source": [
        "#####Fixme:acá hay muchísimo código repedito, sacar."
      ]
    },
    {
      "cell_type": "code",
      "execution_count": null,
      "metadata": {
        "id": "sH9PzsGB7DzJ",
        "colab": {
          "base_uri": "https://localhost:8080/"
        },
        "outputId": "e72404fa-66fe-46c1-e04a-b1e31c851c81"
      },
      "outputs": [
        {
          "output_type": "stream",
          "name": "stdout",
          "text": [
            "Guardando outputs de la métrica 3\n"
          ]
        }
      ],
      "source": [
        "print('Guardando outputs de la métrica 3')"
      ]
    },
    {
      "cell_type": "code",
      "execution_count": null,
      "metadata": {
        "id": "ZRb0RyFH7k8Z",
        "colab": {
          "base_uri": "https://localhost:8080/"
        },
        "outputId": "99e5e827-66c8-484d-d330-cf6eb0319cf5"
      },
      "outputs": [
        {
          "output_type": "stream",
          "name": "stdout",
          "text": [
            "Done\n"
          ]
        }
      ],
      "source": [
        "# Voy a guardar el output de la métrica 3, top 10 en un archivo:\n",
        "with open(r'metrica_3_top10_csv.txt', 'w') as fp:\n",
        "    fp.write(str(metrica_3_top10_csv))\n",
        "    print('Done')\n"
      ]
    },
    {
      "cell_type": "markdown",
      "source": [
        "# Metricas para rankings:"
      ],
      "metadata": {
        "id": "UzeY3cXwtZVS"
      }
    },
    {
      "cell_type": "markdown",
      "source": [
        "## Mean reciprocal rank\n"
      ],
      "metadata": {
        "id": "6AlhsbTXtfMm"
      }
    },
    {
      "cell_type": "markdown",
      "source": [
        "The mean reciprocal rank is a statistic measure for evaluating any process that produces a list of possible responses to a sample of queries, ordered by probability of correctness. The reciprocal rank of a query response is the multiplicative inverse of the rank of the first correct answer: 1 for first place, 1⁄2 for second place, 1⁄3 for third place and so on. If none of the proposed results are correct, reciprocal rank is 0. The mean reciprocal rank is the average of the reciprocal ranks of results for a sample of queries Q:\n",
        "\n",
        "![meanReciprocalRank.svg](data:image/svg+xml;base64,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)\n",
        "\n",
        "\n",
        "where *rank_i* refers to the rank position of the first relevant document for the i-th query."
      ],
      "metadata": {
        "id": "74Wdui7jtlHx"
      }
    },
    {
      "cell_type": "code",
      "source": [
        "cantidad_de_querys = len(lista_pares_métrica_1_top10_matricial_leida_de_csv)\n",
        "cantidad_de_querys"
      ],
      "metadata": {
        "id": "iwz0DOOGDx3c",
        "colab": {
          "base_uri": "https://localhost:8080/"
        },
        "outputId": "55b6bb6c-c8e4-4a2c-8d12-b7030b841e1b"
      },
      "execution_count": null,
      "outputs": [
        {
          "output_type": "execute_result",
          "data": {
            "text/plain": [
              "232058"
            ]
          },
          "metadata": {},
          "execution_count": 63
        }
      ]
    },
    {
      "cell_type": "code",
      "source": [
        "def mean_reciprocal_rank (lista_pares_métrica_1_top10):\n",
        "  largo_ranking_1 = len(lista_pares_métrica_1_top10[0])\n",
        "  cantidad_de_querys = len(lista_pares_métrica_1_top10)\n",
        "  indice_indicador_de_contranarrativa_correcta = 2 \n",
        "  list_of_rank_i = []\n",
        "  offset_primer_elemento_del_ranking = 4\n",
        "\n",
        "  for i in range(0, len(lista_pares_métrica_1_top10)):\n",
        "    for j in range (5,largo_ranking_1):\n",
        "      if(lista_pares_métrica_1_top10[i][j][indice_indicador_de_contranarrativa_correcta] == 1):\n",
        "        list_of_rank_i.append(j-offset_primer_elemento_del_ranking) # Fixme: j-offset_primer_elemento_del_ranking = corresonde al puesto en el Top 10 de la contranarrativa correcta para odio_k (contando desde 1).\n",
        "        break\n",
        "\n",
        "  np_array_of_rank_i = np.array(list_of_rank_i)\n",
        "  return (1 / np_array_of_rank_i).sum()/cantidad_de_querys"
      ],
      "metadata": {
        "id": "HzfZlwFCvsQh"
      },
      "execution_count": null,
      "outputs": []
    },
    {
      "cell_type": "code",
      "source": [
        "mean_reciprocal_rank(lista_pares_métrica_1_top10_matricial_leida_de_csv)"
      ],
      "metadata": {
        "id": "hkBeIehmGCeC",
        "colab": {
          "base_uri": "https://localhost:8080/"
        },
        "outputId": "3f664764-464c-4fee-c941-6860731a2a03"
      },
      "execution_count": null,
      "outputs": [
        {
          "output_type": "execute_result",
          "data": {
            "text/plain": [
              "0.3405048351349491"
            ]
          },
          "metadata": {},
          "execution_count": 65
        }
      ]
    },
    {
      "cell_type": "code",
      "source": [
        "mean_reciprocal_rank(lista_pares_métrica_1_top10_matricial_leida_de_csv_random)"
      ],
      "metadata": {
        "id": "_pwLXPCCujj2",
        "colab": {
          "base_uri": "https://localhost:8080/"
        },
        "outputId": "7cbf3a16-da0d-4065-8f38-318c8562936b"
      },
      "execution_count": null,
      "outputs": [
        {
          "output_type": "execute_result",
          "data": {
            "text/plain": [
              "0.0"
            ]
          },
          "metadata": {},
          "execution_count": 66
        }
      ]
    },
    {
      "cell_type": "code",
      "source": [
        "asdfasdfadf"
      ],
      "metadata": {
        "colab": {
          "base_uri": "https://localhost:8080/",
          "height": 165
        },
        "id": "iLQiE6J76aUX",
        "outputId": "46e9ba2f-4e8e-46a3-8987-8c43e7f23c34"
      },
      "execution_count": null,
      "outputs": [
        {
          "output_type": "error",
          "ename": "NameError",
          "evalue": "ignored",
          "traceback": [
            "\u001b[0;31m---------------------------------------------------------------------------\u001b[0m",
            "\u001b[0;31mNameError\u001b[0m                                 Traceback (most recent call last)",
            "\u001b[0;32m<ipython-input-67-921e576aef22>\u001b[0m in \u001b[0;36m<module>\u001b[0;34m\u001b[0m\n\u001b[0;32m----> 1\u001b[0;31m \u001b[0masdfasdfadf\u001b[0m\u001b[0;34m\u001b[0m\u001b[0;34m\u001b[0m\u001b[0m\n\u001b[0m",
            "\u001b[0;31mNameError\u001b[0m: name 'asdfasdfadf' is not defined"
          ]
        }
      ]
    },
    {
      "cell_type": "markdown",
      "source": [
        "# Sanity Checks y pruebas a mano."
      ],
      "metadata": {
        "id": "hgzOdYrr6ROV"
      }
    },
    {
      "cell_type": "markdown",
      "metadata": {
        "id": "5QSLWL2tvHIe"
      },
      "source": [
        "## De acá para arriba es el Script, para abajo vienen pruebas a mano y Sanity checks."
      ]
    },
    {
      "cell_type": "markdown",
      "metadata": {
        "id": "FHoqiktxYR-z"
      },
      "source": [
        "#Prueba de hipótesis a mano: un embedding calculado como propone la hipótesis comparado contra todo el dataset"
      ]
    },
    {
      "cell_type": "markdown",
      "metadata": {
        "id": "rMQLOUDZYaZM"
      },
      "source": [
        "Voy a hacer una prueba a mano de la versión del experimento que es más fácil de implementar, es decir:\n",
        "1. Partir del embedding de contranarrativa_1.\n",
        "2. Al embedding de contranarrativa_1, restarle el embedding de odio_1. Suponiendo que esto nos deja en el espacio vectorial cercano a \"contranarrativa sin mensaje de odio asignado\".\n",
        "3. Sumarle el embedding de odio_2 y esperar que esto nos deje en el espacio vectorial cercano al embedding de contranarrativa_2.\n",
        "\n",
        "\n",
        "\n",
        "El plan es:\n",
        "\n",
        "1. Voy a elegir una contranarrativa_1 a mano y voy a buscar su sentence embedding.\n",
        "2. Voy a elegir odio_1 (el mensaje de odio que le corresponde a contranarrativa_1 en el dataset del CONAN), voy a buscar su sentence embedding y restarselo a embedding de contranarrativa_1.\n",
        "3. Voy a elegir un mensaje odio_2, voy a buscar su sentence embedding y voy a sumárselo al resultado del paso 2.\n",
        "4. Voy a calcular la similaridad coseno entre el resultado del paso anterior y los embeddings de todas las **contranarratiavs del Conan**. Espero que la que tenga valor más alto, corresponda a una contranarrativa que \"sirva\" (en sentido de que contraargumente) contra al mensaje odio_2, idealmente quiero que sea una contranarrativa que en el dataset original (Conan), aparezca asignada a odio_2. "
      ]
    },
    {
      "cell_type": "markdown",
      "metadata": {
        "id": "JUSMgCNzhYM2"
      },
      "source": [
        "## **Nota al márgen: Cómo elegir pares de contranarrativas y discursos de odio para las pruebas a mano**"
      ]
    },
    {
      "cell_type": "markdown",
      "metadata": {
        "id": "t3n708GKhgdC"
      },
      "source": [
        "Se puede elegir un odio_2 tal que sea muy diferente a odio_1 (también se puede elegir un odio_2 tal que sea muy similar a odio_1), además hay discursos de odio a los que se responde con distintas contranarrativas, puedo elegir odio_1=odio_2 y contranarrativa_1 != contranarrativa_2. También los puedo elegir según su similitud coseno (similitud coseno entre contranarrativa_1 y contranarrativa_2 y entre odio_1 y odio_2)."
      ]
    },
    {
      "cell_type": "markdown",
      "metadata": {
        "id": "szn8ZS-IeyY7"
      },
      "source": [
        "## **Prueba a mano n1:**"
      ]
    },
    {
      "cell_type": "markdown",
      "metadata": {
        "id": "wjl056lSe4op"
      },
      "source": [
        "En esta primera prueba, voy a elegir los mensaje de odio y sus contranarrativas sin pensar demasiado cómo los elijo.\n",
        "\n",
        "Elijo:\n",
        "\n",
        "* contranarrativa_1: To be fair, the OFSTED report is more concerned with lack of enforcement and less about focussing on the practice of any particular faith.\n",
        "\n",
        "El mensaje de odio que le corresponde es:\n",
        "* odio_1: \tAccording to a recent OFSTED report, a school in Birmingham is still segregating girls and boys, despite a Hight Court ruling in 2017 that this is unlawful.\n",
        "\n",
        "\n",
        "* contranarrativa_2: While this story is presented as an 'Islamic issue', the OFSTED report refers to 'countless' faith schools still that still illegally maintain gender segregation - my guess is this is a cross-faith practice and not exclusive to Islamic faith schools.\n",
        "\n",
        "El mensaje de odio que le corresponde es:\n",
        "\n",
        "* odio_2: In Birmingham there is a school where girls and boys are separeted even if it isn't legal.\t\n"
      ]
    },
    {
      "cell_type": "markdown",
      "metadata": {
        "id": "ktQksHr_i83q"
      },
      "source": [
        "#### **Ejecución del plan:**"
      ]
    },
    {
      "cell_type": "markdown",
      "metadata": {
        "id": "BKkbio0z-Zf8"
      },
      "source": [
        "##### 1. Voy a elegir una contranarrativa_1 a mano y voy a buscar su sentence embedding"
      ]
    },
    {
      "cell_type": "markdown",
      "metadata": {
        "id": "rW_VUxYnjFIK"
      },
      "source": [
        "* contranarrativa_1: To be fair, the OFSTED report is more concerned with lack of enforcement and less about focussing on the practice of any particular faith."
      ]
    },
    {
      "cell_type": "code",
      "execution_count": null,
      "metadata": {
        "id": "ci_eXdhce3uJ"
      },
      "outputs": [],
      "source": [
        "#Busco el índice de contranarrativa_1.\n",
        "i = counternarratives_conan_list_sin_repetidos.index('To be fair, the OFSTED report is more concerned with lack of enforcement and less about focussing on the practice of any particular faith.')"
      ]
    },
    {
      "cell_type": "code",
      "execution_count": null,
      "metadata": {
        "id": "tiVho07L4kMu"
      },
      "outputs": [],
      "source": [
        "#Chequeo que efectivamente el índice obtenido corresponda a contranarrativa_1 (si es así, esta celda debe devolver true):\n",
        "counternarratives_conan_list_sin_repetidos[i] == 'To be fair, the OFSTED report is more concerned with lack of enforcement and less about focussing on the practice of any particular faith.'"
      ]
    },
    {
      "cell_type": "code",
      "execution_count": null,
      "metadata": {
        "id": "x_crISU33suO"
      },
      "outputs": [],
      "source": [
        "contranarrativa_1_embedding_creado_por_lista = embeddings_counternarratives_conan_list_sin_repetidos_creado_por_lista[i];"
      ]
    },
    {
      "cell_type": "code",
      "execution_count": null,
      "metadata": {
        "id": "iXck30tkV-JP"
      },
      "outputs": [],
      "source": [
        "# Comento esta celda, porque como no está dando el mismo embedding, no quiero por error utilizar embedding_contranarrativa_1\n",
        "#Genero el embedding para la contranarrativa_1 \n",
        "#embedding_contranarrativa_1 = model.encode(counternarratives_conan_list_sin_repetidos[i], convert_to_tensor=True)"
      ]
    },
    {
      "cell_type": "code",
      "execution_count": null,
      "metadata": {
        "id": "pJH7N4WyvtaO"
      },
      "outputs": [],
      "source": [
        "# Fixme: yo espero que esta comparación me de true, pero da false. \n",
        "#(contranarrativa_1_embedding_creado_por_lista==embedding_contranarrativa_1).all()"
      ]
    },
    {
      "cell_type": "code",
      "execution_count": null,
      "metadata": {
        "id": "Nqqjj0t9vys3"
      },
      "outputs": [],
      "source": [
        "#contranarrativa_1_embedding_creado_por_lista.shape"
      ]
    },
    {
      "cell_type": "code",
      "execution_count": null,
      "metadata": {
        "id": "gTw2YyGMv0gP"
      },
      "outputs": [],
      "source": [
        "#embedding_contranarrativa_1.shape"
      ]
    },
    {
      "cell_type": "code",
      "execution_count": null,
      "metadata": {
        "id": "cE_gy5IVeGsb"
      },
      "outputs": [],
      "source": [
        "# Comento esta celda, porque como no está dando el mismo embedding, no quiero por error utilizar embedding_contranarrativa_1\n",
        "\n",
        "#Chequeo si el embedding_contranarrativa_1 es igual al embedding que cree con la lista más arriba (esta \n",
        "# celda no hace al experimento todavía, pero me sirve para saber que puedo calcular los embeddings de varias\n",
        "# maneras). Si los embeddings son iguales, esta celda debe devolver true:\n",
        "#np.array_equal(embedding_contranarrativa_1[0], embeddings_counternarratives_conan_list_sin_repetidos_creado_por_lista[i])"
      ]
    },
    {
      "cell_type": "markdown",
      "metadata": {
        "id": "pzoSB1d9-ncg"
      },
      "source": [
        "##### 2. Voy a elegir odio_1 (el mensaje de odio que le corresponde a contranarrativa_1 en el dataset del CONAN), voy a generar su sentence embedding y restarselo a embedding de contranarrativa_1."
      ]
    },
    {
      "cell_type": "markdown",
      "metadata": {
        "id": "eFdFqP3HxCXA"
      },
      "source": [
        "\n",
        "\n",
        "Se que odio_1 es el siguiente, porque lo encuentro revisando el dataframe del conan:\n",
        "\n",
        "* odio_1: According to a recent OFSTED report, a school in Birmingham is still segregating girls and boys, despite a Hight Court ruling in 2017 that this is unlawful."
      ]
    },
    {
      "cell_type": "code",
      "execution_count": null,
      "metadata": {
        "id": "-rCKTePDxPV-"
      },
      "outputs": [],
      "source": [
        "# Busco el índice de odio_1.\n",
        "j = hate_speech_conan_list_sin_repetidos.index('According to a recent OFSTED report, a school in Birmingham is still segregating girls and boys, despite a Hight Court ruling in 2017 that this is unlawful.')"
      ]
    },
    {
      "cell_type": "code",
      "execution_count": null,
      "metadata": {
        "id": "z4-y2VFV51s2"
      },
      "outputs": [],
      "source": [
        "#Chequeo que efectivamente el índice obtenido corresponda a odio_1  (si es así, esta celda debe devolver true):\n",
        "hate_speech_conan_list_sin_repetidos[j] == 'According to a recent OFSTED report, a school in Birmingham is still segregating girls and boys, despite a Hight Court ruling in 2017 that this is unlawful.'"
      ]
    },
    {
      "cell_type": "code",
      "execution_count": null,
      "metadata": {
        "id": "gbIoAnYK4FWt"
      },
      "outputs": [],
      "source": [
        "odio_1_embedding_creado_por_lista = embeddings_hate_speech_conan_list_sin_repetidos_creado_por_lista[j];"
      ]
    },
    {
      "cell_type": "code",
      "execution_count": null,
      "metadata": {
        "id": "gpwO30PUYP5o"
      },
      "outputs": [],
      "source": [
        "# Comento esta celda, porque como no está dando el mismo embedding, no quiero por error utilizar embedding_odio_1\n",
        "\n",
        "#Genero el embedding para odio_1\n",
        "#embedding_odio_1 = model.encode(hate_speech_conan_list_sin_repetidos[j], convert_to_tensor=True)"
      ]
    },
    {
      "cell_type": "code",
      "execution_count": null,
      "metadata": {
        "id": "MUpm0ldfYfs6"
      },
      "outputs": [],
      "source": [
        "# Comento esta celda, porque como no está dando el mismo embedding, no quiero por error utilizar embedding_odio_1\n",
        "\n",
        "#Chequeo si el embedding_odio_1 es igual al embedding que cree con un for loop más arriba (esta celda no\n",
        "# hace al experimento todavía, pero me sirve para saber que puedo calcular los embeddings de varias maneras):\n",
        "#np.array_equal(embedding_odio_1, embeddings_hate_speech_conan_list_sin_repetidos_creado_por_lista[j])"
      ]
    },
    {
      "cell_type": "code",
      "execution_count": null,
      "metadata": {
        "id": "Ve75XaVk50Vj"
      },
      "outputs": [],
      "source": [
        "# Resto el embedding de odio_1 al de contranarrativa_1.\n",
        "embedding_contranarrativa_1_sin_discurso_de_odio_1 = contranarrativa_1_embedding_creado_por_lista - odio_1_embedding_creado_por_lista"
      ]
    },
    {
      "cell_type": "code",
      "execution_count": null,
      "metadata": {
        "id": "M-v3v-BE0bct"
      },
      "outputs": [],
      "source": [
        "# Sanity check: comparo con la función subtract (hace element-wise substraction). \n",
        "# Espero que esta celda me de true.\n",
        "embedding_contranarrativa_1_sin_discurso_de_odio_1_subtract = np.subtract(contranarrativa_1_embedding_creado_por_lista, odio_1_embedding_creado_por_lista)\n",
        "\n",
        "(embedding_contranarrativa_1_sin_discurso_de_odio_1_subtract == embedding_contranarrativa_1_sin_discurso_de_odio_1).all()"
      ]
    },
    {
      "cell_type": "markdown",
      "metadata": {
        "id": "bKfMKdjq-uzf"
      },
      "source": [
        "##### 3. Voy a elegir un mensaje odio_2, voy a buscar su sentence embedding y voy a sumárselo al resultado del paso 2."
      ]
    },
    {
      "cell_type": "markdown",
      "metadata": {
        "id": "Y8F91SBazyOY"
      },
      "source": [
        "* odio_2: In Birmingham there is a school where girls and boys are separeted even if it isn't legal."
      ]
    },
    {
      "cell_type": "code",
      "execution_count": null,
      "metadata": {
        "id": "G0UB5ZQ6Dce1"
      },
      "outputs": [],
      "source": [
        "# Busco el índice de odio_2 para obtener su sentence embedding.\n",
        "k = hate_speech_conan_list_sin_repetidos.index('In Birmingham there is a school where girls and boys are separeted even if it isn\\'t legal.')"
      ]
    },
    {
      "cell_type": "code",
      "execution_count": null,
      "metadata": {
        "id": "VQd215NxaOep"
      },
      "outputs": [],
      "source": [
        "#Chequeo que efectivamente el índice obtenido corresponda a odio_2  (si es así, esta celda debe devolver true):\n",
        "hate_speech_conan_list_sin_repetidos[k] == 'In Birmingham there is a school where girls and boys are separeted even if it isn\\'t legal.'"
      ]
    },
    {
      "cell_type": "code",
      "execution_count": null,
      "metadata": {
        "id": "6cCfjHpl4ubo"
      },
      "outputs": [],
      "source": [
        "odio_2_embedding_creado_por_lista = embeddings_hate_speech_conan_list_sin_repetidos_creado_por_lista[k];"
      ]
    },
    {
      "cell_type": "code",
      "execution_count": null,
      "metadata": {
        "id": "yAb0A_zjactt"
      },
      "outputs": [],
      "source": [
        "# Comento esta celda, porque como no está dando el mismo embedding, no quiero por error utilizar embedding_odio_2\n",
        "\n",
        "#Genero el embedding para odio_2\n",
        "#embedding_odio_2 = model.encode([hate_speech_conan_list_sin_repetidos[k]], convert_to_tensor=True)"
      ]
    },
    {
      "cell_type": "code",
      "execution_count": null,
      "metadata": {
        "id": "8EJ8W-Whactv"
      },
      "outputs": [],
      "source": [
        "# Comento esta celda, porque como no está dando el mismo embedding, no quiero por error utilizar embedding_odio_2\n",
        "\n",
        "#Chequeo si el embedding_odio_2 es igual al embedding que cree con un for loop más arriba (esta celda no\n",
        "# hace al experimento todavía, pero me sirve para saber que puedo calcular los embeddings de varias maneras):\n",
        "#np.array_equal(embedding_odio_2, embeddings_hate_speech_conan_list_sin_repetidos_creado_por_lista[k])"
      ]
    },
    {
      "cell_type": "code",
      "execution_count": null,
      "metadata": {
        "id": "K-E6uQPKz86m"
      },
      "outputs": [],
      "source": [
        "# Sumo el embedding de odio_2 al resultado del paso 2 (embedding_contranarrativa_1_sin_discurso_de_odio_1).\n",
        "embedding_cercano_a_contranarrativa_para_odio_2 = embedding_contranarrativa_1_sin_discurso_de_odio_1 + odio_2_embedding_creado_por_lista"
      ]
    },
    {
      "cell_type": "code",
      "execution_count": null,
      "metadata": {
        "id": "NZz4fS0jD4RL"
      },
      "outputs": [],
      "source": [
        "# chequeo que el embedding embedding_cercano_a_contranarrativa_para_odio_2 tenga el mismo shape que los\n",
        "# embeddings de embeddings_hate_speech_conan_list_sin_repetidos_creado_con_for y que el emmeding\n",
        "# embedding_contranarrativa_1\n",
        "embedding_cercano_a_contranarrativa_para_odio_2.shape == embeddings_counternarratives_conan_list_sin_repetidos_creado_por_lista[0].shape == contranarrativa_1_embedding_creado_por_lista.shape"
      ]
    },
    {
      "cell_type": "code",
      "execution_count": null,
      "metadata": {
        "id": "goynlgdA5Ec7"
      },
      "outputs": [],
      "source": [
        "# Sanity check: comparo con la función add (hace element-wise addition). \n",
        "# Espero que esta celda me de true.\n",
        "embedding_cercano_a_contranarrativa_para_odio_2_add = np.add(embedding_contranarrativa_1_sin_discurso_de_odio_1, odio_2_embedding_creado_por_lista)\n",
        "\n",
        "(embedding_cercano_a_contranarrativa_para_odio_2_add == embedding_cercano_a_contranarrativa_para_odio_2).all()"
      ]
    },
    {
      "cell_type": "markdown",
      "metadata": {
        "id": "GoK7OgF5-yBV"
      },
      "source": [
        "##### 4. Voy a calcular la similaridad coseno entre el resultado del paso anterior (embedding_cercano_a_contranarrativa_para_odio_2) y los embeddings de todas las contranarrativas del Conan (embeddings_counternarratives_conan_list_sin_repetidos_creado_por_lista). "
      ]
    },
    {
      "cell_type": "markdown",
      "metadata": {
        "id": "F_L-MZfc1OE4"
      },
      "source": [
        "Espero que la que tenga valor más alto, corresponda a una contranarrativa que \"sirva\" (en sentido de que contraargumente) contra el mensaje odio_2, idealmente quiero que sea una contranarrativa que en el dataset original (Conan), aparezca asignada a odio_2.\n",
        "\n",
        "La contranarrativa correspondiente a odio_2 en el dataset es: \n",
        "contranarrativa_2: While this story is presented as an 'Islamic issue', the OFSTED report refers to 'countless' faith schools still that still illegally maintain gender segregation - my guess is this is a cross-faith practice and not exclusive to Islamic faith schools.\n",
        "\n",
        "Como mejor caso, quisiera que el embedding con similitud coseno más grande con embedding_cercano_a_contranarrativa_para_odio_2, sea el embedding de contranarrativa_2."
      ]
    },
    {
      "cell_type": "markdown",
      "metadata": {
        "id": "BNcJSsW9fasw"
      },
      "source": [
        "Antes de calcular la similaridad coseno entre embedding_cercano_a_contranarrativa_para_odio_2 y embeddings_counternarratives_conan_list_sin_repetidos_creado_con_for, voy a examinarlos para estar seguro de que son comparables."
      ]
    },
    {
      "cell_type": "markdown",
      "metadata": {
        "id": "wiJFQBqUfwDi"
      },
      "source": [
        "Puedo ver que uno es una lista embeddings y el otro es un embedding."
      ]
    },
    {
      "cell_type": "code",
      "execution_count": null,
      "metadata": {
        "id": "e0wdiYXM2ctp"
      },
      "outputs": [],
      "source": [
        "# Computo la similaridad coseno de embedding_cercano_a_contranarrativa_para_odio_2, \n",
        "#contra todos los embeddings de todas las contranarrativas del Conan.\n",
        "\n",
        "# Calculo la similaridad coseno \n",
        "cos_sim_embedding_cercano_a_contranarrativa_para_odio_2_conan = util.cos_sim(embedding_cercano_a_contranarrativa_para_odio_2, embeddings_counternarratives_conan_list_sin_repetidos_creado_por_lista)"
      ]
    },
    {
      "cell_type": "code",
      "execution_count": null,
      "metadata": {
        "id": "NFKpTGqO8RtN"
      },
      "outputs": [],
      "source": [
        "cos_sim_embedding_cercano_a_contranarrativa_para_odio_2_conan.shape "
      ]
    },
    {
      "cell_type": "code",
      "execution_count": null,
      "metadata": {
        "id": "gieJpm1-GY9b"
      },
      "outputs": [],
      "source": [
        "len(cos_sim_embedding_cercano_a_contranarrativa_para_odio_2_conan[0])"
      ]
    },
    {
      "cell_type": "code",
      "execution_count": null,
      "metadata": {
        "id": "ExU9phM4IcTX"
      },
      "outputs": [],
      "source": [
        "cos_sim_embedding_cercano_a_contranarrativa_para_odio_2_conan"
      ]
    },
    {
      "cell_type": "code",
      "execution_count": null,
      "metadata": {
        "id": "fQgaUfXv8j2p"
      },
      "outputs": [],
      "source": [
        "# Chequeo que tengo una distancia coseno por cada elemento en counternarratives_conan_list_sin_repetidos (si es así esta celda debería devolver true).\n",
        "len(counternarratives_conan_list_sin_repetidos) == len(cos_sim_embedding_cercano_a_contranarrativa_para_odio_2_conan[0])"
      ]
    },
    {
      "cell_type": "code",
      "execution_count": null,
      "metadata": {
        "id": "kF8MbJiKHMzl"
      },
      "outputs": [],
      "source": [
        "#Add all pairs to a list with their cosine similarity score\n",
        "all_sentence_combinations_cercano_a_contranarrativa_para_odio_2 = []\n",
        "for i in range(0, len(cos_sim_embedding_cercano_a_contranarrativa_para_odio_2_conan[0])):  # Fixme: mega importante: lo siguiente aplica para cuando estoy comparando un embedding contra todo el resto, cuando comparo todos contra todos, tengo que poner cos_sim, en vez de cos_sim[0]. Es importante pedirle la primera posición a cos_sim porque cos_sim es un tensor (una matriz, de 1xCantidadDeEmbedings contra los que estoy comparando al embedding i, por eso, si len(cos_sim[0])=1 y len(cos_sim[0])=CantidadDeEmbedings).\n",
        "    all_sentence_combinations_cercano_a_contranarrativa_para_odio_2.append([cos_sim_embedding_cercano_a_contranarrativa_para_odio_2_conan[0][i], i]) #fixme: mega importante, acá a cos_sim_embedding_cercano_a_contranarrativa_para_odio_2_conan le hadrcodeo un [0], porque este es un tensor de tamaño 1x29976, si quiero acceder a la primera \"fila\", necesito ese [0]. Quizás haya una forma más elegante de resolverlo."
      ]
    },
    {
      "cell_type": "code",
      "execution_count": null,
      "metadata": {
        "id": "_cWYDyeIHMhA"
      },
      "outputs": [],
      "source": [
        "all_sentence_combinations_cercano_a_contranarrativa_para_odio_2;"
      ]
    },
    {
      "cell_type": "markdown",
      "metadata": {
        "id": "6o0RDL9UlDE9"
      },
      "source": [
        "La siguiente celda está obsoleta porque ya no ordeno todas las contranarrativas según su cos_sim, sino que directamente selecciono las top N con mayor cos_sim usando la función NmaxElements"
      ]
    },
    {
      "cell_type": "code",
      "execution_count": null,
      "metadata": {
        "id": "u24kiUTSHMzo"
      },
      "outputs": [],
      "source": [
        "#Sort list by the highest cosine similarity score\n",
        "all_sentence_combinations_cercano_a_contranarrativa_para_odio_2 = sorted(all_sentence_combinations_cercano_a_contranarrativa_para_odio_2, key=lambda x: x[0], reverse=True)\n",
        "counternarratives_ranking_list =[]\n",
        "\n",
        "print(\"Ranking ordered by sentence similarity (the first 10 results):\")\n",
        "for score, i in all_sentence_combinations_cercano_a_contranarrativa_para_odio_2[0:10]: #fixme: mega importante, chequear que el rango [0:100] son 100 resultados y no 101.\n",
        "    counternarratives_ranking_list.append(counternarratives_conan_list_sin_repetidos[i])\n",
        "    print(\"{} \\t {:.4f}\".format(counternarratives_conan_list_sin_repetidos[i], cos_sim_embedding_cercano_a_contranarrativa_para_odio_2_conan[0][i])) #fixme: mega importante, acá a cos_sim_embedding_cercano_a_contranarrativa_para_odio_2_conan le hadrcodeo un [0], porque este es un tensor de tamaño 1x6803, si quiero acceder a la primera \"fila\", necesito ese [0]. Quizás haya una forma más elegante de resolverlo.   #fixme: '\\t' es un tab space. '{}' tina\n",
        "    # inputs y los coloca donde aparece el '{}' (en este caso, el primer parámetro es sentences[i]). {:.4f} es algo de la función format, que no busqué todavía."
      ]
    },
    {
      "cell_type": "markdown",
      "metadata": {
        "id": "P4vk44PzhdnE"
      },
      "source": [
        "## Métricas a mano para la prueba mano n1:"
      ]
    },
    {
      "cell_type": "markdown",
      "metadata": {
        "id": "b5z_pCsqmuhj"
      },
      "source": [
        "Busco la forma de dado un tuit de odio, obtener todas sus contranarrativas en Conan. Lo resuelvo así:"
      ]
    },
    {
      "cell_type": "code",
      "execution_count": null,
      "metadata": {
        "id": "u-KhtThChhMC"
      },
      "outputs": [],
      "source": [
        "df_contranarrativas_en_conan_para_odio_2=sentences_conan.loc[sentences_conan['hateSpeech'] == 'In Birmingham there is a school where girls and boys are separeted even if it isn\\'t legal.', 'counterSpeech']\n",
        "df_contranarrativas_en_conan_para_odio_2"
      ]
    },
    {
      "cell_type": "markdown",
      "metadata": {
        "id": "tLhpKEkYn-O_"
      },
      "source": [
        "Busco forma de chequear si una frase está en un dataframe:"
      ]
    },
    {
      "cell_type": "code",
      "execution_count": null,
      "metadata": {
        "id": "tRe5LWwUnvj6"
      },
      "outputs": [],
      "source": [
        "'To be fair, the OFSTED report is more concerned with lack of enforcement and less about focussing on the practice of any particular faith.' in df_contranarrativas_en_conan_para_odio_2.values"
      ]
    },
    {
      "cell_type": "markdown",
      "metadata": {
        "id": "PQJD-2rootcD"
      },
      "source": [
        "### Métrica 1: cuántos de las top 10 contranarrativas sugeridas en el ranking, efectivamente aparecen en el Conan como contranarrativas para el discurso de odio_2"
      ]
    },
    {
      "cell_type": "code",
      "execution_count": null,
      "metadata": {
        "id": "MuRhPAQQpZmn"
      },
      "outputs": [],
      "source": [
        "metrica1 = 0;\n",
        "for i in range(0,len(counternarratives_ranking_list)):\n",
        "  if counternarratives_ranking_list[i] in df_contranarrativas_en_conan_para_odio_2.values :\n",
        "      metrica1 += 1;\n",
        "print('En la prueba a mano el ranking eligió',metrica1, 'de las', df_contranarrativas_en_conan_para_odio_2.shape[0],'contranarrativas que existen en el Conan')"
      ]
    },
    {
      "cell_type": "markdown",
      "metadata": {
        "id": "muXfH6CmrCZe"
      },
      "source": [
        "Hago el chequeo a mano y corroboro que la métrica está bien."
      ]
    },
    {
      "cell_type": "markdown",
      "metadata": {
        "id": "IQfyBwpM94Ae"
      },
      "source": [
        "## Hago una prueba a mano del cuerpo del for (para chequear que me da igual a la sección \"Prueba a mano n1\"):"
      ]
    },
    {
      "cell_type": "code",
      "execution_count": null,
      "metadata": {
        "id": "0naawxBXhy7v"
      },
      "outputs": [],
      "source": [
        "#Busco el índice de contranarrativa_1.\n",
        "i = counternarratives_conan_list_sin_repetidos.index('To be fair, the OFSTED report is more concerned with lack of enforcement and less about focussing on the practice of any particular faith.')"
      ]
    },
    {
      "cell_type": "code",
      "execution_count": null,
      "metadata": {
        "id": "NLWnb7sugsyk"
      },
      "outputs": [],
      "source": [
        "# La contranarrativa i es:\n",
        "counternarratives_conan_list_sin_repetidos[i]"
      ]
    },
    {
      "cell_type": "code",
      "execution_count": null,
      "metadata": {
        "id": "Pejeeg5AgQHP"
      },
      "outputs": [],
      "source": [
        "#selecciono el embedding de la contranarrativa_i\n",
        "contranarrativa_i_embedding_creado_por_lista = embeddings_counternarratives_conan_list_sin_repetidos_creado_por_lista[i];"
      ]
    },
    {
      "cell_type": "code",
      "execution_count": null,
      "metadata": {
        "id": "QQbaob4bsIQD"
      },
      "outputs": [],
      "source": [
        "#Chequeo si los siguientes dos embeddings son iguales (espero que lo sean):\n",
        "np.array_equal(contranarrativa_i_embedding_creado_por_lista, contranarrativa_1_embedding_creado_por_lista)"
      ]
    },
    {
      "cell_type": "code",
      "execution_count": null,
      "metadata": {
        "id": "xbGMWsbBg8AO"
      },
      "outputs": [],
      "source": [
        "# Busco los discursos de odio para la contranarrativa_i\n",
        "df_oido_en_conan_para_contranarrativa_i = sentences_conan.loc[sentences_conan['counterSpeech'] == counternarratives_conan_list_sin_repetidos[i], 'hateSpeech']\n",
        "df_oido_en_conan_para_contranarrativa_i"
      ]
    },
    {
      "cell_type": "code",
      "execution_count": null,
      "metadata": {
        "id": "GVpMno-oiI6e"
      },
      "outputs": [],
      "source": [
        "# Elijo uno de los discursos de odio para la conranarrativa_i (la llamo odio_i). \n",
        "# Fixme: acá tengo más de una opción para elegir un discurso de odio para la \n",
        "# contranarrativa_i (tengo que pensar de que forma voy a elegir entre las diferentes opciones),\n",
        "# acá estoy eligiendo el hatespeech 0.\n",
        "\n",
        "odio_i = df_oido_en_conan_para_contranarrativa_i.values[0]\n",
        "odio_i\n",
        "\n"
      ]
    },
    {
      "cell_type": "code",
      "execution_count": null,
      "metadata": {
        "id": "GwRWmq_mgTWR"
      },
      "outputs": [],
      "source": [
        "# Busco el embedding de uno de los mensajes de odio de los que aparecen junto a contranarrativa_i en Conan \n",
        "# (fixme: para una contranarrativa puede haber varios mensajes de odio, decidir que hago todos ellos).\n",
        "\n",
        "# Busco el índice de odio_i.\n",
        "indice_odio_i = hate_speech_conan_list_sin_repetidos.index(odio_i)\n",
        "\n",
        "# Busco el embedding para odio_i\n",
        "odio_i_embedding_creado_por_lista = embeddings_hate_speech_conan_list_sin_repetidos_creado_por_lista[indice_odio_i]"
      ]
    },
    {
      "cell_type": "code",
      "source": [
        "indice_odio_i"
      ],
      "metadata": {
        "id": "l-kMrLZ80hQS"
      },
      "execution_count": null,
      "outputs": []
    },
    {
      "cell_type": "code",
      "execution_count": null,
      "metadata": {
        "id": "UInd_wjDutPT"
      },
      "outputs": [],
      "source": [
        "#chequeo si odio_i == odio_1\n",
        "hate_speech_conan_list_sin_repetidos[indice_odio_i] == hate_speech_conan_list_sin_repetidos[0]"
      ]
    },
    {
      "cell_type": "code",
      "execution_count": null,
      "metadata": {
        "id": "8g5MYNnbsZA0"
      },
      "outputs": [],
      "source": [
        "#Chequeo si el embeddings de odio_i y de odio_1 son iguales (espero que lo sean):\n",
        "np.array_equal(odio_i_embedding_creado_por_lista, odio_1_embedding_creado_por_lista)"
      ]
    },
    {
      "cell_type": "code",
      "execution_count": null,
      "metadata": {
        "id": "tJhtN2-ppjla"
      },
      "outputs": [],
      "source": [
        "# Resto el embedding de odio_i al de contranarrativa_i.\n",
        "embedding_contranarrativa_i_sin_discurso_de_odio_i = contranarrativa_i_embedding_creado_por_lista - odio_i_embedding_creado_por_lista"
      ]
    },
    {
      "cell_type": "code",
      "execution_count": null,
      "metadata": {
        "id": "fMiDqm9Awz6f"
      },
      "outputs": [],
      "source": [
        "#Chequeo si embedding_contranarrativa_i_sin_discurso_de_odio_i y embedding_contranarrativa_1_sin_discurso_de_odio_1 son iguales (espero que lo sean):\n",
        "np.array_equal(embedding_contranarrativa_i_sin_discurso_de_odio_i, embedding_contranarrativa_1_sin_discurso_de_odio_1)\n"
      ]
    },
    {
      "cell_type": "code",
      "execution_count": null,
      "metadata": {
        "id": "CyKFkHNjqcpi"
      },
      "outputs": [],
      "source": [
        "# Elijo un mensaje odio_k (distinto a odio_i)\n",
        "# Fixme: acá puedo elegir cualquier mensaje de odio, quisiera que no sea odio_i, tengo que \n",
        "# eleigr una forma de elegir a odio_k\n",
        "odio_k = hate_speech_conan_list_sin_repetidos[k]\n",
        "odio_k"
      ]
    },
    {
      "cell_type": "code",
      "execution_count": null,
      "metadata": {
        "id": "HrHXBwIhpoi-"
      },
      "outputs": [],
      "source": [
        "# Busco el embedding de odio_k embedding\n",
        "odio_k_embedding_creado_por_lista = embeddings_hate_speech_conan_list_sin_repetidos_creado_por_lista[k];"
      ]
    },
    {
      "cell_type": "code",
      "execution_count": null,
      "metadata": {
        "id": "DVKuUMqixUyd"
      },
      "outputs": [],
      "source": [
        "#Chequeo si el embeddings de odio_k y de odio_2 son iguales (espero que lo sean):\n",
        "np.array_equal(odio_k_embedding_creado_por_lista, odio_2_embedding_creado_por_lista)"
      ]
    },
    {
      "cell_type": "code",
      "execution_count": null,
      "metadata": {
        "id": "AbgNDam3rsYH"
      },
      "outputs": [],
      "source": [
        "# Sumo el embedding de odio_K a embedding_contranarrativa_i_sin_discurso_de_odio_i.\n",
        "embedding_cercano_a_contranarrativa_para_odio_k = embedding_contranarrativa_i_sin_discurso_de_odio_i + odio_k_embedding_creado_por_lista"
      ]
    },
    {
      "cell_type": "code",
      "execution_count": null,
      "metadata": {
        "id": "84HjfCLjr2hu"
      },
      "outputs": [],
      "source": [
        "#Chequeo si el embedding_cercano_a_contranarrativa_para_odio_k y embedding_cercano_a_contranarrativa_para_odio_2 son iguales (espero que lo sean):\n",
        "np.array_equal(embedding_cercano_a_contranarrativa_para_odio_k, embedding_cercano_a_contranarrativa_para_odio_2)"
      ]
    },
    {
      "cell_type": "code",
      "execution_count": null,
      "metadata": {
        "id": "euTRr4OBlHUr"
      },
      "outputs": [],
      "source": [
        "# Calculo la similaridad coseno entre el resultado del paso anterior (embedding_cercano_a_contranarrativa_para_odio_k) y los embeddings de todas las contranarrativas del Conan (embeddings_counternarratives_conan_list_sin_repetidos_creado_por_lista).\n",
        "cos_sim_embedding_cercano_a_contranarrativa_para_odio_k_conan = util.cos_sim(embedding_cercano_a_contranarrativa_para_odio_k, embeddings_counternarratives_conan_list_sin_repetidos_creado_por_lista)\n",
        "\n",
        "#Add all pairs to a list with their cosine similarity score\n",
        "all_sentence_combinations_cercano_a_contranarrativa_para_odio_k = []\n",
        "for h in range(0, len(cos_sim_embedding_cercano_a_contranarrativa_para_odio_k_conan[0])):  # Fixme: mega importante: lo siguiente aplica para cuando estoy comparando un embedding contra todo el resto, cuando comparo todos contra todos, tengo que poner cos_sim, en vez de cos_sim[0]. Es importante pedirle la primera posición a cos_sim porque cos_sim es un tensor (una matriz, de 1xCantidadDeEmbedings contra los que estoy comparando al embedding h, por eso, si len(cos_sim[0])=1 y len(cos_sim[0])=CantidadDeEmbedings).\n",
        "    all_sentence_combinations_cercano_a_contranarrativa_para_odio_k.append([cos_sim_embedding_cercano_a_contranarrativa_para_odio_k_conan[0][h], h]) #fixme: mega importante, acá a cos_sim_embedding_cercano_a_contranarrativa_para_odio_k_conan le hadrcodeo un [0], porque este es un tensor de tamaño 1x29976, si quiero acceder a la primera \"fila\", necesito ese [0]. Quizás haya una forma más elegante de resolverlo\n",
        "\n",
        "#Sort list by the highest cosine similarity score\n",
        "all_sentence_combinations_cercano_a_contranarrativa_para_odio_k = sorted(all_sentence_combinations_cercano_a_contranarrativa_para_odio_k, key=lambda x: x[0], reverse=True)\n",
        "\n",
        "\n",
        "counternarratives_ranking_list =[]\n",
        "counternarretives_ranking_list_embeddings = [] # fixme: sólamente lo uso para plotear abajo.\n",
        "for score, l in all_sentence_combinations_cercano_a_contranarrativa_para_odio_k[0:10]: #fixme: mega importante, chequear que el rango [0:10] son 10 resultados y no 11.\n",
        "    counternarratives_ranking_list.append(counternarratives_conan_list_sin_repetidos[l])\n",
        "    counternarretives_ranking_list_embeddings.append(embeddings_counternarratives_conan_list_sin_repetidos_creado_por_lista[l])\n",
        "counternarretives_ranking_list_embeddings = torch.stack(counternarretives_ranking_list_embeddings, 0)\n",
        "\n",
        "df_contranarrativas_en_conan_para_odio_k = sentences_conan.loc[sentences_conan['hateSpeech'] == hate_speech_conan_list_sin_repetidos[k], 'counterSpeech'] #fixme: ojo con esto, tengo que chequear que el hate speech que me interesa es efectivamente \"hate_speech_conan_list_sin_repetidos[k]\"\n",
        "print(df_contranarrativas_en_conan_para_odio_k)\n",
        "\n",
        "metrica1 = 0;\n",
        "for m in range(0,len(counternarratives_ranking_list)):\n",
        "  if counternarratives_ranking_list[m] in df_contranarrativas_en_conan_para_odio_k.values :\n",
        "      metrica1 += 1;\n",
        "print('En la prueba a mano del cuerpo del for para el mensaje de odio número', k, 'el ranking eligió', metrica1, 'de las', df_contranarrativas_en_conan_para_odio_k.shape[0],'contranarrativas que existen en el Conan')"
      ]
    },
    {
      "cell_type": "markdown",
      "metadata": {
        "id": "N2tzUZMCUfq3"
      },
      "source": [
        "## Ploteo los embeddings del caso a mano."
      ]
    },
    {
      "cell_type": "markdown",
      "source": [
        "Contranarrativa_i = 'To be fair, the OFSTED report is more concerned with lack of enforcement and less about focussing on the practice of any particular faith.'\n",
        "\tcontranarrativa_i_embedding_creado_por_lista\n",
        "\n",
        "Odio_i = 'According to a recent OFSTED report, a school in Birmingham is still segregating girls and boys, despite a Hight Court ruling in 2017 that this is unlawful.'\n",
        "odio_i_embedding_creado_por_lista\n",
        "\n",
        "Odio_k = 'In Birmingham there is a school where girls and boys are separeted even if it isn't legal.'\n",
        "\n",
        "Contranararrativas correctas para Odio_k."
      ],
      "metadata": {
        "id": "V-2eLuUhfI_w"
      }
    },
    {
      "cell_type": "markdown",
      "source": [
        "## Ploteo contranarrativa_i, odio_i y odio_k, el ranking Top 10 y las contranarrativas para odio_k usando PCA."
      ],
      "metadata": {
        "id": "KbAzS9GhmNco"
      }
    },
    {
      "cell_type": "code",
      "source": [
        "counternarretives_ranking_list_embeddings.shape"
      ],
      "metadata": {
        "id": "DFWQ6B9q9nNB",
        "colab": {
          "base_uri": "https://localhost:8080/",
          "height": 165
        },
        "outputId": "5d658c4b-1be7-43cd-8071-b7c4bf7126ad"
      },
      "execution_count": null,
      "outputs": [
        {
          "output_type": "error",
          "ename": "NameError",
          "evalue": "ignored",
          "traceback": [
            "\u001b[0;31m---------------------------------------------------------------------------\u001b[0m",
            "\u001b[0;31mNameError\u001b[0m                                 Traceback (most recent call last)",
            "\u001b[0;32m<ipython-input-68-350408b2f237>\u001b[0m in \u001b[0;36m<module>\u001b[0;34m\u001b[0m\n\u001b[0;32m----> 1\u001b[0;31m \u001b[0mcounternarretives_ranking_list_embeddings\u001b[0m\u001b[0;34m.\u001b[0m\u001b[0mshape\u001b[0m\u001b[0;34m\u001b[0m\u001b[0;34m\u001b[0m\u001b[0m\n\u001b[0m",
            "\u001b[0;31mNameError\u001b[0m: name 'counternarretives_ranking_list_embeddings' is not defined"
          ]
        }
      ]
    },
    {
      "cell_type": "code",
      "source": [
        "odio_i_embedding_creado_por_lista[None, :].shape"
      ],
      "metadata": {
        "id": "CUhWEQvA_s88"
      },
      "execution_count": null,
      "outputs": []
    },
    {
      "cell_type": "code",
      "source": [
        "# Busco los embeddings de las contranarrativas para odio_k\n",
        "contranarrativas_para_odio_k_embeddings = []\n",
        "for contranarrativa in df_contranarrativas_en_conan_para_odio_k.iteritems():\n",
        "  contranarrativas_para_odio_k_embeddings.append(embeddings_counternarratives_conan_list_sin_repetidos_creado_por_lista[counternarratives_conan_list_sin_repetidos.index(contranarrativa[1])])\n",
        "contranarrativas_para_odio_k_embeddings = torch.stack(contranarrativas_para_odio_k_embeddings, 0)\n"
      ],
      "metadata": {
        "id": "CGAlQsYYp-2A"
      },
      "execution_count": null,
      "outputs": []
    },
    {
      "cell_type": "code",
      "source": [
        "# Concateno los embeddings de contranarrativa_i, odio_i y odio_k,\n",
        "# con los embeddings del ranking Top 10 y con las contranarrativas para odio_k\n",
        "embeddings_contanarrativa_i_odio_i_odio_k_top10Contranarrat_4ContranarrativasParaOdioK =torch.cat((contranarrativa_i_embedding_creado_por_lista[None, :], odio_i_embedding_creado_por_lista[None, :], odio_k_embedding_creado_por_lista[None, :],counternarretives_ranking_list_embeddings, contranarrativas_para_odio_k_embeddings, embedding_cercano_a_contranarrativa_para_odio_k[None, :]), 0)"
      ],
      "metadata": {
        "id": "FubPIc_udpOl"
      },
      "execution_count": null,
      "outputs": []
    },
    {
      "cell_type": "code",
      "source": [
        "contranarrativas_para_odio_k_embeddings.shape"
      ],
      "metadata": {
        "id": "sbspQVOhqMmS"
      },
      "execution_count": null,
      "outputs": []
    },
    {
      "cell_type": "code",
      "execution_count": null,
      "metadata": {
        "id": "QYxDMDBBUfq3"
      },
      "outputs": [],
      "source": [
        "# Fixme: Sacado de  Hands-on Machine Learning with Scikit-Learn, Keras & \n",
        "# TensorFlow (libro): you can set n_components to be a float between 0.0 and 1.0, \n",
        "# indicating the ratio of variance you wish to preserve.\n",
        "\n",
        "# PCA: Reduzco a 3 dimensiones (ya se puede plotear).\n",
        "from sklearn.decomposition import PCA\n",
        "pca = PCA(n_components = 3)\n",
        "embeddings_contanarrativa_i_odio_i_odio_k_top10Contranarrat_4ContranarrativasParaOdioK_3d = pca.fit_transform(embeddings_contanarrativa_i_odio_i_odio_k_top10Contranarrat_4ContranarrativasParaOdioK)"
      ]
    },
    {
      "cell_type": "code",
      "source": [
        "embeddings_contanarrativa_i_odio_i_odio_k_top10Contranarrat_4ContranarrativasParaOdioK_3d.shape"
      ],
      "metadata": {
        "id": "Ro3PFzCcWfXJ"
      },
      "execution_count": null,
      "outputs": []
    },
    {
      "cell_type": "code",
      "execution_count": null,
      "metadata": {
        "id": "CvymdkSNUfq4"
      },
      "outputs": [],
      "source": [
        "from mpl_toolkits import mplot3d\n",
        "%matplotlib inline\n",
        "import numpy as np\n",
        "import matplotlib.pyplot as plt"
      ]
    },
    {
      "cell_type": "code",
      "execution_count": null,
      "metadata": {
        "id": "J3eCisQUUfq4"
      },
      "outputs": [],
      "source": [
        "# Fixme: sacado de acá: https://likegeeks.com/3d-plotting-in-python/\n",
        "fig = plt.figure()\n",
        "\n",
        "# assign categories\n",
        "categories = np.array([0, 1, 2, 3, 3, 3, 3, 3, 3, 3, 3, 3, 3, 4, 4, 4, 4, 5])\n",
        " \n",
        "# use colormap\n",
        "colormap = np.array(['r', 'g', 'b', 'y', 'm', 'c'])\n",
        "\n",
        "ax = fig.add_subplot(111, projection='3d')\n",
        "ax.set_title(\"Caso a mano PCA\")\n",
        "ax.scatter(embeddings_contanarrativa_i_odio_i_odio_k_top10Contranarrat_4ContranarrativasParaOdioK_3d[:,0],embeddings_contanarrativa_i_odio_i_odio_k_top10Contranarrat_4ContranarrativasParaOdioK_3d[:,1],embeddings_contanarrativa_i_odio_i_odio_k_top10Contranarrat_4ContranarrativasParaOdioK_3d[:,2], c=colormap[categories], alpha=.8)\n",
        "\n",
        "\n",
        "plt.show()"
      ]
    },
    {
      "cell_type": "code",
      "source": [
        "from matplotlib import pyplot \n",
        "from pylab import figure\n",
        "\n",
        "fig = figure()\n",
        "ax = fig.add_subplot(projection='3d')\n",
        "labels = ['cit1ck1', 'oi', 'ok', 'cit1ck1', 't2', 't3ck2', 't4ck3', 't5', 't6', 't7', 't8', 't9', 't90', 'cit1ck1', 't3ck2', 't4ck3', 'ck4', 'h1']\n",
        "#labels = ['contranarrativa_i', 'odio_i', 'odio_k', 'Top1', 'Top2', 'Top3', 'Top4', 'Top5', 'Top6', 'Top7', 'Top8', 'Top9', 'Top10', 'contranarrativaParaOdiok1', 'contranarrativaParaOdiok2', 'contranarrativaParaOdiok3', 'contranarrativaParaOdiok4', 'calculadoConFuncionDeDesplazamiento']\n",
        "\n",
        "\n",
        "for i in range(len(embeddings_contanarrativa_i_odio_i_odio_k_top10Contranarrat_4ContranarrativasParaOdioK_3d)): #plot each point + it's index as text above\n",
        "    ax.scatter(embeddings_contanarrativa_i_odio_i_odio_k_top10Contranarrat_4ContranarrativasParaOdioK_3d[i,0],embeddings_contanarrativa_i_odio_i_odio_k_top10Contranarrat_4ContranarrativasParaOdioK_3d[i,1],embeddings_contanarrativa_i_odio_i_odio_k_top10Contranarrat_4ContranarrativasParaOdioK_3d[i,2],color='b') \n",
        "    ax.text(embeddings_contanarrativa_i_odio_i_odio_k_top10Contranarrat_4ContranarrativasParaOdioK_3d[i,0],embeddings_contanarrativa_i_odio_i_odio_k_top10Contranarrat_4ContranarrativasParaOdioK_3d[i,1],embeddings_contanarrativa_i_odio_i_odio_k_top10Contranarrat_4ContranarrativasParaOdioK_3d[i,2],  '%s' % (labels[i]), size=10, zorder=1,  \n",
        "    color='k') \n",
        "\n",
        "ax.set_xlabel('x')\n",
        "ax.set_ylabel('y')\n",
        "ax.set_zlabel('z')\n",
        "pyplot.show()"
      ],
      "metadata": {
        "id": "-HeTWF9qKzYD"
      },
      "execution_count": null,
      "outputs": []
    },
    {
      "cell_type": "markdown",
      "metadata": {
        "id": "GwJ3be3-yXj6"
      },
      "source": [
        "# **Ploteo de Embeddings.**"
      ]
    },
    {
      "cell_type": "markdown",
      "source": [
        "## Uso PCA para dimensionality reduction a 3 dimensones."
      ],
      "metadata": {
        "id": "TQcflvMD4djT"
      }
    },
    {
      "cell_type": "markdown",
      "metadata": {
        "id": "wKX2r9AuTDyt"
      },
      "source": [
        "Por ahora sólo estoy ploteand las contranarrativas para ver cómo se plotea, cuando esté listo, tengo que ver qué otras cosas plotear.\n",
        "\n",
        "Por ahora aplico PCA dos veces:\n",
        "* En la primera, reduzco a 3 dimensiones (ya se puede plotear).\n",
        "* En la segunda reduzco tal que se conserve el 0.95 ratio of variance (sacado del libro de scikit learn).\n",
        "* Me falta aplicar PCA para reducir hasta 50 dimensiones, para después aplicar TSNE como indica el link de más abajo (https://scikit-learn.org/stable/modules/generated/sklearn.manifold.TSNE.html)."
      ]
    },
    {
      "cell_type": "markdown",
      "metadata": {
        "id": "k6IDfde3WLNS"
      },
      "source": [
        "### Ploteo los embeddings de las contranarrativas en 3D (usando PCA)."
      ]
    },
    {
      "cell_type": "code",
      "source": [
        "embeddings_counternarratives_conan_list_sin_repetidos_creado_por_lista.shape"
      ],
      "metadata": {
        "id": "IlIqo5dx6pGw"
      },
      "execution_count": null,
      "outputs": []
    },
    {
      "cell_type": "code",
      "source": [
        "embeddings_hate_speech_conan_list_sin_repetidos_creado_por_lista.shape"
      ],
      "metadata": {
        "id": "eVHWp9gH7IW9"
      },
      "execution_count": null,
      "outputs": []
    },
    {
      "cell_type": "code",
      "source": [
        "# Concateno los embeddings de contranarrativa_i, odio_i y odio_k,\n",
        "# con los embeddings del ranking Top 10 y con las contranarrativas para odio_k\n",
        "embeddings_contranarrativas_y_discursos_odio = torch.cat((embeddings_counternarratives_conan_list_sin_repetidos_creado_por_lista, embeddings_hate_speech_conan_list_sin_repetidos_creado_por_lista), 0)"
      ],
      "metadata": {
        "id": "fHBq9vvi6paz"
      },
      "execution_count": null,
      "outputs": []
    },
    {
      "cell_type": "code",
      "source": [
        "embeddings_contranarrativas_y_discursos_odio.shape"
      ],
      "metadata": {
        "id": "nh3S5RaV6pa0"
      },
      "execution_count": null,
      "outputs": []
    },
    {
      "cell_type": "code",
      "execution_count": null,
      "metadata": {
        "id": "b3gcaZxR6pa1"
      },
      "outputs": [],
      "source": [
        "# Fixme: Sacado de  Hands-on Machine Learning with Scikit-Learn, Keras & \n",
        "# TensorFlow (libro): you can set n_components to be a float between 0.0 and 1.0, \n",
        "# indicating the ratio of variance you wish to preserve.\n",
        "\n",
        "# PCA: Reduzco a 3 dimensiones (ya se puede plotear).\n",
        "from sklearn.decomposition import PCA\n",
        "pca = PCA(n_components = 3)\n",
        "embeddings_contranarrativas_y_discursos_odio_3d = pca.fit_transform(embeddings_contranarrativas_y_discursos_odio)"
      ]
    },
    {
      "cell_type": "code",
      "source": [
        "embeddings_contranarrativas_y_discursos_odio_3d.shape"
      ],
      "metadata": {
        "id": "j_BhODTq6pa2"
      },
      "execution_count": null,
      "outputs": []
    },
    {
      "cell_type": "code",
      "execution_count": null,
      "metadata": {
        "id": "hyBHkbfu6pa3"
      },
      "outputs": [],
      "source": [
        "# Fixme: sacado de acá: https://likegeeks.com/3d-plotting-in-python/\n",
        "fig = plt.figure()\n",
        "\n",
        "# assign categories\n",
        "category_counternarratives = [0] * embeddings_counternarratives_conan_list_sin_repetidos_creado_por_lista.shape[0]\n",
        "category_hate_speech = [1] * embeddings_hate_speech_conan_list_sin_repetidos_creado_por_lista.shape[0]\n",
        "categories = category_counternarratives + category_hate_speech\n",
        "\n",
        "# use colormap\n",
        "colormap = np.array(['y', 'm'])\n",
        "\n",
        "ax = fig.add_subplot(111, projection='3d')\n",
        "ax.set_title(\"Contranarrativas (amarillo) y Discursos de Odio (magenta) PCA\")\n",
        "ax.scatter(embeddings_contranarrativas_y_discursos_odio_3d[:,0],embeddings_contranarrativas_y_discursos_odio_3d[:,1],embeddings_contranarrativas_y_discursos_odio_3d[:,2], c=colormap[categories], alpha=.1)\n",
        "\n",
        "\n",
        "plt.show()"
      ]
    },
    {
      "cell_type": "markdown",
      "source": [
        "## Uso PCA para dimensionality reduction a 2 dimensones."
      ],
      "metadata": {
        "id": "hrM0rJqiJOHB"
      }
    },
    {
      "cell_type": "code",
      "execution_count": null,
      "metadata": {
        "id": "ji3vLQpK_I7Z"
      },
      "outputs": [],
      "source": [
        "# Fixme: Sacado de  Hands-on Machine Learning with Scikit-Learn, Keras & \n",
        "# TensorFlow (libro): you can set n_components to be a float between 0.0 and 1.0, \n",
        "# indicating the ratio of variance you wish to preserve.\n",
        "\n",
        "# PCA: Reduzco a 3 dimensiones (ya se puede plotear).\n",
        "from sklearn.decomposition import PCA\n",
        "pca = PCA(n_components = 2)\n",
        "embeddings_contranarrativas_y_discursos_odio_2d = pca.fit_transform(embeddings_contranarrativas_y_discursos_odio)"
      ]
    },
    {
      "cell_type": "code",
      "source": [
        "embeddings_contranarrativas_y_discursos_odio_2d.shape"
      ],
      "metadata": {
        "id": "IOq37z7b_I7a"
      },
      "execution_count": null,
      "outputs": []
    },
    {
      "cell_type": "code",
      "source": [
        "# Fixme: sacado de acá: https://likegeeks.com/3d-plotting-in-python/\n",
        "fig = plt.figure()\n",
        "\n",
        "# assign categories\n",
        "category_counternarratives = [0] * embeddings_counternarratives_conan_list_sin_repetidos_creado_por_lista.shape[0]\n",
        "category_hate_speech = [1] * embeddings_hate_speech_conan_list_sin_repetidos_creado_por_lista.shape[0]\n",
        "categories = category_counternarratives + category_hate_speech\n",
        "\n",
        "# use colormap\n",
        "colormap = np.array(['y', 'm'])\n",
        "\n",
        "ax = fig.add_subplot(111)\n",
        "ax.set_title(\"Contranarrativas (amarillo) y Discursos de Odio (magenta) PCA\")\n",
        "ax.scatter(embeddings_contranarrativas_y_discursos_odio_3d[:,0],embeddings_contranarrativas_y_discursos_odio_3d[:,1], c=colormap[categories], alpha=.2)\n",
        "\n",
        "\n",
        "plt.show()"
      ],
      "metadata": {
        "id": "kBVG_Ico--IP"
      },
      "execution_count": null,
      "outputs": []
    },
    {
      "cell_type": "markdown",
      "source": [
        "##Ploteo con T-SNE para dimensionality reduction a 3 dimensones."
      ],
      "metadata": {
        "id": "7GG5uRjrn2M8"
      }
    },
    {
      "cell_type": "markdown",
      "source": [
        "### Ploteo los embeddings de las contranarrativas en 3D (usando T-SNE)"
      ],
      "metadata": {
        "id": "R1xTgXre-_cs"
      }
    },
    {
      "cell_type": "code",
      "source": [
        "from sklearn.manifold import TSNE\n",
        "# Project the data: this step will take several seconds\n",
        "tsne = TSNE(n_components=3, init='pca', random_state=0)\n",
        "counternarratives_proj = tsne.fit_transform(embeddings_counternarratives_conan_list_sin_repetidos_creado_por_lista)"
      ],
      "metadata": {
        "id": "SX2tpa4fn4Th"
      },
      "execution_count": null,
      "outputs": []
    },
    {
      "cell_type": "code",
      "source": [
        "fig = plt.figure()\n",
        "\n",
        "ax = fig.add_subplot(111, projection='3d')\n",
        "ax.set_title(\"Counternarrativas TSNE\")\n",
        "ax.scatter(counternarratives_proj[:,0],counternarratives_proj[:,1],counternarratives_proj[:,2])\n",
        "\n",
        "plt.show()"
      ],
      "metadata": {
        "id": "jnglWcVG8tXd"
      },
      "execution_count": null,
      "outputs": []
    },
    {
      "cell_type": "markdown",
      "source": [
        "### Ploteo los embeddings de las los discursos de odio en 3D (usando T-SNE)"
      ],
      "metadata": {
        "id": "XCTMerAQ_FLL"
      }
    },
    {
      "cell_type": "code",
      "source": [
        "# Project the data: this step will take several seconds\n",
        "tsne = TSNE(n_components=3, init='pca', random_state=0)\n",
        "hateSpeech_proj = tsne.fit_transform(embeddings_hate_speech_conan_list_sin_repetidos_creado_por_lista)"
      ],
      "metadata": {
        "id": "e7P4Um3c_FLM"
      },
      "execution_count": null,
      "outputs": []
    },
    {
      "cell_type": "code",
      "source": [
        "fig = plt.figure()\n",
        "\n",
        "ax = fig.add_subplot(111, projection='3d')\n",
        "ax.set_title(\"Discursos de odio TSNE\")\n",
        "ax.scatter(hateSpeech_proj[:,0],hateSpeech_proj[:,1],hateSpeech_proj[:,2])\n",
        "\n",
        "\n",
        "plt.show()"
      ],
      "metadata": {
        "id": "9Cf0jbmj_FLN"
      },
      "execution_count": null,
      "outputs": []
    },
    {
      "cell_type": "markdown",
      "source": [
        "### Ploteo los embedddings de odio y las contranarrativa en el mismo plot en 3D (usando T-SNE)."
      ],
      "metadata": {
        "id": "XlManr0OAB3_"
      }
    },
    {
      "cell_type": "code",
      "source": [
        "fig = plt.figure()\n",
        "\n",
        "ax = fig.add_subplot(111, projection='3d')\n",
        "ax.set_title(\"Discursos de odio y contranarrativas TSNE\")\n",
        "ax.scatter(hateSpeech_proj[:,0],hateSpeech_proj[:,1],hateSpeech_proj[:,2])\n",
        "ax.scatter(counternarratives_proj[:,0],counternarratives_proj[:,1],counternarratives_proj[:,2])\n",
        "\n",
        "plt.show()"
      ],
      "metadata": {
        "id": "x5S9Jtk_AEr3"
      },
      "execution_count": null,
      "outputs": []
    },
    {
      "cell_type": "markdown",
      "source": [
        "##Ploteo con T-SNE para dimensionality reduction a 2 dimensones."
      ],
      "metadata": {
        "id": "t-6r-dtKKsMu"
      }
    },
    {
      "cell_type": "markdown",
      "source": [
        "### Ploteo los embeddings de las contranarrativas en 2D (usando T-SNE)"
      ],
      "metadata": {
        "id": "SOFWyQPSKyBJ"
      }
    },
    {
      "cell_type": "code",
      "source": [
        "from sklearn.manifold import TSNE\n",
        "# Project the data: this step will take several seconds\n",
        "tsne = TSNE(n_components=2, init='pca', random_state=0)\n",
        "counternarratives_proj2D = tsne.fit_transform(embeddings_counternarratives_conan_list_sin_repetidos_creado_por_lista)"
      ],
      "metadata": {
        "id": "TCfT4-CxKyBK"
      },
      "execution_count": null,
      "outputs": []
    },
    {
      "cell_type": "code",
      "source": [
        "fig = plt.figure()\n",
        "\n",
        "ax = fig.add_subplot(111)\n",
        "ax.set_title(\"Counternarrativas TSNE\")\n",
        "ax.scatter(counternarratives_proj2D[:,0],counternarratives_proj2D[:,1])\n",
        "\n",
        "plt.show()"
      ],
      "metadata": {
        "id": "OePN1oEgKyBM"
      },
      "execution_count": null,
      "outputs": []
    },
    {
      "cell_type": "markdown",
      "source": [
        "### Ploteo los embeddings de las los discursos de odio en 2D (usando T-SNE)"
      ],
      "metadata": {
        "id": "hiCwBF1dKyBM"
      }
    },
    {
      "cell_type": "code",
      "source": [
        "# Project the data: this step will take several seconds\n",
        "tsne = TSNE(n_components=2, init='pca', random_state=0)\n",
        "hateSpeech_proj2D = tsne.fit_transform(embeddings_hate_speech_conan_list_sin_repetidos_creado_por_lista)"
      ],
      "metadata": {
        "id": "tV9YW0WGKyBN"
      },
      "execution_count": null,
      "outputs": []
    },
    {
      "cell_type": "code",
      "source": [
        "fig = plt.figure()\n",
        "\n",
        "ax = fig.add_subplot(111)\n",
        "ax.set_title(\"Discursos de odio de odio TSNE\")\n",
        "ax.scatter(hateSpeech_proj2D[:,0],hateSpeech_proj2D[:,1])\n",
        "\n",
        "\n",
        "plt.show()"
      ],
      "metadata": {
        "id": "0gQYAvsBKyBN"
      },
      "execution_count": null,
      "outputs": []
    },
    {
      "cell_type": "markdown",
      "source": [
        "### Ploteo los embedddings de odio y las contranarrativa en el mismo plot en 2D (usando T-SNE)."
      ],
      "metadata": {
        "id": "xrPeV-EZKyBO"
      }
    },
    {
      "cell_type": "code",
      "source": [
        "fig = plt.figure()\n",
        "\n",
        "ax = fig.add_subplot(111)\n",
        "ax.set_title(\"Discursos de odio y contranarrativas TSNE\")\n",
        "ax.scatter(counternarratives_proj2D[:,0],counternarratives_proj2D[:,1])\n",
        "ax.scatter(hateSpeech_proj2D[:,0],hateSpeech_proj2D[:,1])\n",
        "\n",
        "plt.show()"
      ],
      "metadata": {
        "id": "920fYn-RKyBO"
      },
      "execution_count": null,
      "outputs": []
    },
    {
      "cell_type": "markdown",
      "source": [
        "## Uso Isomap para dimensionality reduction. Fixme: no llego hasta el final con esto porque parce dar plots muy parecidos a los de T-SNE y PCA."
      ],
      "metadata": {
        "id": "IcqhjNMg4qaA"
      }
    },
    {
      "cell_type": "markdown",
      "source": [
        "Fixme: Sacado de Python Data Science Handbook, sección \"Unsupervised learning: Dimensionality reduction\"."
      ],
      "metadata": {
        "id": "qk4q793m7Ko4"
      }
    },
    {
      "cell_type": "code",
      "source": [
        "embeddings_hate_speech_conan_list_sin_repetidos_creado_por_lista.shape"
      ],
      "metadata": {
        "id": "OuDa80kh55HM"
      },
      "execution_count": null,
      "outputs": []
    },
    {
      "cell_type": "code",
      "source": [
        "from sklearn.manifold import Isomap\n",
        "iso = Isomap(n_components=2)\n",
        "iso.fit(embeddings_hate_speech_conan_list_sin_repetidos_creado_por_lista)\n",
        "data_projected = iso.transform(embeddings_hate_speech_conan_list_sin_repetidos_creado_por_lista)\n",
        "data_projected.shape"
      ],
      "metadata": {
        "id": "7RUcb8f84xib"
      },
      "execution_count": null,
      "outputs": []
    },
    {
      "cell_type": "code",
      "source": [
        "plt.scatter(data_projected[:, 0], data_projected[:, 1], \n",
        "edgecolor='none', alpha=0.5)\n",
        "plt.clim(-0.5, 9.5);"
      ],
      "metadata": {
        "id": "aI9cOaho5yaZ"
      },
      "execution_count": null,
      "outputs": []
    },
    {
      "cell_type": "markdown",
      "metadata": {
        "id": "Amb4VDAAWVal"
      },
      "source": [
        "## Cómo seguir:"
      ]
    },
    {
      "cell_type": "markdown",
      "metadata": {
        "id": "Qh9UMvrieowc"
      },
      "source": [
        "Voy a seguir el ejemlo que indico abajo, pero antes, aclaro:\n",
        "En el ejemplo usa sklearn.manifold.TSNE, pero en la documentación de sklearn.manifold.TSNE (https://scikit-learn.org/stable/modules/generated/sklearn.manifold.TSNE.html), recomiendan aplicar algun algoritmo de dimensionality reduction ((e.g. PCA for dense data or TruncatedSVD for sparse data)), para que los embeddings tengan 50 dimensiones.\n",
        "Por lo tanto, voy a aplicar PCA:\n",
        "Voy a intentar seguir este ejemplo: https://inside-machinelearning.com/en/efficient-sentences-embedding-visualization-tsne/#TSNE_-_Visualization_of_Embedding_of_sentences\n"
      ]
    },
    {
      "cell_type": "markdown",
      "metadata": {
        "id": "eD0BZgLyybVf"
      },
      "source": [
        "Fixme: la sugerencia de Lau y Dami es graficar usando PCA o T-SNE\n",
        "\n",
        "Intentar plotear como en esta página: https://inside-machinelearning.com/en/efficient-sentences-embedding-visualization-tsne/\n",
        "\n",
        "Este ploteo está bueno: https://github.com/ashutoshsingh25/Plotting-multidimensional-vectors-using-t-SNE/blob/master/TSNE%20Code%20for%20clusring%20image%20and%20text%20vectors%20with%20labels.ipynb\n",
        "\n",
        "Este ploteo está bueno: https://towardsdatascience.com/plotting-text-and-image-vectors-using-t-sne-d0e43e55d89\n",
        "\n",
        "k-Means: para encontrar el valor óptimo de k ver Gap Statistic: https://hastie.su.domains/Papers/gap.pdf\n",
        "\n",
        "Si no, chusmear: Cluster: https://towardsdatascience.com/plotting-text-and-image-vectors-using-t-sne-d0e43e55d89\n",
        "    \n"
      ]
    },
    {
      "cell_type": "markdown",
      "metadata": {
        "id": "R3KphI9_zFO4"
      },
      "source": [
        "# Sanity checks"
      ]
    },
    {
      "cell_type": "markdown",
      "source": [
        "## Sanitycheck para splitListInHalfAtRandom"
      ],
      "metadata": {
        "id": "qw_hagdHwvEJ"
      }
    },
    {
      "cell_type": "code",
      "source": [
        "lista1, lista2 = splitListInHalfAtRandom(hate_speech_conan_list_sin_repetidos)"
      ],
      "metadata": {
        "id": "nLfAvnl5ueDj"
      },
      "execution_count": null,
      "outputs": []
    },
    {
      "cell_type": "code",
      "source": [
        "len(hate_speech_conan_list_sin_repetidos) == len(lista1) + len(lista2)"
      ],
      "metadata": {
        "id": "VP3rZmytutcF"
      },
      "execution_count": null,
      "outputs": []
    },
    {
      "cell_type": "code",
      "source": [
        "# Check if two lists don't have any\n",
        "# one element common using traversal\n",
        "# of list\n",
        "\n",
        "def disjoint(list1, list2):\n",
        "    result = True\n",
        " \n",
        "    # traverse in the 1st list\n",
        "    for x in list1:\n",
        " \n",
        "        # traverse in the 2nd list\n",
        "        for y in list2:\n",
        "   \n",
        "            # if one common\n",
        "            if x == y:\n",
        "                result = False\n",
        "                return result\n",
        "                 \n",
        "    return result"
      ],
      "metadata": {
        "id": "--WyomDnvxC7"
      },
      "execution_count": null,
      "outputs": []
    },
    {
      "cell_type": "code",
      "source": [
        "disjoint(lista1, lista2)"
      ],
      "metadata": {
        "id": "vlck0GZpwNAW"
      },
      "execution_count": null,
      "outputs": []
    },
    {
      "cell_type": "code",
      "source": [
        "# Check if the elements of a list (originalList),\n",
        "# are in any of two lists (decomoposition1List \n",
        "# and decomoposition3List )\n",
        "\n",
        "def togetherFormOriginalList(originalList, decomposition1List, decomposition2List):\n",
        "    result = True\n",
        "    bothDecompositions = [*decomposition1List, *decomposition2List]\n",
        "    \n",
        "    # traverse in the original list\n",
        "    for x in originalList:\n",
        "      \n",
        "      # if one isn't in any of the decompositions\n",
        "      if x not in bothDecompositions:\n",
        "        result = False\n",
        "        return result\n",
        "    \n",
        "    return result"
      ],
      "metadata": {
        "id": "3W26dQDtw5DM"
      },
      "execution_count": null,
      "outputs": []
    },
    {
      "cell_type": "code",
      "source": [
        "togetherFormOriginalList(hate_speech_conan_list_sin_repetidos, lista1, lista2)"
      ],
      "metadata": {
        "id": "WR27hOhfPVDy"
      },
      "execution_count": null,
      "outputs": []
    },
    {
      "cell_type": "markdown",
      "source": [
        "## Sanitycheck para filterDataFrameByColumnValues"
      ],
      "metadata": {
        "id": "r0T5Xz3oLN0R"
      }
    },
    {
      "cell_type": "code",
      "source": [
        "# declare a dictionary\n",
        "record = { \n",
        "  \n",
        " 'Name' : ['Ankit', 'Swapnil', 'Aishwarya', \n",
        "          'Priyanka', 'Shivangi', 'Shaurya' ],\n",
        "    \n",
        " 'Age' : [22, 20, 21, 19, 18, 22], \n",
        "    \n",
        " 'Stream' : ['Math', 'Commerce', 'Science', \n",
        "            'Math', 'Math', 'Science'], \n",
        "    \n",
        " 'Percentage' : [90, 90, 96, 75, 70, 80] } \n",
        "    \n",
        "# create a dataframe \n",
        "dataframe = pd.DataFrame(record,\n",
        "                         columns = ['Name', 'Age', \n",
        "                                    'Stream', 'Percentage']) \n",
        "# show the Dataframe\n",
        "print(\"Given Dataframe :\\n\", dataframe)"
      ],
      "metadata": {
        "id": "PGmoKLQVLNJn"
      },
      "execution_count": null,
      "outputs": []
    },
    {
      "cell_type": "code",
      "source": [
        "\"\"\"\n",
        "# expected result\n",
        "recordExpected = { \n",
        "  \n",
        " 'Name' : ['Swapnil', 'Aishwarya', \n",
        "          'Shaurya' ],\n",
        "    \n",
        " 'Age' : [20, 21, 22], \n",
        "    \n",
        " 'Stream' : ['Commerce', 'Science', 'Science'], \n",
        "    \n",
        " 'Percentage' : [90, 96, 80] } \n",
        "    \n",
        "# create a dataframe \n",
        "dataframeExpected = pd.DataFrame(recordExpected,\n",
        "                         columns = ['Name', 'Age', \n",
        "                                    'Stream', 'Percentage']) \n",
        "# show the Dataframe\n",
        "print(\"Given Dataframe :\\n\", dataframeExpected)\n",
        "\"\"\""
      ],
      "metadata": {
        "id": "6pHjkLjLPks1"
      },
      "execution_count": null,
      "outputs": []
    },
    {
      "cell_type": "code",
      "source": [
        "options = ['Science', 'Commerce'] \n",
        "\n",
        "rslt_df = filterDataFrameByColumnValues(dataframe, 'Stream', options)\n",
        "print('\\nResult dataframe :\\n', rslt_df)"
      ],
      "metadata": {
        "id": "TG2dnk9LLaIs"
      },
      "execution_count": null,
      "outputs": []
    },
    {
      "cell_type": "code",
      "source": [
        "# Fixme: Pongo este False acá para llamar la atención\n",
        "# y comprar que el dataframe de la celda anterior, \n",
        "# coincida con el dataframe de la imagen de abajo.\n",
        "1 == 0"
      ],
      "metadata": {
        "id": "wHBK3gz9QI8p"
      },
      "execution_count": null,
      "outputs": []
    },
    {
      "cell_type": "markdown",
      "source": [
        "Expected result:\n",
        "![image.png](data:image/png;base64,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)"
      ],
      "metadata": {
        "id": "R39fjMHNNF8b"
      }
    },
    {
      "cell_type": "markdown",
      "source": [
        "## Sanitycheck para removeCounternarrativeAndHateSpeech"
      ],
      "metadata": {
        "id": "yP-Jkmg9jJqw"
      }
    },
    {
      "cell_type": "code",
      "source": [
        "# Fixme: Pongo este False acá para llamar la atención\n",
        "# y observar estos sanity checks a mano\n",
        "1 == 0"
      ],
      "metadata": {
        "id": "y8jSDaelR5Y9"
      },
      "execution_count": null,
      "outputs": []
    },
    {
      "cell_type": "code",
      "source": [
        "\n",
        "# Create pandas DataFrame\n",
        "import pandas as pd\n",
        "import numpy as np\n",
        "technologies = {\n",
        "    'Courses':[\"Spark\",\"PySpark\",\"Hadoop\",\"Python\"],\n",
        "    'Fee' :[22000,25000,np.nan,24000],\n",
        "    'Duration':['30day',None,'55days',np.nan],\n",
        "    'Discount':[1000,2300,1000,np.nan]\n",
        "          }\n",
        "df = pd.DataFrame(technologies)\n",
        "print(df)"
      ],
      "metadata": {
        "id": "bSEDQ-McjJM_"
      },
      "execution_count": null,
      "outputs": []
    },
    {
      "cell_type": "code",
      "source": [
        "removeRowsFromDf(df, 'Spark', 'Courses')"
      ],
      "metadata": {
        "id": "4OOskzfzjSfJ"
      },
      "execution_count": null,
      "outputs": []
    },
    {
      "cell_type": "code",
      "source": [
        "print(df)"
      ],
      "metadata": {
        "id": "hbqANE_Xj6ij"
      },
      "execution_count": null,
      "outputs": []
    },
    {
      "cell_type": "code",
      "source": [
        "removeRowsFromDf(df, 'PySpark', 'Courses')"
      ],
      "metadata": {
        "id": "KaBaglMzkH9p"
      },
      "execution_count": null,
      "outputs": []
    },
    {
      "cell_type": "code",
      "source": [
        "print(df)"
      ],
      "metadata": {
        "id": "jKlabaOgkKij"
      },
      "execution_count": null,
      "outputs": []
    },
    {
      "cell_type": "markdown",
      "source": [
        "## Sanitycheck para makeDisjoint"
      ],
      "metadata": {
        "id": "EW-zdWXEl1mQ"
      }
    },
    {
      "cell_type": "code",
      "source": [
        "# Fixme: Pongo este False acá para llamar la atención\n",
        "# y observar estos sanity checks a mano\n",
        "1 == 0"
      ],
      "metadata": {
        "id": "OqZ5MwUBSF18"
      },
      "execution_count": null,
      "outputs": []
    },
    {
      "cell_type": "code",
      "source": [
        "# Create pandas DataFrame\n",
        "import pandas as pd\n",
        "import numpy as np\n",
        "technologies = {\n",
        "    'Courses':[\"Spark\",\"PySpark\",\"Hadoop\",\"Python\"],\n",
        "    'Fee' :[22000,25000,np.nan,24000],\n",
        "    'Duration':['30day',None,'55days',np.nan],\n",
        "    'Discount':[1000,2300,1000,np.nan]\n",
        "          }\n",
        "df1 = pd.DataFrame(technologies)\n",
        "print(df1)"
      ],
      "metadata": {
        "id": "snIATJUGl33e"
      },
      "execution_count": null,
      "outputs": []
    },
    {
      "cell_type": "code",
      "source": [
        "# Create pandas DataFrame\n",
        "import pandas as pd\n",
        "import numpy as np\n",
        "technologies = {\n",
        "    'Courses':[\"ASpark\",\"PySpark\",\"AHadoop\",\"Python\"],\n",
        "    'Fee' :[22000,25000,np.nan,24000],\n",
        "    'Duration':['30day',None,'55days',np.nan],\n",
        "    'Discount':[1000,2300,1000,np.nan]\n",
        "          }\n",
        "df2 = pd.DataFrame(technologies)\n",
        "print(df2)"
      ],
      "metadata": {
        "id": "-hvTwbHbl-m7"
      },
      "execution_count": null,
      "outputs": []
    },
    {
      "cell_type": "code",
      "source": [
        "list1 = [\"Spark\",\"PySpark\",\"Hadoop\",\"Python\"]\n",
        "list2 = [\"ASpark\",\"PySpark\", \"PySpark\",\"AHadoop\",\"Python\"]\n",
        "list1, list2 = makeDisjoint(list1, list2, df1, df2, 'Courses')"
      ],
      "metadata": {
        "id": "58OtfHJkmKab"
      },
      "execution_count": null,
      "outputs": []
    },
    {
      "cell_type": "code",
      "source": [
        "list1"
      ],
      "metadata": {
        "id": "biQHIWbRniBk"
      },
      "execution_count": null,
      "outputs": []
    },
    {
      "cell_type": "code",
      "source": [
        "list2"
      ],
      "metadata": {
        "id": "ETAudQk8nkV-"
      },
      "execution_count": null,
      "outputs": []
    },
    {
      "cell_type": "code",
      "source": [
        "df1"
      ],
      "metadata": {
        "id": "N3hXrdSanpJi"
      },
      "execution_count": null,
      "outputs": []
    },
    {
      "cell_type": "code",
      "source": [
        "df2"
      ],
      "metadata": {
        "id": "i-o11PR-nqJC"
      },
      "execution_count": null,
      "outputs": []
    },
    {
      "cell_type": "markdown",
      "source": [
        "## Sanity check para conjunto_sin_repetidos_contranarrativa_i, conjunto_sin_repetidos_contranarrativa_k, conjunto_sin_repetidos_odio_i y conjunto_sin_repetidos_odio_k."
      ],
      "metadata": {
        "id": "6-lhvas8w-_a"
      }
    },
    {
      "cell_type": "code",
      "source": [
        "# Chequea que para toda contranarrativa en\n",
        "# conjunto_sin_repetidos_contranarrativa,\n",
        "# existe al menos un odio en \n",
        "# dfOdiosYContanarrativas que esté en \n",
        "# conjunto_sin_repetidos_odio.\n",
        "\n",
        "def contranarrativaYOdioEstanEnDataFrameTomaContranarrativas(conjunto_sin_repetidos_contranarrativa, conjunto_sin_repetidos_odio, dfOdiosYContanarrativas):\n",
        "    result = False\n",
        "    for contranarrativa in conjunto_sin_repetidos_contranarrativa:\n",
        "        result = False\n",
        "        dfOdiosParaContranarrativa = dfOdiosYContanarrativas.loc[dfOdiosYContanarrativas['counterSpeech'] == contranarrativa]\n",
        "        for index, row in dfOdiosParaContranarrativa.iterrows():\n",
        "            if row['hateSpeech'] in conjunto_sin_repetidos_odio:\n",
        "                result = True\n",
        "        if result == False:\n",
        "          return result      \n",
        "\n",
        "    return result"
      ],
      "metadata": {
        "id": "-b5rYsC28Y_N"
      },
      "execution_count": null,
      "outputs": []
    },
    {
      "cell_type": "code",
      "source": [
        "# Chequeo si para toda contranarrativa_i en\n",
        "# conjunto_sin_repetidos_contranarrativa_i,\n",
        "# existe al menos un odio_i en \n",
        "# dfOdiosYContanarrativasI que esté en \n",
        "# conjunto_sin_repetidos_odio_i.\n",
        "\n",
        "contranarrativaYOdioEstanEnDataFrameTomaContranarrativas(conjunto_sin_repetidos_contranarrativa_i, conjunto_sin_repetidos_odio_i, dfOdiosYContanarrativasI)"
      ],
      "metadata": {
        "id": "VZTzy_qTHNY-"
      },
      "execution_count": null,
      "outputs": []
    },
    {
      "cell_type": "code",
      "source": [
        "# Chequeo si para toda contranarrativa_k en\n",
        "# conjunto_sin_repetidos_contranarrativa_k,\n",
        "# existe al menos un odio_k en \n",
        "# dfOdiosYContanarrativasK que esté en \n",
        "# conjunto_sin_repetidos_odio_k.\n",
        "\n",
        "contranarrativaYOdioEstanEnDataFrameTomaContranarrativas(conjunto_sin_repetidos_contranarrativa_k, conjunto_sin_repetidos_odio_k, dfOdiosYContanarrativasK)"
      ],
      "metadata": {
        "id": "4HFGlBIgHofC"
      },
      "execution_count": null,
      "outputs": []
    },
    {
      "cell_type": "code",
      "source": [
        "# Chequea que para todo odio en\n",
        "# conjunto_sin_repetidos_odio,\n",
        "# existe al menos una contranarrativa en \n",
        "# dfOdiosYContanarrativas que esté en \n",
        "# conjunto_sin_repetidos_contranarrativa.\n",
        "\n",
        "def contranarrativaYOdioEstanEnDataFrameTomaOdios(conjunto_sin_repetidos_contranarrativa, conjunto_sin_repetidos_odio, dfOdiosYContanarrativas):\n",
        "    result = False\n",
        "    for odio in conjunto_sin_repetidos_odio:\n",
        "        result = False\n",
        "        dfContranarrativasParaOdio = dfOdiosYContanarrativas.loc[dfOdiosYContanarrativas['hateSpeech'] == odio]\n",
        "        for index, row in dfContranarrativasParaOdio.iterrows():\n",
        "            if row['counterSpeech'] in conjunto_sin_repetidos_contranarrativa:\n",
        "                result = True\n",
        "        if result == False:\n",
        "            return result\n",
        "\n",
        "    return result"
      ],
      "metadata": {
        "id": "NFlJRsVGIJNw"
      },
      "execution_count": null,
      "outputs": []
    },
    {
      "cell_type": "code",
      "source": [
        "# Chequeo que para todo odio_i en\n",
        "# conjunto_sin_repetidos_odio_i,\n",
        "# exista al menos una contranarrativa_i en \n",
        "# dfOdiosYContanarrativasI que esté en \n",
        "# conjunto_sin_repetidos_contranarrativa_i.\n",
        "\n",
        "contranarrativaYOdioEstanEnDataFrameTomaOdios(conjunto_sin_repetidos_contranarrativa_i, conjunto_sin_repetidos_odio_i, dfOdiosYContanarrativasI)"
      ],
      "metadata": {
        "id": "rXSvAH51InHj"
      },
      "execution_count": null,
      "outputs": []
    },
    {
      "cell_type": "code",
      "source": [
        "# Chequeo que para todo odio_k en\n",
        "# conjunto_sin_repetidos_odio_k,\n",
        "# exista al menos una contranarrativa_k en \n",
        "# dfOdiosYContanarrativasK que esté en \n",
        "# conjunto_sin_repetidos_contranarrativa_k.\n",
        "\n",
        "contranarrativaYOdioEstanEnDataFrameTomaOdios(conjunto_sin_repetidos_contranarrativa_k, conjunto_sin_repetidos_odio_k, dfOdiosYContanarrativasK)"
      ],
      "metadata": {
        "id": "459BskxsJW2V"
      },
      "execution_count": null,
      "outputs": []
    },
    {
      "cell_type": "markdown",
      "source": [
        "### Chequeos sobre conjunto_sin_repetidos_contranarrativas_i y conjunto_sin_repetidos_contranarrativas_k."
      ],
      "metadata": {
        "id": "cs2rEOr7xCRp"
      }
    },
    {
      "cell_type": "code",
      "source": [
        "# Chequeo si conjunto_sin_repetidos_contranarrativas_i y conjunto_sin_repetidos_contranarrativas_k son disjuntos\n",
        "disjoint(conjunto_sin_repetidos_contranarrativa_i, conjunto_sin_repetidos_contranarrativa_k)"
      ],
      "metadata": {
        "id": "ilasW1a2xwLr"
      },
      "execution_count": null,
      "outputs": []
    },
    {
      "cell_type": "code",
      "source": [
        "# Chequeo si conjunto_sin_repetidos_contranarrativas_i NO tiene repetidos:\n",
        "len(conjunto_sin_repetidos_contranarrativa_i) == len(set(conjunto_sin_repetidos_contranarrativa_i))"
      ],
      "metadata": {
        "id": "NBjBpL5W4kZL"
      },
      "execution_count": null,
      "outputs": []
    },
    {
      "cell_type": "code",
      "source": [
        "# Chequeo si conjunto_sin_repetidos_contranarrativas_k NO tiene repetidos:\n",
        "len(conjunto_sin_repetidos_contranarrativa_k) == len(set(conjunto_sin_repetidos_contranarrativa_k))"
      ],
      "metadata": {
        "id": "vasw9nD25Aqm"
      },
      "execution_count": null,
      "outputs": []
    },
    {
      "cell_type": "markdown",
      "source": [
        "### Chequeos sobre conjunto_sin_repetidos_odio_i y conjunto_sin_repetidos_odio_k."
      ],
      "metadata": {
        "id": "WQUa_6FU4CLW"
      }
    },
    {
      "cell_type": "code",
      "source": [
        "# Chequeo si conjunto_sin_repetidos_odio_i y conjunto_sin_repetidos_odio_k son disjuntos\n",
        "disjoint(conjunto_sin_repetidos_odio_i, conjunto_sin_repetidos_odio_k)"
      ],
      "metadata": {
        "id": "87T8fJbBxKTF"
      },
      "execution_count": null,
      "outputs": []
    },
    {
      "cell_type": "code",
      "source": [
        "# Chequeo si conjunto_sin_repetidos_odio_i NO tiene repetidos:\n",
        "len(conjunto_sin_repetidos_odio_i) == len(set(conjunto_sin_repetidos_odio_i))"
      ],
      "metadata": {
        "id": "dKjAa8fr3RpQ"
      },
      "execution_count": null,
      "outputs": []
    },
    {
      "cell_type": "code",
      "source": [
        "# Chequeo si conjunto_sin_repetidos_odio_k NO tiene repetidos:\n",
        "len(conjunto_sin_repetidos_odio_k) == len(set(conjunto_sin_repetidos_odio_k))"
      ],
      "metadata": {
        "id": "S9t5k_QO5I5z"
      },
      "execution_count": null,
      "outputs": []
    },
    {
      "cell_type": "markdown",
      "metadata": {
        "id": "wn9F8j6IZ3KQ"
      },
      "source": [
        "## Sanity checks para Nmaxelements"
      ]
    },
    {
      "cell_type": "code",
      "execution_count": null,
      "metadata": {
        "id": "MKwBfPp-JLwX"
      },
      "outputs": [],
      "source": [
        "# Function returns N largest elements and the position they have in the input list.\n",
        "def Nmaxelements(list1, N):\n",
        "    final_list = []\n",
        "    posicionesConMaximos = set()\n",
        "\n",
        "    for i in range(0, N):\n",
        "        max1 = 0\n",
        "\n",
        "        for j in range(len(list1)):    \n",
        "            if ((list1[j] >= max1) and (j not in posicionesConMaximos)):\n",
        "                max1 = list1[j];\n",
        "                indMax1 = j;\n",
        "                \n",
        "        posicionesConMaximos.add(indMax1)\n",
        "        final_list.append((max1, indMax1))\n",
        "         \n",
        "    return(final_list)"
      ]
    },
    {
      "cell_type": "code",
      "execution_count": null,
      "metadata": {
        "id": "7Kwq9-LDfm6R"
      },
      "outputs": [],
      "source": [
        "# Function returns N largest elements and the position they have in the input list.\n",
        "def NmaxelementsSort(list1, N):\n",
        "  \n",
        "  listOfPairs = [];\n",
        "  for i in range(len(list1)):\n",
        "    listOfPairs.append((list1[i], i));\n",
        "  \n",
        "  listOfPairs.sort(key=lambda x: x[0], reverse = True);\n",
        "  return(listOfPairs[0:N])"
      ]
    },
    {
      "cell_type": "code",
      "execution_count": null,
      "metadata": {
        "id": "WfpZNcWtFC0N"
      },
      "outputs": [],
      "source": [
        "#Sanity check para variantes de Nmaxelements:\n",
        "list1 = [123, 1, 12323,123,14345,213,12345]\n",
        "print('heap', NmaxelementsHeap(list1, 2));\n",
        "print('sort', NmaxelementsSort(list1, 2));\n",
        "print('tradition', NmaxelementsSort(list1, 2));"
      ]
    },
    {
      "cell_type": "code",
      "execution_count": null,
      "metadata": {
        "id": "PPOEljvjzsMt"
      },
      "outputs": [],
      "source": [
        "#Para sanity checkear NmaxelementsSort y Nmaxelements\n",
        "# Veo que si random_float_list tiene valores repetidos, NmaxelementsSort y Nmaxelements pueden dar reultados\n",
        "# distintos (si las tuplas (valor, indice), (x, i) y (x, j), tienen el mismo valor (x), pero distinto indice (i y j),\n",
        "# NmaxelementsSort devolverá en el Top 10 las tuplas ordenadas [,,,, (x, i), (x, j), ...] y Nmaxelements las\n",
        "# devoverá al revés [,,,, (x, j), (x, i), ...].\n",
        "# De todas formas, esto no es relevante para este proyecto.\n",
        "\n",
        "cantidadDeLlamados = 1000\n",
        "demoraNmaxelements = 0;\n",
        "demoraNmaxelementsSort = 0;\n",
        "demoraNmaxelementsHeap = 0; \n",
        "losRankingsSonIguales = True;\n",
        "\n",
        "for i in range (0, cantidadDeLlamados):\n",
        "  #Genero una lisita random de floats \n",
        "  list_Size = 6803\n",
        "  # random float from 1 to 99.9\n",
        "  integer_list = random.sample(range(10, list_Size*1000), list_Size)\n",
        "  random_float_list = [x/10 for x in integer_list]\n",
        "\n",
        "  start_Nmaxelements = time.time()\n",
        "  Nmaxelements(random_float_list, 10)\n",
        "  end_Nmaxelements = time.time()\n",
        "  demoraNmaxelements += end_Nmaxelements-start_Nmaxelements\n",
        "\n",
        "  start_NmaxelementsSort = time.time()\n",
        "  NmaxelementsSort(random_float_list, 10)\n",
        "  end_NmaxelementsSort = time.time()\n",
        "  demoraNmaxelementsSort += end_NmaxelementsSort-start_NmaxelementsSort;\n",
        "\n",
        "  start_NmaxelementsHeap = time.time()\n",
        "  NmaxelementsHeap(random_float_list, 10)\n",
        "  end_NmaxelementsHeap = time.time()\n",
        "  demoraNmaxelementsHeap += end_NmaxelementsHeap-start_NmaxelementsHeap;\n",
        "\n",
        "  if(not(NmaxelementsSort(random_float_list, 10) == Nmaxelements(random_float_list, 10) == NmaxelementsHeap(random_float_list, 10))):\n",
        "    losRankingsSonIguales = False;\n",
        "\n",
        "print('Las funciones devuelven el mismo ranking:', losRankingsSonIguales);\n",
        "print(f\"Nmaxelements, demora: {(demoraNmaxelements)*10**3:.03f}ms.\")\n",
        "print(f\"NmaxelementsSort, demora: {(demoraNmaxelementsSort)*10**3:.03f}ms.\")\n",
        "print(f\"NmaxelementsHeap, demora: {(demoraNmaxelementsHeap)*10**3:.03f}ms.\")\n",
        "\n",
        "del(random_float_list)\n",
        "del(integer_list)"
      ]
    },
    {
      "cell_type": "code",
      "execution_count": null,
      "metadata": {
        "id": "hDnwA7imTRsg"
      },
      "outputs": [],
      "source": [
        "# Chequeo si Nmaxelements devuelve lo pedido.\n",
        "# Driver code\n",
        "list1 = [2, 6, 41, 85, 0, 3, 7, 6, 10]\n",
        "N = 9\n",
        " \n",
        "# Calling the function\n",
        "Nmaxelements(list1, N)"
      ]
    },
    {
      "cell_type": "markdown",
      "metadata": {
        "id": "RMKEydE6aU0i"
      },
      "source": [
        "Chequeo si el ranking formado por Nmaxelements tiene los mismos elementos que el ranking que formaba ordenando todos los elementos. Efectivamente verifico que devuelven los mismos elementos."
      ]
    },
    {
      "cell_type": "code",
      "execution_count": null,
      "metadata": {
        "id": "-GuRiqstIkX5"
      },
      "outputs": [],
      "source": [
        "listCos = cos_sim_embedding_cercano_a_contranarrativa_para_odio_k_conan[0].tolist()"
      ]
    },
    {
      "cell_type": "code",
      "execution_count": null,
      "metadata": {
        "id": "eIQVXEhQME2z"
      },
      "outputs": [],
      "source": [
        "print(Nmaxelements(listCos, 10))"
      ]
    },
    {
      "cell_type": "code",
      "execution_count": null,
      "metadata": {
        "id": "YGBUOrCuQ9v5"
      },
      "outputs": [],
      "source": [
        "all_sentence_combinations_cercano_a_contranarrativa_para_odio_k[0:10]"
      ]
    },
    {
      "cell_type": "markdown",
      "metadata": {
        "id": "_dejwaIMRqWJ"
      },
      "source": [
        "## Sanity chequeo que la generación de los embeddings sea determinística"
      ]
    },
    {
      "cell_type": "markdown",
      "metadata": {
        "id": "Bh4sAM2tUpEF"
      },
      "source": [
        "### Chequeo si la generación de los embeddings es determinísitca:"
      ]
    },
    {
      "cell_type": "code",
      "execution_count": null,
      "metadata": {
        "id": "ZDPg4x-qRwbB"
      },
      "outputs": [],
      "source": [
        "# Genero los embeddings\n",
        "embeddings_hate_speech_conan_list_sin_repetidos_creado_por_lista1 = model.encode(hate_speech_conan_list_sin_repetidos, convert_to_tensor=True);"
      ]
    },
    {
      "cell_type": "code",
      "execution_count": null,
      "metadata": {
        "id": "TTbxBcqcSGQb"
      },
      "outputs": [],
      "source": [
        "# Genero los embeddings\n",
        "embeddings_hate_speech_conan_list_sin_repetidos_creado_por_lista2 = model.encode(hate_speech_conan_list_sin_repetidos, convert_to_tensor=True);"
      ]
    },
    {
      "cell_type": "code",
      "execution_count": null,
      "metadata": {
        "id": "rPVEtcNPOj1H"
      },
      "outputs": [],
      "source": [
        "torch.equal(embeddings_hate_speech_conan_list_sin_repetidos_creado_por_lista1, embeddings_hate_speech_conan_list_sin_repetidos_creado_por_lista2)"
      ]
    },
    {
      "cell_type": "markdown",
      "metadata": {
        "id": "icLDdWID6LBt"
      },
      "source": [
        "### Chequeo si los vectores generados para las frases (frase1, frase2, frase3) son los mimsos que los que se generan para esas frases si se pasa como parámetro frase1, frase2, frase3, frase4, frase5)."
      ]
    },
    {
      "cell_type": "code",
      "execution_count": null,
      "metadata": {
        "id": "oNp6_kQ56LBu"
      },
      "outputs": [],
      "source": [
        "# Genero los embeddings para odio_4, odio_5 y odio_6\n",
        "embeddings_hate_speech_4_5_6 = model.encode(hate_speech_conan_list_sin_repetidos[4:7], convert_to_tensor=True);"
      ]
    },
    {
      "cell_type": "code",
      "source": [
        "# Genero los embeddings para odio_4, odio_5 y odio_6\n",
        "embeddings_todos_los_hate_speech = model.encode(hate_speech_conan_list_sin_repetidos, convert_to_tensor=True);"
      ],
      "metadata": {
        "id": "rFXpcpi17OH7"
      },
      "execution_count": null,
      "outputs": []
    },
    {
      "cell_type": "code",
      "source": [
        "embeddings_todos_los_hate_speech.shape"
      ],
      "metadata": {
        "id": "LDIvTfI07dbL"
      },
      "execution_count": null,
      "outputs": []
    },
    {
      "cell_type": "code",
      "source": [
        "embeddings_hate_speech_4_5_6.shape"
      ],
      "metadata": {
        "id": "kX8lKV6e7gtw"
      },
      "execution_count": null,
      "outputs": []
    },
    {
      "cell_type": "code",
      "execution_count": null,
      "metadata": {
        "id": "aogXtBAd6LBv"
      },
      "outputs": [],
      "source": [
        "torch.equal(embeddings_hate_speech_4_5_6, embeddings_todos_los_hate_speech[4:7])"
      ]
    },
    {
      "cell_type": "markdown",
      "metadata": {
        "id": "N1aNrFf1ULMx"
      },
      "source": [
        "### Chequeo si la generación de hate_speech_conan_list_sin_repetidos1 es determinísitca:"
      ]
    },
    {
      "cell_type": "code",
      "execution_count": null,
      "metadata": {
        "id": "UxR2P0-WT_HU"
      },
      "outputs": [],
      "source": [
        "hate_speech_conan_list_sin_repetidos1 =list(set(list(hate_speech_conan.values.flatten()))) #fixme: mega importante: el set está para eliminar repetidos de la lista. Set toma una lista y devuleve un set (creo), posteriormente vuelvo a aplicar list asegurarme que hate_speech_conan_list_sin_repetidos es una lista.\n",
        "\n",
        "#print(counternarratives_conan_list_sin_repetidos[0:5])"
      ]
    },
    {
      "cell_type": "code",
      "execution_count": null,
      "metadata": {
        "id": "TeNbzdy0UBHZ"
      },
      "outputs": [],
      "source": [
        "hate_speech_conan_list_sin_repetidos2 =list(set(list(hate_speech_conan.values.flatten()))) #fixme: mega importante: el set está para eliminar repetidos de la lista. Set toma una lista y devuleve un set (creo), posteriormente vuelvo a aplicar list asegurarme que hate_speech_conan_list_sin_repetidos es una lista.\n",
        "\n",
        "#print(counternarratives_conan_list_sin_repetidos[0:5])"
      ]
    },
    {
      "cell_type": "code",
      "execution_count": null,
      "metadata": {
        "id": "e7FF5Xj1UDLl"
      },
      "outputs": [],
      "source": [
        "hate_speech_conan_list_sin_repetidos2 == hate_speech_conan_list_sin_repetidos1"
      ]
    },
    {
      "cell_type": "markdown",
      "metadata": {
        "id": "_RnpqA_CUhjt"
      },
      "source": [
        "### Chequeo si la generación de hate_speech_conan es determinísitca:"
      ]
    },
    {
      "cell_type": "code",
      "execution_count": null,
      "metadata": {
        "id": "fKp4FHpCVEZH"
      },
      "outputs": [],
      "source": [
        "hate_speech_conan2 = df1[['hateSpeech']]"
      ]
    },
    {
      "cell_type": "code",
      "execution_count": null,
      "metadata": {
        "id": "4-AX7_--VGu2"
      },
      "outputs": [],
      "source": [
        "hate_speech_conan1 = df1[['hateSpeech']]"
      ]
    },
    {
      "cell_type": "code",
      "execution_count": null,
      "metadata": {
        "id": "TeabHER2VIr3"
      },
      "outputs": [],
      "source": [
        "hate_speech_conan1.equals(hate_speech_conan2)"
      ]
    },
    {
      "cell_type": "markdown",
      "metadata": {
        "id": "6ovAwz--WIta"
      },
      "source": [
        "### Chequeo si la generación de df1 es determinísitca:"
      ]
    },
    {
      "cell_type": "code",
      "execution_count": null,
      "metadata": {
        "id": "rQjzNVD2WHHa"
      },
      "outputs": [],
      "source": [
        "df2 = pd.read_csv(url)"
      ]
    },
    {
      "cell_type": "code",
      "execution_count": null,
      "metadata": {
        "id": "hf4KXdSJWMpR"
      },
      "outputs": [],
      "source": [
        "df3 = pd.read_csv(url)"
      ]
    },
    {
      "cell_type": "code",
      "execution_count": null,
      "metadata": {
        "id": "wYehDec6WOzS"
      },
      "outputs": [],
      "source": [
        "df2.equals(df3)"
      ]
    },
    {
      "cell_type": "markdown",
      "metadata": {
        "id": "PTB0WXEVWuor"
      },
      "source": [
        "### Chequeos deconectando y reiniciando el tiempo de ejecución: "
      ]
    },
    {
      "cell_type": "markdown",
      "metadata": {
        "id": "ZPq06Bqxji3j"
      },
      "source": [
        "#### Chequeo si los embeddings son siempre los mismos cuando me desconecto y vuelvo a ejecutar todo"
      ]
    },
    {
      "cell_type": "markdown",
      "metadata": {
        "id": "hTS-X4uZZqB5"
      },
      "source": [
        "Me descargo el archivo embeddings_hate_speech.pkl, me desconecto del entorno de ejecución y reinicio el tiempo de ejecución, vuelvo a ejecutar todo. Esto genera un nuevo archivo embeddings_hate_speech.pkl, al comparar ambos archivos de ambas ejecuciones (embeddings_hate_speech.pkl de cada una de las ejecuciones), veo que hay una mínima diferencia de redondeo en aproximadmente 3 líneas de las más de 82000 que tienen los embeddings.\n",
        "\n",
        "Hago lo mismo para embeddings_counternarratives.pkl y me da que ambos archivos son iugales.\n",
        "\n",
        "Por lo que ahora puedo concluír que hay determinismo en la generación de embeddings."
      ]
    },
    {
      "cell_type": "markdown",
      "metadata": {
        "id": "5Dyy4hwQAleT"
      },
      "source": [
        "## Sanity checks de la métrica 1:"
      ]
    },
    {
      "cell_type": "markdown",
      "metadata": {
        "id": "wa-H5LcdclrN"
      },
      "source": [
        "### Aplico métrica 1 con método matricial:"
      ]
    },
    {
      "cell_type": "code",
      "execution_count": null,
      "metadata": {
        "id": "0RkRAQGL7j6W"
      },
      "outputs": [],
      "source": [
        "# Fixme: si no comento el return de metrica1Particion, al ejecutar metrica1Particion(0,100),\n",
        "# desde Colab, me quedo sin RAM.\n",
        "# Para que esta celda funcione, se debe decomentar el return de metrica1Particion.\n",
        "  \n",
        "  #fixme: si lo corro desde el script en mi compu, puedo setear hasta:\n",
        "    # cantidad_contranarrativas_iteradas_matricial = 250\n",
        "    # cantidad_discursos_odio_iterados_matricial = len(hate_speech_conan_list_sin_repetidos)\n",
        "  #fixme: en google colab puede correr hasta:\n",
        "    # cantidad_contranarrativas_iteradas_matricial = 200 (quizás puede un poco más, pero hasta 250 no llega).\n",
        "    # cantidad_discursos_odio_iterados_matricial = len(hate_speech_conan_list_sin_repetidos)\n",
        "    # cantidad_contranarrativas_iteradas_matricial = 100  # fixme: el máximo es len(counternarratives_conan_list_sin_repetidos) #junto a cantidad_discursos_odio_iterados_matricial determina la parte del dataset en la que se aplica la métrica 1.\n",
        "\n",
        "cantidad_contranarrativas_iteradas_para_sanity_check = 4\n",
        "lista_contranarrativa_i_embedding_matricial, df_odio_en_conan_list_matricial, odio_i_lista_sanity_check_matricial, lista_listas_odio_i_embedding_matricial, lista_listas_embedding_contranarrativa_i_sin_discurso_de_odio_i_matricial, lista_listas_listas_odio_k_embedding_creado_por_lista_matricial, indices_contranarrativa_i_odio_i_odio_k, cos_sim_calculado_con_matriz, lista_pares_métrica_1_top10_matricial = metrica1Particion(0,cantidad_contranarrativas_iteradas_para_sanity_check, True);"
      ]
    },
    {
      "cell_type": "markdown",
      "metadata": {
        "id": "9QPx5YjbHCGf"
      },
      "source": [
        "### Aplico métrica 2 con método matricial:"
      ]
    },
    {
      "cell_type": "code",
      "execution_count": null,
      "metadata": {
        "id": "ZR_9_EEWHBRy"
      },
      "outputs": [],
      "source": [
        "# Métrica 2 en ranking de 10 elementos\n",
        "\n",
        "lista_pares_métrica_1_top10_matricial_leida_de_csv = leer_metrica_1(batch_size, cantidad_contranarrativas_iteradas_para_sanity_check)\n",
        "lista_metrica_2_top10_leida_de_csv = []\n",
        "posicion_contranarrativas_encontradas = 3 \n",
        "posicion_contranarrativas_totales = 4\n",
        "cantidad_elementos_del_rankingTop10 = 10\n",
        "\n",
        "for i in range(0, len(lista_pares_métrica_1_top10_matricial_leida_de_csv)):\n",
        "  metrica_2_para_par_i = lista_pares_métrica_1_top10_matricial_leida_de_csv[i][posicion_contranarrativas_encontradas]/min(lista_pares_métrica_1_top10_matricial_leida_de_csv[i][posicion_contranarrativas_totales],cantidad_elementos_del_rankingTop10)\n",
        "  lista_metrica_2_top10_leida_de_csv.append(metrica_2_para_par_i)"
      ]
    },
    {
      "cell_type": "markdown",
      "metadata": {
        "id": "SYRwgpoeHUMs"
      },
      "source": [
        "### Aplico métrica 3 con método matricial:"
      ]
    },
    {
      "cell_type": "code",
      "execution_count": null,
      "metadata": {
        "id": "lJZpFOrxHRtt"
      },
      "outputs": [],
      "source": [
        "metrica_3_top10_csv = sum(lista_metrica_2_top10_leida_de_csv)/len(lista_metrica_2_top10_leida_de_csv)\n",
        "print('Métrica 3, con ranking de 10 elementos:', metrica_3_top10_csv)"
      ]
    },
    {
      "cell_type": "markdown",
      "metadata": {
        "id": "9A5nL5aWas4o"
      },
      "source": [
        "### Aplico métrica 1 con un for-loop (sólo para hacer sanity checks):"
      ]
    },
    {
      "cell_type": "code",
      "execution_count": null,
      "metadata": {
        "id": "06NHp9r6-Dev"
      },
      "outputs": [],
      "source": [
        "print('Calculando métrica 1 con for-loop')"
      ]
    },
    {
      "cell_type": "markdown",
      "metadata": {
        "id": "MrqIOq0P4Yu5"
      },
      "source": [
        "La versión con for-loop, para 100 contranarrat y 100 odio, demora 4.8 min."
      ]
    },
    {
      "cell_type": "code",
      "execution_count": null,
      "metadata": {
        "id": "oGQW3PwcLUt-"
      },
      "outputs": [],
      "source": [
        "# Hago el setup de algunos parámetros:\n",
        "lista_pares_métrica_1_top10 = [] \n",
        "lista_pares_métrica_1_top5 = []\n",
        "lista_pares_métrica_1_top3 = []\n",
        "lista_pares_métrica_1_top1 = []\n",
        "\n",
        "lista_pares_métrica_1_top10_random = []\n",
        "lista_pares_métrica_1_top5_random = []\n",
        "lista_pares_métrica_1_top3_random = []\n",
        "lista_pares_métrica_1_top1_random = []\n",
        "\n",
        "# fixme: inicio: las siguientes listas son solo para sanity check, una vez realizados los chequeos, se pueden comentar:\n",
        "df_odio_en_conan_list_for_loop = []\n",
        "lista_contranarrativa_i_embedding_for_loop = []\n",
        "indices_contranarrativa_i_odio_i_odio_k_for_loop_soloParaSanityChequearImplementacionMatricial = []\n",
        "odio_i_lista_sanity_check_for_loop = []\n",
        "lista_listas_odio_i_embedding_for_loop = []\n",
        "lista_listas_embedding_contranarrativa_i_sin_discurso_de_odio_i_for_loop =[]\n",
        "lista_listas_listas_odio_k_embedding_creado_por_lista_for_loop = []\n",
        "lista_listas_listas_sanity_check_cos_sim_embedding_cercano_a_contranarrativa_para_odio_k_conan = []\n",
        "#### fixme: fin de: las siguientes listas son solo para sanity check, una vez realizados los chequeos, se pueden comentar: \n",
        "\n",
        "iteraciones = 0;\n",
        "\n",
        "cantidad_contranarrativas_iteradas_for_loop = cantidad_contranarrativas_iteradas_para_sanity_check  # fixme: el máximo es len(counternarratives_conan_list_sin_repetidos) #junto a cantidad_discursos_odio_iterados_for_loop determina la parte del dataset en la que se aplica la métrica 1.\n",
        "cantidad_discursos_odio_iterados_for_loop = len(hate_speech_conan_list_sin_repetidos)    # fixme: el máximo es len(hate_speech_conan_list_sin_repetidos)     # junto a cantidad_contranarrativas_iteradas_for_loop determina la parte del dataset en la que se aplica la métrica 1.\n",
        "\n",
        "#fixme: partición for: este for iteraba 6803 veces\n",
        "for contranarrativa_i_indice in range(0, cantidad_contranarrativas_iteradas_for_loop): #fixme: lo que modifico es esto, antes decía: for contranarrativa_i_indice in range(0, len(counternarratives_conan_list_sin_repetidos)):\n",
        "  # contranarrativa_i_indice será el índice de la contranarrativa_i.\n",
        "  #selecciono el embedding de la contranarrativa_i\n",
        "  contranarrativa_i_embedding_creado_por_lista = embeddings_counternarratives_conan_list_sin_repetidos_creado_por_lista[contranarrativa_i_indice];\n",
        "  lista_contranarrativa_i_embedding_for_loop.append(contranarrativa_i_embedding_creado_por_lista)\n",
        "\n",
        "  # Busco los discursos de odio para la contranarrativa_i\n",
        "  df_oido_en_conan_para_contranarrativa_i = sentences_conan.loc[sentences_conan['counterSpeech'] == counternarratives_conan_list_sin_repetidos[contranarrativa_i_indice], 'hateSpeech']\n",
        "  df_odio_en_conan_list_for_loop.append(df_oido_en_conan_para_contranarrativa_i) #fixme: solo para sanity check\n",
        "\n",
        "  # Elijo cada uno de los discursos de odio que aparecen en Conan para la conranarrativa_i (los llamo odio_i). \n",
        "  #fixme: partición for: este for va variadno, pero más o menos itera 4 veces.\n",
        "  lista_embedding_contranarrativa_i_sin_discurso_de_odio_i_for_loop = []   #fixme: solo para sanity check\n",
        "  lista_odio_i_para_contranarrat_i_for_loop = [] #fixme: solo para sanity check.\n",
        "  lista_odio_i_embedding_for_loop = [] #fixme: solo para sanity check\n",
        "  lista_listas_odio_k_embedding_creado_por_lista_for_loop = [] # fixme: solo para sanity check\n",
        "  lista_listas_sanity_check_cos_sim_embedding_cercano_a_contranarrativa_para_odio_k_conan = [] #fixme: solo para sanity check\n",
        "\n",
        "  for ind in  df_oido_en_conan_para_contranarrativa_i.index:\n",
        "    odio_i = df_oido_en_conan_para_contranarrativa_i.loc[ind]\n",
        "   \n",
        "    lista_odio_i_para_contranarrat_i_for_loop.append(odio_i) # fixme: sólo para sanity check\n",
        "    \n",
        "    # Busco el índice de odio_1 en hate_speech_conan_list_sin_repetidos.\n",
        "    indice_odio_i = hate_speech_conan_list_sin_repetidos.index(odio_i)\n",
        "\n",
        "    # Busco el embedding para odio_i  \n",
        "    odio_i_embedding_creado_por_lista = embeddings_hate_speech_conan_list_sin_repetidos_creado_por_lista[indice_odio_i]\n",
        "    # Busco el embedding para odio_i  \n",
        "    odio_i_embedding_creado_por_lista = embeddings_hate_speech_conan_list_sin_repetidos_creado_por_lista[indice_odio_i]\n",
        "\n",
        "    lista_odio_i_embedding_for_loop.append(odio_i_embedding_creado_por_lista) #fixme: solo para sanity check\n",
        "\n",
        "    \n",
        "    # Resto el embedding de odio_i al de contranarrativa_i.\n",
        "    embedding_contranarrativa_i_sin_discurso_de_odio_i = contranarrativa_i_embedding_creado_por_lista - odio_i_embedding_creado_por_lista\n",
        "    lista_embedding_contranarrativa_i_sin_discurso_de_odio_i_for_loop.append(embedding_contranarrativa_i_sin_discurso_de_odio_i) #fixme: solo para sanity check\n",
        "\n",
        "    lista_odio_k_embedding_creado_por_lista_for_loop = [] # fixme: solo para sanity check\n",
        "    #fixme: partición for: este for itera 856 veces.\n",
        "    lista_sanity_check_cos_sim_embedding_cercano_a_contranarrativa_para_odio_k_conan = []\n",
        "    for odio_k_indice in range(0, cantidad_discursos_odio_iterados_for_loop): # como máximo puede iterar hasta len(hate_speech_conan_list_sin_repetidos)\n",
        "      if odio_k_indice == indice_odio_i: continue # Elijo un mensaje odio_k (distinto a odio_i)\n",
        "      odio_k = hate_speech_conan_list_sin_repetidos[odio_k_indice]\n",
        "\n",
        "      # Busco el embedding de odio_k embedding\n",
        "      odio_k_embedding_creado_por_lista = embeddings_hate_speech_conan_list_sin_repetidos_creado_por_lista[odio_k_indice];\n",
        "      lista_odio_k_embedding_creado_por_lista_for_loop.append(odio_k_embedding_creado_por_lista) #fixme: solo para sanity check\n",
        "\n",
        "      # Sumo el embedding de odio_K a embedding_contranarrativa_i_sin_discurso_de_odio_i.\n",
        "      embedding_cercano_a_contranarrativa_para_odio_k = embedding_contranarrativa_i_sin_discurso_de_odio_i + odio_k_embedding_creado_por_lista\n",
        "\n",
        "      #fixme: chequear el cálculo decos_sim_embedding_cercano_a_contranarrativa_para_odio_k_conan, ver que devuelve util.cos_sim. \n",
        "      # Calculo la similaridad coseno entre el resultado del paso anterior (embedding_cercano_a_contranarrativa_para_odio_k) y los embeddings de todas las contranarrativas del Conan (embeddings_counternarratives_conan_list_sin_repetidos_creado_por_lista).\n",
        "      #fixme: según entiendo, por la documentación de cos_sim, este tensor tiene en la segunda posición la cos_sim entre embedding_cercano_a_contranarrativa_para_odio_k y todos los embeddings de embeddings_counternarratives_conan_list_sin_repetidos_creado_por_lista. \n",
        "      cos_sim_embedding_cercano_a_contranarrativa_para_odio_k_conan = util.cos_sim(embedding_cercano_a_contranarrativa_para_odio_k, embeddings_counternarratives_conan_list_sin_repetidos_creado_por_lista)\n",
        "      print('cos_sim:', cos_sim_embedding_cercano_a_contranarrativa_para_odio_k_conan);\n",
        "      #Guardo el resultado anterior en una lista para hacer sanity check de la implementación matricial.\n",
        "      lista_sanity_check_cos_sim_embedding_cercano_a_contranarrativa_para_odio_k_conan.append(cos_sim_embedding_cercano_a_contranarrativa_para_odio_k_conan)#fixme: solo para sanity check.\n",
        "      \n",
        "\n",
        "      #transformo el tensor con las cos_sim en una lista con las cos_sim (quizás esta transformación podría evitarse, pero me parece más claro cómo eliminar un elemento de una lsita que de un tensor).\n",
        "      lista_cos_sim_embedding_cercano_a_contranarrativa_para_odio_k_conan = cos_sim_embedding_cercano_a_contranarrativa_para_odio_k_conan[0].tolist()\n",
        "      \n",
        "      # Calculo la cos_sim e índice de las top 10 contranarrativas para odio k.\n",
        "      ranking10MejoresContranarrativasParaOdioK = Nmaxelements(lista_cos_sim_embedding_cercano_a_contranarrativa_para_odio_k_conan, 10)\n",
        "\n",
        "      # Calculo la cos_sim e índice de las top 5 contranarrativas para odio k.\n",
        "      ranking5MejoresContranarrativasParaOdioK = ranking10MejoresContranarrativasParaOdioK[0:5] \n",
        "\n",
        "      # Calculo la cos_sim e índice de las top 3 contranarrativas para odio k.\n",
        "      ranking3MejoresContranarrativasParaOdioK = ranking10MejoresContranarrativasParaOdioK[0:3]\n",
        "\n",
        "      # Calculo la cos_sim e índice de la top 1 contranarrativa para odio k.\n",
        "      ranking1MejoresContranarrativasParaOdioK = ranking10MejoresContranarrativasParaOdioK[0]\n",
        "\n",
        "      # Busco las top 10 contranarrativas (busco efectivamente los strings, no los índices).\n",
        "      counternarratives_ranking_list_top10 =[]\n",
        "      for score, l in ranking10MejoresContranarrativasParaOdioK: #fixme: mega importante, chequear que el rango [0:10] son 10 resultados y no 11.\n",
        "          counternarratives_ranking_list_top10.append(counternarratives_conan_list_sin_repetidos[l])\n",
        "\n",
        "      # Busco las top 5 contranarrativas (busco efectivamente los strings, no los índices).\n",
        "      counternarratives_ranking_list_top5 = counternarratives_ranking_list_top10[0:5]\n",
        "\n",
        "      # Busco las top 3 contranarrativas (busco efectivamente los strings, no los índices).\n",
        "      counternarratives_ranking_list_top3 = counternarratives_ranking_list_top10[0:3]\n",
        "\n",
        "      # Busco la top 1 contranarrativa (busco efectivamente el string, no el índices).\n",
        "      counternarratives_ranking_list_top1 = counternarratives_ranking_list_top10[0:1]\n",
        "\n",
        "      #Fixme: acá puedo eliminar código repetido:\n",
        "\n",
        "      #Genero un top 10 con contranarrativas tomadas al azar\n",
        "      counternarratives_ranking_list_top10_random = random.sample(counternarratives_conan_list_sin_repetidos, 10)\n",
        "      \n",
        "      #Genero un top 5 con contranarrativas tomadas al azar\n",
        "      counternarratives_ranking_list_top5_random = counternarratives_ranking_list_top10_random[0:5]\n",
        "\n",
        "      #Genero un top 3 con contranarrativas tomadas al azar\n",
        "      counternarratives_ranking_list_top3_random =  counternarratives_ranking_list_top10_random[0:3]\n",
        "\n",
        "      #Genero un top 1 con contranarrativas tomadas al azar\n",
        "      counternarratives_ranking_list_top1_random =  counternarratives_ranking_list_top10_random[0:1]\n",
        "\n",
        "      #Fixme: acá puedo eliminar código repetido:\n",
        "      # Calculo la métrica_1 para el caso contranarrativa_i, odio_i, odio_k y ranking de 10 contranarrativas \n",
        "      # y la guardo en la lista_pares_métrica_1_top10. \n",
        "      # Además calclo la métrica 1 para el ranking de 10 contranarrativas random.\n",
        "\n",
        "      df_contranarrativas_en_conan_para_odio_k = sentences_conan.loc[sentences_conan['hateSpeech'] == odio_k, 'counterSpeech'] #fixme: ojo con esto, tengo que chequear que el hate speech que me interesa es efectivamente odio_k.\n",
        "      metrica1 = 0;\n",
        "      metrica1_random_top10 = 0;\n",
        "      for m in range(0,len(counternarratives_ranking_list_top10)):\n",
        "        if counternarratives_ranking_list_top10[m] in df_contranarrativas_en_conan_para_odio_k.values:\n",
        "            metrica1 += 1;\n",
        "        if counternarratives_ranking_list_top10_random[m] in df_contranarrativas_en_conan_para_odio_k.values:\n",
        "            metrica1_random_top10 += 1;\n",
        "      lista_pares_métrica_1_top10.append(('Contranarrativa_i, está en la posición', contranarrativa_i_indice,'en counternarratives_conan_list_sin_repetidos. Odio_i está en la posición numero', indice_odio_i, 'en hate_speech_conan_list_sin_repetidos.', 'Para el mensaje de odio en la posición', odio_k_indice,' en hate_speech_conan_list_sin_repetidos, el ranking de 10 contranarrativas contiene', metrica1, 'de las', df_contranarrativas_en_conan_para_odio_k.shape[0],'contranarrativas que existen en el conan para ese discurso de odio'))\n",
        "      lista_pares_métrica_1_top10_random.append(('Contranarrativa_i, está en la posición', contranarrativa_i_indice,'en counternarratives_conan_list_sin_repetidos. Odio_i está en la posición numero', indice_odio_i, 'en hate_speech_conan_list_sin_repetidos.', 'Para el mensaje de odio en la posición', odio_k_indice,' en hate_speech_conan_list_sin_repetidos, el ranking de 10 contranarrativas random contiene', metrica1_random_top10, 'de las', df_contranarrativas_en_conan_para_odio_k.shape[0],'contranarrativas que existen en el conan para ese discurso de odio'))\n",
        "      \n",
        "      # Calculo la métrica_1 para el caso contranarrativa_i, odio_i, odio_k y ranking de 5 contranarrativas \n",
        "      # y la guardo en la lista_pares_métrica_1_top5\n",
        "      # Además calclo la métrica 1 para el ranking de 5 contranarrativas random.\n",
        "      df_contranarrativas_en_conan_para_odio_k = sentences_conan.loc[sentences_conan['hateSpeech'] == odio_k, 'counterSpeech'] #fixme: ojo con esto, tengo que chequear que el hate speech que me interesa es efectivamente odio_k.\n",
        "      metrica1 = 0;\n",
        "      metrica1_random_top5 = 0;\n",
        "      for m in range(0,len(counternarratives_ranking_list_top5)):\n",
        "        if counternarratives_ranking_list_top5[m] in df_contranarrativas_en_conan_para_odio_k.values :\n",
        "            metrica1 += 1;\n",
        "        if counternarratives_ranking_list_top5_random[m] in df_contranarrativas_en_conan_para_odio_k.values:\n",
        "            metrica1_random_top5 += 1;\n",
        "      lista_pares_métrica_1_top5.append(('Contranarrativa_i, está en la posición', contranarrativa_i_indice,'en counternarratives_conan_list_sin_repetidos. Odio_i está en la posición numero', indice_odio_i, 'en hate_speech_conan_list_sin_repetidos.', 'Para el mensaje de odio en la posición', odio_k_indice,' en hate_speech_conan_list_sin_repetidos, el ranking de 5 contranarrativas contiene', metrica1, 'de las', df_contranarrativas_en_conan_para_odio_k.shape[0],'contranarrativas que existen en el conan para ese discurso de odio'))\n",
        "      lista_pares_métrica_1_top5_random.append(('Contranarrativa_i, está en la posición', contranarrativa_i_indice,'en counternarratives_conan_list_sin_repetidos. Odio_i está en la posición numero', indice_odio_i, 'en hate_speech_conan_list_sin_repetidos.', 'Para el mensaje de odio en la posición', odio_k_indice,' en hate_speech_conan_list_sin_repetidos, el ranking de 5 contranarrativas random contiene', metrica1_random_top5, 'de las', df_contranarrativas_en_conan_para_odio_k.shape[0],'contranarrativas que existen en el conan para ese discurso de odio'))\n",
        "\n",
        "      # Calculo la métrica_1 para el caso contranarrativa_i, odio_i, odio_k y ranking de 3 contranarrativas \n",
        "      # y la guardo en la lista_pares_métrica_1_top3\n",
        "      # Además calclo la métrica 1 para el ranking de 3 contranarrativas random.\n",
        "      df_contranarrativas_en_conan_para_odio_k = sentences_conan.loc[sentences_conan['hateSpeech'] == odio_k, 'counterSpeech'] #fixme: ojo con esto, tengo que chequear que el hate speech que me interesa es efectivamente odio_k.\n",
        "      metrica1 = 0;\n",
        "      metrica1_random_top3 = 0;\n",
        "      for m in range(0,len(counternarratives_ranking_list_top3)):\n",
        "        if counternarratives_ranking_list_top3[m] in df_contranarrativas_en_conan_para_odio_k.values :\n",
        "            metrica1 += 1;\n",
        "        if counternarratives_ranking_list_top3_random[m] in df_contranarrativas_en_conan_para_odio_k.values:\n",
        "            metrica1_random_top3 += 1;\n",
        "      lista_pares_métrica_1_top3.append(('Contranarrativa_i, está en la posición', contranarrativa_i_indice,'en counternarratives_conan_list_sin_repetidos. Odio_i está en la posición numero', indice_odio_i, 'en hate_speech_conan_list_sin_repetidos.', 'Para el mensaje de odio en la posición', odio_k_indice,' en hate_speech_conan_list_sin_repetidos, el ranking de 3 contranarrativas contiene', metrica1, 'de las', df_contranarrativas_en_conan_para_odio_k.shape[0],'contranarrativas que existen en el conan para ese discurso de odio'))\n",
        "      lista_pares_métrica_1_top3_random.append(('Contranarrativa_i, está en la posición', contranarrativa_i_indice,'en counternarratives_conan_list_sin_repetidos. Odio_i está en la posición numero', indice_odio_i, 'en hate_speech_conan_list_sin_repetidos.', 'Para el mensaje de odio en la posición', odio_k_indice,' en hate_speech_conan_list_sin_repetidos, el ranking de 3 contranarrativas random contiene', metrica1_random_top3, 'de las', df_contranarrativas_en_conan_para_odio_k.shape[0],'contranarrativas que existen en el conan para ese discurso de odio'))\n",
        "\n",
        "      # Calculo la métrica_1 para el caso contranarrativa_i, odio_i, odio_k y ranking de 1 contranarrativas \n",
        "      # y la guardo en la lista_pares_métrica_1_top1\n",
        "      # Además calclo la métrica 1 para el ranking de 1 contranarrativa random.\n",
        "      df_contranarrativas_en_conan_para_odio_k = sentences_conan.loc[sentences_conan['hateSpeech'] == odio_k, 'counterSpeech'] #fixme: ojo con esto, tengo que chequear que el hate speech que me interesa es efectivamente odio_k.\n",
        "      metrica1 = 0;\n",
        "      metrica1_random_top1 = 0;\n",
        "      for m in range(0,len(counternarratives_ranking_list_top1)):\n",
        "        if counternarratives_ranking_list_top1[m] in df_contranarrativas_en_conan_para_odio_k.values :\n",
        "            metrica1 += 1;\n",
        "        if counternarratives_ranking_list_top1_random[m] in df_contranarrativas_en_conan_para_odio_k.values:\n",
        "            metrica1_random_top1 += 1;\n",
        "\n",
        "      lista_pares_métrica_1_top1.append(('Contranarrativa_i, está en la posición', contranarrativa_i_indice,'en counternarratives_conan_list_sin_repetidos. Odio_i está en la posición numero', indice_odio_i, 'en hate_speech_conan_list_sin_repetidos.', 'Para el mensaje de odio en la posición', odio_k_indice,' en hate_speech_conan_list_sin_repetidos, el ranking de 3 contranarrativas contiene', metrica1, 'de las', df_contranarrativas_en_conan_para_odio_k.shape[0],'contranarrativas que existen en el conan para ese discurso de odio'))\n",
        "      lista_pares_métrica_1_top1_random.append(('Contranarrativa_i, está en la posición', contranarrativa_i_indice,'en counternarratives_conan_list_sin_repetidos. Odio_i está en la posición numero', indice_odio_i, 'en hate_speech_conan_list_sin_repetidos.', 'Para el mensaje de odio en la posición', odio_k_indice,' en hate_speech_conan_list_sin_repetidos, el ranking de 1 contranarrativas random contiene', metrica1_random_top1, 'de las', df_contranarrativas_en_conan_para_odio_k.shape[0],'contranarrativas que existen en el conan para ese discurso de odio'))\n",
        "\n",
        "      # Solo para sanity check contra método matricial:\n",
        "      # Guardo una tripla con los ínidces de las contranarrativas y discursos de odio que se usaron en esta iteración:\n",
        "      # (contranarrativa_i, odio_i, odio_k)\n",
        "      indices_contranarrativa_i_odio_i_odio_k_for_loop_soloParaSanityChequearImplementacionMatricial.append((contranarrativa_i_indice, indice_odio_i, odio_k_indice))\n",
        "\n",
        "      #Imprimo estatus de estar corriendo:\n",
        "      if(iteraciones % 1000 == 0):\n",
        "          print('Calculando métrica 1, iteración número', iteraciones);\n",
        "      iteraciones += 1;\n",
        "    lista_listas_odio_k_embedding_creado_por_lista_for_loop.append(lista_odio_k_embedding_creado_por_lista_for_loop) # fixme: solo para sanity check\n",
        "    lista_listas_sanity_check_cos_sim_embedding_cercano_a_contranarrativa_para_odio_k_conan.append(lista_sanity_check_cos_sim_embedding_cercano_a_contranarrativa_para_odio_k_conan) # fixme: solo para sanity check\n",
        "\n",
        "  lista_listas_listas_sanity_check_cos_sim_embedding_cercano_a_contranarrativa_para_odio_k_conan.append(lista_listas_sanity_check_cos_sim_embedding_cercano_a_contranarrativa_para_odio_k_conan)\n",
        "  lista_listas_listas_odio_k_embedding_creado_por_lista_for_loop.append(lista_listas_odio_k_embedding_creado_por_lista_for_loop) # fixme: solo para sanity check\n",
        "  odio_i_lista_sanity_check_for_loop.append(lista_odio_i_para_contranarrat_i_for_loop) # fixme: solo para sanity check\n",
        "  lista_listas_odio_i_embedding_for_loop.append(lista_odio_i_embedding_for_loop) #fixme: solo para sanity check\n",
        "  lista_listas_embedding_contranarrativa_i_sin_discurso_de_odio_i_for_loop.append(lista_embedding_contranarrativa_i_sin_discurso_de_odio_i_for_loop) #fixme: solo para sanity check"
      ]
    },
    {
      "cell_type": "code",
      "execution_count": null,
      "metadata": {
        "id": "oiil1C81R6IQ"
      },
      "outputs": [],
      "source": [
        "#fixme: acá printeo la lista de resultados y veo que hay algunos discursos de odio que tiene muchas contranarrativas \n",
        "# (por ejemplo 85), quizás el ranking tenga que ser de más elementos (aunque por otra parte yo quiero que el ranking\n",
        "# devuelva pocos elementos y muy buenos -tengo el problema de que si el ranking devuelve 10 elementos y los 10 son\n",
        "# buenos, pero para ese discurso de odio hay 85 contranarrativas, me va a quedar que el sistema devuelve 10 de las 85\n",
        "# posibles contranarrativas [es un muy mal resultado]-)\n",
        "# lista_pares_métrica_1_top10\n"
      ]
    },
    {
      "cell_type": "markdown",
      "metadata": {
        "id": "6xGyBwkLbo3c"
      },
      "source": [
        "###Hago sanity checks para versión matricial comparando contra la métrica 1 calculada con for-loop (fixme: mega importante: para que estos sanity checks pasen, se debe debe correr la métrica 1 con ambos métodos sobre la misma cantidad de elementos):"
      ]
    },
    {
      "cell_type": "code",
      "execution_count": null,
      "metadata": {
        "id": "WtPKAwtF-dPc"
      },
      "outputs": [],
      "source": [
        "# Chequeo que los embeddings de las contranarrativas_i son los mismos para los métodos matricial y for-loop: \n",
        "\n",
        "res = True\n",
        "for i in range(0, min(len(lista_contranarrativa_i_embedding_matricial), len(lista_contranarrativa_i_embedding_for_loop))):\n",
        "  res = res and torch.equal(lista_contranarrativa_i_embedding_matricial[i],lista_contranarrativa_i_embedding_for_loop[i])\n",
        "res"
      ]
    },
    {
      "cell_type": "code",
      "execution_count": null,
      "metadata": {
        "id": "1YaShB-K0ozC"
      },
      "outputs": [],
      "source": [
        "# Chequeo si los discursos de odio obtenidos para la contranarrativa_i en la versión \n",
        "#matricial, son los mismos que los obtenidos para versión for-loop \n",
        "\n",
        "for i in range(0, min(len(df_odio_en_conan_list_for_loop), len(df_odio_en_conan_list_matricial))):\n",
        "  print(df_odio_en_conan_list_matricial[i] == df_odio_en_conan_list_for_loop [i])"
      ]
    },
    {
      "cell_type": "code",
      "execution_count": null,
      "metadata": {
        "id": "-TUTY9YbH8wk"
      },
      "outputs": [],
      "source": [
        "# Chequeo que los odio_i sean los mismos en la versión matricial y en la de for_loop:\n",
        "len_matricial = len(odio_i_lista_sanity_check_matricial)\n",
        "len_for_loop = len(odio_i_lista_sanity_check_for_loop)\n",
        "odio_i_lista_sanity_check_matricial[0:len_for_loop] == odio_i_lista_sanity_check_for_loop[0:len_matricial]"
      ]
    },
    {
      "cell_type": "code",
      "execution_count": null,
      "metadata": {
        "id": "GzVugLmwOmC0"
      },
      "outputs": [],
      "source": [
        "# Chequeo que los embeddings de odio_i sean los mismos en la versión matricial y en la de for_loop:\n",
        "\n",
        "res = True\n",
        "for i in range(0, min(len(lista_listas_odio_i_embedding_matricial), len(lista_listas_odio_i_embedding_for_loop))):\n",
        "  for j in range(0, min(len(lista_listas_odio_i_embedding_matricial[i]), len(lista_listas_odio_i_embedding_for_loop[i]))):\n",
        "    res = res and torch.equal(lista_listas_odio_i_embedding_matricial[i][j],lista_listas_odio_i_embedding_for_loop[i][j])\n",
        "res"
      ]
    },
    {
      "cell_type": "code",
      "execution_count": null,
      "metadata": {
        "id": "JGj5CV_CgFyM"
      },
      "outputs": [],
      "source": [
        " # Chequeo si los embeddings de odio_k son los mismos en la versión matricial y en la de for loop:\n",
        "lista_listas_listas_odio_k_embedding_creado_por_lista_matricial[0][0][0]\n",
        "\n",
        "# Chequeo que los embeddings de odio_i sean los mismos en la versión matricial y en la de for_loop:\n",
        "\n",
        "res = True\n",
        "for i in range(0, min(len(lista_listas_listas_odio_k_embedding_creado_por_lista_matricial), len(lista_listas_listas_odio_k_embedding_creado_por_lista_for_loop))):\n",
        "  for j in range(0, min(len(lista_listas_listas_odio_k_embedding_creado_por_lista_matricial[i]), len(lista_listas_listas_odio_k_embedding_creado_por_lista_for_loop[i]))):\n",
        "    for k in range(0, min(len(lista_listas_listas_odio_k_embedding_creado_por_lista_matricial[i][j]), len(lista_listas_listas_odio_k_embedding_creado_por_lista_for_loop[i][j]))):\n",
        "      res = res and torch.equal(lista_listas_listas_odio_k_embedding_creado_por_lista_matricial[i][j][k],lista_listas_listas_odio_k_embedding_creado_por_lista_for_loop[i][j][k])\n",
        "res"
      ]
    },
    {
      "cell_type": "code",
      "execution_count": null,
      "metadata": {
        "id": "7WF24kSXVjU0"
      },
      "outputs": [],
      "source": [
        "# Chequeo que los embeddings de contranarrativa_i_sin_discurso_de_odio_i sean los mismos en la versión matricial y en la de for_loop:\n",
        "\n",
        "res = True\n",
        "for i in range(0, min(len(lista_listas_embedding_contranarrativa_i_sin_discurso_de_odio_i_matricial), len(lista_listas_embedding_contranarrativa_i_sin_discurso_de_odio_i_for_loop))):\n",
        "  res = res and print(len(lista_listas_embedding_contranarrativa_i_sin_discurso_de_odio_i_matricial[i]) == len(lista_listas_embedding_contranarrativa_i_sin_discurso_de_odio_i_for_loop[i]))\n",
        "  for j in range(0, min(len(lista_listas_embedding_contranarrativa_i_sin_discurso_de_odio_i_matricial[i]), len(lista_listas_embedding_contranarrativa_i_sin_discurso_de_odio_i_for_loop[i]))):\n",
        "    res = res and torch.equal(lista_listas_embedding_contranarrativa_i_sin_discurso_de_odio_i_matricial[i][j],lista_listas_embedding_contranarrativa_i_sin_discurso_de_odio_i_for_loop[i][j])\n",
        "res"
      ]
    },
    {
      "cell_type": "code",
      "execution_count": null,
      "metadata": {
        "id": "4_TZhCY0GD2b"
      },
      "outputs": [],
      "source": [
        "# Chequeo que las triplas (contranarrativa_i, odio_i, odio_k) sean los mismos en ambos métodos (matricial y for-loop) \n",
        "# Puede haber una tripla de listas más larga que otra, esto chequea que la tripla mas corta sea parte de la cabeza de la más larga.\n",
        "\n",
        "res = True\n",
        "for i in range (0, min(len(indices_contranarrativa_i_odio_i_odio_k_for_loop_soloParaSanityChequearImplementacionMatricial), len(indices_contranarrativa_i_odio_i_odio_k))):\n",
        "   res = res and indices_contranarrativa_i_odio_i_odio_k_for_loop_soloParaSanityChequearImplementacionMatricial[i] == indices_contranarrativa_i_odio_i_odio_k[i]\n",
        "res    "
      ]
    },
    {
      "cell_type": "markdown",
      "metadata": {
        "id": "cGedDvVNMBe1"
      },
      "source": [
        "### Sanity check: comparo cos_sim calculada matricialmente vs calculada con for_loop:"
      ]
    },
    {
      "cell_type": "code",
      "execution_count": null,
      "metadata": {
        "id": "EhdB3coxna-l"
      },
      "outputs": [],
      "source": [
        "# Chequeo si las cos_sim sean iguales.\n",
        "print('Los dos métodos (matricial y for_loop) devuelven la misma cos_sim: ', torch.equal(lista_listas_listas_sanity_check_cos_sim_embedding_cercano_a_contranarrativa_para_odio_k_conan[0][0][0][0], cos_sim_calculado_con_matriz[0]))\n",
        "\n",
        "# Confirmo que no lo son. Printeo ambos embeddings y los comparo a mano (los comparo en https://text-compare.com/) y verficico que hay minimas\n",
        "# diferencias,sospecho que se debe a errores de redondeo de util.cos_sim.\n",
        "#Las siguientes dos celdas printean los embeddings de las implementaciones for_loop y matricial:"
      ]
    },
    {
      "cell_type": "code",
      "execution_count": null,
      "metadata": {
        "id": "_iehoqS-Lozt"
      },
      "outputs": [],
      "source": [
        "# Printeo las triplas (contranarrativa_i, odio_i, odio_k), para tener presente para cuáles triplas se \n",
        "# está calculando cos_sim en las siguientes dos celdas:\n",
        "indices_contranarrativa_i_odio_i_odio_k"
      ]
    },
    {
      "cell_type": "code",
      "execution_count": null,
      "metadata": {
        "id": "Hi5U90KTLC61"
      },
      "outputs": [],
      "source": [
        "# Printeo la cos_sim calculada matricialmente de las triplas (contranarrativa_i, odio_i, odio_k) contra todas las contranarrativas del Dataset para\n",
        "# mostrar que a pesar de que hay pequeños errores de redondeo, la cos_sim calculada con el método for_loop y el método matricial, dan resultados \n",
        "# prácticamente idénticos\n",
        "\n",
        "for indice_tripla in range(0, len(indices_contranarrativa_i_odio_i_odio_k)):\n",
        "  print(cos_sim_calculado_con_matriz[indice_tripla])\n",
        "  # Para printear los tensores enteros, descomentar las siguientes tres líneas:\n",
        "  #torch.set_printoptions(profile=\"full\")\n",
        "  #print(cos_sim_calculado_con_matriz[0])\n",
        "  #torch.set_printoptions(profile=\"default\")"
      ]
    },
    {
      "cell_type": "code",
      "execution_count": null,
      "metadata": {
        "id": "RPUZhy2drvhe"
      },
      "outputs": [],
      "source": [
        "# Printeo la cos_sim calculada con el for_loop, de las triplas (contranarrativa_i, odio_i, odio_k) contra todas las contranarrativas del Dataset para\n",
        "# mostrar que a pesar de que hay pequeños errores de redondeo, la cos_sim calculada con el método for_loop y el método matricial, dan resultados \n",
        "# prácticamente idénticos\n",
        "\n",
        "indice_contranarrativa_i = 0  # Toma valores en el intervalo [0:cantidad_contranarrativas_iteradas_for_loop)\n",
        "indice_odio_i = 0             # Los valores que puede tomar varían según la cantidad de discursos de odio que existan para la contranarrativa_i\n",
        "indice_odio_k = 0             # Toma valores en el intervalo [0:cantidad_discursos_odio_iterados_for_loop)\n",
        "\n",
        "print('cos_sim calculada con for_loop:', lista_listas_listas_sanity_check_cos_sim_embedding_cercano_a_contranarrativa_para_odio_k_conan[indice_contranarrativa_i][indice_odio_i][indice_odio_k][0])\n",
        "\n",
        "# Para printear el tensor entero, descomentar las siguientes líneas:\n",
        "#torch.set_printoptions(profile=\"full\")\n",
        "#print(lista_listas_listas_sanity_check_cos_sim_embedding_cercano_a_contranarrativa_para_odio_k_conan[indice_contranarrativa_i][indice_odio_i][indice_odio_k][0])\n",
        "#torch.set_printoptions(profile=\"default\")\n"
      ]
    },
    {
      "cell_type": "code",
      "execution_count": null,
      "metadata": {
        "id": "IJDSYLANBU1Q"
      },
      "outputs": [],
      "source": [
        "lista_pares_métrica_1_top10[0]"
      ]
    },
    {
      "cell_type": "code",
      "execution_count": null,
      "metadata": {
        "id": "4KkOtZJkrtY_"
      },
      "outputs": [],
      "source": [
        "# Chequeo que la metrica 1 es igual calculada con cualquiera de los dos métodos.\n",
        "\n",
        "posicion_contranarrativa_i = 1\n",
        "posicion_odio_i = 3\n",
        "posicion_odio_k = 6\n",
        "posicion_cantidad_contranarrativas_encontradas = 8\n",
        "posicion_contranarrativas_totales = 10\n",
        "\n",
        "res = True\n",
        "for i in range(0,len(lista_pares_métrica_1_top10)):\n",
        "  res = res and (lista_pares_métrica_1_top10_matricial_leida_de_csv[i][0] == lista_pares_métrica_1_top10[i][posicion_contranarrativa_i] and\n",
        "  lista_pares_métrica_1_top10_matricial_leida_de_csv[i][1] == lista_pares_métrica_1_top10[i][posicion_odio_i] and\n",
        "  lista_pares_métrica_1_top10_matricial_leida_de_csv[i][2] == lista_pares_métrica_1_top10[i][posicion_odio_k] and \n",
        "  lista_pares_métrica_1_top10_matricial_leida_de_csv[i][3] == lista_pares_métrica_1_top10[i][posicion_cantidad_contranarrativas_encontradas] and\n",
        "  lista_pares_métrica_1_top10_matricial_leida_de_csv[i][4] == lista_pares_métrica_1_top10[i][posicion_contranarrativas_totales])\n",
        "\n",
        "res"
      ]
    },
    {
      "cell_type": "code",
      "execution_count": null,
      "metadata": {
        "id": "Vb0_WXCB9Q5T"
      },
      "outputs": [],
      "source": [
        "cantidad_contranarrativas_iteradas_for_loop == cantidad_contranarrativas_iteradas_para_sanity_check"
      ]
    },
    {
      "cell_type": "code",
      "execution_count": null,
      "metadata": {
        "id": "BVGtbqEgmwut"
      },
      "outputs": [],
      "source": [
        "indices_contranarrativa_i_odio_i_odio_k_for_loop_soloParaSanityChequearImplementacionMatricial == indices_contranarrativa_i_odio_i_odio_k"
      ]
    },
    {
      "cell_type": "markdown",
      "source": [
        "### Sanity checks para rankings devueltos de forma explícita en al métrica 1:"
      ],
      "metadata": {
        "id": "FP7E7Xmt_ZN5"
      }
    },
    {
      "cell_type": "markdown",
      "source": [
        "**Saniticheck para:\n",
        "row_metrica_1_top_10_matricial:**\n",
        "\n",
        "[0, 0, 1, 3, 4, (0.8228143453598022, 0, 1), (0.44610676169395447, 54, 0), (0.42750459909439087, 1, 1), (0.3856143355369568, 2, 1), (0.3595585823059082, 501, 0), (0.34945154190063477, 951, 0), (0.3488898277282715, 179, 0), (0.3487835228443146, 1122, 0), (0.34731966257095337, 992, 0), (0.3441013693809509, 117, 0)]\n"
      ],
      "metadata": {
        "id": "4DWPimCz_Hl2"
      }
    },
    {
      "cell_type": "code",
      "source": [
        "hate_speech_conan_list_sin_repetidos[1]"
      ],
      "metadata": {
        "id": "xBTxWN9k9trk"
      },
      "execution_count": null,
      "outputs": []
    },
    {
      "cell_type": "code",
      "source": [
        "df_contranarrativas_en_conan_para_odio_k_matricial = sentences_conan.loc[sentences_conan['hateSpeech'] == hate_speech_conan_list_sin_repetidos[1], 'counterSpeech']\n",
        "df_contranarrativas_en_conan_para_odio_k_matricial"
      ],
      "metadata": {
        "id": "Q6gv5WMh-EJW"
      },
      "execution_count": null,
      "outputs": []
    },
    {
      "cell_type": "markdown",
      "source": [
        "Imprimo las contranarrativas que el ranking indica que son contranarrativas para odio_k y me fijo que efectivamente lo sean."
      ],
      "metadata": {
        "id": "QUanEOUVAcek"
      }
    },
    {
      "cell_type": "code",
      "source": [
        "counternarratives_conan_list_sin_repetidos[0]"
      ],
      "metadata": {
        "id": "oBiHuxbV-SmH"
      },
      "execution_count": null,
      "outputs": []
    },
    {
      "cell_type": "code",
      "source": [
        "counternarratives_conan_list_sin_repetidos[1]"
      ],
      "metadata": {
        "id": "02Sm5naJ-ix_"
      },
      "execution_count": null,
      "outputs": []
    },
    {
      "cell_type": "code",
      "source": [
        "counternarratives_conan_list_sin_repetidos[2]"
      ],
      "metadata": {
        "id": "wB7rvuG2-rhV"
      },
      "execution_count": null,
      "outputs": []
    },
    {
      "cell_type": "markdown",
      "source": [
        "**Saniticheck para:\n",
        "row_metrica_1_top_10_matricial:**\n",
        "\n",
        "row_metrica_1_top_10_matricial [0, 0, 38, 1, 26, (0.5261507630348206, 374, 0), (0.49584537744522095, 0, 0), (0.49126550555229187, 941, 0), (0.48606741428375244, 1224, 0), (0.4830586910247803, 31, 0), (0.4817856252193451, 367, 0), (0.4810233414173126, 349, 0), (0.47936514019966125, 176, 0), (0.47652754187583923, 122, 1), (0.47122466564178467, 357, 0)]\n"
      ],
      "metadata": {
        "id": "l2GNzYwJ_xSo"
      }
    },
    {
      "cell_type": "code",
      "source": [
        "hate_speech_conan_list_sin_repetidos[38]"
      ],
      "metadata": {
        "id": "VP0yEq6O__Ip"
      },
      "execution_count": null,
      "outputs": []
    },
    {
      "cell_type": "code",
      "source": [
        "df_contranarrativas_en_conan_para_odio_k_matricial = sentences_conan.loc[sentences_conan['hateSpeech'] == hate_speech_conan_list_sin_repetidos[38], 'counterSpeech']\n",
        "df_contranarrativas_en_conan_para_odio_k_matricial"
      ],
      "metadata": {
        "id": "aiCghmlf__Iq"
      },
      "execution_count": null,
      "outputs": []
    },
    {
      "cell_type": "markdown",
      "source": [
        "Imprimo las contranarrativas que el ranking indica que son contranarrativas para odio_k y me fijo que efectivamente lo sean."
      ],
      "metadata": {
        "id": "Sb7NJlcfANMt"
      }
    },
    {
      "cell_type": "code",
      "source": [
        "counternarratives_conan_list_sin_repetidos[122]"
      ],
      "metadata": {
        "id": "WQperx6___Ir"
      },
      "execution_count": null,
      "outputs": []
    },
    {
      "cell_type": "markdown",
      "metadata": {
        "id": "dotJLTeJkLgm"
      },
      "source": [
        "## Sanity checks a correr_metrica_1 y a leer_metrica_1"
      ]
    },
    {
      "cell_type": "code",
      "execution_count": null,
      "metadata": {
        "id": "9sA3unP2L0wc"
      },
      "outputs": [],
      "source": [
        "#Sanity check para correr_metrica_1 y leer_metrica_1:\n",
        "\n",
        "# En esta celda levanto el csv y lo guardo en una lista de listas.\n",
        "batch_size = 2\n",
        "tope_superior = 3\n",
        "correr_metrica_1(batch_size, tope_superior)\n",
        "lista_pares_métrica_1_top10_matricial_leida_de_csv_batch_size_2_tope_3 = leer_metrica_1(batch_size, tope_superior)"
      ]
    },
    {
      "cell_type": "code",
      "execution_count": null,
      "metadata": {
        "id": "fJzhT_MkQgEf"
      },
      "outputs": [],
      "source": [
        "#Sanity check para correr_metrica_1 y leer_metrica_1:\n",
        "\n",
        "# En esta celda levanto el csv y lo guardo en una lista de listas.\n",
        "batch_size = 3\n",
        "tope_superior = 3\n",
        "correr_metrica_1(batch_size, tope_superior)\n",
        "lista_pares_métrica_1_top10_matricial_leida_de_csv_batch_size_3_tope_3 = leer_metrica_1(batch_size, tope_superior)"
      ]
    },
    {
      "cell_type": "code",
      "source": [
        "len(lista_pares_métrica_1_top10_matricial_leida_de_csv_batch_size_2_tope_3) == len(lista_pares_métrica_1_top10_matricial_leida_de_csv_batch_size_3_tope_3)"
      ],
      "metadata": {
        "id": "kIDReqiJ7Ku0"
      },
      "execution_count": null,
      "outputs": []
    },
    {
      "cell_type": "code",
      "source": [
        "res = True\n",
        "for i in range(0, len(lista_pares_métrica_1_top10_matricial_leida_de_csv_batch_size_3_tope_3)):\n",
        "  for j in range (0,5):\n",
        "    res = res and lista_pares_métrica_1_top10_matricial_leida_de_csv_batch_size_3_tope_3[i][j] == lista_pares_métrica_1_top10_matricial_leida_de_csv_batch_size_2_tope_3[i][j]\n",
        "res"
      ],
      "metadata": {
        "id": "r3b8nem75x8x"
      },
      "execution_count": null,
      "outputs": []
    },
    {
      "cell_type": "code",
      "source": [
        "len(lista_pares_métrica_1_top10_matricial_leida_de_csv_batch_size_2_tope_3)"
      ],
      "metadata": {
        "id": "ewlam05R3FZ3"
      },
      "execution_count": null,
      "outputs": []
    },
    {
      "cell_type": "code",
      "source": [
        "len(lista_pares_métrica_1_top10_matricial_leida_de_csv_batch_size_3_tope_3)"
      ],
      "metadata": {
        "id": "TSIuOZiW3OnG"
      },
      "execution_count": null,
      "outputs": []
    },
    {
      "cell_type": "code",
      "execution_count": null,
      "metadata": {
        "id": "vx7mfW08igdF"
      },
      "outputs": [],
      "source": [
        "#Sanity check para correr_metrica_1 y leer_metrica_1:\n",
        "\n",
        "# En esta celda levanto el csv y lo guardo en una lista de listas.\n",
        "batch_size = 3\n",
        "tope_superior = 10\n",
        "correr_metrica_1(batch_size, tope_superior)\n",
        "lista_pares_métrica_1_top10_matricial_leida_de_csv_batch_size_3_tope_10 = leer_metrica_1(batch_size, tope_superior)"
      ]
    },
    {
      "cell_type": "code",
      "execution_count": null,
      "metadata": {
        "id": "DWsq2Wxmin4e"
      },
      "outputs": [],
      "source": [
        "#Sanity check para correr_metrica_1 y leer_metrica_1:\n",
        "\n",
        "# En esta celda levanto el csv y lo guardo en una lista de listas.\n",
        "batch_size = 4\n",
        "tope_superior = 10\n",
        "correr_metrica_1(batch_size, tope_superior)\n",
        "lista_pares_métrica_1_top10_matricial_leida_de_csv_batch_size_4_tope_10 = leer_metrica_1(batch_size, tope_superior)"
      ]
    },
    {
      "cell_type": "code",
      "source": [
        "len(lista_pares_métrica_1_top10_matricial_leida_de_csv_batch_size_3_tope_10) == len (lista_pares_métrica_1_top10_matricial_leida_de_csv_batch_size_4_tope_10)"
      ],
      "metadata": {
        "id": "w82ZD69W8kVx"
      },
      "execution_count": null,
      "outputs": []
    },
    {
      "cell_type": "code",
      "execution_count": null,
      "metadata": {
        "id": "esMH_ARqiw6t"
      },
      "outputs": [],
      "source": [
        "# Chequeo si la metrica 1 da igual para el mismo tope superior, independientemente de con que batch size se la llame.\n",
        "lista_pares_métrica_1_top10_matricial_leida_de_csv_batch_size_3_tope_10 == lista_pares_métrica_1_top10_matricial_leida_de_csv_batch_size_4_tope_10\n",
        "\n",
        "res = True\n",
        "for i in range(0, len(lista_pares_métrica_1_top10_matricial_leida_de_csv_batch_size_3_tope_10)):\n",
        "  for j in range (0,5):\n",
        "    res = res and lista_pares_métrica_1_top10_matricial_leida_de_csv_batch_size_3_tope_10[i][j] == lista_pares_métrica_1_top10_matricial_leida_de_csv_batch_size_4_tope_10[i][j]\n",
        "res"
      ]
    },
    {
      "cell_type": "code",
      "execution_count": null,
      "metadata": {
        "id": "tbiCSzy_CNdW"
      },
      "outputs": [],
      "source": [
        "# Fixme: esta es la forma vieja de leer un csv. Para que se pueda ejecutar y comparar con la nueva, hace falta:\n",
        "  # Que exista un llamado a correr_metrica_1(x,x) (notar que ambos parámetros son iguales).\n",
        "  # Que exista. \n",
        "  #  lista_leida_de_forma_nueva = leer_metrica_1(x,x) (notar que ambos parámetros son iguales y son los mimos que para correr_metrica_1(x,x)).\n",
        "  #  el filename de esta celda debe ser metrica1Top10ParticionContranarrativa0a(x-1) (con x el mismo que en los renglones anteriores). \n",
        "\n",
        "#En esta celda levanto el csv y lo guardo en una lista de listas.\n",
        "\n",
        "# csv file name\n",
        "filename = \"metrica1Top10ParticionContranarrativa0a2.csv\"\n",
        " \n",
        "# initializing the titles and rows list\n",
        "fields = []\n",
        "rows = []\n",
        "\n",
        "lista_pares_métrica_1_top10_matricial_leida_de_csv = []\n",
        "# reading csv file\n",
        "with open(filename, 'r') as csvfile:\n",
        "    # creating a csv reader object\n",
        "    csvreader = csv.reader(csvfile)\n",
        "     \n",
        "    # extracting field names through first row\n",
        "    fields = next(csvreader)\n",
        " \n",
        "    # extracting each data row one by one\n",
        "    for row in csvreader:\n",
        "        rows.append(row)\n",
        " \n",
        "    # get total number of rows\n",
        "    print(\"Total no. of rows: %d\"%(csvreader.line_num))\n",
        "    \n",
        "    # Armo una lista de lsitas con todos los elementos del csv:\n",
        "    lista_pares_métrica_1_top10_matricial_leida_de_csv = [];\n",
        "    for row in rows:\n",
        "        # parsing each column of a row\n",
        "        rowList = [];\n",
        "        for col in range(0,5): #Los primeros cinco elementos son chars que deseo convertir en ints\n",
        "          rowList.append(int(row[col]));\n",
        "        for col in range(5,len(row)): # los últimos 10 elementos son tuplas que no deseo modificar.\n",
        "          rowList.append(row[col]);\n",
        "          lista_pares_métrica_1_top10_matricial_leida_de_csv.append(rowList);           \n",
        "        lista_pares_métrica_1_top10_matricial_leida_de_csv.append(rowList);"
      ]
    },
    {
      "cell_type": "code",
      "execution_count": null,
      "metadata": {
        "id": "jP3YADU5mYdf"
      },
      "outputs": [],
      "source": [
        "lista_pares_métrica_1_top10_matricial_leida_de_csv_batch_size_3_tope_3 == lista_pares_métrica_1_top10_matricial_leida_de_csv_batch_size_3_tope_3"
      ]
    },
    {
      "cell_type": "markdown",
      "metadata": {
        "id": "ulR-1XYS0CT_"
      },
      "source": [
        "## Aplico métrica 2 forma original (sólo para hacer sanity checks):"
      ]
    },
    {
      "cell_type": "code",
      "execution_count": null,
      "metadata": {
        "id": "gxmew09ZaDjA"
      },
      "outputs": [],
      "source": [
        "# Métrica 2 en ranking de 10 elementos\n",
        "lista_metrica_2_top10 = []\n",
        "posicion_contranarrativas_encontradas = 8 \n",
        "posicion_contranarrativas_totales = 10\n",
        "cantidad_elementos_del_rankingTop10 = 10\n",
        "\n",
        "for i in range(0, len(lista_pares_métrica_1_top10)):\n",
        "  metrica_2_para_par_i = lista_pares_métrica_1_top10[i][posicion_contranarrativas_encontradas]/min(lista_pares_métrica_1_top10[i][posicion_contranarrativas_totales],cantidad_elementos_del_rankingTop10)\n",
        "  lista_metrica_2_top10.append(metrica_2_para_par_i)"
      ]
    },
    {
      "cell_type": "code",
      "execution_count": null,
      "metadata": {
        "id": "YSwJtHaDznYi"
      },
      "outputs": [],
      "source": [
        "# Métrica 2 en ranking de 10 elementos con método matricial\n",
        "lista_metrica_2_top10_matricial = []\n",
        "posicion_contranarrativas_encontradas = 8 \n",
        "posicion_contranarrativas_totales = 10\n",
        "cantidad_elementos_del_rankingTop10 = 10\n",
        "\n",
        "for i in range(0, len(lista_pares_métrica_1_top10_matricial)):\n",
        "  metrica_2_para_par_i_matricial = lista_pares_métrica_1_top10_matricial[i][posicion_contranarrativas_encontradas]/min(lista_pares_métrica_1_top10_matricial[i][posicion_contranarrativas_totales],cantidad_elementos_del_rankingTop10)\n",
        "  lista_metrica_2_top10_matricial.append(metrica_2_para_par_i_matricial)"
      ]
    },
    {
      "cell_type": "code",
      "execution_count": null,
      "metadata": {
        "id": "gNyeJGdL4Idb"
      },
      "outputs": [],
      "source": [
        "# Métrica 2 en ranking de 10 elementos random\n",
        "lista_metrica_2_top10_random = []\n",
        "posicion_contranarrativas_encontradas = 8 \n",
        "posicion_contranarrativas_totales = 10\n",
        "cantidad_elementos_del_rankingTop10 = 10\n",
        "\n",
        "for i in range(0, len(lista_pares_métrica_1_top10_random)):\n",
        "  metrica_2_para_par_i = lista_pares_métrica_1_top10_random[i][posicion_contranarrativas_encontradas]/min(lista_pares_métrica_1_top10_random[i][posicion_contranarrativas_totales],cantidad_elementos_del_rankingTop10)\n",
        "  lista_metrica_2_top10_random.append(metrica_2_para_par_i)"
      ]
    },
    {
      "cell_type": "markdown",
      "metadata": {
        "id": "k7sitoVW3Q6x"
      },
      "source": [
        "####Sanity check comparando la métrica 2 de la forma original vs leída desde el csv."
      ]
    },
    {
      "cell_type": "code",
      "execution_count": null,
      "metadata": {
        "id": "p_R-bZ0r3hda"
      },
      "outputs": [],
      "source": [
        "lista_metrica_2_top10_matricial == lista_metrica_2_top10_leida_de_csv"
      ]
    },
    {
      "cell_type": "markdown",
      "metadata": {
        "id": "Bd6Sxnqnag56"
      },
      "source": [
        "##Aplico métrica 3 de forma original (sólo para hacer sanity checks):"
      ]
    },
    {
      "cell_type": "code",
      "execution_count": null,
      "metadata": {
        "id": "sckFsf63anQn"
      },
      "outputs": [],
      "source": [
        "metrica_3_top10 = sum(lista_metrica_2_top10)/len(lista_metrica_2_top10)\n",
        "print('Métrica 3, con ranking de 10 elementos:', metrica_3_top10)"
      ]
    },
    {
      "cell_type": "markdown",
      "metadata": {
        "id": "-0RpGoZjiFiv"
      },
      "source": [
        "En una de las ejecuciones (100 odio y 100 contranarrat), el método matricial me dió:\n",
        "\n",
        "Métrica 3, con ranking de 10 elementos: 0.14830262258723031\n",
        "\n",
        "En mi compu (100 odio y 100 contranarrat), el método matricial me dió:\n",
        "0.14837975427981692 \n",
        "\n",
        "En mi compu (todos los odio y 100 contranarrat), el método matricial me dió:\n",
        "\n",
        "0.16168990456515187\n",
        "\n",
        "En una de las ejecuciones (todos los odio y 100 contranarrat), el método matricial me dió:\n",
        "\n",
        "Métrica 3, con ranking de 10 elementos: 0.15029037619501082\n",
        "\n",
        "En una de las ejecuciones (todos los odio y 200 contranarrat), el método matricial me dió: \n",
        "\n",
        "Métrica 3, con ranking de 10 elementos: 0.15722574064607484\n"
      ]
    },
    {
      "cell_type": "code",
      "execution_count": null,
      "metadata": {
        "id": "nJ4idfoX0Ct4"
      },
      "outputs": [],
      "source": [
        "metrica_3_top10_matricial = sum(lista_metrica_2_top10_matricial)/len(lista_metrica_2_top10_matricial)\n",
        "print('Métrica 3, con ranking de 10 elementos:', metrica_3_top10_matricial)"
      ]
    },
    {
      "cell_type": "code",
      "execution_count": null,
      "metadata": {
        "id": "pvMhIcth7GmC"
      },
      "outputs": [],
      "source": [
        "# Calculo la métrica 3 para el ranking random de 10 elementos.\n",
        "metrica_3_top10_random = sum(lista_metrica_2_top10_random)/len(lista_metrica_2_top10_random)\n",
        "print('Métrica 3, con ranking de 10 elementos elegidos al azar:', metrica_3_top10_random)"
      ]
    },
    {
      "cell_type": "markdown",
      "metadata": {
        "id": "-S5fcqA04y8H"
      },
      "source": [
        "### Sanity check comparando la métrica 3 de la forma original vs leída desde el csv."
      ]
    },
    {
      "cell_type": "code",
      "execution_count": null,
      "metadata": {
        "id": "nE4fQnEo46f5"
      },
      "outputs": [],
      "source": [
        "metrica_3_top10 == metrica_3_top10_csv"
      ]
    },
    {
      "cell_type": "code",
      "execution_count": null,
      "metadata": {
        "id": "fkOgEqJJascm"
      },
      "outputs": [],
      "source": [
        "del(lista_contranarrativa_i_embedding_matricial)\n",
        "del(df_odio_en_conan_list_matricial)\n",
        "del(odio_i_lista_sanity_check_matricial)\n",
        "del(lista_listas_odio_i_embedding_matricial)\n",
        "del(lista_listas_embedding_contranarrativa_i_sin_discurso_de_odio_i_matricial)\n",
        "del(lista_listas_listas_odio_k_embedding_creado_por_lista_matricial)\n",
        "del(indices_contranarrativa_i_odio_i_odio_k)\n",
        "del(cos_sim_calculado_con_matriz)\n",
        "del(lista_pares_métrica_1_top10_matricial)"
      ]
    }
  ],
  "metadata": {
    "colab": {
      "provenance": [],
      "collapsed_sections": [
        "Bh4sAM2tUpEF"
      ],
      "toc_visible": true,
      "authorship_tag": "ABX9TyOchu2vzmJjtGnampCYh85Q",
      "include_colab_link": true
    },
    "kernelspec": {
      "display_name": "Python 3",
      "name": "python3"
    },
    "language_info": {
      "name": "python"
    },
    "widgets": {
      "application/vnd.jupyter.widget-state+json": {
        "ae81e6fe66a34a67963fd84a15815d6d": {
          "model_module": "@jupyter-widgets/controls",
          "model_name": "HBoxModel",
          "model_module_version": "1.5.0",
          "state": {
            "_dom_classes": [],
            "_model_module": "@jupyter-widgets/controls",
            "_model_module_version": "1.5.0",
            "_model_name": "HBoxModel",
            "_view_count": null,
            "_view_module": "@jupyter-widgets/controls",
            "_view_module_version": "1.5.0",
            "_view_name": "HBoxView",
            "box_style": "",
            "children": [
              "IPY_MODEL_a290fb862986420e97af3fb6945922b7",
              "IPY_MODEL_ff18cbf04dfd443ab6f46981cc7af3c8",
              "IPY_MODEL_02e86f463f09409f8f89b855aae9e2ef"
            ],
            "layout": "IPY_MODEL_166511fce4b443088b90371645537551"
          }
        },
        "a290fb862986420e97af3fb6945922b7": {
          "model_module": "@jupyter-widgets/controls",
          "model_name": "HTMLModel",
          "model_module_version": "1.5.0",
          "state": {
            "_dom_classes": [],
            "_model_module": "@jupyter-widgets/controls",
            "_model_module_version": "1.5.0",
            "_model_name": "HTMLModel",
            "_view_count": null,
            "_view_module": "@jupyter-widgets/controls",
            "_view_module_version": "1.5.0",
            "_view_name": "HTMLView",
            "description": "",
            "description_tooltip": null,
            "layout": "IPY_MODEL_5e6adeab2f2a4411b5a9b44728acc082",
            "placeholder": "​",
            "style": "IPY_MODEL_2e49d9c4d0e74fb9862b4c3d98cf7110",
            "value": "Downloading: 100%"
          }
        },
        "ff18cbf04dfd443ab6f46981cc7af3c8": {
          "model_module": "@jupyter-widgets/controls",
          "model_name": "FloatProgressModel",
          "model_module_version": "1.5.0",
          "state": {
            "_dom_classes": [],
            "_model_module": "@jupyter-widgets/controls",
            "_model_module_version": "1.5.0",
            "_model_name": "FloatProgressModel",
            "_view_count": null,
            "_view_module": "@jupyter-widgets/controls",
            "_view_module_version": "1.5.0",
            "_view_name": "ProgressView",
            "bar_style": "success",
            "description": "",
            "description_tooltip": null,
            "layout": "IPY_MODEL_16a0c625f58c427d8475ce15db9b4342",
            "max": 1175,
            "min": 0,
            "orientation": "horizontal",
            "style": "IPY_MODEL_32711d8f4f3d49e7843fbeacb8b0e915",
            "value": 1175
          }
        },
        "02e86f463f09409f8f89b855aae9e2ef": {
          "model_module": "@jupyter-widgets/controls",
          "model_name": "HTMLModel",
          "model_module_version": "1.5.0",
          "state": {
            "_dom_classes": [],
            "_model_module": "@jupyter-widgets/controls",
            "_model_module_version": "1.5.0",
            "_model_name": "HTMLModel",
            "_view_count": null,
            "_view_module": "@jupyter-widgets/controls",
            "_view_module_version": "1.5.0",
            "_view_name": "HTMLView",
            "description": "",
            "description_tooltip": null,
            "layout": "IPY_MODEL_2ec623ae092e4d1fb9fb66551005f661",
            "placeholder": "​",
            "style": "IPY_MODEL_8b93d00ad82f4c2695a0c7ac25c354b3",
            "value": " 1.18k/1.18k [00:00&lt;00:00, 7.68kB/s]"
          }
        },
        "166511fce4b443088b90371645537551": {
          "model_module": "@jupyter-widgets/base",
          "model_name": "LayoutModel",
          "model_module_version": "1.2.0",
          "state": {
            "_model_module": "@jupyter-widgets/base",
            "_model_module_version": "1.2.0",
            "_model_name": "LayoutModel",
            "_view_count": null,
            "_view_module": "@jupyter-widgets/base",
            "_view_module_version": "1.2.0",
            "_view_name": "LayoutView",
            "align_content": null,
            "align_items": null,
            "align_self": null,
            "border": null,
            "bottom": null,
            "display": null,
            "flex": null,
            "flex_flow": null,
            "grid_area": null,
            "grid_auto_columns": null,
            "grid_auto_flow": null,
            "grid_auto_rows": null,
            "grid_column": null,
            "grid_gap": null,
            "grid_row": null,
            "grid_template_areas": null,
            "grid_template_columns": null,
            "grid_template_rows": null,
            "height": null,
            "justify_content": null,
            "justify_items": null,
            "left": null,
            "margin": null,
            "max_height": null,
            "max_width": null,
            "min_height": null,
            "min_width": null,
            "object_fit": null,
            "object_position": null,
            "order": null,
            "overflow": null,
            "overflow_x": null,
            "overflow_y": null,
            "padding": null,
            "right": null,
            "top": null,
            "visibility": null,
            "width": null
          }
        },
        "5e6adeab2f2a4411b5a9b44728acc082": {
          "model_module": "@jupyter-widgets/base",
          "model_name": "LayoutModel",
          "model_module_version": "1.2.0",
          "state": {
            "_model_module": "@jupyter-widgets/base",
            "_model_module_version": "1.2.0",
            "_model_name": "LayoutModel",
            "_view_count": null,
            "_view_module": "@jupyter-widgets/base",
            "_view_module_version": "1.2.0",
            "_view_name": "LayoutView",
            "align_content": null,
            "align_items": null,
            "align_self": null,
            "border": null,
            "bottom": null,
            "display": null,
            "flex": null,
            "flex_flow": null,
            "grid_area": null,
            "grid_auto_columns": null,
            "grid_auto_flow": null,
            "grid_auto_rows": null,
            "grid_column": null,
            "grid_gap": null,
            "grid_row": null,
            "grid_template_areas": null,
            "grid_template_columns": null,
            "grid_template_rows": null,
            "height": null,
            "justify_content": null,
            "justify_items": null,
            "left": null,
            "margin": null,
            "max_height": null,
            "max_width": null,
            "min_height": null,
            "min_width": null,
            "object_fit": null,
            "object_position": null,
            "order": null,
            "overflow": null,
            "overflow_x": null,
            "overflow_y": null,
            "padding": null,
            "right": null,
            "top": null,
            "visibility": null,
            "width": null
          }
        },
        "2e49d9c4d0e74fb9862b4c3d98cf7110": {
          "model_module": "@jupyter-widgets/controls",
          "model_name": "DescriptionStyleModel",
          "model_module_version": "1.5.0",
          "state": {
            "_model_module": "@jupyter-widgets/controls",
            "_model_module_version": "1.5.0",
            "_model_name": "DescriptionStyleModel",
            "_view_count": null,
            "_view_module": "@jupyter-widgets/base",
            "_view_module_version": "1.2.0",
            "_view_name": "StyleView",
            "description_width": ""
          }
        },
        "16a0c625f58c427d8475ce15db9b4342": {
          "model_module": "@jupyter-widgets/base",
          "model_name": "LayoutModel",
          "model_module_version": "1.2.0",
          "state": {
            "_model_module": "@jupyter-widgets/base",
            "_model_module_version": "1.2.0",
            "_model_name": "LayoutModel",
            "_view_count": null,
            "_view_module": "@jupyter-widgets/base",
            "_view_module_version": "1.2.0",
            "_view_name": "LayoutView",
            "align_content": null,
            "align_items": null,
            "align_self": null,
            "border": null,
            "bottom": null,
            "display": null,
            "flex": null,
            "flex_flow": null,
            "grid_area": null,
            "grid_auto_columns": null,
            "grid_auto_flow": null,
            "grid_auto_rows": null,
            "grid_column": null,
            "grid_gap": null,
            "grid_row": null,
            "grid_template_areas": null,
            "grid_template_columns": null,
            "grid_template_rows": null,
            "height": null,
            "justify_content": null,
            "justify_items": null,
            "left": null,
            "margin": null,
            "max_height": null,
            "max_width": null,
            "min_height": null,
            "min_width": null,
            "object_fit": null,
            "object_position": null,
            "order": null,
            "overflow": null,
            "overflow_x": null,
            "overflow_y": null,
            "padding": null,
            "right": null,
            "top": null,
            "visibility": null,
            "width": null
          }
        },
        "32711d8f4f3d49e7843fbeacb8b0e915": {
          "model_module": "@jupyter-widgets/controls",
          "model_name": "ProgressStyleModel",
          "model_module_version": "1.5.0",
          "state": {
            "_model_module": "@jupyter-widgets/controls",
            "_model_module_version": "1.5.0",
            "_model_name": "ProgressStyleModel",
            "_view_count": null,
            "_view_module": "@jupyter-widgets/base",
            "_view_module_version": "1.2.0",
            "_view_name": "StyleView",
            "bar_color": null,
            "description_width": ""
          }
        },
        "2ec623ae092e4d1fb9fb66551005f661": {
          "model_module": "@jupyter-widgets/base",
          "model_name": "LayoutModel",
          "model_module_version": "1.2.0",
          "state": {
            "_model_module": "@jupyter-widgets/base",
            "_model_module_version": "1.2.0",
            "_model_name": "LayoutModel",
            "_view_count": null,
            "_view_module": "@jupyter-widgets/base",
            "_view_module_version": "1.2.0",
            "_view_name": "LayoutView",
            "align_content": null,
            "align_items": null,
            "align_self": null,
            "border": null,
            "bottom": null,
            "display": null,
            "flex": null,
            "flex_flow": null,
            "grid_area": null,
            "grid_auto_columns": null,
            "grid_auto_flow": null,
            "grid_auto_rows": null,
            "grid_column": null,
            "grid_gap": null,
            "grid_row": null,
            "grid_template_areas": null,
            "grid_template_columns": null,
            "grid_template_rows": null,
            "height": null,
            "justify_content": null,
            "justify_items": null,
            "left": null,
            "margin": null,
            "max_height": null,
            "max_width": null,
            "min_height": null,
            "min_width": null,
            "object_fit": null,
            "object_position": null,
            "order": null,
            "overflow": null,
            "overflow_x": null,
            "overflow_y": null,
            "padding": null,
            "right": null,
            "top": null,
            "visibility": null,
            "width": null
          }
        },
        "8b93d00ad82f4c2695a0c7ac25c354b3": {
          "model_module": "@jupyter-widgets/controls",
          "model_name": "DescriptionStyleModel",
          "model_module_version": "1.5.0",
          "state": {
            "_model_module": "@jupyter-widgets/controls",
            "_model_module_version": "1.5.0",
            "_model_name": "DescriptionStyleModel",
            "_view_count": null,
            "_view_module": "@jupyter-widgets/base",
            "_view_module_version": "1.2.0",
            "_view_name": "StyleView",
            "description_width": ""
          }
        },
        "e36a901ffaaf48b288c48a11f6a6c106": {
          "model_module": "@jupyter-widgets/controls",
          "model_name": "HBoxModel",
          "model_module_version": "1.5.0",
          "state": {
            "_dom_classes": [],
            "_model_module": "@jupyter-widgets/controls",
            "_model_module_version": "1.5.0",
            "_model_name": "HBoxModel",
            "_view_count": null,
            "_view_module": "@jupyter-widgets/controls",
            "_view_module_version": "1.5.0",
            "_view_name": "HBoxView",
            "box_style": "",
            "children": [
              "IPY_MODEL_5cf7e36ad27b4ab59b30db0bc29d1e9f",
              "IPY_MODEL_749d16a6744b4f2db58c382cd4af3e04",
              "IPY_MODEL_f6c2f3036bf54129abcb3a69e823bd45"
            ],
            "layout": "IPY_MODEL_ea3b093992f44fe59706b5507a7ae1c2"
          }
        },
        "5cf7e36ad27b4ab59b30db0bc29d1e9f": {
          "model_module": "@jupyter-widgets/controls",
          "model_name": "HTMLModel",
          "model_module_version": "1.5.0",
          "state": {
            "_dom_classes": [],
            "_model_module": "@jupyter-widgets/controls",
            "_model_module_version": "1.5.0",
            "_model_name": "HTMLModel",
            "_view_count": null,
            "_view_module": "@jupyter-widgets/controls",
            "_view_module_version": "1.5.0",
            "_view_name": "HTMLView",
            "description": "",
            "description_tooltip": null,
            "layout": "IPY_MODEL_2e5146992d974070968efb174c50c726",
            "placeholder": "​",
            "style": "IPY_MODEL_7354d8774a6e4c90ab4edff33e558077",
            "value": "Downloading: 100%"
          }
        },
        "749d16a6744b4f2db58c382cd4af3e04": {
          "model_module": "@jupyter-widgets/controls",
          "model_name": "FloatProgressModel",
          "model_module_version": "1.5.0",
          "state": {
            "_dom_classes": [],
            "_model_module": "@jupyter-widgets/controls",
            "_model_module_version": "1.5.0",
            "_model_name": "FloatProgressModel",
            "_view_count": null,
            "_view_module": "@jupyter-widgets/controls",
            "_view_module_version": "1.5.0",
            "_view_name": "ProgressView",
            "bar_style": "success",
            "description": "",
            "description_tooltip": null,
            "layout": "IPY_MODEL_c26b31d877df465aa07e0d4772bf772b",
            "max": 190,
            "min": 0,
            "orientation": "horizontal",
            "style": "IPY_MODEL_247dc60da2b64e4bb88bfae317bdf9c2",
            "value": 190
          }
        },
        "f6c2f3036bf54129abcb3a69e823bd45": {
          "model_module": "@jupyter-widgets/controls",
          "model_name": "HTMLModel",
          "model_module_version": "1.5.0",
          "state": {
            "_dom_classes": [],
            "_model_module": "@jupyter-widgets/controls",
            "_model_module_version": "1.5.0",
            "_model_name": "HTMLModel",
            "_view_count": null,
            "_view_module": "@jupyter-widgets/controls",
            "_view_module_version": "1.5.0",
            "_view_name": "HTMLView",
            "description": "",
            "description_tooltip": null,
            "layout": "IPY_MODEL_9518bcbb574842ca8154e180f79037a2",
            "placeholder": "​",
            "style": "IPY_MODEL_b43d38b744e540cabac2cbae89fb533e",
            "value": " 190/190 [00:00&lt;00:00, 7.79kB/s]"
          }
        },
        "ea3b093992f44fe59706b5507a7ae1c2": {
          "model_module": "@jupyter-widgets/base",
          "model_name": "LayoutModel",
          "model_module_version": "1.2.0",
          "state": {
            "_model_module": "@jupyter-widgets/base",
            "_model_module_version": "1.2.0",
            "_model_name": "LayoutModel",
            "_view_count": null,
            "_view_module": "@jupyter-widgets/base",
            "_view_module_version": "1.2.0",
            "_view_name": "LayoutView",
            "align_content": null,
            "align_items": null,
            "align_self": null,
            "border": null,
            "bottom": null,
            "display": null,
            "flex": null,
            "flex_flow": null,
            "grid_area": null,
            "grid_auto_columns": null,
            "grid_auto_flow": null,
            "grid_auto_rows": null,
            "grid_column": null,
            "grid_gap": null,
            "grid_row": null,
            "grid_template_areas": null,
            "grid_template_columns": null,
            "grid_template_rows": null,
            "height": null,
            "justify_content": null,
            "justify_items": null,
            "left": null,
            "margin": null,
            "max_height": null,
            "max_width": null,
            "min_height": null,
            "min_width": null,
            "object_fit": null,
            "object_position": null,
            "order": null,
            "overflow": null,
            "overflow_x": null,
            "overflow_y": null,
            "padding": null,
            "right": null,
            "top": null,
            "visibility": null,
            "width": null
          }
        },
        "2e5146992d974070968efb174c50c726": {
          "model_module": "@jupyter-widgets/base",
          "model_name": "LayoutModel",
          "model_module_version": "1.2.0",
          "state": {
            "_model_module": "@jupyter-widgets/base",
            "_model_module_version": "1.2.0",
            "_model_name": "LayoutModel",
            "_view_count": null,
            "_view_module": "@jupyter-widgets/base",
            "_view_module_version": "1.2.0",
            "_view_name": "LayoutView",
            "align_content": null,
            "align_items": null,
            "align_self": null,
            "border": null,
            "bottom": null,
            "display": null,
            "flex": null,
            "flex_flow": null,
            "grid_area": null,
            "grid_auto_columns": null,
            "grid_auto_flow": null,
            "grid_auto_rows": null,
            "grid_column": null,
            "grid_gap": null,
            "grid_row": null,
            "grid_template_areas": null,
            "grid_template_columns": null,
            "grid_template_rows": null,
            "height": null,
            "justify_content": null,
            "justify_items": null,
            "left": null,
            "margin": null,
            "max_height": null,
            "max_width": null,
            "min_height": null,
            "min_width": null,
            "object_fit": null,
            "object_position": null,
            "order": null,
            "overflow": null,
            "overflow_x": null,
            "overflow_y": null,
            "padding": null,
            "right": null,
            "top": null,
            "visibility": null,
            "width": null
          }
        },
        "7354d8774a6e4c90ab4edff33e558077": {
          "model_module": "@jupyter-widgets/controls",
          "model_name": "DescriptionStyleModel",
          "model_module_version": "1.5.0",
          "state": {
            "_model_module": "@jupyter-widgets/controls",
            "_model_module_version": "1.5.0",
            "_model_name": "DescriptionStyleModel",
            "_view_count": null,
            "_view_module": "@jupyter-widgets/base",
            "_view_module_version": "1.2.0",
            "_view_name": "StyleView",
            "description_width": ""
          }
        },
        "c26b31d877df465aa07e0d4772bf772b": {
          "model_module": "@jupyter-widgets/base",
          "model_name": "LayoutModel",
          "model_module_version": "1.2.0",
          "state": {
            "_model_module": "@jupyter-widgets/base",
            "_model_module_version": "1.2.0",
            "_model_name": "LayoutModel",
            "_view_count": null,
            "_view_module": "@jupyter-widgets/base",
            "_view_module_version": "1.2.0",
            "_view_name": "LayoutView",
            "align_content": null,
            "align_items": null,
            "align_self": null,
            "border": null,
            "bottom": null,
            "display": null,
            "flex": null,
            "flex_flow": null,
            "grid_area": null,
            "grid_auto_columns": null,
            "grid_auto_flow": null,
            "grid_auto_rows": null,
            "grid_column": null,
            "grid_gap": null,
            "grid_row": null,
            "grid_template_areas": null,
            "grid_template_columns": null,
            "grid_template_rows": null,
            "height": null,
            "justify_content": null,
            "justify_items": null,
            "left": null,
            "margin": null,
            "max_height": null,
            "max_width": null,
            "min_height": null,
            "min_width": null,
            "object_fit": null,
            "object_position": null,
            "order": null,
            "overflow": null,
            "overflow_x": null,
            "overflow_y": null,
            "padding": null,
            "right": null,
            "top": null,
            "visibility": null,
            "width": null
          }
        },
        "247dc60da2b64e4bb88bfae317bdf9c2": {
          "model_module": "@jupyter-widgets/controls",
          "model_name": "ProgressStyleModel",
          "model_module_version": "1.5.0",
          "state": {
            "_model_module": "@jupyter-widgets/controls",
            "_model_module_version": "1.5.0",
            "_model_name": "ProgressStyleModel",
            "_view_count": null,
            "_view_module": "@jupyter-widgets/base",
            "_view_module_version": "1.2.0",
            "_view_name": "StyleView",
            "bar_color": null,
            "description_width": ""
          }
        },
        "9518bcbb574842ca8154e180f79037a2": {
          "model_module": "@jupyter-widgets/base",
          "model_name": "LayoutModel",
          "model_module_version": "1.2.0",
          "state": {
            "_model_module": "@jupyter-widgets/base",
            "_model_module_version": "1.2.0",
            "_model_name": "LayoutModel",
            "_view_count": null,
            "_view_module": "@jupyter-widgets/base",
            "_view_module_version": "1.2.0",
            "_view_name": "LayoutView",
            "align_content": null,
            "align_items": null,
            "align_self": null,
            "border": null,
            "bottom": null,
            "display": null,
            "flex": null,
            "flex_flow": null,
            "grid_area": null,
            "grid_auto_columns": null,
            "grid_auto_flow": null,
            "grid_auto_rows": null,
            "grid_column": null,
            "grid_gap": null,
            "grid_row": null,
            "grid_template_areas": null,
            "grid_template_columns": null,
            "grid_template_rows": null,
            "height": null,
            "justify_content": null,
            "justify_items": null,
            "left": null,
            "margin": null,
            "max_height": null,
            "max_width": null,
            "min_height": null,
            "min_width": null,
            "object_fit": null,
            "object_position": null,
            "order": null,
            "overflow": null,
            "overflow_x": null,
            "overflow_y": null,
            "padding": null,
            "right": null,
            "top": null,
            "visibility": null,
            "width": null
          }
        },
        "b43d38b744e540cabac2cbae89fb533e": {
          "model_module": "@jupyter-widgets/controls",
          "model_name": "DescriptionStyleModel",
          "model_module_version": "1.5.0",
          "state": {
            "_model_module": "@jupyter-widgets/controls",
            "_model_module_version": "1.5.0",
            "_model_name": "DescriptionStyleModel",
            "_view_count": null,
            "_view_module": "@jupyter-widgets/base",
            "_view_module_version": "1.2.0",
            "_view_name": "StyleView",
            "description_width": ""
          }
        },
        "887ee0e2952b478aabe94f1bbd1a215b": {
          "model_module": "@jupyter-widgets/controls",
          "model_name": "HBoxModel",
          "model_module_version": "1.5.0",
          "state": {
            "_dom_classes": [],
            "_model_module": "@jupyter-widgets/controls",
            "_model_module_version": "1.5.0",
            "_model_name": "HBoxModel",
            "_view_count": null,
            "_view_module": "@jupyter-widgets/controls",
            "_view_module_version": "1.5.0",
            "_view_name": "HBoxView",
            "box_style": "",
            "children": [
              "IPY_MODEL_77c76c7e4f6b449cac00028dd57ac8d7",
              "IPY_MODEL_2316192af8f046d8883ad323ee3a05c4",
              "IPY_MODEL_032864d7460944b49a8463968883cdbd"
            ],
            "layout": "IPY_MODEL_2a4967d8dd104f45aef8410465009a75"
          }
        },
        "77c76c7e4f6b449cac00028dd57ac8d7": {
          "model_module": "@jupyter-widgets/controls",
          "model_name": "HTMLModel",
          "model_module_version": "1.5.0",
          "state": {
            "_dom_classes": [],
            "_model_module": "@jupyter-widgets/controls",
            "_model_module_version": "1.5.0",
            "_model_name": "HTMLModel",
            "_view_count": null,
            "_view_module": "@jupyter-widgets/controls",
            "_view_module_version": "1.5.0",
            "_view_name": "HTMLView",
            "description": "",
            "description_tooltip": null,
            "layout": "IPY_MODEL_559a749a93244aa298e75ec5ea2617ca",
            "placeholder": "​",
            "style": "IPY_MODEL_5f7089a9540c4ac6acc70c274e6a1eda",
            "value": "Downloading: 100%"
          }
        },
        "2316192af8f046d8883ad323ee3a05c4": {
          "model_module": "@jupyter-widgets/controls",
          "model_name": "FloatProgressModel",
          "model_module_version": "1.5.0",
          "state": {
            "_dom_classes": [],
            "_model_module": "@jupyter-widgets/controls",
            "_model_module_version": "1.5.0",
            "_model_name": "FloatProgressModel",
            "_view_count": null,
            "_view_module": "@jupyter-widgets/controls",
            "_view_module_version": "1.5.0",
            "_view_name": "ProgressView",
            "bar_style": "success",
            "description": "",
            "description_tooltip": null,
            "layout": "IPY_MODEL_1dc3bdb623864ab3a9cfd0470a6b045e",
            "max": 10610,
            "min": 0,
            "orientation": "horizontal",
            "style": "IPY_MODEL_9c7729222aa34f63a7840deb43ab2d4f",
            "value": 10610
          }
        },
        "032864d7460944b49a8463968883cdbd": {
          "model_module": "@jupyter-widgets/controls",
          "model_name": "HTMLModel",
          "model_module_version": "1.5.0",
          "state": {
            "_dom_classes": [],
            "_model_module": "@jupyter-widgets/controls",
            "_model_module_version": "1.5.0",
            "_model_name": "HTMLModel",
            "_view_count": null,
            "_view_module": "@jupyter-widgets/controls",
            "_view_module_version": "1.5.0",
            "_view_name": "HTMLView",
            "description": "",
            "description_tooltip": null,
            "layout": "IPY_MODEL_971004333ade45eda52352b515f72966",
            "placeholder": "​",
            "style": "IPY_MODEL_0332b2a37fb5418dae2a107e38152fcb",
            "value": " 10.6k/10.6k [00:00&lt;00:00, 403kB/s]"
          }
        },
        "2a4967d8dd104f45aef8410465009a75": {
          "model_module": "@jupyter-widgets/base",
          "model_name": "LayoutModel",
          "model_module_version": "1.2.0",
          "state": {
            "_model_module": "@jupyter-widgets/base",
            "_model_module_version": "1.2.0",
            "_model_name": "LayoutModel",
            "_view_count": null,
            "_view_module": "@jupyter-widgets/base",
            "_view_module_version": "1.2.0",
            "_view_name": "LayoutView",
            "align_content": null,
            "align_items": null,
            "align_self": null,
            "border": null,
            "bottom": null,
            "display": null,
            "flex": null,
            "flex_flow": null,
            "grid_area": null,
            "grid_auto_columns": null,
            "grid_auto_flow": null,
            "grid_auto_rows": null,
            "grid_column": null,
            "grid_gap": null,
            "grid_row": null,
            "grid_template_areas": null,
            "grid_template_columns": null,
            "grid_template_rows": null,
            "height": null,
            "justify_content": null,
            "justify_items": null,
            "left": null,
            "margin": null,
            "max_height": null,
            "max_width": null,
            "min_height": null,
            "min_width": null,
            "object_fit": null,
            "object_position": null,
            "order": null,
            "overflow": null,
            "overflow_x": null,
            "overflow_y": null,
            "padding": null,
            "right": null,
            "top": null,
            "visibility": null,
            "width": null
          }
        },
        "559a749a93244aa298e75ec5ea2617ca": {
          "model_module": "@jupyter-widgets/base",
          "model_name": "LayoutModel",
          "model_module_version": "1.2.0",
          "state": {
            "_model_module": "@jupyter-widgets/base",
            "_model_module_version": "1.2.0",
            "_model_name": "LayoutModel",
            "_view_count": null,
            "_view_module": "@jupyter-widgets/base",
            "_view_module_version": "1.2.0",
            "_view_name": "LayoutView",
            "align_content": null,
            "align_items": null,
            "align_self": null,
            "border": null,
            "bottom": null,
            "display": null,
            "flex": null,
            "flex_flow": null,
            "grid_area": null,
            "grid_auto_columns": null,
            "grid_auto_flow": null,
            "grid_auto_rows": null,
            "grid_column": null,
            "grid_gap": null,
            "grid_row": null,
            "grid_template_areas": null,
            "grid_template_columns": null,
            "grid_template_rows": null,
            "height": null,
            "justify_content": null,
            "justify_items": null,
            "left": null,
            "margin": null,
            "max_height": null,
            "max_width": null,
            "min_height": null,
            "min_width": null,
            "object_fit": null,
            "object_position": null,
            "order": null,
            "overflow": null,
            "overflow_x": null,
            "overflow_y": null,
            "padding": null,
            "right": null,
            "top": null,
            "visibility": null,
            "width": null
          }
        },
        "5f7089a9540c4ac6acc70c274e6a1eda": {
          "model_module": "@jupyter-widgets/controls",
          "model_name": "DescriptionStyleModel",
          "model_module_version": "1.5.0",
          "state": {
            "_model_module": "@jupyter-widgets/controls",
            "_model_module_version": "1.5.0",
            "_model_name": "DescriptionStyleModel",
            "_view_count": null,
            "_view_module": "@jupyter-widgets/base",
            "_view_module_version": "1.2.0",
            "_view_name": "StyleView",
            "description_width": ""
          }
        },
        "1dc3bdb623864ab3a9cfd0470a6b045e": {
          "model_module": "@jupyter-widgets/base",
          "model_name": "LayoutModel",
          "model_module_version": "1.2.0",
          "state": {
            "_model_module": "@jupyter-widgets/base",
            "_model_module_version": "1.2.0",
            "_model_name": "LayoutModel",
            "_view_count": null,
            "_view_module": "@jupyter-widgets/base",
            "_view_module_version": "1.2.0",
            "_view_name": "LayoutView",
            "align_content": null,
            "align_items": null,
            "align_self": null,
            "border": null,
            "bottom": null,
            "display": null,
            "flex": null,
            "flex_flow": null,
            "grid_area": null,
            "grid_auto_columns": null,
            "grid_auto_flow": null,
            "grid_auto_rows": null,
            "grid_column": null,
            "grid_gap": null,
            "grid_row": null,
            "grid_template_areas": null,
            "grid_template_columns": null,
            "grid_template_rows": null,
            "height": null,
            "justify_content": null,
            "justify_items": null,
            "left": null,
            "margin": null,
            "max_height": null,
            "max_width": null,
            "min_height": null,
            "min_width": null,
            "object_fit": null,
            "object_position": null,
            "order": null,
            "overflow": null,
            "overflow_x": null,
            "overflow_y": null,
            "padding": null,
            "right": null,
            "top": null,
            "visibility": null,
            "width": null
          }
        },
        "9c7729222aa34f63a7840deb43ab2d4f": {
          "model_module": "@jupyter-widgets/controls",
          "model_name": "ProgressStyleModel",
          "model_module_version": "1.5.0",
          "state": {
            "_model_module": "@jupyter-widgets/controls",
            "_model_module_version": "1.5.0",
            "_model_name": "ProgressStyleModel",
            "_view_count": null,
            "_view_module": "@jupyter-widgets/base",
            "_view_module_version": "1.2.0",
            "_view_name": "StyleView",
            "bar_color": null,
            "description_width": ""
          }
        },
        "971004333ade45eda52352b515f72966": {
          "model_module": "@jupyter-widgets/base",
          "model_name": "LayoutModel",
          "model_module_version": "1.2.0",
          "state": {
            "_model_module": "@jupyter-widgets/base",
            "_model_module_version": "1.2.0",
            "_model_name": "LayoutModel",
            "_view_count": null,
            "_view_module": "@jupyter-widgets/base",
            "_view_module_version": "1.2.0",
            "_view_name": "LayoutView",
            "align_content": null,
            "align_items": null,
            "align_self": null,
            "border": null,
            "bottom": null,
            "display": null,
            "flex": null,
            "flex_flow": null,
            "grid_area": null,
            "grid_auto_columns": null,
            "grid_auto_flow": null,
            "grid_auto_rows": null,
            "grid_column": null,
            "grid_gap": null,
            "grid_row": null,
            "grid_template_areas": null,
            "grid_template_columns": null,
            "grid_template_rows": null,
            "height": null,
            "justify_content": null,
            "justify_items": null,
            "left": null,
            "margin": null,
            "max_height": null,
            "max_width": null,
            "min_height": null,
            "min_width": null,
            "object_fit": null,
            "object_position": null,
            "order": null,
            "overflow": null,
            "overflow_x": null,
            "overflow_y": null,
            "padding": null,
            "right": null,
            "top": null,
            "visibility": null,
            "width": null
          }
        },
        "0332b2a37fb5418dae2a107e38152fcb": {
          "model_module": "@jupyter-widgets/controls",
          "model_name": "DescriptionStyleModel",
          "model_module_version": "1.5.0",
          "state": {
            "_model_module": "@jupyter-widgets/controls",
            "_model_module_version": "1.5.0",
            "_model_name": "DescriptionStyleModel",
            "_view_count": null,
            "_view_module": "@jupyter-widgets/base",
            "_view_module_version": "1.2.0",
            "_view_name": "StyleView",
            "description_width": ""
          }
        },
        "afd27fe36d7d47f9be5802cf8d682945": {
          "model_module": "@jupyter-widgets/controls",
          "model_name": "HBoxModel",
          "model_module_version": "1.5.0",
          "state": {
            "_dom_classes": [],
            "_model_module": "@jupyter-widgets/controls",
            "_model_module_version": "1.5.0",
            "_model_name": "HBoxModel",
            "_view_count": null,
            "_view_module": "@jupyter-widgets/controls",
            "_view_module_version": "1.5.0",
            "_view_name": "HBoxView",
            "box_style": "",
            "children": [
              "IPY_MODEL_4774254a999d4d79bef976440a58daec",
              "IPY_MODEL_496530f81b054c3285928e8da7e3f592",
              "IPY_MODEL_7b129cd6a2b0415cb88133a5c9b81aa9"
            ],
            "layout": "IPY_MODEL_d0ee8db91d11400398bc8848f6b05bb9"
          }
        },
        "4774254a999d4d79bef976440a58daec": {
          "model_module": "@jupyter-widgets/controls",
          "model_name": "HTMLModel",
          "model_module_version": "1.5.0",
          "state": {
            "_dom_classes": [],
            "_model_module": "@jupyter-widgets/controls",
            "_model_module_version": "1.5.0",
            "_model_name": "HTMLModel",
            "_view_count": null,
            "_view_module": "@jupyter-widgets/controls",
            "_view_module_version": "1.5.0",
            "_view_name": "HTMLView",
            "description": "",
            "description_tooltip": null,
            "layout": "IPY_MODEL_a06ae96fbe9b461caa237422448073f4",
            "placeholder": "​",
            "style": "IPY_MODEL_dbb13808c333421f883387ae5a846d94",
            "value": "Downloading: 100%"
          }
        },
        "496530f81b054c3285928e8da7e3f592": {
          "model_module": "@jupyter-widgets/controls",
          "model_name": "FloatProgressModel",
          "model_module_version": "1.5.0",
          "state": {
            "_dom_classes": [],
            "_model_module": "@jupyter-widgets/controls",
            "_model_module_version": "1.5.0",
            "_model_name": "FloatProgressModel",
            "_view_count": null,
            "_view_module": "@jupyter-widgets/controls",
            "_view_module_version": "1.5.0",
            "_view_name": "ProgressView",
            "bar_style": "success",
            "description": "",
            "description_tooltip": null,
            "layout": "IPY_MODEL_947607678991438894ea3c5e945149a0",
            "max": 612,
            "min": 0,
            "orientation": "horizontal",
            "style": "IPY_MODEL_e0afa6800a1446e2a3ea9f559e18d71f",
            "value": 612
          }
        },
        "7b129cd6a2b0415cb88133a5c9b81aa9": {
          "model_module": "@jupyter-widgets/controls",
          "model_name": "HTMLModel",
          "model_module_version": "1.5.0",
          "state": {
            "_dom_classes": [],
            "_model_module": "@jupyter-widgets/controls",
            "_model_module_version": "1.5.0",
            "_model_name": "HTMLModel",
            "_view_count": null,
            "_view_module": "@jupyter-widgets/controls",
            "_view_module_version": "1.5.0",
            "_view_name": "HTMLView",
            "description": "",
            "description_tooltip": null,
            "layout": "IPY_MODEL_29da936f2e1345db98c3c8821bf963cc",
            "placeholder": "​",
            "style": "IPY_MODEL_24d25b9f34154195acad1171271edd59",
            "value": " 612/612 [00:00&lt;00:00, 18.1kB/s]"
          }
        },
        "d0ee8db91d11400398bc8848f6b05bb9": {
          "model_module": "@jupyter-widgets/base",
          "model_name": "LayoutModel",
          "model_module_version": "1.2.0",
          "state": {
            "_model_module": "@jupyter-widgets/base",
            "_model_module_version": "1.2.0",
            "_model_name": "LayoutModel",
            "_view_count": null,
            "_view_module": "@jupyter-widgets/base",
            "_view_module_version": "1.2.0",
            "_view_name": "LayoutView",
            "align_content": null,
            "align_items": null,
            "align_self": null,
            "border": null,
            "bottom": null,
            "display": null,
            "flex": null,
            "flex_flow": null,
            "grid_area": null,
            "grid_auto_columns": null,
            "grid_auto_flow": null,
            "grid_auto_rows": null,
            "grid_column": null,
            "grid_gap": null,
            "grid_row": null,
            "grid_template_areas": null,
            "grid_template_columns": null,
            "grid_template_rows": null,
            "height": null,
            "justify_content": null,
            "justify_items": null,
            "left": null,
            "margin": null,
            "max_height": null,
            "max_width": null,
            "min_height": null,
            "min_width": null,
            "object_fit": null,
            "object_position": null,
            "order": null,
            "overflow": null,
            "overflow_x": null,
            "overflow_y": null,
            "padding": null,
            "right": null,
            "top": null,
            "visibility": null,
            "width": null
          }
        },
        "a06ae96fbe9b461caa237422448073f4": {
          "model_module": "@jupyter-widgets/base",
          "model_name": "LayoutModel",
          "model_module_version": "1.2.0",
          "state": {
            "_model_module": "@jupyter-widgets/base",
            "_model_module_version": "1.2.0",
            "_model_name": "LayoutModel",
            "_view_count": null,
            "_view_module": "@jupyter-widgets/base",
            "_view_module_version": "1.2.0",
            "_view_name": "LayoutView",
            "align_content": null,
            "align_items": null,
            "align_self": null,
            "border": null,
            "bottom": null,
            "display": null,
            "flex": null,
            "flex_flow": null,
            "grid_area": null,
            "grid_auto_columns": null,
            "grid_auto_flow": null,
            "grid_auto_rows": null,
            "grid_column": null,
            "grid_gap": null,
            "grid_row": null,
            "grid_template_areas": null,
            "grid_template_columns": null,
            "grid_template_rows": null,
            "height": null,
            "justify_content": null,
            "justify_items": null,
            "left": null,
            "margin": null,
            "max_height": null,
            "max_width": null,
            "min_height": null,
            "min_width": null,
            "object_fit": null,
            "object_position": null,
            "order": null,
            "overflow": null,
            "overflow_x": null,
            "overflow_y": null,
            "padding": null,
            "right": null,
            "top": null,
            "visibility": null,
            "width": null
          }
        },
        "dbb13808c333421f883387ae5a846d94": {
          "model_module": "@jupyter-widgets/controls",
          "model_name": "DescriptionStyleModel",
          "model_module_version": "1.5.0",
          "state": {
            "_model_module": "@jupyter-widgets/controls",
            "_model_module_version": "1.5.0",
            "_model_name": "DescriptionStyleModel",
            "_view_count": null,
            "_view_module": "@jupyter-widgets/base",
            "_view_module_version": "1.2.0",
            "_view_name": "StyleView",
            "description_width": ""
          }
        },
        "947607678991438894ea3c5e945149a0": {
          "model_module": "@jupyter-widgets/base",
          "model_name": "LayoutModel",
          "model_module_version": "1.2.0",
          "state": {
            "_model_module": "@jupyter-widgets/base",
            "_model_module_version": "1.2.0",
            "_model_name": "LayoutModel",
            "_view_count": null,
            "_view_module": "@jupyter-widgets/base",
            "_view_module_version": "1.2.0",
            "_view_name": "LayoutView",
            "align_content": null,
            "align_items": null,
            "align_self": null,
            "border": null,
            "bottom": null,
            "display": null,
            "flex": null,
            "flex_flow": null,
            "grid_area": null,
            "grid_auto_columns": null,
            "grid_auto_flow": null,
            "grid_auto_rows": null,
            "grid_column": null,
            "grid_gap": null,
            "grid_row": null,
            "grid_template_areas": null,
            "grid_template_columns": null,
            "grid_template_rows": null,
            "height": null,
            "justify_content": null,
            "justify_items": null,
            "left": null,
            "margin": null,
            "max_height": null,
            "max_width": null,
            "min_height": null,
            "min_width": null,
            "object_fit": null,
            "object_position": null,
            "order": null,
            "overflow": null,
            "overflow_x": null,
            "overflow_y": null,
            "padding": null,
            "right": null,
            "top": null,
            "visibility": null,
            "width": null
          }
        },
        "e0afa6800a1446e2a3ea9f559e18d71f": {
          "model_module": "@jupyter-widgets/controls",
          "model_name": "ProgressStyleModel",
          "model_module_version": "1.5.0",
          "state": {
            "_model_module": "@jupyter-widgets/controls",
            "_model_module_version": "1.5.0",
            "_model_name": "ProgressStyleModel",
            "_view_count": null,
            "_view_module": "@jupyter-widgets/base",
            "_view_module_version": "1.2.0",
            "_view_name": "StyleView",
            "bar_color": null,
            "description_width": ""
          }
        },
        "29da936f2e1345db98c3c8821bf963cc": {
          "model_module": "@jupyter-widgets/base",
          "model_name": "LayoutModel",
          "model_module_version": "1.2.0",
          "state": {
            "_model_module": "@jupyter-widgets/base",
            "_model_module_version": "1.2.0",
            "_model_name": "LayoutModel",
            "_view_count": null,
            "_view_module": "@jupyter-widgets/base",
            "_view_module_version": "1.2.0",
            "_view_name": "LayoutView",
            "align_content": null,
            "align_items": null,
            "align_self": null,
            "border": null,
            "bottom": null,
            "display": null,
            "flex": null,
            "flex_flow": null,
            "grid_area": null,
            "grid_auto_columns": null,
            "grid_auto_flow": null,
            "grid_auto_rows": null,
            "grid_column": null,
            "grid_gap": null,
            "grid_row": null,
            "grid_template_areas": null,
            "grid_template_columns": null,
            "grid_template_rows": null,
            "height": null,
            "justify_content": null,
            "justify_items": null,
            "left": null,
            "margin": null,
            "max_height": null,
            "max_width": null,
            "min_height": null,
            "min_width": null,
            "object_fit": null,
            "object_position": null,
            "order": null,
            "overflow": null,
            "overflow_x": null,
            "overflow_y": null,
            "padding": null,
            "right": null,
            "top": null,
            "visibility": null,
            "width": null
          }
        },
        "24d25b9f34154195acad1171271edd59": {
          "model_module": "@jupyter-widgets/controls",
          "model_name": "DescriptionStyleModel",
          "model_module_version": "1.5.0",
          "state": {
            "_model_module": "@jupyter-widgets/controls",
            "_model_module_version": "1.5.0",
            "_model_name": "DescriptionStyleModel",
            "_view_count": null,
            "_view_module": "@jupyter-widgets/base",
            "_view_module_version": "1.2.0",
            "_view_name": "StyleView",
            "description_width": ""
          }
        },
        "3afbd18e65ea48109c3e49447beeb74b": {
          "model_module": "@jupyter-widgets/controls",
          "model_name": "HBoxModel",
          "model_module_version": "1.5.0",
          "state": {
            "_dom_classes": [],
            "_model_module": "@jupyter-widgets/controls",
            "_model_module_version": "1.5.0",
            "_model_name": "HBoxModel",
            "_view_count": null,
            "_view_module": "@jupyter-widgets/controls",
            "_view_module_version": "1.5.0",
            "_view_name": "HBoxView",
            "box_style": "",
            "children": [
              "IPY_MODEL_e6d85e7074d042f98702b9481069091c",
              "IPY_MODEL_d338275fd39c41d5bcd277edd3f1a97c",
              "IPY_MODEL_b22d58e962a141dcadfad117c0667563"
            ],
            "layout": "IPY_MODEL_add9e7766c5f44089e93ec3a743d3ddc"
          }
        },
        "e6d85e7074d042f98702b9481069091c": {
          "model_module": "@jupyter-widgets/controls",
          "model_name": "HTMLModel",
          "model_module_version": "1.5.0",
          "state": {
            "_dom_classes": [],
            "_model_module": "@jupyter-widgets/controls",
            "_model_module_version": "1.5.0",
            "_model_name": "HTMLModel",
            "_view_count": null,
            "_view_module": "@jupyter-widgets/controls",
            "_view_module_version": "1.5.0",
            "_view_name": "HTMLView",
            "description": "",
            "description_tooltip": null,
            "layout": "IPY_MODEL_6150d30716c6457c9201816158312028",
            "placeholder": "​",
            "style": "IPY_MODEL_0765506ee1c746f2be14ec7f612af5dd",
            "value": "Downloading: 100%"
          }
        },
        "d338275fd39c41d5bcd277edd3f1a97c": {
          "model_module": "@jupyter-widgets/controls",
          "model_name": "FloatProgressModel",
          "model_module_version": "1.5.0",
          "state": {
            "_dom_classes": [],
            "_model_module": "@jupyter-widgets/controls",
            "_model_module_version": "1.5.0",
            "_model_name": "FloatProgressModel",
            "_view_count": null,
            "_view_module": "@jupyter-widgets/controls",
            "_view_module_version": "1.5.0",
            "_view_name": "ProgressView",
            "bar_style": "success",
            "description": "",
            "description_tooltip": null,
            "layout": "IPY_MODEL_258d0a8fbd9d412b9aa184b80effd536",
            "max": 116,
            "min": 0,
            "orientation": "horizontal",
            "style": "IPY_MODEL_231b218a816b4c1bae6396dca724459f",
            "value": 116
          }
        },
        "b22d58e962a141dcadfad117c0667563": {
          "model_module": "@jupyter-widgets/controls",
          "model_name": "HTMLModel",
          "model_module_version": "1.5.0",
          "state": {
            "_dom_classes": [],
            "_model_module": "@jupyter-widgets/controls",
            "_model_module_version": "1.5.0",
            "_model_name": "HTMLModel",
            "_view_count": null,
            "_view_module": "@jupyter-widgets/controls",
            "_view_module_version": "1.5.0",
            "_view_name": "HTMLView",
            "description": "",
            "description_tooltip": null,
            "layout": "IPY_MODEL_0ed37ccbc7bf4724a296670069cfee97",
            "placeholder": "​",
            "style": "IPY_MODEL_3320ac33e8254c8790dfacbe2d3763dd",
            "value": " 116/116 [00:00&lt;00:00, 3.29kB/s]"
          }
        },
        "add9e7766c5f44089e93ec3a743d3ddc": {
          "model_module": "@jupyter-widgets/base",
          "model_name": "LayoutModel",
          "model_module_version": "1.2.0",
          "state": {
            "_model_module": "@jupyter-widgets/base",
            "_model_module_version": "1.2.0",
            "_model_name": "LayoutModel",
            "_view_count": null,
            "_view_module": "@jupyter-widgets/base",
            "_view_module_version": "1.2.0",
            "_view_name": "LayoutView",
            "align_content": null,
            "align_items": null,
            "align_self": null,
            "border": null,
            "bottom": null,
            "display": null,
            "flex": null,
            "flex_flow": null,
            "grid_area": null,
            "grid_auto_columns": null,
            "grid_auto_flow": null,
            "grid_auto_rows": null,
            "grid_column": null,
            "grid_gap": null,
            "grid_row": null,
            "grid_template_areas": null,
            "grid_template_columns": null,
            "grid_template_rows": null,
            "height": null,
            "justify_content": null,
            "justify_items": null,
            "left": null,
            "margin": null,
            "max_height": null,
            "max_width": null,
            "min_height": null,
            "min_width": null,
            "object_fit": null,
            "object_position": null,
            "order": null,
            "overflow": null,
            "overflow_x": null,
            "overflow_y": null,
            "padding": null,
            "right": null,
            "top": null,
            "visibility": null,
            "width": null
          }
        },
        "6150d30716c6457c9201816158312028": {
          "model_module": "@jupyter-widgets/base",
          "model_name": "LayoutModel",
          "model_module_version": "1.2.0",
          "state": {
            "_model_module": "@jupyter-widgets/base",
            "_model_module_version": "1.2.0",
            "_model_name": "LayoutModel",
            "_view_count": null,
            "_view_module": "@jupyter-widgets/base",
            "_view_module_version": "1.2.0",
            "_view_name": "LayoutView",
            "align_content": null,
            "align_items": null,
            "align_self": null,
            "border": null,
            "bottom": null,
            "display": null,
            "flex": null,
            "flex_flow": null,
            "grid_area": null,
            "grid_auto_columns": null,
            "grid_auto_flow": null,
            "grid_auto_rows": null,
            "grid_column": null,
            "grid_gap": null,
            "grid_row": null,
            "grid_template_areas": null,
            "grid_template_columns": null,
            "grid_template_rows": null,
            "height": null,
            "justify_content": null,
            "justify_items": null,
            "left": null,
            "margin": null,
            "max_height": null,
            "max_width": null,
            "min_height": null,
            "min_width": null,
            "object_fit": null,
            "object_position": null,
            "order": null,
            "overflow": null,
            "overflow_x": null,
            "overflow_y": null,
            "padding": null,
            "right": null,
            "top": null,
            "visibility": null,
            "width": null
          }
        },
        "0765506ee1c746f2be14ec7f612af5dd": {
          "model_module": "@jupyter-widgets/controls",
          "model_name": "DescriptionStyleModel",
          "model_module_version": "1.5.0",
          "state": {
            "_model_module": "@jupyter-widgets/controls",
            "_model_module_version": "1.5.0",
            "_model_name": "DescriptionStyleModel",
            "_view_count": null,
            "_view_module": "@jupyter-widgets/base",
            "_view_module_version": "1.2.0",
            "_view_name": "StyleView",
            "description_width": ""
          }
        },
        "258d0a8fbd9d412b9aa184b80effd536": {
          "model_module": "@jupyter-widgets/base",
          "model_name": "LayoutModel",
          "model_module_version": "1.2.0",
          "state": {
            "_model_module": "@jupyter-widgets/base",
            "_model_module_version": "1.2.0",
            "_model_name": "LayoutModel",
            "_view_count": null,
            "_view_module": "@jupyter-widgets/base",
            "_view_module_version": "1.2.0",
            "_view_name": "LayoutView",
            "align_content": null,
            "align_items": null,
            "align_self": null,
            "border": null,
            "bottom": null,
            "display": null,
            "flex": null,
            "flex_flow": null,
            "grid_area": null,
            "grid_auto_columns": null,
            "grid_auto_flow": null,
            "grid_auto_rows": null,
            "grid_column": null,
            "grid_gap": null,
            "grid_row": null,
            "grid_template_areas": null,
            "grid_template_columns": null,
            "grid_template_rows": null,
            "height": null,
            "justify_content": null,
            "justify_items": null,
            "left": null,
            "margin": null,
            "max_height": null,
            "max_width": null,
            "min_height": null,
            "min_width": null,
            "object_fit": null,
            "object_position": null,
            "order": null,
            "overflow": null,
            "overflow_x": null,
            "overflow_y": null,
            "padding": null,
            "right": null,
            "top": null,
            "visibility": null,
            "width": null
          }
        },
        "231b218a816b4c1bae6396dca724459f": {
          "model_module": "@jupyter-widgets/controls",
          "model_name": "ProgressStyleModel",
          "model_module_version": "1.5.0",
          "state": {
            "_model_module": "@jupyter-widgets/controls",
            "_model_module_version": "1.5.0",
            "_model_name": "ProgressStyleModel",
            "_view_count": null,
            "_view_module": "@jupyter-widgets/base",
            "_view_module_version": "1.2.0",
            "_view_name": "StyleView",
            "bar_color": null,
            "description_width": ""
          }
        },
        "0ed37ccbc7bf4724a296670069cfee97": {
          "model_module": "@jupyter-widgets/base",
          "model_name": "LayoutModel",
          "model_module_version": "1.2.0",
          "state": {
            "_model_module": "@jupyter-widgets/base",
            "_model_module_version": "1.2.0",
            "_model_name": "LayoutModel",
            "_view_count": null,
            "_view_module": "@jupyter-widgets/base",
            "_view_module_version": "1.2.0",
            "_view_name": "LayoutView",
            "align_content": null,
            "align_items": null,
            "align_self": null,
            "border": null,
            "bottom": null,
            "display": null,
            "flex": null,
            "flex_flow": null,
            "grid_area": null,
            "grid_auto_columns": null,
            "grid_auto_flow": null,
            "grid_auto_rows": null,
            "grid_column": null,
            "grid_gap": null,
            "grid_row": null,
            "grid_template_areas": null,
            "grid_template_columns": null,
            "grid_template_rows": null,
            "height": null,
            "justify_content": null,
            "justify_items": null,
            "left": null,
            "margin": null,
            "max_height": null,
            "max_width": null,
            "min_height": null,
            "min_width": null,
            "object_fit": null,
            "object_position": null,
            "order": null,
            "overflow": null,
            "overflow_x": null,
            "overflow_y": null,
            "padding": null,
            "right": null,
            "top": null,
            "visibility": null,
            "width": null
          }
        },
        "3320ac33e8254c8790dfacbe2d3763dd": {
          "model_module": "@jupyter-widgets/controls",
          "model_name": "DescriptionStyleModel",
          "model_module_version": "1.5.0",
          "state": {
            "_model_module": "@jupyter-widgets/controls",
            "_model_module_version": "1.5.0",
            "_model_name": "DescriptionStyleModel",
            "_view_count": null,
            "_view_module": "@jupyter-widgets/base",
            "_view_module_version": "1.2.0",
            "_view_name": "StyleView",
            "description_width": ""
          }
        },
        "50fbe203308a470fb92ae99faf33a47f": {
          "model_module": "@jupyter-widgets/controls",
          "model_name": "HBoxModel",
          "model_module_version": "1.5.0",
          "state": {
            "_dom_classes": [],
            "_model_module": "@jupyter-widgets/controls",
            "_model_module_version": "1.5.0",
            "_model_name": "HBoxModel",
            "_view_count": null,
            "_view_module": "@jupyter-widgets/controls",
            "_view_module_version": "1.5.0",
            "_view_name": "HBoxView",
            "box_style": "",
            "children": [
              "IPY_MODEL_964d2177ec3f432a822dbad79bfe77ef",
              "IPY_MODEL_50a975463f3240aebee5d85ddd309621",
              "IPY_MODEL_2c9760060c1c4d6388d129ae626647b5"
            ],
            "layout": "IPY_MODEL_27c5eea088d04003a037be0b8ea34d70"
          }
        },
        "964d2177ec3f432a822dbad79bfe77ef": {
          "model_module": "@jupyter-widgets/controls",
          "model_name": "HTMLModel",
          "model_module_version": "1.5.0",
          "state": {
            "_dom_classes": [],
            "_model_module": "@jupyter-widgets/controls",
            "_model_module_version": "1.5.0",
            "_model_name": "HTMLModel",
            "_view_count": null,
            "_view_module": "@jupyter-widgets/controls",
            "_view_module_version": "1.5.0",
            "_view_name": "HTMLView",
            "description": "",
            "description_tooltip": null,
            "layout": "IPY_MODEL_3a179719ed67468aa2cd49e9683b8a2d",
            "placeholder": "​",
            "style": "IPY_MODEL_0b0a9ab8973c414e9f77a1f8bbbe322a",
            "value": "Downloading: 100%"
          }
        },
        "50a975463f3240aebee5d85ddd309621": {
          "model_module": "@jupyter-widgets/controls",
          "model_name": "FloatProgressModel",
          "model_module_version": "1.5.0",
          "state": {
            "_dom_classes": [],
            "_model_module": "@jupyter-widgets/controls",
            "_model_module_version": "1.5.0",
            "_model_name": "FloatProgressModel",
            "_view_count": null,
            "_view_module": "@jupyter-widgets/controls",
            "_view_module_version": "1.5.0",
            "_view_name": "ProgressView",
            "bar_style": "success",
            "description": "",
            "description_tooltip": null,
            "layout": "IPY_MODEL_fc4b66c12b57463591a3d05477e26c94",
            "max": 39265,
            "min": 0,
            "orientation": "horizontal",
            "style": "IPY_MODEL_ba58c165ca6f4ef7a76b235219a4964e",
            "value": 39265
          }
        },
        "2c9760060c1c4d6388d129ae626647b5": {
          "model_module": "@jupyter-widgets/controls",
          "model_name": "HTMLModel",
          "model_module_version": "1.5.0",
          "state": {
            "_dom_classes": [],
            "_model_module": "@jupyter-widgets/controls",
            "_model_module_version": "1.5.0",
            "_model_name": "HTMLModel",
            "_view_count": null,
            "_view_module": "@jupyter-widgets/controls",
            "_view_module_version": "1.5.0",
            "_view_name": "HTMLView",
            "description": "",
            "description_tooltip": null,
            "layout": "IPY_MODEL_e6a76d23ec704807af078ab34bf63de1",
            "placeholder": "​",
            "style": "IPY_MODEL_af047031079a439486e8817e2cb51277",
            "value": " 39.3k/39.3k [00:00&lt;00:00, 1.28MB/s]"
          }
        },
        "27c5eea088d04003a037be0b8ea34d70": {
          "model_module": "@jupyter-widgets/base",
          "model_name": "LayoutModel",
          "model_module_version": "1.2.0",
          "state": {
            "_model_module": "@jupyter-widgets/base",
            "_model_module_version": "1.2.0",
            "_model_name": "LayoutModel",
            "_view_count": null,
            "_view_module": "@jupyter-widgets/base",
            "_view_module_version": "1.2.0",
            "_view_name": "LayoutView",
            "align_content": null,
            "align_items": null,
            "align_self": null,
            "border": null,
            "bottom": null,
            "display": null,
            "flex": null,
            "flex_flow": null,
            "grid_area": null,
            "grid_auto_columns": null,
            "grid_auto_flow": null,
            "grid_auto_rows": null,
            "grid_column": null,
            "grid_gap": null,
            "grid_row": null,
            "grid_template_areas": null,
            "grid_template_columns": null,
            "grid_template_rows": null,
            "height": null,
            "justify_content": null,
            "justify_items": null,
            "left": null,
            "margin": null,
            "max_height": null,
            "max_width": null,
            "min_height": null,
            "min_width": null,
            "object_fit": null,
            "object_position": null,
            "order": null,
            "overflow": null,
            "overflow_x": null,
            "overflow_y": null,
            "padding": null,
            "right": null,
            "top": null,
            "visibility": null,
            "width": null
          }
        },
        "3a179719ed67468aa2cd49e9683b8a2d": {
          "model_module": "@jupyter-widgets/base",
          "model_name": "LayoutModel",
          "model_module_version": "1.2.0",
          "state": {
            "_model_module": "@jupyter-widgets/base",
            "_model_module_version": "1.2.0",
            "_model_name": "LayoutModel",
            "_view_count": null,
            "_view_module": "@jupyter-widgets/base",
            "_view_module_version": "1.2.0",
            "_view_name": "LayoutView",
            "align_content": null,
            "align_items": null,
            "align_self": null,
            "border": null,
            "bottom": null,
            "display": null,
            "flex": null,
            "flex_flow": null,
            "grid_area": null,
            "grid_auto_columns": null,
            "grid_auto_flow": null,
            "grid_auto_rows": null,
            "grid_column": null,
            "grid_gap": null,
            "grid_row": null,
            "grid_template_areas": null,
            "grid_template_columns": null,
            "grid_template_rows": null,
            "height": null,
            "justify_content": null,
            "justify_items": null,
            "left": null,
            "margin": null,
            "max_height": null,
            "max_width": null,
            "min_height": null,
            "min_width": null,
            "object_fit": null,
            "object_position": null,
            "order": null,
            "overflow": null,
            "overflow_x": null,
            "overflow_y": null,
            "padding": null,
            "right": null,
            "top": null,
            "visibility": null,
            "width": null
          }
        },
        "0b0a9ab8973c414e9f77a1f8bbbe322a": {
          "model_module": "@jupyter-widgets/controls",
          "model_name": "DescriptionStyleModel",
          "model_module_version": "1.5.0",
          "state": {
            "_model_module": "@jupyter-widgets/controls",
            "_model_module_version": "1.5.0",
            "_model_name": "DescriptionStyleModel",
            "_view_count": null,
            "_view_module": "@jupyter-widgets/base",
            "_view_module_version": "1.2.0",
            "_view_name": "StyleView",
            "description_width": ""
          }
        },
        "fc4b66c12b57463591a3d05477e26c94": {
          "model_module": "@jupyter-widgets/base",
          "model_name": "LayoutModel",
          "model_module_version": "1.2.0",
          "state": {
            "_model_module": "@jupyter-widgets/base",
            "_model_module_version": "1.2.0",
            "_model_name": "LayoutModel",
            "_view_count": null,
            "_view_module": "@jupyter-widgets/base",
            "_view_module_version": "1.2.0",
            "_view_name": "LayoutView",
            "align_content": null,
            "align_items": null,
            "align_self": null,
            "border": null,
            "bottom": null,
            "display": null,
            "flex": null,
            "flex_flow": null,
            "grid_area": null,
            "grid_auto_columns": null,
            "grid_auto_flow": null,
            "grid_auto_rows": null,
            "grid_column": null,
            "grid_gap": null,
            "grid_row": null,
            "grid_template_areas": null,
            "grid_template_columns": null,
            "grid_template_rows": null,
            "height": null,
            "justify_content": null,
            "justify_items": null,
            "left": null,
            "margin": null,
            "max_height": null,
            "max_width": null,
            "min_height": null,
            "min_width": null,
            "object_fit": null,
            "object_position": null,
            "order": null,
            "overflow": null,
            "overflow_x": null,
            "overflow_y": null,
            "padding": null,
            "right": null,
            "top": null,
            "visibility": null,
            "width": null
          }
        },
        "ba58c165ca6f4ef7a76b235219a4964e": {
          "model_module": "@jupyter-widgets/controls",
          "model_name": "ProgressStyleModel",
          "model_module_version": "1.5.0",
          "state": {
            "_model_module": "@jupyter-widgets/controls",
            "_model_module_version": "1.5.0",
            "_model_name": "ProgressStyleModel",
            "_view_count": null,
            "_view_module": "@jupyter-widgets/base",
            "_view_module_version": "1.2.0",
            "_view_name": "StyleView",
            "bar_color": null,
            "description_width": ""
          }
        },
        "e6a76d23ec704807af078ab34bf63de1": {
          "model_module": "@jupyter-widgets/base",
          "model_name": "LayoutModel",
          "model_module_version": "1.2.0",
          "state": {
            "_model_module": "@jupyter-widgets/base",
            "_model_module_version": "1.2.0",
            "_model_name": "LayoutModel",
            "_view_count": null,
            "_view_module": "@jupyter-widgets/base",
            "_view_module_version": "1.2.0",
            "_view_name": "LayoutView",
            "align_content": null,
            "align_items": null,
            "align_self": null,
            "border": null,
            "bottom": null,
            "display": null,
            "flex": null,
            "flex_flow": null,
            "grid_area": null,
            "grid_auto_columns": null,
            "grid_auto_flow": null,
            "grid_auto_rows": null,
            "grid_column": null,
            "grid_gap": null,
            "grid_row": null,
            "grid_template_areas": null,
            "grid_template_columns": null,
            "grid_template_rows": null,
            "height": null,
            "justify_content": null,
            "justify_items": null,
            "left": null,
            "margin": null,
            "max_height": null,
            "max_width": null,
            "min_height": null,
            "min_width": null,
            "object_fit": null,
            "object_position": null,
            "order": null,
            "overflow": null,
            "overflow_x": null,
            "overflow_y": null,
            "padding": null,
            "right": null,
            "top": null,
            "visibility": null,
            "width": null
          }
        },
        "af047031079a439486e8817e2cb51277": {
          "model_module": "@jupyter-widgets/controls",
          "model_name": "DescriptionStyleModel",
          "model_module_version": "1.5.0",
          "state": {
            "_model_module": "@jupyter-widgets/controls",
            "_model_module_version": "1.5.0",
            "_model_name": "DescriptionStyleModel",
            "_view_count": null,
            "_view_module": "@jupyter-widgets/base",
            "_view_module_version": "1.2.0",
            "_view_name": "StyleView",
            "description_width": ""
          }
        },
        "61604f0be5d649d1959081560ef2b400": {
          "model_module": "@jupyter-widgets/controls",
          "model_name": "HBoxModel",
          "model_module_version": "1.5.0",
          "state": {
            "_dom_classes": [],
            "_model_module": "@jupyter-widgets/controls",
            "_model_module_version": "1.5.0",
            "_model_name": "HBoxModel",
            "_view_count": null,
            "_view_module": "@jupyter-widgets/controls",
            "_view_module_version": "1.5.0",
            "_view_name": "HBoxView",
            "box_style": "",
            "children": [
              "IPY_MODEL_35db95a503454f4895dd7fc3b263add6",
              "IPY_MODEL_390ba292178f4917bcd5230891508327",
              "IPY_MODEL_c2f6f7f4143e4f22847ffb3eda47ee18"
            ],
            "layout": "IPY_MODEL_d5bb778afe5e4945b6518f5a96c8e8cb"
          }
        },
        "35db95a503454f4895dd7fc3b263add6": {
          "model_module": "@jupyter-widgets/controls",
          "model_name": "HTMLModel",
          "model_module_version": "1.5.0",
          "state": {
            "_dom_classes": [],
            "_model_module": "@jupyter-widgets/controls",
            "_model_module_version": "1.5.0",
            "_model_name": "HTMLModel",
            "_view_count": null,
            "_view_module": "@jupyter-widgets/controls",
            "_view_module_version": "1.5.0",
            "_view_name": "HTMLView",
            "description": "",
            "description_tooltip": null,
            "layout": "IPY_MODEL_219677186cde4057b3878d3c08b5d3d4",
            "placeholder": "​",
            "style": "IPY_MODEL_e1d75a1954f847059c564ebd730a108a",
            "value": "Downloading: 100%"
          }
        },
        "390ba292178f4917bcd5230891508327": {
          "model_module": "@jupyter-widgets/controls",
          "model_name": "FloatProgressModel",
          "model_module_version": "1.5.0",
          "state": {
            "_dom_classes": [],
            "_model_module": "@jupyter-widgets/controls",
            "_model_module_version": "1.5.0",
            "_model_name": "FloatProgressModel",
            "_view_count": null,
            "_view_module": "@jupyter-widgets/controls",
            "_view_module_version": "1.5.0",
            "_view_name": "ProgressView",
            "bar_style": "success",
            "description": "",
            "description_tooltip": null,
            "layout": "IPY_MODEL_03696e138c914c7daba90bf644a996be",
            "max": 90888945,
            "min": 0,
            "orientation": "horizontal",
            "style": "IPY_MODEL_cfab18d38c954e14bb25eb402c1fd718",
            "value": 90888945
          }
        },
        "c2f6f7f4143e4f22847ffb3eda47ee18": {
          "model_module": "@jupyter-widgets/controls",
          "model_name": "HTMLModel",
          "model_module_version": "1.5.0",
          "state": {
            "_dom_classes": [],
            "_model_module": "@jupyter-widgets/controls",
            "_model_module_version": "1.5.0",
            "_model_name": "HTMLModel",
            "_view_count": null,
            "_view_module": "@jupyter-widgets/controls",
            "_view_module_version": "1.5.0",
            "_view_name": "HTMLView",
            "description": "",
            "description_tooltip": null,
            "layout": "IPY_MODEL_a8e9c60494d64d7483fe8efeff3539b1",
            "placeholder": "​",
            "style": "IPY_MODEL_9e3637e6e12d46ce9946066fa0ae47a4",
            "value": " 90.9M/90.9M [00:01&lt;00:00, 50.4MB/s]"
          }
        },
        "d5bb778afe5e4945b6518f5a96c8e8cb": {
          "model_module": "@jupyter-widgets/base",
          "model_name": "LayoutModel",
          "model_module_version": "1.2.0",
          "state": {
            "_model_module": "@jupyter-widgets/base",
            "_model_module_version": "1.2.0",
            "_model_name": "LayoutModel",
            "_view_count": null,
            "_view_module": "@jupyter-widgets/base",
            "_view_module_version": "1.2.0",
            "_view_name": "LayoutView",
            "align_content": null,
            "align_items": null,
            "align_self": null,
            "border": null,
            "bottom": null,
            "display": null,
            "flex": null,
            "flex_flow": null,
            "grid_area": null,
            "grid_auto_columns": null,
            "grid_auto_flow": null,
            "grid_auto_rows": null,
            "grid_column": null,
            "grid_gap": null,
            "grid_row": null,
            "grid_template_areas": null,
            "grid_template_columns": null,
            "grid_template_rows": null,
            "height": null,
            "justify_content": null,
            "justify_items": null,
            "left": null,
            "margin": null,
            "max_height": null,
            "max_width": null,
            "min_height": null,
            "min_width": null,
            "object_fit": null,
            "object_position": null,
            "order": null,
            "overflow": null,
            "overflow_x": null,
            "overflow_y": null,
            "padding": null,
            "right": null,
            "top": null,
            "visibility": null,
            "width": null
          }
        },
        "219677186cde4057b3878d3c08b5d3d4": {
          "model_module": "@jupyter-widgets/base",
          "model_name": "LayoutModel",
          "model_module_version": "1.2.0",
          "state": {
            "_model_module": "@jupyter-widgets/base",
            "_model_module_version": "1.2.0",
            "_model_name": "LayoutModel",
            "_view_count": null,
            "_view_module": "@jupyter-widgets/base",
            "_view_module_version": "1.2.0",
            "_view_name": "LayoutView",
            "align_content": null,
            "align_items": null,
            "align_self": null,
            "border": null,
            "bottom": null,
            "display": null,
            "flex": null,
            "flex_flow": null,
            "grid_area": null,
            "grid_auto_columns": null,
            "grid_auto_flow": null,
            "grid_auto_rows": null,
            "grid_column": null,
            "grid_gap": null,
            "grid_row": null,
            "grid_template_areas": null,
            "grid_template_columns": null,
            "grid_template_rows": null,
            "height": null,
            "justify_content": null,
            "justify_items": null,
            "left": null,
            "margin": null,
            "max_height": null,
            "max_width": null,
            "min_height": null,
            "min_width": null,
            "object_fit": null,
            "object_position": null,
            "order": null,
            "overflow": null,
            "overflow_x": null,
            "overflow_y": null,
            "padding": null,
            "right": null,
            "top": null,
            "visibility": null,
            "width": null
          }
        },
        "e1d75a1954f847059c564ebd730a108a": {
          "model_module": "@jupyter-widgets/controls",
          "model_name": "DescriptionStyleModel",
          "model_module_version": "1.5.0",
          "state": {
            "_model_module": "@jupyter-widgets/controls",
            "_model_module_version": "1.5.0",
            "_model_name": "DescriptionStyleModel",
            "_view_count": null,
            "_view_module": "@jupyter-widgets/base",
            "_view_module_version": "1.2.0",
            "_view_name": "StyleView",
            "description_width": ""
          }
        },
        "03696e138c914c7daba90bf644a996be": {
          "model_module": "@jupyter-widgets/base",
          "model_name": "LayoutModel",
          "model_module_version": "1.2.0",
          "state": {
            "_model_module": "@jupyter-widgets/base",
            "_model_module_version": "1.2.0",
            "_model_name": "LayoutModel",
            "_view_count": null,
            "_view_module": "@jupyter-widgets/base",
            "_view_module_version": "1.2.0",
            "_view_name": "LayoutView",
            "align_content": null,
            "align_items": null,
            "align_self": null,
            "border": null,
            "bottom": null,
            "display": null,
            "flex": null,
            "flex_flow": null,
            "grid_area": null,
            "grid_auto_columns": null,
            "grid_auto_flow": null,
            "grid_auto_rows": null,
            "grid_column": null,
            "grid_gap": null,
            "grid_row": null,
            "grid_template_areas": null,
            "grid_template_columns": null,
            "grid_template_rows": null,
            "height": null,
            "justify_content": null,
            "justify_items": null,
            "left": null,
            "margin": null,
            "max_height": null,
            "max_width": null,
            "min_height": null,
            "min_width": null,
            "object_fit": null,
            "object_position": null,
            "order": null,
            "overflow": null,
            "overflow_x": null,
            "overflow_y": null,
            "padding": null,
            "right": null,
            "top": null,
            "visibility": null,
            "width": null
          }
        },
        "cfab18d38c954e14bb25eb402c1fd718": {
          "model_module": "@jupyter-widgets/controls",
          "model_name": "ProgressStyleModel",
          "model_module_version": "1.5.0",
          "state": {
            "_model_module": "@jupyter-widgets/controls",
            "_model_module_version": "1.5.0",
            "_model_name": "ProgressStyleModel",
            "_view_count": null,
            "_view_module": "@jupyter-widgets/base",
            "_view_module_version": "1.2.0",
            "_view_name": "StyleView",
            "bar_color": null,
            "description_width": ""
          }
        },
        "a8e9c60494d64d7483fe8efeff3539b1": {
          "model_module": "@jupyter-widgets/base",
          "model_name": "LayoutModel",
          "model_module_version": "1.2.0",
          "state": {
            "_model_module": "@jupyter-widgets/base",
            "_model_module_version": "1.2.0",
            "_model_name": "LayoutModel",
            "_view_count": null,
            "_view_module": "@jupyter-widgets/base",
            "_view_module_version": "1.2.0",
            "_view_name": "LayoutView",
            "align_content": null,
            "align_items": null,
            "align_self": null,
            "border": null,
            "bottom": null,
            "display": null,
            "flex": null,
            "flex_flow": null,
            "grid_area": null,
            "grid_auto_columns": null,
            "grid_auto_flow": null,
            "grid_auto_rows": null,
            "grid_column": null,
            "grid_gap": null,
            "grid_row": null,
            "grid_template_areas": null,
            "grid_template_columns": null,
            "grid_template_rows": null,
            "height": null,
            "justify_content": null,
            "justify_items": null,
            "left": null,
            "margin": null,
            "max_height": null,
            "max_width": null,
            "min_height": null,
            "min_width": null,
            "object_fit": null,
            "object_position": null,
            "order": null,
            "overflow": null,
            "overflow_x": null,
            "overflow_y": null,
            "padding": null,
            "right": null,
            "top": null,
            "visibility": null,
            "width": null
          }
        },
        "9e3637e6e12d46ce9946066fa0ae47a4": {
          "model_module": "@jupyter-widgets/controls",
          "model_name": "DescriptionStyleModel",
          "model_module_version": "1.5.0",
          "state": {
            "_model_module": "@jupyter-widgets/controls",
            "_model_module_version": "1.5.0",
            "_model_name": "DescriptionStyleModel",
            "_view_count": null,
            "_view_module": "@jupyter-widgets/base",
            "_view_module_version": "1.2.0",
            "_view_name": "StyleView",
            "description_width": ""
          }
        },
        "8795e730b2fc429b8ddd894e739abb3b": {
          "model_module": "@jupyter-widgets/controls",
          "model_name": "HBoxModel",
          "model_module_version": "1.5.0",
          "state": {
            "_dom_classes": [],
            "_model_module": "@jupyter-widgets/controls",
            "_model_module_version": "1.5.0",
            "_model_name": "HBoxModel",
            "_view_count": null,
            "_view_module": "@jupyter-widgets/controls",
            "_view_module_version": "1.5.0",
            "_view_name": "HBoxView",
            "box_style": "",
            "children": [
              "IPY_MODEL_8ac6a69a94814159b39fc350df4b771a",
              "IPY_MODEL_da54e879c4a241fbb3b8f611ec862330",
              "IPY_MODEL_04e103adbe224a19abcfc753cfa303ae"
            ],
            "layout": "IPY_MODEL_35d3f0fd530043018acc9ea71cb53fe4"
          }
        },
        "8ac6a69a94814159b39fc350df4b771a": {
          "model_module": "@jupyter-widgets/controls",
          "model_name": "HTMLModel",
          "model_module_version": "1.5.0",
          "state": {
            "_dom_classes": [],
            "_model_module": "@jupyter-widgets/controls",
            "_model_module_version": "1.5.0",
            "_model_name": "HTMLModel",
            "_view_count": null,
            "_view_module": "@jupyter-widgets/controls",
            "_view_module_version": "1.5.0",
            "_view_name": "HTMLView",
            "description": "",
            "description_tooltip": null,
            "layout": "IPY_MODEL_26c3cc9c764b402d985993e866c9891d",
            "placeholder": "​",
            "style": "IPY_MODEL_bd948831b93846f7848361ebc0bdf8a1",
            "value": "Downloading: 100%"
          }
        },
        "da54e879c4a241fbb3b8f611ec862330": {
          "model_module": "@jupyter-widgets/controls",
          "model_name": "FloatProgressModel",
          "model_module_version": "1.5.0",
          "state": {
            "_dom_classes": [],
            "_model_module": "@jupyter-widgets/controls",
            "_model_module_version": "1.5.0",
            "_model_name": "FloatProgressModel",
            "_view_count": null,
            "_view_module": "@jupyter-widgets/controls",
            "_view_module_version": "1.5.0",
            "_view_name": "ProgressView",
            "bar_style": "success",
            "description": "",
            "description_tooltip": null,
            "layout": "IPY_MODEL_d00065e47dba4827858fe84f956a119b",
            "max": 53,
            "min": 0,
            "orientation": "horizontal",
            "style": "IPY_MODEL_42ee39aaf973409ab18471043966fed8",
            "value": 53
          }
        },
        "04e103adbe224a19abcfc753cfa303ae": {
          "model_module": "@jupyter-widgets/controls",
          "model_name": "HTMLModel",
          "model_module_version": "1.5.0",
          "state": {
            "_dom_classes": [],
            "_model_module": "@jupyter-widgets/controls",
            "_model_module_version": "1.5.0",
            "_model_name": "HTMLModel",
            "_view_count": null,
            "_view_module": "@jupyter-widgets/controls",
            "_view_module_version": "1.5.0",
            "_view_name": "HTMLView",
            "description": "",
            "description_tooltip": null,
            "layout": "IPY_MODEL_c4556953d65749a7a2425d32289a2d44",
            "placeholder": "​",
            "style": "IPY_MODEL_9b8d5d4a59224b4989077e7bbe8087c0",
            "value": " 53.0/53.0 [00:00&lt;00:00, 1.91kB/s]"
          }
        },
        "35d3f0fd530043018acc9ea71cb53fe4": {
          "model_module": "@jupyter-widgets/base",
          "model_name": "LayoutModel",
          "model_module_version": "1.2.0",
          "state": {
            "_model_module": "@jupyter-widgets/base",
            "_model_module_version": "1.2.0",
            "_model_name": "LayoutModel",
            "_view_count": null,
            "_view_module": "@jupyter-widgets/base",
            "_view_module_version": "1.2.0",
            "_view_name": "LayoutView",
            "align_content": null,
            "align_items": null,
            "align_self": null,
            "border": null,
            "bottom": null,
            "display": null,
            "flex": null,
            "flex_flow": null,
            "grid_area": null,
            "grid_auto_columns": null,
            "grid_auto_flow": null,
            "grid_auto_rows": null,
            "grid_column": null,
            "grid_gap": null,
            "grid_row": null,
            "grid_template_areas": null,
            "grid_template_columns": null,
            "grid_template_rows": null,
            "height": null,
            "justify_content": null,
            "justify_items": null,
            "left": null,
            "margin": null,
            "max_height": null,
            "max_width": null,
            "min_height": null,
            "min_width": null,
            "object_fit": null,
            "object_position": null,
            "order": null,
            "overflow": null,
            "overflow_x": null,
            "overflow_y": null,
            "padding": null,
            "right": null,
            "top": null,
            "visibility": null,
            "width": null
          }
        },
        "26c3cc9c764b402d985993e866c9891d": {
          "model_module": "@jupyter-widgets/base",
          "model_name": "LayoutModel",
          "model_module_version": "1.2.0",
          "state": {
            "_model_module": "@jupyter-widgets/base",
            "_model_module_version": "1.2.0",
            "_model_name": "LayoutModel",
            "_view_count": null,
            "_view_module": "@jupyter-widgets/base",
            "_view_module_version": "1.2.0",
            "_view_name": "LayoutView",
            "align_content": null,
            "align_items": null,
            "align_self": null,
            "border": null,
            "bottom": null,
            "display": null,
            "flex": null,
            "flex_flow": null,
            "grid_area": null,
            "grid_auto_columns": null,
            "grid_auto_flow": null,
            "grid_auto_rows": null,
            "grid_column": null,
            "grid_gap": null,
            "grid_row": null,
            "grid_template_areas": null,
            "grid_template_columns": null,
            "grid_template_rows": null,
            "height": null,
            "justify_content": null,
            "justify_items": null,
            "left": null,
            "margin": null,
            "max_height": null,
            "max_width": null,
            "min_height": null,
            "min_width": null,
            "object_fit": null,
            "object_position": null,
            "order": null,
            "overflow": null,
            "overflow_x": null,
            "overflow_y": null,
            "padding": null,
            "right": null,
            "top": null,
            "visibility": null,
            "width": null
          }
        },
        "bd948831b93846f7848361ebc0bdf8a1": {
          "model_module": "@jupyter-widgets/controls",
          "model_name": "DescriptionStyleModel",
          "model_module_version": "1.5.0",
          "state": {
            "_model_module": "@jupyter-widgets/controls",
            "_model_module_version": "1.5.0",
            "_model_name": "DescriptionStyleModel",
            "_view_count": null,
            "_view_module": "@jupyter-widgets/base",
            "_view_module_version": "1.2.0",
            "_view_name": "StyleView",
            "description_width": ""
          }
        },
        "d00065e47dba4827858fe84f956a119b": {
          "model_module": "@jupyter-widgets/base",
          "model_name": "LayoutModel",
          "model_module_version": "1.2.0",
          "state": {
            "_model_module": "@jupyter-widgets/base",
            "_model_module_version": "1.2.0",
            "_model_name": "LayoutModel",
            "_view_count": null,
            "_view_module": "@jupyter-widgets/base",
            "_view_module_version": "1.2.0",
            "_view_name": "LayoutView",
            "align_content": null,
            "align_items": null,
            "align_self": null,
            "border": null,
            "bottom": null,
            "display": null,
            "flex": null,
            "flex_flow": null,
            "grid_area": null,
            "grid_auto_columns": null,
            "grid_auto_flow": null,
            "grid_auto_rows": null,
            "grid_column": null,
            "grid_gap": null,
            "grid_row": null,
            "grid_template_areas": null,
            "grid_template_columns": null,
            "grid_template_rows": null,
            "height": null,
            "justify_content": null,
            "justify_items": null,
            "left": null,
            "margin": null,
            "max_height": null,
            "max_width": null,
            "min_height": null,
            "min_width": null,
            "object_fit": null,
            "object_position": null,
            "order": null,
            "overflow": null,
            "overflow_x": null,
            "overflow_y": null,
            "padding": null,
            "right": null,
            "top": null,
            "visibility": null,
            "width": null
          }
        },
        "42ee39aaf973409ab18471043966fed8": {
          "model_module": "@jupyter-widgets/controls",
          "model_name": "ProgressStyleModel",
          "model_module_version": "1.5.0",
          "state": {
            "_model_module": "@jupyter-widgets/controls",
            "_model_module_version": "1.5.0",
            "_model_name": "ProgressStyleModel",
            "_view_count": null,
            "_view_module": "@jupyter-widgets/base",
            "_view_module_version": "1.2.0",
            "_view_name": "StyleView",
            "bar_color": null,
            "description_width": ""
          }
        },
        "c4556953d65749a7a2425d32289a2d44": {
          "model_module": "@jupyter-widgets/base",
          "model_name": "LayoutModel",
          "model_module_version": "1.2.0",
          "state": {
            "_model_module": "@jupyter-widgets/base",
            "_model_module_version": "1.2.0",
            "_model_name": "LayoutModel",
            "_view_count": null,
            "_view_module": "@jupyter-widgets/base",
            "_view_module_version": "1.2.0",
            "_view_name": "LayoutView",
            "align_content": null,
            "align_items": null,
            "align_self": null,
            "border": null,
            "bottom": null,
            "display": null,
            "flex": null,
            "flex_flow": null,
            "grid_area": null,
            "grid_auto_columns": null,
            "grid_auto_flow": null,
            "grid_auto_rows": null,
            "grid_column": null,
            "grid_gap": null,
            "grid_row": null,
            "grid_template_areas": null,
            "grid_template_columns": null,
            "grid_template_rows": null,
            "height": null,
            "justify_content": null,
            "justify_items": null,
            "left": null,
            "margin": null,
            "max_height": null,
            "max_width": null,
            "min_height": null,
            "min_width": null,
            "object_fit": null,
            "object_position": null,
            "order": null,
            "overflow": null,
            "overflow_x": null,
            "overflow_y": null,
            "padding": null,
            "right": null,
            "top": null,
            "visibility": null,
            "width": null
          }
        },
        "9b8d5d4a59224b4989077e7bbe8087c0": {
          "model_module": "@jupyter-widgets/controls",
          "model_name": "DescriptionStyleModel",
          "model_module_version": "1.5.0",
          "state": {
            "_model_module": "@jupyter-widgets/controls",
            "_model_module_version": "1.5.0",
            "_model_name": "DescriptionStyleModel",
            "_view_count": null,
            "_view_module": "@jupyter-widgets/base",
            "_view_module_version": "1.2.0",
            "_view_name": "StyleView",
            "description_width": ""
          }
        },
        "05eba374001f49839f001e1dc7bff8dd": {
          "model_module": "@jupyter-widgets/controls",
          "model_name": "HBoxModel",
          "model_module_version": "1.5.0",
          "state": {
            "_dom_classes": [],
            "_model_module": "@jupyter-widgets/controls",
            "_model_module_version": "1.5.0",
            "_model_name": "HBoxModel",
            "_view_count": null,
            "_view_module": "@jupyter-widgets/controls",
            "_view_module_version": "1.5.0",
            "_view_name": "HBoxView",
            "box_style": "",
            "children": [
              "IPY_MODEL_610464d870f4405ca72f8ecedb8867db",
              "IPY_MODEL_93aa806763c64b98ab9ed4ded9e4d650",
              "IPY_MODEL_c8a8eba383bd405083567a79aac202bb"
            ],
            "layout": "IPY_MODEL_ecc9706c45e14320b4f32881490daef1"
          }
        },
        "610464d870f4405ca72f8ecedb8867db": {
          "model_module": "@jupyter-widgets/controls",
          "model_name": "HTMLModel",
          "model_module_version": "1.5.0",
          "state": {
            "_dom_classes": [],
            "_model_module": "@jupyter-widgets/controls",
            "_model_module_version": "1.5.0",
            "_model_name": "HTMLModel",
            "_view_count": null,
            "_view_module": "@jupyter-widgets/controls",
            "_view_module_version": "1.5.0",
            "_view_name": "HTMLView",
            "description": "",
            "description_tooltip": null,
            "layout": "IPY_MODEL_bc55da0719db4ed79498ab6e512d731f",
            "placeholder": "​",
            "style": "IPY_MODEL_e23204a8c540498081b0dbfe62d05041",
            "value": "Downloading: 100%"
          }
        },
        "93aa806763c64b98ab9ed4ded9e4d650": {
          "model_module": "@jupyter-widgets/controls",
          "model_name": "FloatProgressModel",
          "model_module_version": "1.5.0",
          "state": {
            "_dom_classes": [],
            "_model_module": "@jupyter-widgets/controls",
            "_model_module_version": "1.5.0",
            "_model_name": "FloatProgressModel",
            "_view_count": null,
            "_view_module": "@jupyter-widgets/controls",
            "_view_module_version": "1.5.0",
            "_view_name": "ProgressView",
            "bar_style": "success",
            "description": "",
            "description_tooltip": null,
            "layout": "IPY_MODEL_abe10226c50c49748d6809b0c4ba6fc2",
            "max": 112,
            "min": 0,
            "orientation": "horizontal",
            "style": "IPY_MODEL_b3dcecbec94c4cee85ee96bcdd9dba97",
            "value": 112
          }
        },
        "c8a8eba383bd405083567a79aac202bb": {
          "model_module": "@jupyter-widgets/controls",
          "model_name": "HTMLModel",
          "model_module_version": "1.5.0",
          "state": {
            "_dom_classes": [],
            "_model_module": "@jupyter-widgets/controls",
            "_model_module_version": "1.5.0",
            "_model_name": "HTMLModel",
            "_view_count": null,
            "_view_module": "@jupyter-widgets/controls",
            "_view_module_version": "1.5.0",
            "_view_name": "HTMLView",
            "description": "",
            "description_tooltip": null,
            "layout": "IPY_MODEL_2e50ccb5fc2f4bb4a8aaf9be684a217e",
            "placeholder": "​",
            "style": "IPY_MODEL_fcd5e39d9627411db9b5cb693717c34e",
            "value": " 112/112 [00:00&lt;00:00, 3.47kB/s]"
          }
        },
        "ecc9706c45e14320b4f32881490daef1": {
          "model_module": "@jupyter-widgets/base",
          "model_name": "LayoutModel",
          "model_module_version": "1.2.0",
          "state": {
            "_model_module": "@jupyter-widgets/base",
            "_model_module_version": "1.2.0",
            "_model_name": "LayoutModel",
            "_view_count": null,
            "_view_module": "@jupyter-widgets/base",
            "_view_module_version": "1.2.0",
            "_view_name": "LayoutView",
            "align_content": null,
            "align_items": null,
            "align_self": null,
            "border": null,
            "bottom": null,
            "display": null,
            "flex": null,
            "flex_flow": null,
            "grid_area": null,
            "grid_auto_columns": null,
            "grid_auto_flow": null,
            "grid_auto_rows": null,
            "grid_column": null,
            "grid_gap": null,
            "grid_row": null,
            "grid_template_areas": null,
            "grid_template_columns": null,
            "grid_template_rows": null,
            "height": null,
            "justify_content": null,
            "justify_items": null,
            "left": null,
            "margin": null,
            "max_height": null,
            "max_width": null,
            "min_height": null,
            "min_width": null,
            "object_fit": null,
            "object_position": null,
            "order": null,
            "overflow": null,
            "overflow_x": null,
            "overflow_y": null,
            "padding": null,
            "right": null,
            "top": null,
            "visibility": null,
            "width": null
          }
        },
        "bc55da0719db4ed79498ab6e512d731f": {
          "model_module": "@jupyter-widgets/base",
          "model_name": "LayoutModel",
          "model_module_version": "1.2.0",
          "state": {
            "_model_module": "@jupyter-widgets/base",
            "_model_module_version": "1.2.0",
            "_model_name": "LayoutModel",
            "_view_count": null,
            "_view_module": "@jupyter-widgets/base",
            "_view_module_version": "1.2.0",
            "_view_name": "LayoutView",
            "align_content": null,
            "align_items": null,
            "align_self": null,
            "border": null,
            "bottom": null,
            "display": null,
            "flex": null,
            "flex_flow": null,
            "grid_area": null,
            "grid_auto_columns": null,
            "grid_auto_flow": null,
            "grid_auto_rows": null,
            "grid_column": null,
            "grid_gap": null,
            "grid_row": null,
            "grid_template_areas": null,
            "grid_template_columns": null,
            "grid_template_rows": null,
            "height": null,
            "justify_content": null,
            "justify_items": null,
            "left": null,
            "margin": null,
            "max_height": null,
            "max_width": null,
            "min_height": null,
            "min_width": null,
            "object_fit": null,
            "object_position": null,
            "order": null,
            "overflow": null,
            "overflow_x": null,
            "overflow_y": null,
            "padding": null,
            "right": null,
            "top": null,
            "visibility": null,
            "width": null
          }
        },
        "e23204a8c540498081b0dbfe62d05041": {
          "model_module": "@jupyter-widgets/controls",
          "model_name": "DescriptionStyleModel",
          "model_module_version": "1.5.0",
          "state": {
            "_model_module": "@jupyter-widgets/controls",
            "_model_module_version": "1.5.0",
            "_model_name": "DescriptionStyleModel",
            "_view_count": null,
            "_view_module": "@jupyter-widgets/base",
            "_view_module_version": "1.2.0",
            "_view_name": "StyleView",
            "description_width": ""
          }
        },
        "abe10226c50c49748d6809b0c4ba6fc2": {
          "model_module": "@jupyter-widgets/base",
          "model_name": "LayoutModel",
          "model_module_version": "1.2.0",
          "state": {
            "_model_module": "@jupyter-widgets/base",
            "_model_module_version": "1.2.0",
            "_model_name": "LayoutModel",
            "_view_count": null,
            "_view_module": "@jupyter-widgets/base",
            "_view_module_version": "1.2.0",
            "_view_name": "LayoutView",
            "align_content": null,
            "align_items": null,
            "align_self": null,
            "border": null,
            "bottom": null,
            "display": null,
            "flex": null,
            "flex_flow": null,
            "grid_area": null,
            "grid_auto_columns": null,
            "grid_auto_flow": null,
            "grid_auto_rows": null,
            "grid_column": null,
            "grid_gap": null,
            "grid_row": null,
            "grid_template_areas": null,
            "grid_template_columns": null,
            "grid_template_rows": null,
            "height": null,
            "justify_content": null,
            "justify_items": null,
            "left": null,
            "margin": null,
            "max_height": null,
            "max_width": null,
            "min_height": null,
            "min_width": null,
            "object_fit": null,
            "object_position": null,
            "order": null,
            "overflow": null,
            "overflow_x": null,
            "overflow_y": null,
            "padding": null,
            "right": null,
            "top": null,
            "visibility": null,
            "width": null
          }
        },
        "b3dcecbec94c4cee85ee96bcdd9dba97": {
          "model_module": "@jupyter-widgets/controls",
          "model_name": "ProgressStyleModel",
          "model_module_version": "1.5.0",
          "state": {
            "_model_module": "@jupyter-widgets/controls",
            "_model_module_version": "1.5.0",
            "_model_name": "ProgressStyleModel",
            "_view_count": null,
            "_view_module": "@jupyter-widgets/base",
            "_view_module_version": "1.2.0",
            "_view_name": "StyleView",
            "bar_color": null,
            "description_width": ""
          }
        },
        "2e50ccb5fc2f4bb4a8aaf9be684a217e": {
          "model_module": "@jupyter-widgets/base",
          "model_name": "LayoutModel",
          "model_module_version": "1.2.0",
          "state": {
            "_model_module": "@jupyter-widgets/base",
            "_model_module_version": "1.2.0",
            "_model_name": "LayoutModel",
            "_view_count": null,
            "_view_module": "@jupyter-widgets/base",
            "_view_module_version": "1.2.0",
            "_view_name": "LayoutView",
            "align_content": null,
            "align_items": null,
            "align_self": null,
            "border": null,
            "bottom": null,
            "display": null,
            "flex": null,
            "flex_flow": null,
            "grid_area": null,
            "grid_auto_columns": null,
            "grid_auto_flow": null,
            "grid_auto_rows": null,
            "grid_column": null,
            "grid_gap": null,
            "grid_row": null,
            "grid_template_areas": null,
            "grid_template_columns": null,
            "grid_template_rows": null,
            "height": null,
            "justify_content": null,
            "justify_items": null,
            "left": null,
            "margin": null,
            "max_height": null,
            "max_width": null,
            "min_height": null,
            "min_width": null,
            "object_fit": null,
            "object_position": null,
            "order": null,
            "overflow": null,
            "overflow_x": null,
            "overflow_y": null,
            "padding": null,
            "right": null,
            "top": null,
            "visibility": null,
            "width": null
          }
        },
        "fcd5e39d9627411db9b5cb693717c34e": {
          "model_module": "@jupyter-widgets/controls",
          "model_name": "DescriptionStyleModel",
          "model_module_version": "1.5.0",
          "state": {
            "_model_module": "@jupyter-widgets/controls",
            "_model_module_version": "1.5.0",
            "_model_name": "DescriptionStyleModel",
            "_view_count": null,
            "_view_module": "@jupyter-widgets/base",
            "_view_module_version": "1.2.0",
            "_view_name": "StyleView",
            "description_width": ""
          }
        },
        "0fb56d9cf85d4658b6c6a57e9f24c1ef": {
          "model_module": "@jupyter-widgets/controls",
          "model_name": "HBoxModel",
          "model_module_version": "1.5.0",
          "state": {
            "_dom_classes": [],
            "_model_module": "@jupyter-widgets/controls",
            "_model_module_version": "1.5.0",
            "_model_name": "HBoxModel",
            "_view_count": null,
            "_view_module": "@jupyter-widgets/controls",
            "_view_module_version": "1.5.0",
            "_view_name": "HBoxView",
            "box_style": "",
            "children": [
              "IPY_MODEL_402a3e918d1749c880353163698c2005",
              "IPY_MODEL_47ab68d6ba0744d7a375782b6d743f51",
              "IPY_MODEL_4f96ef2bc66c470e86cb1e20aed208cc"
            ],
            "layout": "IPY_MODEL_6c6d9368ada1453ebfc0f13ccc6f7fad"
          }
        },
        "402a3e918d1749c880353163698c2005": {
          "model_module": "@jupyter-widgets/controls",
          "model_name": "HTMLModel",
          "model_module_version": "1.5.0",
          "state": {
            "_dom_classes": [],
            "_model_module": "@jupyter-widgets/controls",
            "_model_module_version": "1.5.0",
            "_model_name": "HTMLModel",
            "_view_count": null,
            "_view_module": "@jupyter-widgets/controls",
            "_view_module_version": "1.5.0",
            "_view_name": "HTMLView",
            "description": "",
            "description_tooltip": null,
            "layout": "IPY_MODEL_ef9c5daea7af47b0b58be4836ce684fa",
            "placeholder": "​",
            "style": "IPY_MODEL_f4c1aba52b9e4fbca9bbcf53f3e762b8",
            "value": "Downloading: 100%"
          }
        },
        "47ab68d6ba0744d7a375782b6d743f51": {
          "model_module": "@jupyter-widgets/controls",
          "model_name": "FloatProgressModel",
          "model_module_version": "1.5.0",
          "state": {
            "_dom_classes": [],
            "_model_module": "@jupyter-widgets/controls",
            "_model_module_version": "1.5.0",
            "_model_name": "FloatProgressModel",
            "_view_count": null,
            "_view_module": "@jupyter-widgets/controls",
            "_view_module_version": "1.5.0",
            "_view_name": "ProgressView",
            "bar_style": "success",
            "description": "",
            "description_tooltip": null,
            "layout": "IPY_MODEL_51a22d03dc694a13b7797c0402b9b782",
            "max": 466247,
            "min": 0,
            "orientation": "horizontal",
            "style": "IPY_MODEL_fbd3f9a67b51419c9b77f4f4d351a42f",
            "value": 466247
          }
        },
        "4f96ef2bc66c470e86cb1e20aed208cc": {
          "model_module": "@jupyter-widgets/controls",
          "model_name": "HTMLModel",
          "model_module_version": "1.5.0",
          "state": {
            "_dom_classes": [],
            "_model_module": "@jupyter-widgets/controls",
            "_model_module_version": "1.5.0",
            "_model_name": "HTMLModel",
            "_view_count": null,
            "_view_module": "@jupyter-widgets/controls",
            "_view_module_version": "1.5.0",
            "_view_name": "HTMLView",
            "description": "",
            "description_tooltip": null,
            "layout": "IPY_MODEL_742190c1b6b34ba6a7464594f276d903",
            "placeholder": "​",
            "style": "IPY_MODEL_69dedcfda24e4021a032cc42d43bb8c6",
            "value": " 466k/466k [00:00&lt;00:00, 1.75MB/s]"
          }
        },
        "6c6d9368ada1453ebfc0f13ccc6f7fad": {
          "model_module": "@jupyter-widgets/base",
          "model_name": "LayoutModel",
          "model_module_version": "1.2.0",
          "state": {
            "_model_module": "@jupyter-widgets/base",
            "_model_module_version": "1.2.0",
            "_model_name": "LayoutModel",
            "_view_count": null,
            "_view_module": "@jupyter-widgets/base",
            "_view_module_version": "1.2.0",
            "_view_name": "LayoutView",
            "align_content": null,
            "align_items": null,
            "align_self": null,
            "border": null,
            "bottom": null,
            "display": null,
            "flex": null,
            "flex_flow": null,
            "grid_area": null,
            "grid_auto_columns": null,
            "grid_auto_flow": null,
            "grid_auto_rows": null,
            "grid_column": null,
            "grid_gap": null,
            "grid_row": null,
            "grid_template_areas": null,
            "grid_template_columns": null,
            "grid_template_rows": null,
            "height": null,
            "justify_content": null,
            "justify_items": null,
            "left": null,
            "margin": null,
            "max_height": null,
            "max_width": null,
            "min_height": null,
            "min_width": null,
            "object_fit": null,
            "object_position": null,
            "order": null,
            "overflow": null,
            "overflow_x": null,
            "overflow_y": null,
            "padding": null,
            "right": null,
            "top": null,
            "visibility": null,
            "width": null
          }
        },
        "ef9c5daea7af47b0b58be4836ce684fa": {
          "model_module": "@jupyter-widgets/base",
          "model_name": "LayoutModel",
          "model_module_version": "1.2.0",
          "state": {
            "_model_module": "@jupyter-widgets/base",
            "_model_module_version": "1.2.0",
            "_model_name": "LayoutModel",
            "_view_count": null,
            "_view_module": "@jupyter-widgets/base",
            "_view_module_version": "1.2.0",
            "_view_name": "LayoutView",
            "align_content": null,
            "align_items": null,
            "align_self": null,
            "border": null,
            "bottom": null,
            "display": null,
            "flex": null,
            "flex_flow": null,
            "grid_area": null,
            "grid_auto_columns": null,
            "grid_auto_flow": null,
            "grid_auto_rows": null,
            "grid_column": null,
            "grid_gap": null,
            "grid_row": null,
            "grid_template_areas": null,
            "grid_template_columns": null,
            "grid_template_rows": null,
            "height": null,
            "justify_content": null,
            "justify_items": null,
            "left": null,
            "margin": null,
            "max_height": null,
            "max_width": null,
            "min_height": null,
            "min_width": null,
            "object_fit": null,
            "object_position": null,
            "order": null,
            "overflow": null,
            "overflow_x": null,
            "overflow_y": null,
            "padding": null,
            "right": null,
            "top": null,
            "visibility": null,
            "width": null
          }
        },
        "f4c1aba52b9e4fbca9bbcf53f3e762b8": {
          "model_module": "@jupyter-widgets/controls",
          "model_name": "DescriptionStyleModel",
          "model_module_version": "1.5.0",
          "state": {
            "_model_module": "@jupyter-widgets/controls",
            "_model_module_version": "1.5.0",
            "_model_name": "DescriptionStyleModel",
            "_view_count": null,
            "_view_module": "@jupyter-widgets/base",
            "_view_module_version": "1.2.0",
            "_view_name": "StyleView",
            "description_width": ""
          }
        },
        "51a22d03dc694a13b7797c0402b9b782": {
          "model_module": "@jupyter-widgets/base",
          "model_name": "LayoutModel",
          "model_module_version": "1.2.0",
          "state": {
            "_model_module": "@jupyter-widgets/base",
            "_model_module_version": "1.2.0",
            "_model_name": "LayoutModel",
            "_view_count": null,
            "_view_module": "@jupyter-widgets/base",
            "_view_module_version": "1.2.0",
            "_view_name": "LayoutView",
            "align_content": null,
            "align_items": null,
            "align_self": null,
            "border": null,
            "bottom": null,
            "display": null,
            "flex": null,
            "flex_flow": null,
            "grid_area": null,
            "grid_auto_columns": null,
            "grid_auto_flow": null,
            "grid_auto_rows": null,
            "grid_column": null,
            "grid_gap": null,
            "grid_row": null,
            "grid_template_areas": null,
            "grid_template_columns": null,
            "grid_template_rows": null,
            "height": null,
            "justify_content": null,
            "justify_items": null,
            "left": null,
            "margin": null,
            "max_height": null,
            "max_width": null,
            "min_height": null,
            "min_width": null,
            "object_fit": null,
            "object_position": null,
            "order": null,
            "overflow": null,
            "overflow_x": null,
            "overflow_y": null,
            "padding": null,
            "right": null,
            "top": null,
            "visibility": null,
            "width": null
          }
        },
        "fbd3f9a67b51419c9b77f4f4d351a42f": {
          "model_module": "@jupyter-widgets/controls",
          "model_name": "ProgressStyleModel",
          "model_module_version": "1.5.0",
          "state": {
            "_model_module": "@jupyter-widgets/controls",
            "_model_module_version": "1.5.0",
            "_model_name": "ProgressStyleModel",
            "_view_count": null,
            "_view_module": "@jupyter-widgets/base",
            "_view_module_version": "1.2.0",
            "_view_name": "StyleView",
            "bar_color": null,
            "description_width": ""
          }
        },
        "742190c1b6b34ba6a7464594f276d903": {
          "model_module": "@jupyter-widgets/base",
          "model_name": "LayoutModel",
          "model_module_version": "1.2.0",
          "state": {
            "_model_module": "@jupyter-widgets/base",
            "_model_module_version": "1.2.0",
            "_model_name": "LayoutModel",
            "_view_count": null,
            "_view_module": "@jupyter-widgets/base",
            "_view_module_version": "1.2.0",
            "_view_name": "LayoutView",
            "align_content": null,
            "align_items": null,
            "align_self": null,
            "border": null,
            "bottom": null,
            "display": null,
            "flex": null,
            "flex_flow": null,
            "grid_area": null,
            "grid_auto_columns": null,
            "grid_auto_flow": null,
            "grid_auto_rows": null,
            "grid_column": null,
            "grid_gap": null,
            "grid_row": null,
            "grid_template_areas": null,
            "grid_template_columns": null,
            "grid_template_rows": null,
            "height": null,
            "justify_content": null,
            "justify_items": null,
            "left": null,
            "margin": null,
            "max_height": null,
            "max_width": null,
            "min_height": null,
            "min_width": null,
            "object_fit": null,
            "object_position": null,
            "order": null,
            "overflow": null,
            "overflow_x": null,
            "overflow_y": null,
            "padding": null,
            "right": null,
            "top": null,
            "visibility": null,
            "width": null
          }
        },
        "69dedcfda24e4021a032cc42d43bb8c6": {
          "model_module": "@jupyter-widgets/controls",
          "model_name": "DescriptionStyleModel",
          "model_module_version": "1.5.0",
          "state": {
            "_model_module": "@jupyter-widgets/controls",
            "_model_module_version": "1.5.0",
            "_model_name": "DescriptionStyleModel",
            "_view_count": null,
            "_view_module": "@jupyter-widgets/base",
            "_view_module_version": "1.2.0",
            "_view_name": "StyleView",
            "description_width": ""
          }
        },
        "3277e5441c3740a0b6f78b33b6120cd8": {
          "model_module": "@jupyter-widgets/controls",
          "model_name": "HBoxModel",
          "model_module_version": "1.5.0",
          "state": {
            "_dom_classes": [],
            "_model_module": "@jupyter-widgets/controls",
            "_model_module_version": "1.5.0",
            "_model_name": "HBoxModel",
            "_view_count": null,
            "_view_module": "@jupyter-widgets/controls",
            "_view_module_version": "1.5.0",
            "_view_name": "HBoxView",
            "box_style": "",
            "children": [
              "IPY_MODEL_51f3e3fb7f9742d1bab97c203b20a380",
              "IPY_MODEL_8f1e33ea553a4d338ee5112901b6af20",
              "IPY_MODEL_302b1108097c44a689bb9f0dbb0aa9e8"
            ],
            "layout": "IPY_MODEL_cf11cb94b5354b87bf821436208e0b25"
          }
        },
        "51f3e3fb7f9742d1bab97c203b20a380": {
          "model_module": "@jupyter-widgets/controls",
          "model_name": "HTMLModel",
          "model_module_version": "1.5.0",
          "state": {
            "_dom_classes": [],
            "_model_module": "@jupyter-widgets/controls",
            "_model_module_version": "1.5.0",
            "_model_name": "HTMLModel",
            "_view_count": null,
            "_view_module": "@jupyter-widgets/controls",
            "_view_module_version": "1.5.0",
            "_view_name": "HTMLView",
            "description": "",
            "description_tooltip": null,
            "layout": "IPY_MODEL_2752dee19de7449eb6c543badded0202",
            "placeholder": "​",
            "style": "IPY_MODEL_ebc2bfe01eea4c54b35011a9e74360d7",
            "value": "Downloading: 100%"
          }
        },
        "8f1e33ea553a4d338ee5112901b6af20": {
          "model_module": "@jupyter-widgets/controls",
          "model_name": "FloatProgressModel",
          "model_module_version": "1.5.0",
          "state": {
            "_dom_classes": [],
            "_model_module": "@jupyter-widgets/controls",
            "_model_module_version": "1.5.0",
            "_model_name": "FloatProgressModel",
            "_view_count": null,
            "_view_module": "@jupyter-widgets/controls",
            "_view_module_version": "1.5.0",
            "_view_name": "ProgressView",
            "bar_style": "success",
            "description": "",
            "description_tooltip": null,
            "layout": "IPY_MODEL_1d7c157220de45eb83e0641c4dbcf38d",
            "max": 350,
            "min": 0,
            "orientation": "horizontal",
            "style": "IPY_MODEL_cc13bf3936c7406f8415dd714051ec74",
            "value": 350
          }
        },
        "302b1108097c44a689bb9f0dbb0aa9e8": {
          "model_module": "@jupyter-widgets/controls",
          "model_name": "HTMLModel",
          "model_module_version": "1.5.0",
          "state": {
            "_dom_classes": [],
            "_model_module": "@jupyter-widgets/controls",
            "_model_module_version": "1.5.0",
            "_model_name": "HTMLModel",
            "_view_count": null,
            "_view_module": "@jupyter-widgets/controls",
            "_view_module_version": "1.5.0",
            "_view_name": "HTMLView",
            "description": "",
            "description_tooltip": null,
            "layout": "IPY_MODEL_57474080e65d43ecb3f5d3b34bf5c39c",
            "placeholder": "​",
            "style": "IPY_MODEL_06f73ef594554ecea478382efbcc87aa",
            "value": " 350/350 [00:00&lt;00:00, 12.4kB/s]"
          }
        },
        "cf11cb94b5354b87bf821436208e0b25": {
          "model_module": "@jupyter-widgets/base",
          "model_name": "LayoutModel",
          "model_module_version": "1.2.0",
          "state": {
            "_model_module": "@jupyter-widgets/base",
            "_model_module_version": "1.2.0",
            "_model_name": "LayoutModel",
            "_view_count": null,
            "_view_module": "@jupyter-widgets/base",
            "_view_module_version": "1.2.0",
            "_view_name": "LayoutView",
            "align_content": null,
            "align_items": null,
            "align_self": null,
            "border": null,
            "bottom": null,
            "display": null,
            "flex": null,
            "flex_flow": null,
            "grid_area": null,
            "grid_auto_columns": null,
            "grid_auto_flow": null,
            "grid_auto_rows": null,
            "grid_column": null,
            "grid_gap": null,
            "grid_row": null,
            "grid_template_areas": null,
            "grid_template_columns": null,
            "grid_template_rows": null,
            "height": null,
            "justify_content": null,
            "justify_items": null,
            "left": null,
            "margin": null,
            "max_height": null,
            "max_width": null,
            "min_height": null,
            "min_width": null,
            "object_fit": null,
            "object_position": null,
            "order": null,
            "overflow": null,
            "overflow_x": null,
            "overflow_y": null,
            "padding": null,
            "right": null,
            "top": null,
            "visibility": null,
            "width": null
          }
        },
        "2752dee19de7449eb6c543badded0202": {
          "model_module": "@jupyter-widgets/base",
          "model_name": "LayoutModel",
          "model_module_version": "1.2.0",
          "state": {
            "_model_module": "@jupyter-widgets/base",
            "_model_module_version": "1.2.0",
            "_model_name": "LayoutModel",
            "_view_count": null,
            "_view_module": "@jupyter-widgets/base",
            "_view_module_version": "1.2.0",
            "_view_name": "LayoutView",
            "align_content": null,
            "align_items": null,
            "align_self": null,
            "border": null,
            "bottom": null,
            "display": null,
            "flex": null,
            "flex_flow": null,
            "grid_area": null,
            "grid_auto_columns": null,
            "grid_auto_flow": null,
            "grid_auto_rows": null,
            "grid_column": null,
            "grid_gap": null,
            "grid_row": null,
            "grid_template_areas": null,
            "grid_template_columns": null,
            "grid_template_rows": null,
            "height": null,
            "justify_content": null,
            "justify_items": null,
            "left": null,
            "margin": null,
            "max_height": null,
            "max_width": null,
            "min_height": null,
            "min_width": null,
            "object_fit": null,
            "object_position": null,
            "order": null,
            "overflow": null,
            "overflow_x": null,
            "overflow_y": null,
            "padding": null,
            "right": null,
            "top": null,
            "visibility": null,
            "width": null
          }
        },
        "ebc2bfe01eea4c54b35011a9e74360d7": {
          "model_module": "@jupyter-widgets/controls",
          "model_name": "DescriptionStyleModel",
          "model_module_version": "1.5.0",
          "state": {
            "_model_module": "@jupyter-widgets/controls",
            "_model_module_version": "1.5.0",
            "_model_name": "DescriptionStyleModel",
            "_view_count": null,
            "_view_module": "@jupyter-widgets/base",
            "_view_module_version": "1.2.0",
            "_view_name": "StyleView",
            "description_width": ""
          }
        },
        "1d7c157220de45eb83e0641c4dbcf38d": {
          "model_module": "@jupyter-widgets/base",
          "model_name": "LayoutModel",
          "model_module_version": "1.2.0",
          "state": {
            "_model_module": "@jupyter-widgets/base",
            "_model_module_version": "1.2.0",
            "_model_name": "LayoutModel",
            "_view_count": null,
            "_view_module": "@jupyter-widgets/base",
            "_view_module_version": "1.2.0",
            "_view_name": "LayoutView",
            "align_content": null,
            "align_items": null,
            "align_self": null,
            "border": null,
            "bottom": null,
            "display": null,
            "flex": null,
            "flex_flow": null,
            "grid_area": null,
            "grid_auto_columns": null,
            "grid_auto_flow": null,
            "grid_auto_rows": null,
            "grid_column": null,
            "grid_gap": null,
            "grid_row": null,
            "grid_template_areas": null,
            "grid_template_columns": null,
            "grid_template_rows": null,
            "height": null,
            "justify_content": null,
            "justify_items": null,
            "left": null,
            "margin": null,
            "max_height": null,
            "max_width": null,
            "min_height": null,
            "min_width": null,
            "object_fit": null,
            "object_position": null,
            "order": null,
            "overflow": null,
            "overflow_x": null,
            "overflow_y": null,
            "padding": null,
            "right": null,
            "top": null,
            "visibility": null,
            "width": null
          }
        },
        "cc13bf3936c7406f8415dd714051ec74": {
          "model_module": "@jupyter-widgets/controls",
          "model_name": "ProgressStyleModel",
          "model_module_version": "1.5.0",
          "state": {
            "_model_module": "@jupyter-widgets/controls",
            "_model_module_version": "1.5.0",
            "_model_name": "ProgressStyleModel",
            "_view_count": null,
            "_view_module": "@jupyter-widgets/base",
            "_view_module_version": "1.2.0",
            "_view_name": "StyleView",
            "bar_color": null,
            "description_width": ""
          }
        },
        "57474080e65d43ecb3f5d3b34bf5c39c": {
          "model_module": "@jupyter-widgets/base",
          "model_name": "LayoutModel",
          "model_module_version": "1.2.0",
          "state": {
            "_model_module": "@jupyter-widgets/base",
            "_model_module_version": "1.2.0",
            "_model_name": "LayoutModel",
            "_view_count": null,
            "_view_module": "@jupyter-widgets/base",
            "_view_module_version": "1.2.0",
            "_view_name": "LayoutView",
            "align_content": null,
            "align_items": null,
            "align_self": null,
            "border": null,
            "bottom": null,
            "display": null,
            "flex": null,
            "flex_flow": null,
            "grid_area": null,
            "grid_auto_columns": null,
            "grid_auto_flow": null,
            "grid_auto_rows": null,
            "grid_column": null,
            "grid_gap": null,
            "grid_row": null,
            "grid_template_areas": null,
            "grid_template_columns": null,
            "grid_template_rows": null,
            "height": null,
            "justify_content": null,
            "justify_items": null,
            "left": null,
            "margin": null,
            "max_height": null,
            "max_width": null,
            "min_height": null,
            "min_width": null,
            "object_fit": null,
            "object_position": null,
            "order": null,
            "overflow": null,
            "overflow_x": null,
            "overflow_y": null,
            "padding": null,
            "right": null,
            "top": null,
            "visibility": null,
            "width": null
          }
        },
        "06f73ef594554ecea478382efbcc87aa": {
          "model_module": "@jupyter-widgets/controls",
          "model_name": "DescriptionStyleModel",
          "model_module_version": "1.5.0",
          "state": {
            "_model_module": "@jupyter-widgets/controls",
            "_model_module_version": "1.5.0",
            "_model_name": "DescriptionStyleModel",
            "_view_count": null,
            "_view_module": "@jupyter-widgets/base",
            "_view_module_version": "1.2.0",
            "_view_name": "StyleView",
            "description_width": ""
          }
        },
        "270247f1c05b4b7dbe06d50b49ab345b": {
          "model_module": "@jupyter-widgets/controls",
          "model_name": "HBoxModel",
          "model_module_version": "1.5.0",
          "state": {
            "_dom_classes": [],
            "_model_module": "@jupyter-widgets/controls",
            "_model_module_version": "1.5.0",
            "_model_name": "HBoxModel",
            "_view_count": null,
            "_view_module": "@jupyter-widgets/controls",
            "_view_module_version": "1.5.0",
            "_view_name": "HBoxView",
            "box_style": "",
            "children": [
              "IPY_MODEL_d37844127718469a96b18aa72009be5e",
              "IPY_MODEL_2bb87a76d8ce4135a3d68f041bd4948f",
              "IPY_MODEL_60c481a54a604e669accf06e33e71647"
            ],
            "layout": "IPY_MODEL_b5e698c4c5534a14b340a9931006f0db"
          }
        },
        "d37844127718469a96b18aa72009be5e": {
          "model_module": "@jupyter-widgets/controls",
          "model_name": "HTMLModel",
          "model_module_version": "1.5.0",
          "state": {
            "_dom_classes": [],
            "_model_module": "@jupyter-widgets/controls",
            "_model_module_version": "1.5.0",
            "_model_name": "HTMLModel",
            "_view_count": null,
            "_view_module": "@jupyter-widgets/controls",
            "_view_module_version": "1.5.0",
            "_view_name": "HTMLView",
            "description": "",
            "description_tooltip": null,
            "layout": "IPY_MODEL_786ff33bff4d48488567f7b24594db4b",
            "placeholder": "​",
            "style": "IPY_MODEL_c24fd6c3f1254fb1b5b04ca5fe70e898",
            "value": "Downloading: 100%"
          }
        },
        "2bb87a76d8ce4135a3d68f041bd4948f": {
          "model_module": "@jupyter-widgets/controls",
          "model_name": "FloatProgressModel",
          "model_module_version": "1.5.0",
          "state": {
            "_dom_classes": [],
            "_model_module": "@jupyter-widgets/controls",
            "_model_module_version": "1.5.0",
            "_model_name": "FloatProgressModel",
            "_view_count": null,
            "_view_module": "@jupyter-widgets/controls",
            "_view_module_version": "1.5.0",
            "_view_name": "ProgressView",
            "bar_style": "success",
            "description": "",
            "description_tooltip": null,
            "layout": "IPY_MODEL_d64527a6296943b3a142d379b9ed499b",
            "max": 13156,
            "min": 0,
            "orientation": "horizontal",
            "style": "IPY_MODEL_4b2c7eae02784d838f08de9560bfb987",
            "value": 13156
          }
        },
        "60c481a54a604e669accf06e33e71647": {
          "model_module": "@jupyter-widgets/controls",
          "model_name": "HTMLModel",
          "model_module_version": "1.5.0",
          "state": {
            "_dom_classes": [],
            "_model_module": "@jupyter-widgets/controls",
            "_model_module_version": "1.5.0",
            "_model_name": "HTMLModel",
            "_view_count": null,
            "_view_module": "@jupyter-widgets/controls",
            "_view_module_version": "1.5.0",
            "_view_name": "HTMLView",
            "description": "",
            "description_tooltip": null,
            "layout": "IPY_MODEL_af69c8b9dbde4b35926e91932bbf4069",
            "placeholder": "​",
            "style": "IPY_MODEL_91e0f0438f48421a9564a67edcbcd4f7",
            "value": " 13.2k/13.2k [00:00&lt;00:00, 558kB/s]"
          }
        },
        "b5e698c4c5534a14b340a9931006f0db": {
          "model_module": "@jupyter-widgets/base",
          "model_name": "LayoutModel",
          "model_module_version": "1.2.0",
          "state": {
            "_model_module": "@jupyter-widgets/base",
            "_model_module_version": "1.2.0",
            "_model_name": "LayoutModel",
            "_view_count": null,
            "_view_module": "@jupyter-widgets/base",
            "_view_module_version": "1.2.0",
            "_view_name": "LayoutView",
            "align_content": null,
            "align_items": null,
            "align_self": null,
            "border": null,
            "bottom": null,
            "display": null,
            "flex": null,
            "flex_flow": null,
            "grid_area": null,
            "grid_auto_columns": null,
            "grid_auto_flow": null,
            "grid_auto_rows": null,
            "grid_column": null,
            "grid_gap": null,
            "grid_row": null,
            "grid_template_areas": null,
            "grid_template_columns": null,
            "grid_template_rows": null,
            "height": null,
            "justify_content": null,
            "justify_items": null,
            "left": null,
            "margin": null,
            "max_height": null,
            "max_width": null,
            "min_height": null,
            "min_width": null,
            "object_fit": null,
            "object_position": null,
            "order": null,
            "overflow": null,
            "overflow_x": null,
            "overflow_y": null,
            "padding": null,
            "right": null,
            "top": null,
            "visibility": null,
            "width": null
          }
        },
        "786ff33bff4d48488567f7b24594db4b": {
          "model_module": "@jupyter-widgets/base",
          "model_name": "LayoutModel",
          "model_module_version": "1.2.0",
          "state": {
            "_model_module": "@jupyter-widgets/base",
            "_model_module_version": "1.2.0",
            "_model_name": "LayoutModel",
            "_view_count": null,
            "_view_module": "@jupyter-widgets/base",
            "_view_module_version": "1.2.0",
            "_view_name": "LayoutView",
            "align_content": null,
            "align_items": null,
            "align_self": null,
            "border": null,
            "bottom": null,
            "display": null,
            "flex": null,
            "flex_flow": null,
            "grid_area": null,
            "grid_auto_columns": null,
            "grid_auto_flow": null,
            "grid_auto_rows": null,
            "grid_column": null,
            "grid_gap": null,
            "grid_row": null,
            "grid_template_areas": null,
            "grid_template_columns": null,
            "grid_template_rows": null,
            "height": null,
            "justify_content": null,
            "justify_items": null,
            "left": null,
            "margin": null,
            "max_height": null,
            "max_width": null,
            "min_height": null,
            "min_width": null,
            "object_fit": null,
            "object_position": null,
            "order": null,
            "overflow": null,
            "overflow_x": null,
            "overflow_y": null,
            "padding": null,
            "right": null,
            "top": null,
            "visibility": null,
            "width": null
          }
        },
        "c24fd6c3f1254fb1b5b04ca5fe70e898": {
          "model_module": "@jupyter-widgets/controls",
          "model_name": "DescriptionStyleModel",
          "model_module_version": "1.5.0",
          "state": {
            "_model_module": "@jupyter-widgets/controls",
            "_model_module_version": "1.5.0",
            "_model_name": "DescriptionStyleModel",
            "_view_count": null,
            "_view_module": "@jupyter-widgets/base",
            "_view_module_version": "1.2.0",
            "_view_name": "StyleView",
            "description_width": ""
          }
        },
        "d64527a6296943b3a142d379b9ed499b": {
          "model_module": "@jupyter-widgets/base",
          "model_name": "LayoutModel",
          "model_module_version": "1.2.0",
          "state": {
            "_model_module": "@jupyter-widgets/base",
            "_model_module_version": "1.2.0",
            "_model_name": "LayoutModel",
            "_view_count": null,
            "_view_module": "@jupyter-widgets/base",
            "_view_module_version": "1.2.0",
            "_view_name": "LayoutView",
            "align_content": null,
            "align_items": null,
            "align_self": null,
            "border": null,
            "bottom": null,
            "display": null,
            "flex": null,
            "flex_flow": null,
            "grid_area": null,
            "grid_auto_columns": null,
            "grid_auto_flow": null,
            "grid_auto_rows": null,
            "grid_column": null,
            "grid_gap": null,
            "grid_row": null,
            "grid_template_areas": null,
            "grid_template_columns": null,
            "grid_template_rows": null,
            "height": null,
            "justify_content": null,
            "justify_items": null,
            "left": null,
            "margin": null,
            "max_height": null,
            "max_width": null,
            "min_height": null,
            "min_width": null,
            "object_fit": null,
            "object_position": null,
            "order": null,
            "overflow": null,
            "overflow_x": null,
            "overflow_y": null,
            "padding": null,
            "right": null,
            "top": null,
            "visibility": null,
            "width": null
          }
        },
        "4b2c7eae02784d838f08de9560bfb987": {
          "model_module": "@jupyter-widgets/controls",
          "model_name": "ProgressStyleModel",
          "model_module_version": "1.5.0",
          "state": {
            "_model_module": "@jupyter-widgets/controls",
            "_model_module_version": "1.5.0",
            "_model_name": "ProgressStyleModel",
            "_view_count": null,
            "_view_module": "@jupyter-widgets/base",
            "_view_module_version": "1.2.0",
            "_view_name": "StyleView",
            "bar_color": null,
            "description_width": ""
          }
        },
        "af69c8b9dbde4b35926e91932bbf4069": {
          "model_module": "@jupyter-widgets/base",
          "model_name": "LayoutModel",
          "model_module_version": "1.2.0",
          "state": {
            "_model_module": "@jupyter-widgets/base",
            "_model_module_version": "1.2.0",
            "_model_name": "LayoutModel",
            "_view_count": null,
            "_view_module": "@jupyter-widgets/base",
            "_view_module_version": "1.2.0",
            "_view_name": "LayoutView",
            "align_content": null,
            "align_items": null,
            "align_self": null,
            "border": null,
            "bottom": null,
            "display": null,
            "flex": null,
            "flex_flow": null,
            "grid_area": null,
            "grid_auto_columns": null,
            "grid_auto_flow": null,
            "grid_auto_rows": null,
            "grid_column": null,
            "grid_gap": null,
            "grid_row": null,
            "grid_template_areas": null,
            "grid_template_columns": null,
            "grid_template_rows": null,
            "height": null,
            "justify_content": null,
            "justify_items": null,
            "left": null,
            "margin": null,
            "max_height": null,
            "max_width": null,
            "min_height": null,
            "min_width": null,
            "object_fit": null,
            "object_position": null,
            "order": null,
            "overflow": null,
            "overflow_x": null,
            "overflow_y": null,
            "padding": null,
            "right": null,
            "top": null,
            "visibility": null,
            "width": null
          }
        },
        "91e0f0438f48421a9564a67edcbcd4f7": {
          "model_module": "@jupyter-widgets/controls",
          "model_name": "DescriptionStyleModel",
          "model_module_version": "1.5.0",
          "state": {
            "_model_module": "@jupyter-widgets/controls",
            "_model_module_version": "1.5.0",
            "_model_name": "DescriptionStyleModel",
            "_view_count": null,
            "_view_module": "@jupyter-widgets/base",
            "_view_module_version": "1.2.0",
            "_view_name": "StyleView",
            "description_width": ""
          }
        },
        "6d21dac6203c40a2b14e166b03114c51": {
          "model_module": "@jupyter-widgets/controls",
          "model_name": "HBoxModel",
          "model_module_version": "1.5.0",
          "state": {
            "_dom_classes": [],
            "_model_module": "@jupyter-widgets/controls",
            "_model_module_version": "1.5.0",
            "_model_name": "HBoxModel",
            "_view_count": null,
            "_view_module": "@jupyter-widgets/controls",
            "_view_module_version": "1.5.0",
            "_view_name": "HBoxView",
            "box_style": "",
            "children": [
              "IPY_MODEL_f8241327f7814fb696513df7fd03fef5",
              "IPY_MODEL_33b287f13ce0424c97c0bcc936ed6391",
              "IPY_MODEL_52b131c8ef0e4c629fa105dd2d96e4d1"
            ],
            "layout": "IPY_MODEL_5dbcfae02861405f9c86e7e57f017143"
          }
        },
        "f8241327f7814fb696513df7fd03fef5": {
          "model_module": "@jupyter-widgets/controls",
          "model_name": "HTMLModel",
          "model_module_version": "1.5.0",
          "state": {
            "_dom_classes": [],
            "_model_module": "@jupyter-widgets/controls",
            "_model_module_version": "1.5.0",
            "_model_name": "HTMLModel",
            "_view_count": null,
            "_view_module": "@jupyter-widgets/controls",
            "_view_module_version": "1.5.0",
            "_view_name": "HTMLView",
            "description": "",
            "description_tooltip": null,
            "layout": "IPY_MODEL_fc8d1b3ada004750afd68a443bea476c",
            "placeholder": "​",
            "style": "IPY_MODEL_f0d7bfdc24cc4f0389825d95fd4ff36f",
            "value": "Downloading: 100%"
          }
        },
        "33b287f13ce0424c97c0bcc936ed6391": {
          "model_module": "@jupyter-widgets/controls",
          "model_name": "FloatProgressModel",
          "model_module_version": "1.5.0",
          "state": {
            "_dom_classes": [],
            "_model_module": "@jupyter-widgets/controls",
            "_model_module_version": "1.5.0",
            "_model_name": "FloatProgressModel",
            "_view_count": null,
            "_view_module": "@jupyter-widgets/controls",
            "_view_module_version": "1.5.0",
            "_view_name": "ProgressView",
            "bar_style": "success",
            "description": "",
            "description_tooltip": null,
            "layout": "IPY_MODEL_47d5ac250c1a4d01adbc4f60661c4dae",
            "max": 231508,
            "min": 0,
            "orientation": "horizontal",
            "style": "IPY_MODEL_450d80f24d214dac961d3847c67381af",
            "value": 231508
          }
        },
        "52b131c8ef0e4c629fa105dd2d96e4d1": {
          "model_module": "@jupyter-widgets/controls",
          "model_name": "HTMLModel",
          "model_module_version": "1.5.0",
          "state": {
            "_dom_classes": [],
            "_model_module": "@jupyter-widgets/controls",
            "_model_module_version": "1.5.0",
            "_model_name": "HTMLModel",
            "_view_count": null,
            "_view_module": "@jupyter-widgets/controls",
            "_view_module_version": "1.5.0",
            "_view_name": "HTMLView",
            "description": "",
            "description_tooltip": null,
            "layout": "IPY_MODEL_0728b20e869340bfa9d9ebdc5774db57",
            "placeholder": "​",
            "style": "IPY_MODEL_27477661f68f49a48be02b5a33a9602e",
            "value": " 232k/232k [00:00&lt;00:00, 1.53MB/s]"
          }
        },
        "5dbcfae02861405f9c86e7e57f017143": {
          "model_module": "@jupyter-widgets/base",
          "model_name": "LayoutModel",
          "model_module_version": "1.2.0",
          "state": {
            "_model_module": "@jupyter-widgets/base",
            "_model_module_version": "1.2.0",
            "_model_name": "LayoutModel",
            "_view_count": null,
            "_view_module": "@jupyter-widgets/base",
            "_view_module_version": "1.2.0",
            "_view_name": "LayoutView",
            "align_content": null,
            "align_items": null,
            "align_self": null,
            "border": null,
            "bottom": null,
            "display": null,
            "flex": null,
            "flex_flow": null,
            "grid_area": null,
            "grid_auto_columns": null,
            "grid_auto_flow": null,
            "grid_auto_rows": null,
            "grid_column": null,
            "grid_gap": null,
            "grid_row": null,
            "grid_template_areas": null,
            "grid_template_columns": null,
            "grid_template_rows": null,
            "height": null,
            "justify_content": null,
            "justify_items": null,
            "left": null,
            "margin": null,
            "max_height": null,
            "max_width": null,
            "min_height": null,
            "min_width": null,
            "object_fit": null,
            "object_position": null,
            "order": null,
            "overflow": null,
            "overflow_x": null,
            "overflow_y": null,
            "padding": null,
            "right": null,
            "top": null,
            "visibility": null,
            "width": null
          }
        },
        "fc8d1b3ada004750afd68a443bea476c": {
          "model_module": "@jupyter-widgets/base",
          "model_name": "LayoutModel",
          "model_module_version": "1.2.0",
          "state": {
            "_model_module": "@jupyter-widgets/base",
            "_model_module_version": "1.2.0",
            "_model_name": "LayoutModel",
            "_view_count": null,
            "_view_module": "@jupyter-widgets/base",
            "_view_module_version": "1.2.0",
            "_view_name": "LayoutView",
            "align_content": null,
            "align_items": null,
            "align_self": null,
            "border": null,
            "bottom": null,
            "display": null,
            "flex": null,
            "flex_flow": null,
            "grid_area": null,
            "grid_auto_columns": null,
            "grid_auto_flow": null,
            "grid_auto_rows": null,
            "grid_column": null,
            "grid_gap": null,
            "grid_row": null,
            "grid_template_areas": null,
            "grid_template_columns": null,
            "grid_template_rows": null,
            "height": null,
            "justify_content": null,
            "justify_items": null,
            "left": null,
            "margin": null,
            "max_height": null,
            "max_width": null,
            "min_height": null,
            "min_width": null,
            "object_fit": null,
            "object_position": null,
            "order": null,
            "overflow": null,
            "overflow_x": null,
            "overflow_y": null,
            "padding": null,
            "right": null,
            "top": null,
            "visibility": null,
            "width": null
          }
        },
        "f0d7bfdc24cc4f0389825d95fd4ff36f": {
          "model_module": "@jupyter-widgets/controls",
          "model_name": "DescriptionStyleModel",
          "model_module_version": "1.5.0",
          "state": {
            "_model_module": "@jupyter-widgets/controls",
            "_model_module_version": "1.5.0",
            "_model_name": "DescriptionStyleModel",
            "_view_count": null,
            "_view_module": "@jupyter-widgets/base",
            "_view_module_version": "1.2.0",
            "_view_name": "StyleView",
            "description_width": ""
          }
        },
        "47d5ac250c1a4d01adbc4f60661c4dae": {
          "model_module": "@jupyter-widgets/base",
          "model_name": "LayoutModel",
          "model_module_version": "1.2.0",
          "state": {
            "_model_module": "@jupyter-widgets/base",
            "_model_module_version": "1.2.0",
            "_model_name": "LayoutModel",
            "_view_count": null,
            "_view_module": "@jupyter-widgets/base",
            "_view_module_version": "1.2.0",
            "_view_name": "LayoutView",
            "align_content": null,
            "align_items": null,
            "align_self": null,
            "border": null,
            "bottom": null,
            "display": null,
            "flex": null,
            "flex_flow": null,
            "grid_area": null,
            "grid_auto_columns": null,
            "grid_auto_flow": null,
            "grid_auto_rows": null,
            "grid_column": null,
            "grid_gap": null,
            "grid_row": null,
            "grid_template_areas": null,
            "grid_template_columns": null,
            "grid_template_rows": null,
            "height": null,
            "justify_content": null,
            "justify_items": null,
            "left": null,
            "margin": null,
            "max_height": null,
            "max_width": null,
            "min_height": null,
            "min_width": null,
            "object_fit": null,
            "object_position": null,
            "order": null,
            "overflow": null,
            "overflow_x": null,
            "overflow_y": null,
            "padding": null,
            "right": null,
            "top": null,
            "visibility": null,
            "width": null
          }
        },
        "450d80f24d214dac961d3847c67381af": {
          "model_module": "@jupyter-widgets/controls",
          "model_name": "ProgressStyleModel",
          "model_module_version": "1.5.0",
          "state": {
            "_model_module": "@jupyter-widgets/controls",
            "_model_module_version": "1.5.0",
            "_model_name": "ProgressStyleModel",
            "_view_count": null,
            "_view_module": "@jupyter-widgets/base",
            "_view_module_version": "1.2.0",
            "_view_name": "StyleView",
            "bar_color": null,
            "description_width": ""
          }
        },
        "0728b20e869340bfa9d9ebdc5774db57": {
          "model_module": "@jupyter-widgets/base",
          "model_name": "LayoutModel",
          "model_module_version": "1.2.0",
          "state": {
            "_model_module": "@jupyter-widgets/base",
            "_model_module_version": "1.2.0",
            "_model_name": "LayoutModel",
            "_view_count": null,
            "_view_module": "@jupyter-widgets/base",
            "_view_module_version": "1.2.0",
            "_view_name": "LayoutView",
            "align_content": null,
            "align_items": null,
            "align_self": null,
            "border": null,
            "bottom": null,
            "display": null,
            "flex": null,
            "flex_flow": null,
            "grid_area": null,
            "grid_auto_columns": null,
            "grid_auto_flow": null,
            "grid_auto_rows": null,
            "grid_column": null,
            "grid_gap": null,
            "grid_row": null,
            "grid_template_areas": null,
            "grid_template_columns": null,
            "grid_template_rows": null,
            "height": null,
            "justify_content": null,
            "justify_items": null,
            "left": null,
            "margin": null,
            "max_height": null,
            "max_width": null,
            "min_height": null,
            "min_width": null,
            "object_fit": null,
            "object_position": null,
            "order": null,
            "overflow": null,
            "overflow_x": null,
            "overflow_y": null,
            "padding": null,
            "right": null,
            "top": null,
            "visibility": null,
            "width": null
          }
        },
        "27477661f68f49a48be02b5a33a9602e": {
          "model_module": "@jupyter-widgets/controls",
          "model_name": "DescriptionStyleModel",
          "model_module_version": "1.5.0",
          "state": {
            "_model_module": "@jupyter-widgets/controls",
            "_model_module_version": "1.5.0",
            "_model_name": "DescriptionStyleModel",
            "_view_count": null,
            "_view_module": "@jupyter-widgets/base",
            "_view_module_version": "1.2.0",
            "_view_name": "StyleView",
            "description_width": ""
          }
        },
        "427067bd76ab4757bf4968d1dce88f6f": {
          "model_module": "@jupyter-widgets/controls",
          "model_name": "HBoxModel",
          "model_module_version": "1.5.0",
          "state": {
            "_dom_classes": [],
            "_model_module": "@jupyter-widgets/controls",
            "_model_module_version": "1.5.0",
            "_model_name": "HBoxModel",
            "_view_count": null,
            "_view_module": "@jupyter-widgets/controls",
            "_view_module_version": "1.5.0",
            "_view_name": "HBoxView",
            "box_style": "",
            "children": [
              "IPY_MODEL_8f36a60a58aa43bc8a35fcce8edcdd4a",
              "IPY_MODEL_a890f6624775429d85ba8cffe5a2d1a2",
              "IPY_MODEL_de53d60339554f31a62a4f90f9aba801"
            ],
            "layout": "IPY_MODEL_0a34943ab74a4d52a678b8140e6f72e5"
          }
        },
        "8f36a60a58aa43bc8a35fcce8edcdd4a": {
          "model_module": "@jupyter-widgets/controls",
          "model_name": "HTMLModel",
          "model_module_version": "1.5.0",
          "state": {
            "_dom_classes": [],
            "_model_module": "@jupyter-widgets/controls",
            "_model_module_version": "1.5.0",
            "_model_name": "HTMLModel",
            "_view_count": null,
            "_view_module": "@jupyter-widgets/controls",
            "_view_module_version": "1.5.0",
            "_view_name": "HTMLView",
            "description": "",
            "description_tooltip": null,
            "layout": "IPY_MODEL_f47f8ca825ee46859618cab880957fd2",
            "placeholder": "​",
            "style": "IPY_MODEL_7da9fb45080f4cc68f844ab8789d6b49",
            "value": "Downloading: 100%"
          }
        },
        "a890f6624775429d85ba8cffe5a2d1a2": {
          "model_module": "@jupyter-widgets/controls",
          "model_name": "FloatProgressModel",
          "model_module_version": "1.5.0",
          "state": {
            "_dom_classes": [],
            "_model_module": "@jupyter-widgets/controls",
            "_model_module_version": "1.5.0",
            "_model_name": "FloatProgressModel",
            "_view_count": null,
            "_view_module": "@jupyter-widgets/controls",
            "_view_module_version": "1.5.0",
            "_view_name": "ProgressView",
            "bar_style": "success",
            "description": "",
            "description_tooltip": null,
            "layout": "IPY_MODEL_dab3eeb912a349a4af75630f7292fc0d",
            "max": 349,
            "min": 0,
            "orientation": "horizontal",
            "style": "IPY_MODEL_269c95a991e74b06b02760a4dc83651e",
            "value": 349
          }
        },
        "de53d60339554f31a62a4f90f9aba801": {
          "model_module": "@jupyter-widgets/controls",
          "model_name": "HTMLModel",
          "model_module_version": "1.5.0",
          "state": {
            "_dom_classes": [],
            "_model_module": "@jupyter-widgets/controls",
            "_model_module_version": "1.5.0",
            "_model_name": "HTMLModel",
            "_view_count": null,
            "_view_module": "@jupyter-widgets/controls",
            "_view_module_version": "1.5.0",
            "_view_name": "HTMLView",
            "description": "",
            "description_tooltip": null,
            "layout": "IPY_MODEL_57ff57ab60474a4b83f003d061177162",
            "placeholder": "​",
            "style": "IPY_MODEL_d05b985b4fe149d482752442df1f8515",
            "value": " 349/349 [00:00&lt;00:00, 12.1kB/s]"
          }
        },
        "0a34943ab74a4d52a678b8140e6f72e5": {
          "model_module": "@jupyter-widgets/base",
          "model_name": "LayoutModel",
          "model_module_version": "1.2.0",
          "state": {
            "_model_module": "@jupyter-widgets/base",
            "_model_module_version": "1.2.0",
            "_model_name": "LayoutModel",
            "_view_count": null,
            "_view_module": "@jupyter-widgets/base",
            "_view_module_version": "1.2.0",
            "_view_name": "LayoutView",
            "align_content": null,
            "align_items": null,
            "align_self": null,
            "border": null,
            "bottom": null,
            "display": null,
            "flex": null,
            "flex_flow": null,
            "grid_area": null,
            "grid_auto_columns": null,
            "grid_auto_flow": null,
            "grid_auto_rows": null,
            "grid_column": null,
            "grid_gap": null,
            "grid_row": null,
            "grid_template_areas": null,
            "grid_template_columns": null,
            "grid_template_rows": null,
            "height": null,
            "justify_content": null,
            "justify_items": null,
            "left": null,
            "margin": null,
            "max_height": null,
            "max_width": null,
            "min_height": null,
            "min_width": null,
            "object_fit": null,
            "object_position": null,
            "order": null,
            "overflow": null,
            "overflow_x": null,
            "overflow_y": null,
            "padding": null,
            "right": null,
            "top": null,
            "visibility": null,
            "width": null
          }
        },
        "f47f8ca825ee46859618cab880957fd2": {
          "model_module": "@jupyter-widgets/base",
          "model_name": "LayoutModel",
          "model_module_version": "1.2.0",
          "state": {
            "_model_module": "@jupyter-widgets/base",
            "_model_module_version": "1.2.0",
            "_model_name": "LayoutModel",
            "_view_count": null,
            "_view_module": "@jupyter-widgets/base",
            "_view_module_version": "1.2.0",
            "_view_name": "LayoutView",
            "align_content": null,
            "align_items": null,
            "align_self": null,
            "border": null,
            "bottom": null,
            "display": null,
            "flex": null,
            "flex_flow": null,
            "grid_area": null,
            "grid_auto_columns": null,
            "grid_auto_flow": null,
            "grid_auto_rows": null,
            "grid_column": null,
            "grid_gap": null,
            "grid_row": null,
            "grid_template_areas": null,
            "grid_template_columns": null,
            "grid_template_rows": null,
            "height": null,
            "justify_content": null,
            "justify_items": null,
            "left": null,
            "margin": null,
            "max_height": null,
            "max_width": null,
            "min_height": null,
            "min_width": null,
            "object_fit": null,
            "object_position": null,
            "order": null,
            "overflow": null,
            "overflow_x": null,
            "overflow_y": null,
            "padding": null,
            "right": null,
            "top": null,
            "visibility": null,
            "width": null
          }
        },
        "7da9fb45080f4cc68f844ab8789d6b49": {
          "model_module": "@jupyter-widgets/controls",
          "model_name": "DescriptionStyleModel",
          "model_module_version": "1.5.0",
          "state": {
            "_model_module": "@jupyter-widgets/controls",
            "_model_module_version": "1.5.0",
            "_model_name": "DescriptionStyleModel",
            "_view_count": null,
            "_view_module": "@jupyter-widgets/base",
            "_view_module_version": "1.2.0",
            "_view_name": "StyleView",
            "description_width": ""
          }
        },
        "dab3eeb912a349a4af75630f7292fc0d": {
          "model_module": "@jupyter-widgets/base",
          "model_name": "LayoutModel",
          "model_module_version": "1.2.0",
          "state": {
            "_model_module": "@jupyter-widgets/base",
            "_model_module_version": "1.2.0",
            "_model_name": "LayoutModel",
            "_view_count": null,
            "_view_module": "@jupyter-widgets/base",
            "_view_module_version": "1.2.0",
            "_view_name": "LayoutView",
            "align_content": null,
            "align_items": null,
            "align_self": null,
            "border": null,
            "bottom": null,
            "display": null,
            "flex": null,
            "flex_flow": null,
            "grid_area": null,
            "grid_auto_columns": null,
            "grid_auto_flow": null,
            "grid_auto_rows": null,
            "grid_column": null,
            "grid_gap": null,
            "grid_row": null,
            "grid_template_areas": null,
            "grid_template_columns": null,
            "grid_template_rows": null,
            "height": null,
            "justify_content": null,
            "justify_items": null,
            "left": null,
            "margin": null,
            "max_height": null,
            "max_width": null,
            "min_height": null,
            "min_width": null,
            "object_fit": null,
            "object_position": null,
            "order": null,
            "overflow": null,
            "overflow_x": null,
            "overflow_y": null,
            "padding": null,
            "right": null,
            "top": null,
            "visibility": null,
            "width": null
          }
        },
        "269c95a991e74b06b02760a4dc83651e": {
          "model_module": "@jupyter-widgets/controls",
          "model_name": "ProgressStyleModel",
          "model_module_version": "1.5.0",
          "state": {
            "_model_module": "@jupyter-widgets/controls",
            "_model_module_version": "1.5.0",
            "_model_name": "ProgressStyleModel",
            "_view_count": null,
            "_view_module": "@jupyter-widgets/base",
            "_view_module_version": "1.2.0",
            "_view_name": "StyleView",
            "bar_color": null,
            "description_width": ""
          }
        },
        "57ff57ab60474a4b83f003d061177162": {
          "model_module": "@jupyter-widgets/base",
          "model_name": "LayoutModel",
          "model_module_version": "1.2.0",
          "state": {
            "_model_module": "@jupyter-widgets/base",
            "_model_module_version": "1.2.0",
            "_model_name": "LayoutModel",
            "_view_count": null,
            "_view_module": "@jupyter-widgets/base",
            "_view_module_version": "1.2.0",
            "_view_name": "LayoutView",
            "align_content": null,
            "align_items": null,
            "align_self": null,
            "border": null,
            "bottom": null,
            "display": null,
            "flex": null,
            "flex_flow": null,
            "grid_area": null,
            "grid_auto_columns": null,
            "grid_auto_flow": null,
            "grid_auto_rows": null,
            "grid_column": null,
            "grid_gap": null,
            "grid_row": null,
            "grid_template_areas": null,
            "grid_template_columns": null,
            "grid_template_rows": null,
            "height": null,
            "justify_content": null,
            "justify_items": null,
            "left": null,
            "margin": null,
            "max_height": null,
            "max_width": null,
            "min_height": null,
            "min_width": null,
            "object_fit": null,
            "object_position": null,
            "order": null,
            "overflow": null,
            "overflow_x": null,
            "overflow_y": null,
            "padding": null,
            "right": null,
            "top": null,
            "visibility": null,
            "width": null
          }
        },
        "d05b985b4fe149d482752442df1f8515": {
          "model_module": "@jupyter-widgets/controls",
          "model_name": "DescriptionStyleModel",
          "model_module_version": "1.5.0",
          "state": {
            "_model_module": "@jupyter-widgets/controls",
            "_model_module_version": "1.5.0",
            "_model_name": "DescriptionStyleModel",
            "_view_count": null,
            "_view_module": "@jupyter-widgets/base",
            "_view_module_version": "1.2.0",
            "_view_name": "StyleView",
            "description_width": ""
          }
        }
      }
    }
  },
  "nbformat": 4,
  "nbformat_minor": 0
}